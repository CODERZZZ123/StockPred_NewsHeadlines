{
  "cells": [
    {
      "cell_type": "markdown",
      "metadata": {
        "id": "view-in-github",
        "colab_type": "text"
      },
      "source": [
        "<a href=\"https://colab.research.google.com/github/CODERZZZ123/StockPred_NewsHeadlines/blob/master/pred_stock.ipynb\" target=\"_parent\"><img src=\"https://colab.research.google.com/assets/colab-badge.svg\" alt=\"Open In Colab\"/></a>"
      ]
    },
    {
      "cell_type": "code",
      "execution_count": 44,
      "metadata": {
        "colab": {
          "base_uri": "https://localhost:8080/"
        },
        "id": "B9xkIi4fT0sK",
        "outputId": "2bcd138f-3959-4ee5-f74d-5324040f48da"
      },
      "outputs": [
        {
          "output_type": "stream",
          "name": "stderr",
          "text": [
            "[nltk_data] Downloading package stopwords to /root/nltk_data...\n",
            "[nltk_data]   Package stopwords is already up-to-date!\n",
            "[nltk_data] Downloading package wordnet to /root/nltk_data...\n",
            "[nltk_data]   Package wordnet is already up-to-date!\n"
          ]
        },
        {
          "output_type": "stream",
          "name": "stdout",
          "text": [
            "Requirement already satisfied: textattack in /usr/local/lib/python3.10/dist-packages (0.3.8)\n",
            "Requirement already satisfied: bert-score>=0.3.5 in /usr/local/lib/python3.10/dist-packages (from textattack) (0.3.13)\n",
            "Requirement already satisfied: editdistance in /usr/local/lib/python3.10/dist-packages (from textattack) (0.6.2)\n",
            "Requirement already satisfied: flair in /usr/local/lib/python3.10/dist-packages (from textattack) (0.12.2)\n",
            "Requirement already satisfied: filelock in /usr/local/lib/python3.10/dist-packages (from textattack) (3.12.2)\n",
            "Requirement already satisfied: language-tool-python in /usr/local/lib/python3.10/dist-packages (from textattack) (2.7.1)\n",
            "Requirement already satisfied: lemminflect in /usr/local/lib/python3.10/dist-packages (from textattack) (0.2.3)\n",
            "Requirement already satisfied: lru-dict in /usr/local/lib/python3.10/dist-packages (from textattack) (1.2.0)\n",
            "Requirement already satisfied: datasets==2.4.0 in /usr/local/lib/python3.10/dist-packages (from textattack) (2.4.0)\n",
            "Requirement already satisfied: nltk in /usr/local/lib/python3.10/dist-packages (from textattack) (3.8.1)\n",
            "Requirement already satisfied: numpy>=1.21.0 in /usr/local/lib/python3.10/dist-packages (from textattack) (1.23.5)\n",
            "Requirement already satisfied: pandas>=1.0.1 in /usr/local/lib/python3.10/dist-packages (from textattack) (1.5.3)\n",
            "Requirement already satisfied: scipy>=1.4.1 in /usr/local/lib/python3.10/dist-packages (from textattack) (1.10.1)\n",
            "Requirement already satisfied: torch!=1.8,>=1.7.0 in /usr/local/lib/python3.10/dist-packages (from textattack) (2.0.1+cu118)\n",
            "Requirement already satisfied: transformers>=4.21.0 in /usr/local/lib/python3.10/dist-packages (from textattack) (4.31.0)\n",
            "Requirement already satisfied: terminaltables in /usr/local/lib/python3.10/dist-packages (from textattack) (3.1.10)\n",
            "Requirement already satisfied: tqdm in /usr/local/lib/python3.10/dist-packages (from textattack) (4.65.0)\n",
            "Requirement already satisfied: word2number in /usr/local/lib/python3.10/dist-packages (from textattack) (1.1)\n",
            "Requirement already satisfied: num2words in /usr/local/lib/python3.10/dist-packages (from textattack) (0.5.12)\n",
            "Requirement already satisfied: more-itertools in /usr/local/lib/python3.10/dist-packages (from textattack) (9.1.0)\n",
            "Requirement already satisfied: PySocks!=1.5.7,>=1.5.6 in /usr/local/lib/python3.10/dist-packages (from textattack) (1.7.1)\n",
            "Requirement already satisfied: pinyin==0.4.0 in /usr/local/lib/python3.10/dist-packages (from textattack) (0.4.0)\n",
            "Requirement already satisfied: jieba in /usr/local/lib/python3.10/dist-packages (from textattack) (0.42.1)\n",
            "Requirement already satisfied: OpenHowNet in /usr/local/lib/python3.10/dist-packages (from textattack) (2.0)\n",
            "Requirement already satisfied: pycld2 in /usr/local/lib/python3.10/dist-packages (from textattack) (0.41)\n",
            "Requirement already satisfied: click<8.1.0 in /usr/local/lib/python3.10/dist-packages (from textattack) (8.0.4)\n",
            "Requirement already satisfied: pyarrow>=6.0.0 in /usr/local/lib/python3.10/dist-packages (from datasets==2.4.0->textattack) (9.0.0)\n",
            "Requirement already satisfied: dill<0.3.6 in /usr/local/lib/python3.10/dist-packages (from datasets==2.4.0->textattack) (0.3.5.1)\n",
            "Requirement already satisfied: requests>=2.19.0 in /usr/local/lib/python3.10/dist-packages (from datasets==2.4.0->textattack) (2.31.0)\n",
            "Requirement already satisfied: xxhash in /usr/local/lib/python3.10/dist-packages (from datasets==2.4.0->textattack) (3.3.0)\n",
            "Requirement already satisfied: multiprocess in /usr/local/lib/python3.10/dist-packages (from datasets==2.4.0->textattack) (0.70.13)\n",
            "Requirement already satisfied: fsspec[http]>=2021.11.1 in /usr/local/lib/python3.10/dist-packages (from datasets==2.4.0->textattack) (2023.6.0)\n",
            "Requirement already satisfied: aiohttp in /usr/local/lib/python3.10/dist-packages (from datasets==2.4.0->textattack) (3.8.5)\n",
            "Requirement already satisfied: huggingface-hub<1.0.0,>=0.1.0 in /usr/local/lib/python3.10/dist-packages (from datasets==2.4.0->textattack) (0.16.4)\n",
            "Requirement already satisfied: packaging in /usr/local/lib/python3.10/dist-packages (from datasets==2.4.0->textattack) (23.1)\n",
            "Requirement already satisfied: responses<0.19 in /usr/local/lib/python3.10/dist-packages (from datasets==2.4.0->textattack) (0.18.0)\n",
            "Requirement already satisfied: matplotlib in /usr/local/lib/python3.10/dist-packages (from bert-score>=0.3.5->textattack) (3.7.1)\n",
            "Requirement already satisfied: python-dateutil>=2.8.1 in /usr/local/lib/python3.10/dist-packages (from pandas>=1.0.1->textattack) (2.8.2)\n",
            "Requirement already satisfied: pytz>=2020.1 in /usr/local/lib/python3.10/dist-packages (from pandas>=1.0.1->textattack) (2022.7.1)\n",
            "Requirement already satisfied: typing-extensions in /usr/local/lib/python3.10/dist-packages (from torch!=1.8,>=1.7.0->textattack) (4.7.1)\n",
            "Requirement already satisfied: sympy in /usr/local/lib/python3.10/dist-packages (from torch!=1.8,>=1.7.0->textattack) (1.11.1)\n",
            "Requirement already satisfied: networkx in /usr/local/lib/python3.10/dist-packages (from torch!=1.8,>=1.7.0->textattack) (3.1)\n",
            "Requirement already satisfied: jinja2 in /usr/local/lib/python3.10/dist-packages (from torch!=1.8,>=1.7.0->textattack) (3.1.2)\n",
            "Requirement already satisfied: triton==2.0.0 in /usr/local/lib/python3.10/dist-packages (from torch!=1.8,>=1.7.0->textattack) (2.0.0)\n",
            "Requirement already satisfied: cmake in /usr/local/lib/python3.10/dist-packages (from triton==2.0.0->torch!=1.8,>=1.7.0->textattack) (3.25.2)\n",
            "Requirement already satisfied: lit in /usr/local/lib/python3.10/dist-packages (from triton==2.0.0->torch!=1.8,>=1.7.0->textattack) (16.0.6)\n",
            "Requirement already satisfied: pyyaml>=5.1 in /usr/local/lib/python3.10/dist-packages (from transformers>=4.21.0->textattack) (6.0.1)\n",
            "Requirement already satisfied: regex!=2019.12.17 in /usr/local/lib/python3.10/dist-packages (from transformers>=4.21.0->textattack) (2022.10.31)\n",
            "Requirement already satisfied: tokenizers!=0.11.3,<0.14,>=0.11.1 in /usr/local/lib/python3.10/dist-packages (from transformers>=4.21.0->textattack) (0.13.3)\n",
            "Requirement already satisfied: safetensors>=0.3.1 in /usr/local/lib/python3.10/dist-packages (from transformers>=4.21.0->textattack) (0.3.2)\n",
            "Requirement already satisfied: gensim>=3.8.0 in /usr/local/lib/python3.10/dist-packages (from flair->textattack) (4.3.1)\n",
            "Requirement already satisfied: segtok>=1.5.7 in /usr/local/lib/python3.10/dist-packages (from flair->textattack) (1.5.11)\n",
            "Requirement already satisfied: mpld3==0.3 in /usr/local/lib/python3.10/dist-packages (from flair->textattack) (0.3)\n",
            "Requirement already satisfied: scikit-learn>=0.21.3 in /usr/local/lib/python3.10/dist-packages (from flair->textattack) (1.2.2)\n",
            "Requirement already satisfied: sqlitedict>=1.6.0 in /usr/local/lib/python3.10/dist-packages (from flair->textattack) (2.1.0)\n",
            "Requirement already satisfied: deprecated>=1.2.4 in /usr/local/lib/python3.10/dist-packages (from flair->textattack) (1.2.14)\n",
            "Requirement already satisfied: hyperopt>=0.2.7 in /usr/local/lib/python3.10/dist-packages (from flair->textattack) (0.2.7)\n",
            "Requirement already satisfied: boto3 in /usr/local/lib/python3.10/dist-packages (from flair->textattack) (1.28.22)\n",
            "Requirement already satisfied: bpemb>=0.3.2 in /usr/local/lib/python3.10/dist-packages (from flair->textattack) (0.3.4)\n",
            "Requirement already satisfied: tabulate in /usr/local/lib/python3.10/dist-packages (from flair->textattack) (0.9.0)\n",
            "Requirement already satisfied: langdetect in /usr/local/lib/python3.10/dist-packages (from flair->textattack) (1.0.9)\n",
            "Requirement already satisfied: lxml in /usr/local/lib/python3.10/dist-packages (from flair->textattack) (4.9.3)\n",
            "Requirement already satisfied: ftfy in /usr/local/lib/python3.10/dist-packages (from flair->textattack) (6.1.1)\n",
            "Requirement already satisfied: janome in /usr/local/lib/python3.10/dist-packages (from flair->textattack) (0.5.0)\n",
            "Requirement already satisfied: gdown==4.4.0 in /usr/local/lib/python3.10/dist-packages (from flair->textattack) (4.4.0)\n",
            "Requirement already satisfied: conllu>=4.0 in /usr/local/lib/python3.10/dist-packages (from flair->textattack) (4.5.3)\n",
            "Requirement already satisfied: wikipedia-api in /usr/local/lib/python3.10/dist-packages (from flair->textattack) (0.6.0)\n",
            "Requirement already satisfied: pptree in /usr/local/lib/python3.10/dist-packages (from flair->textattack) (3.1)\n",
            "Requirement already satisfied: pytorch-revgrad in /usr/local/lib/python3.10/dist-packages (from flair->textattack) (0.2.0)\n",
            "Requirement already satisfied: transformer-smaller-training-vocab>=0.2.1 in /usr/local/lib/python3.10/dist-packages (from flair->textattack) (0.2.4)\n",
            "Requirement already satisfied: six in /usr/local/lib/python3.10/dist-packages (from gdown==4.4.0->flair->textattack) (1.16.0)\n",
            "Requirement already satisfied: beautifulsoup4 in /usr/local/lib/python3.10/dist-packages (from gdown==4.4.0->flair->textattack) (4.11.2)\n",
            "Requirement already satisfied: joblib in /usr/local/lib/python3.10/dist-packages (from nltk->textattack) (1.3.1)\n",
            "Requirement already satisfied: docopt>=0.6.2 in /usr/local/lib/python3.10/dist-packages (from num2words->textattack) (0.6.2)\n",
            "Requirement already satisfied: anytree in /usr/local/lib/python3.10/dist-packages (from OpenHowNet->textattack) (2.9.0)\n",
            "Requirement already satisfied: setuptools in /usr/local/lib/python3.10/dist-packages (from OpenHowNet->textattack) (67.7.2)\n",
            "Requirement already satisfied: sentencepiece in /usr/local/lib/python3.10/dist-packages (from bpemb>=0.3.2->flair->textattack) (0.1.99)\n",
            "Requirement already satisfied: wrapt<2,>=1.10 in /usr/local/lib/python3.10/dist-packages (from deprecated>=1.2.4->flair->textattack) (1.14.1)\n",
            "Requirement already satisfied: attrs>=17.3.0 in /usr/local/lib/python3.10/dist-packages (from aiohttp->datasets==2.4.0->textattack) (23.1.0)\n",
            "Requirement already satisfied: charset-normalizer<4.0,>=2.0 in /usr/local/lib/python3.10/dist-packages (from aiohttp->datasets==2.4.0->textattack) (3.2.0)\n",
            "Requirement already satisfied: multidict<7.0,>=4.5 in /usr/local/lib/python3.10/dist-packages (from aiohttp->datasets==2.4.0->textattack) (6.0.4)\n",
            "Requirement already satisfied: async-timeout<5.0,>=4.0.0a3 in /usr/local/lib/python3.10/dist-packages (from aiohttp->datasets==2.4.0->textattack) (4.0.2)\n",
            "Requirement already satisfied: yarl<2.0,>=1.0 in /usr/local/lib/python3.10/dist-packages (from aiohttp->datasets==2.4.0->textattack) (1.9.2)\n",
            "Requirement already satisfied: frozenlist>=1.1.1 in /usr/local/lib/python3.10/dist-packages (from aiohttp->datasets==2.4.0->textattack) (1.4.0)\n",
            "Requirement already satisfied: aiosignal>=1.1.2 in /usr/local/lib/python3.10/dist-packages (from aiohttp->datasets==2.4.0->textattack) (1.3.1)\n",
            "Requirement already satisfied: smart-open>=1.8.1 in /usr/local/lib/python3.10/dist-packages (from gensim>=3.8.0->flair->textattack) (6.3.0)\n",
            "Requirement already satisfied: future in /usr/local/lib/python3.10/dist-packages (from hyperopt>=0.2.7->flair->textattack) (0.18.3)\n",
            "Requirement already satisfied: cloudpickle in /usr/local/lib/python3.10/dist-packages (from hyperopt>=0.2.7->flair->textattack) (2.2.1)\n",
            "Requirement already satisfied: py4j in /usr/local/lib/python3.10/dist-packages (from hyperopt>=0.2.7->flair->textattack) (0.10.9.7)\n",
            "Requirement already satisfied: contourpy>=1.0.1 in /usr/local/lib/python3.10/dist-packages (from matplotlib->bert-score>=0.3.5->textattack) (1.1.0)\n",
            "Requirement already satisfied: cycler>=0.10 in /usr/local/lib/python3.10/dist-packages (from matplotlib->bert-score>=0.3.5->textattack) (0.11.0)\n",
            "Requirement already satisfied: fonttools>=4.22.0 in /usr/local/lib/python3.10/dist-packages (from matplotlib->bert-score>=0.3.5->textattack) (4.42.0)\n",
            "Requirement already satisfied: kiwisolver>=1.0.1 in /usr/local/lib/python3.10/dist-packages (from matplotlib->bert-score>=0.3.5->textattack) (1.4.4)\n",
            "Requirement already satisfied: pillow>=6.2.0 in /usr/local/lib/python3.10/dist-packages (from matplotlib->bert-score>=0.3.5->textattack) (9.4.0)\n",
            "Requirement already satisfied: pyparsing>=2.3.1 in /usr/local/lib/python3.10/dist-packages (from matplotlib->bert-score>=0.3.5->textattack) (3.1.1)\n",
            "Requirement already satisfied: idna<4,>=2.5 in /usr/local/lib/python3.10/dist-packages (from requests>=2.19.0->datasets==2.4.0->textattack) (3.4)\n",
            "Requirement already satisfied: urllib3<3,>=1.21.1 in /usr/local/lib/python3.10/dist-packages (from requests>=2.19.0->datasets==2.4.0->textattack) (1.26.16)\n",
            "Requirement already satisfied: certifi>=2017.4.17 in /usr/local/lib/python3.10/dist-packages (from requests>=2.19.0->datasets==2.4.0->textattack) (2023.7.22)\n",
            "Requirement already satisfied: threadpoolctl>=2.0.0 in /usr/local/lib/python3.10/dist-packages (from scikit-learn>=0.21.3->flair->textattack) (3.2.0)\n",
            "Requirement already satisfied: protobuf in /usr/local/lib/python3.10/dist-packages (from transformers>=4.21.0->textattack) (3.20.3)\n",
            "Requirement already satisfied: botocore<1.32.0,>=1.31.22 in /usr/local/lib/python3.10/dist-packages (from boto3->flair->textattack) (1.31.22)\n",
            "Requirement already satisfied: jmespath<2.0.0,>=0.7.1 in /usr/local/lib/python3.10/dist-packages (from boto3->flair->textattack) (1.0.1)\n",
            "Requirement already satisfied: s3transfer<0.7.0,>=0.6.0 in /usr/local/lib/python3.10/dist-packages (from boto3->flair->textattack) (0.6.1)\n",
            "Requirement already satisfied: wcwidth>=0.2.5 in /usr/local/lib/python3.10/dist-packages (from ftfy->flair->textattack) (0.2.6)\n",
            "Requirement already satisfied: MarkupSafe>=2.0 in /usr/local/lib/python3.10/dist-packages (from jinja2->torch!=1.8,>=1.7.0->textattack) (2.1.3)\n",
            "Requirement already satisfied: mpmath>=0.19 in /usr/local/lib/python3.10/dist-packages (from sympy->torch!=1.8,>=1.7.0->textattack) (1.3.0)\n",
            "Requirement already satisfied: accelerate>=0.20.3 in /usr/local/lib/python3.10/dist-packages (from transformers>=4.21.0->textattack) (0.21.0)\n",
            "Requirement already satisfied: soupsieve>1.2 in /usr/local/lib/python3.10/dist-packages (from beautifulsoup4->gdown==4.4.0->flair->textattack) (2.4.1)\n",
            "Requirement already satisfied: psutil in /usr/local/lib/python3.10/dist-packages (from accelerate>=0.20.3->transformers>=4.21.0->textattack) (5.9.5)\n"
          ]
        }
      ],
      "source": [
        "import numpy as np\n",
        "import pandas as pd\n",
        "import nltk.corpus\n",
        "import re\n",
        "nltk.download('stopwords')\n",
        "nltk.download('wordnet')\n",
        "from sklearn.feature_extraction.text import CountVectorizer\n",
        "from sklearn.feature_extraction.text import TfidfTransformer\n",
        "from sklearn.feature_extraction.text import TfidfVectorizer\n",
        "from sklearn.metrics import accuracy_score\n",
        "from sklearn.metrics import classification_report\n",
        "from sklearn.model_selection import train_test_split\n",
        "from sklearn.preprocessing import StandardScaler\n",
        "from sklearn.decomposition import PCA\n",
        "from sklearn.model_selection import GridSearchCV\n",
        "from sklearn.svm import SVC\n",
        "from sklearn.preprocessing import StandardScaler\n",
        "from sklearn.metrics import confusion_matrix\n",
        "from sklearn.ensemble import RandomForestClassifier\n",
        "from sklearn.model_selection import cross_val_score\n",
        "from sklearn.naive_bayes import GaussianNB\n",
        "from sklearn.feature_extraction.text import CountVectorizer\n",
        "from sklearn.neighbors import KNeighborsClassifier\n",
        "from gensim.models import KeyedVectors\n",
        "from sklearn.metrics.pairwise import euclidean_distances\n",
        "!pip install textattack\n",
        "\n",
        "from nltk.stem import WordNetLemmatizer\n",
        "from nltk.corpus import stopwords\n",
        "from nltk.stem.porter import PorterStemmer\n",
        "import matplotlib.pyplot as plt\n"
      ]
    },
    {
      "cell_type": "code",
      "source": [
        "from google.colab import drive\n",
        "drive.mount('/content/drive')\n",
        "# import requests\n",
        "# import time\n",
        "\n",
        "# while True:\n",
        "#     try:\n",
        "#         requests.get('https://www.google.com')\n",
        "#         print(\"Kept alive.\")\n",
        "#     except:\n",
        "#         print(\"Failed to keep alive.\")\n",
        "#     time.sleep(600)"
      ],
      "metadata": {
        "colab": {
          "base_uri": "https://localhost:8080/"
        },
        "id": "rN7FEZ0ZuqFO",
        "outputId": "5bd5c528-faa7-4981-aed3-6fc382e96c6f"
      },
      "execution_count": 45,
      "outputs": [
        {
          "output_type": "stream",
          "name": "stdout",
          "text": [
            "Drive already mounted at /content/drive; to attempt to forcibly remount, call drive.mount(\"/content/drive\", force_remount=True).\n"
          ]
        }
      ]
    },
    {
      "cell_type": "code",
      "execution_count": 46,
      "metadata": {
        "id": "RNqcUOuIT0sM"
      },
      "outputs": [],
      "source": [
        "from sklearn import  set_config\n",
        "set_config(display = 'diagram')"
      ]
    },
    {
      "cell_type": "code",
      "execution_count": 47,
      "metadata": {
        "id": "1s_eLsA1T0sN"
      },
      "outputs": [],
      "source": [
        "df_NewsDjia = pd.read_csv('News_DJIA.csv', delimiter=',')\n",
        "df_RedditNews = pd.read_csv('News_reddit.csv', delimiter=',')\n",
        "df_DjiaStock = pd.read_csv('DJIA_t.csv',delimiter=',')"
      ]
    },
    {
      "cell_type": "code",
      "execution_count": 48,
      "metadata": {
        "id": "WIQ6Fn1iT0sN"
      },
      "outputs": [],
      "source": [
        "for i in df_NewsDjia.columns :\n",
        "    df_NewsDjia[i] = df_NewsDjia[i].astype(str)"
      ]
    },
    {
      "cell_type": "code",
      "execution_count": 49,
      "metadata": {
        "colab": {
          "base_uri": "https://localhost:8080/",
          "height": 1000
        },
        "id": "76jhl5TfT0sN",
        "outputId": "b079fe8c-7f56-4dc7-9ebb-5dbd36dbc09c"
      },
      "outputs": [
        {
          "output_type": "execute_result",
          "data": {
            "text/plain": [
              "            Date Label                                               Top1  \\\n",
              "0     2008-08-08     0  b\"Georgia 'downs two Russian warplanes' as cou...   \n",
              "1     2008-08-11     1  b'Why wont America and Nato help us? If they w...   \n",
              "2     2008-08-12     0  b'Remember that adorable 9-year-old who sang a...   \n",
              "3     2008-08-13     0  b' U.S. refuses Israel weapons to attack Iran:...   \n",
              "4     2008-08-14     1  b'All the experts admit that we should legalis...   \n",
              "...          ...   ...                                                ...   \n",
              "1984  2016-06-27     0  Barclays and RBS shares suspended from trading...   \n",
              "1985  2016-06-28     1  2,500 Scientists To Australia: If You Want To ...   \n",
              "1986  2016-06-29     1                   Explosion At Airport In Istanbul   \n",
              "1987  2016-06-30     1  Jamaica proposes marijuana dispensers for tour...   \n",
              "1988  2016-07-01     1  A 117-year-old woman in Mexico City finally re...   \n",
              "\n",
              "                                                   Top2  \\\n",
              "0               b'BREAKING: Musharraf to be impeached.'   \n",
              "1           b'Bush puts foot down on Georgian conflict'   \n",
              "2                    b\"Russia 'ends Georgia operation'\"   \n",
              "3     b\"When the president ordered to attack Tskhinv...   \n",
              "4     b'War in South Osetia - 89 pictures made by a ...   \n",
              "...                                                 ...   \n",
              "1984  Pope says Church should ask forgiveness from g...   \n",
              "1985  The personal details of 112,000 French police ...   \n",
              "1986  Yemeni former president: Terrorism is the offs...   \n",
              "1987  Stephen Hawking says pollution and 'stupidity'...   \n",
              "1988   IMF chief backs Athens as permanent Olympic host   \n",
              "\n",
              "                                                   Top3  \\\n",
              "0     b'Russia Today: Columns of troops roll into So...   \n",
              "1     b\"Jewish Georgian minister: Thanks to Israeli ...   \n",
              "2     b'\"If we had no sexual harassment we would hav...   \n",
              "3     b' Israel clears troops who killed Reuters cam...   \n",
              "4     b'Swedish wrestler Ara Abrahamian throws away ...   \n",
              "...                                                 ...   \n",
              "1984  Poland 'shocked' by xenophobic abuse of Poles ...   \n",
              "1985  S&amp;P cuts United Kingdom sovereign credit r...   \n",
              "1986  UK must accept freedom of movement to access E...   \n",
              "1987  Boris Johnson says he will not run for Tory pa...   \n",
              "1988  The president of France says if Brexit won, so...   \n",
              "\n",
              "                                                   Top4  \\\n",
              "0     b'Russian tanks are moving towards the capital...   \n",
              "1     b'Georgian army flees in disarray as Russians ...   \n",
              "2     b\"Al-Qa'eda is losing support in Iraq because ...   \n",
              "3     b'Britain\\'s policy of being tough on drugs is...   \n",
              "4     b'Russia exaggerated the death toll in South O...   \n",
              "...                                                 ...   \n",
              "1984  There will be no second referendum, cabinet ag...   \n",
              "1985                Huge helium deposit found in Africa   \n",
              "1986  Devastated: scientists too late to captive bre...   \n",
              "1987  Six gay men in Ivory Coast were abused and for...   \n",
              "1988  British Man Who Must Give Police 24 Hours' Not...   \n",
              "\n",
              "                                                   Top5  \\\n",
              "0     b\"Afghan children raped with 'impunity,' U.N. ...   \n",
              "1         b\"Olympic opening ceremony fireworks 'faked'\"   \n",
              "2     b'Ceasefire in Georgia: Putin Outmaneuvers the...   \n",
              "3     b'Body of 14 year old found in trunk; Latest (...   \n",
              "4     b'Missile That Killed 9 Inside Pakistan May Ha...   \n",
              "...                                                 ...   \n",
              "1984      Scotland welcome to join EU, Merkel ally says   \n",
              "1985  CEO of the South African state broadcaster qui...   \n",
              "1986  British Labor Party leader Jeremy Corbyn loses...   \n",
              "1987  Switzerland denies citizenship to Muslim immig...   \n",
              "1988  100+ Nobel laureates urge Greenpeace to stop o...   \n",
              "\n",
              "                                                   Top6  \\\n",
              "0     b'150 Russian tanks have entered South Ossetia...   \n",
              "1     b'What were the Mossad with fraudulent New Zea...   \n",
              "2     b'Why Microsoft and Intel tried to kill the XO...   \n",
              "3     b'China has moved 10 *million* quake survivors...   \n",
              "4     b\"Rushdie Condemns Random House's Refusal to P...   \n",
              "...                                                 ...   \n",
              "1984  Sterling dips below Friday's 31-year low amid ...   \n",
              "1985  Brexit cost investors $2 trillion, the worst o...   \n",
              "1986  A Muslim Shop in the UK Was Just Firebombed Wh...   \n",
              "1987  Palestinian terrorist stabs israeli teen girl ...   \n",
              "1988  Brazil: Huge spike in number of police killing...   \n",
              "\n",
              "                                                   Top7  \\\n",
              "0     b\"Breaking: Georgia invades South Ossetia, Rus...   \n",
              "1     b'Russia angered by Israeli military sale to G...   \n",
              "2     b'Stratfor: The Russo-Georgian War and the Bal...   \n",
              "3     b\"Bush announces Operation Get All Up In Russi...   \n",
              "4     b'Poland and US agree to missle defense deal. ...   \n",
              "...                                                 ...   \n",
              "1984  No negative news about South African President...   \n",
              "1985  Hong Kong democracy activists call for return ...   \n",
              "1986  Mexican Authorities Sexually Torture Women in ...   \n",
              "1987  Puerto Rico will default on $1 billion of debt...   \n",
              "1988  Austria's highest court annuls presidential el...   \n",
              "\n",
              "                                                   Top8  ...  \\\n",
              "0     b\"The 'enemy combatent' trials are nothing but...  ...   \n",
              "1     b'An American citizen living in S.Ossetia blam...  ...   \n",
              "2     b\"I'm Trying to Get a Sense of This Whole Geor...  ...   \n",
              "3                b'Russian forces sink Georgian ships '  ...   \n",
              "4     b'Will the Russians conquer Tblisi? Bet on it,...  ...   \n",
              "...                                                 ...  ...   \n",
              "1984  Surge in Hate Crimes in the U.K. Following U.K...  ...   \n",
              "1985  Brexit: Iceland president says UK can join 'tr...  ...   \n",
              "1986            UK shares and pound continue to recover  ...   \n",
              "1987  Republic of Ireland fans to be awarded medal f...  ...   \n",
              "1988  Facebook wins privacy case, can track any Belg...  ...   \n",
              "\n",
              "                                                  Top16  \\\n",
              "0     b'Georgia Invades South Ossetia - if Russia ge...   \n",
              "1     b'Israel and the US behind the Georgian aggres...   \n",
              "2     b'U.S. troops still in Georgia (did you know t...   \n",
              "3                         b'Elephants extinct by 2020?'   \n",
              "4     b'Bank analyst forecast Georgian crisis 2 days...   \n",
              "...                                                 ...   \n",
              "1984  German lawyers to probe Erdogan over alleged w...   \n",
              "1985  US, Canada and Mexico pledge 50% of power from...   \n",
              "1986  Escape Tunnel, Dug by Hand, Is Found at Holoca...   \n",
              "1987  Googles free wifi at Indian railway stations i...   \n",
              "1988  The United States has placed Myanmar, Uzbekist...   \n",
              "\n",
              "                                                  Top17  \\\n",
              "0                   b'Al-Qaeda Faces Islamist Backlash'   \n",
              "1     b'\"Do not believe TV, neither Russian nor Geor...   \n",
              "2          b'Why Russias response to Georgia was right'   \n",
              "3     b'US humanitarian missions soon in Georgia - i...   \n",
              "4     b\"Georgia confict could set back Russia's US r...   \n",
              "...                                                 ...   \n",
              "1984  Boris Johnson says the UK will continue to \"in...   \n",
              "1985  There is increasing evidence that Australia is...   \n",
              "1986  The land under Beijing is sinking by as much a...   \n",
              "1987  Mounting evidence suggests 'hobbits' were wipe...   \n",
              "1988  S&amp;P revises European Union credit rating t...   \n",
              "\n",
              "                                                  Top18  \\\n",
              "0     b'Condoleezza Rice: \"The US would not act to p...   \n",
              "1     b'Riots are still going on in Montreal (Canada...   \n",
              "2     b'Gorbachev accuses U.S. of making a \"serious ...   \n",
              "3                b\"Georgia's DDOS came from US sources\"   \n",
              "4     b'War in the Caucasus is as much the product o...   \n",
              "...                                                 ...   \n",
              "1984  Richard Branson is calling on the UK governmen...   \n",
              "1985  Richard Branson, the founder of Virgin Group, ...   \n",
              "1986  Car bomb and Anti-Islamic attack on Mosque in ...   \n",
              "1987  The men who carried out Tuesday's terror attac...   \n",
              "1988  India gets $1 billion loan from World Bank for...   \n",
              "\n",
              "                                                  Top19  \\\n",
              "0     b'This is a busy day:  The European Union has ...   \n",
              "1       b'China to overtake US as largest manufacturer'   \n",
              "2            b'Russia, Georgia, and NATO: Cold War Two'   \n",
              "3     b'Russian convoy heads into Georgia, violating...   \n",
              "4     b'\"Non-media\" photos of South Ossetia/Georgia ...   \n",
              "...                                                 ...   \n",
              "1984             Turkey 'sorry for downing Russian jet'   \n",
              "1985  37,000-yr-old skull from Borneo reveals surpri...   \n",
              "1986  Emaciated lions in Taiz Zoo are trapped in blo...   \n",
              "1987  Calls to suspend Saudi Arabia from UN Human Ri...   \n",
              "1988  U.S. sailors detained by Iran spoke too much u...   \n",
              "\n",
              "                                                  Top20  \\\n",
              "0     b\"Georgia will withdraw 1,000 soldiers from Ir...   \n",
              "1                        b'War in South Ossetia [PICS]'   \n",
              "2     b'Remember that adorable 62-year-old who led y...   \n",
              "3     b'Israeli defence minister: US against strike ...   \n",
              "4     b'Georgian TV reporter shot by Russian sniper ...   \n",
              "...                                                 ...   \n",
              "1984  Edward Snowden lawyer vows new push for pardon...   \n",
              "1985  Palestinians stone Western Wall worshipers; po...   \n",
              "1986  Rupert Murdoch describes Brexit as 'wonderful'...   \n",
              "1987  More Than 100 Nobel Laureates Call Out Greenpe...   \n",
              "1988  Mass fish kill in Vietnam solved as Taiwan ste...   \n",
              "\n",
              "                                                  Top21  \\\n",
              "0     b'Why the Pentagon Thinks Attacking Iran is a ...   \n",
              "1     b'Israeli Physicians Group Condemns State Tort...   \n",
              "2             b'War in Georgia: The Israeli connection'   \n",
              "3                        b'Gorbachev: We Had No Choice'   \n",
              "4     b'Saudi Arabia: Mother moves to block child ma...   \n",
              "...                                                 ...   \n",
              "1984  Brexit opinion poll reveals majority don't wan...   \n",
              "1985  Jean-Claude Juncker asks Farage: Why are you h...   \n",
              "1986       More than 40 killed in Yemen suicide attacks   \n",
              "1987  British pedophile sentenced to 85 years in US ...   \n",
              "1988  Philippines president Rodrigo Duterte urges pe...   \n",
              "\n",
              "                                                  Top22  \\\n",
              "0     b'Caucasus in crisis: Georgia invades South Os...   \n",
              "1     b' Russia has just beaten the United States ov...   \n",
              "2     b'All signs point to the US encouraging Georgi...   \n",
              "3     b'Witness: Russian forces head towards Tbilisi...   \n",
              "4      b'Taliban wages war on humanitarian aid workers'   \n",
              "...                                                 ...   \n",
              "1984  Conservative MP Leave Campaigner: \"The leave c...   \n",
              "1985  \"Romanians for Remainians\" offering a new home...   \n",
              "1986  Google Found Disastrous Symantec and Norton Vu...   \n",
              "1987  US permitted 1,200 offshore fracks in Gulf of ...   \n",
              "1988  Spain arrests three Pakistanis accused of prom...   \n",
              "\n",
              "                                                  Top23  \\\n",
              "0     b'Indian shoe manufactory  - And again in a se...   \n",
              "1     b'Perhaps *the* question about the Georgia - R...   \n",
              "2     b'Christopher King argues that the US and NATO...   \n",
              "3     b' Quarter of Russians blame U.S. for conflict...   \n",
              "4     b'Russia: World  \"can forget about\" Georgia\\'s...   \n",
              "...                                                 ...   \n",
              "1984  Economists predict UK recession, further weake...   \n",
              "1985  Brexit: Gibraltar in talks with Scotland to st...   \n",
              "1986  Extremist violence on the rise in Germany: Dom...   \n",
              "1987  We will be swimming in ridicule - French beach...   \n",
              "1988  Venezuela, where anger over food shortages is ...   \n",
              "\n",
              "                                                  Top24  \\\n",
              "0     b'Visitors Suffering from Mental Illnesses Ban...   \n",
              "1                    b'Russia is so much better at war'   \n",
              "2                           b'America: The New Mexico?'   \n",
              "3     b'Georgian president  says US military will ta...   \n",
              "4     b'Darfur rebels accuse Sudan of mounting major...   \n",
              "...                                                 ...   \n",
              "1984  New EU 'superstate plan by France, Germany: Cr...   \n",
              "1985                   8 Suicide Bombers Strike Lebanon   \n",
              "1986  BBC News: Labour MPs pass Corbyn no-confidence...   \n",
              "1987  UEFA says no minutes of silence for Istanbul v...   \n",
              "1988  A Hindu temple worker has been killed by three...   \n",
              "\n",
              "                                                  Top25  \n",
              "0              b\"No Help for Mexico's Kidnapping Surge\"  \n",
              "1     b\"So this is what it's come to: trading sex fo...  \n",
              "2     b\"BBC NEWS | Asia-Pacific | Extinction 'by man...  \n",
              "3     b'2006: Nobel laureate Aleksander Solzhenitsyn...  \n",
              "4     b'Philippines : Peace Advocate say Muslims nee...  \n",
              "...                                                 ...  \n",
              "1984  Pakistani clerics declare transgender marriage...  \n",
              "1985  Mexico's security forces routinely use 'sexual...  \n",
              "1986  Tiny New Zealand town with 'too many jobs' lau...  \n",
              "1987  Law Enforcement Sources: Gun Used in Paris Ter...  \n",
              "1988  Ozone layer hole seems to be healing - US &amp...  \n",
              "\n",
              "[1989 rows x 27 columns]"
            ],
            "text/html": [
              "\n",
              "\n",
              "  <div id=\"df-d81f3b27-62aa-4baf-9966-4047c060dc60\">\n",
              "    <div class=\"colab-df-container\">\n",
              "      <div>\n",
              "<style scoped>\n",
              "    .dataframe tbody tr th:only-of-type {\n",
              "        vertical-align: middle;\n",
              "    }\n",
              "\n",
              "    .dataframe tbody tr th {\n",
              "        vertical-align: top;\n",
              "    }\n",
              "\n",
              "    .dataframe thead th {\n",
              "        text-align: right;\n",
              "    }\n",
              "</style>\n",
              "<table border=\"1\" class=\"dataframe\">\n",
              "  <thead>\n",
              "    <tr style=\"text-align: right;\">\n",
              "      <th></th>\n",
              "      <th>Date</th>\n",
              "      <th>Label</th>\n",
              "      <th>Top1</th>\n",
              "      <th>Top2</th>\n",
              "      <th>Top3</th>\n",
              "      <th>Top4</th>\n",
              "      <th>Top5</th>\n",
              "      <th>Top6</th>\n",
              "      <th>Top7</th>\n",
              "      <th>Top8</th>\n",
              "      <th>...</th>\n",
              "      <th>Top16</th>\n",
              "      <th>Top17</th>\n",
              "      <th>Top18</th>\n",
              "      <th>Top19</th>\n",
              "      <th>Top20</th>\n",
              "      <th>Top21</th>\n",
              "      <th>Top22</th>\n",
              "      <th>Top23</th>\n",
              "      <th>Top24</th>\n",
              "      <th>Top25</th>\n",
              "    </tr>\n",
              "  </thead>\n",
              "  <tbody>\n",
              "    <tr>\n",
              "      <th>0</th>\n",
              "      <td>2008-08-08</td>\n",
              "      <td>0</td>\n",
              "      <td>b\"Georgia 'downs two Russian warplanes' as cou...</td>\n",
              "      <td>b'BREAKING: Musharraf to be impeached.'</td>\n",
              "      <td>b'Russia Today: Columns of troops roll into So...</td>\n",
              "      <td>b'Russian tanks are moving towards the capital...</td>\n",
              "      <td>b\"Afghan children raped with 'impunity,' U.N. ...</td>\n",
              "      <td>b'150 Russian tanks have entered South Ossetia...</td>\n",
              "      <td>b\"Breaking: Georgia invades South Ossetia, Rus...</td>\n",
              "      <td>b\"The 'enemy combatent' trials are nothing but...</td>\n",
              "      <td>...</td>\n",
              "      <td>b'Georgia Invades South Ossetia - if Russia ge...</td>\n",
              "      <td>b'Al-Qaeda Faces Islamist Backlash'</td>\n",
              "      <td>b'Condoleezza Rice: \"The US would not act to p...</td>\n",
              "      <td>b'This is a busy day:  The European Union has ...</td>\n",
              "      <td>b\"Georgia will withdraw 1,000 soldiers from Ir...</td>\n",
              "      <td>b'Why the Pentagon Thinks Attacking Iran is a ...</td>\n",
              "      <td>b'Caucasus in crisis: Georgia invades South Os...</td>\n",
              "      <td>b'Indian shoe manufactory  - And again in a se...</td>\n",
              "      <td>b'Visitors Suffering from Mental Illnesses Ban...</td>\n",
              "      <td>b\"No Help for Mexico's Kidnapping Surge\"</td>\n",
              "    </tr>\n",
              "    <tr>\n",
              "      <th>1</th>\n",
              "      <td>2008-08-11</td>\n",
              "      <td>1</td>\n",
              "      <td>b'Why wont America and Nato help us? If they w...</td>\n",
              "      <td>b'Bush puts foot down on Georgian conflict'</td>\n",
              "      <td>b\"Jewish Georgian minister: Thanks to Israeli ...</td>\n",
              "      <td>b'Georgian army flees in disarray as Russians ...</td>\n",
              "      <td>b\"Olympic opening ceremony fireworks 'faked'\"</td>\n",
              "      <td>b'What were the Mossad with fraudulent New Zea...</td>\n",
              "      <td>b'Russia angered by Israeli military sale to G...</td>\n",
              "      <td>b'An American citizen living in S.Ossetia blam...</td>\n",
              "      <td>...</td>\n",
              "      <td>b'Israel and the US behind the Georgian aggres...</td>\n",
              "      <td>b'\"Do not believe TV, neither Russian nor Geor...</td>\n",
              "      <td>b'Riots are still going on in Montreal (Canada...</td>\n",
              "      <td>b'China to overtake US as largest manufacturer'</td>\n",
              "      <td>b'War in South Ossetia [PICS]'</td>\n",
              "      <td>b'Israeli Physicians Group Condemns State Tort...</td>\n",
              "      <td>b' Russia has just beaten the United States ov...</td>\n",
              "      <td>b'Perhaps *the* question about the Georgia - R...</td>\n",
              "      <td>b'Russia is so much better at war'</td>\n",
              "      <td>b\"So this is what it's come to: trading sex fo...</td>\n",
              "    </tr>\n",
              "    <tr>\n",
              "      <th>2</th>\n",
              "      <td>2008-08-12</td>\n",
              "      <td>0</td>\n",
              "      <td>b'Remember that adorable 9-year-old who sang a...</td>\n",
              "      <td>b\"Russia 'ends Georgia operation'\"</td>\n",
              "      <td>b'\"If we had no sexual harassment we would hav...</td>\n",
              "      <td>b\"Al-Qa'eda is losing support in Iraq because ...</td>\n",
              "      <td>b'Ceasefire in Georgia: Putin Outmaneuvers the...</td>\n",
              "      <td>b'Why Microsoft and Intel tried to kill the XO...</td>\n",
              "      <td>b'Stratfor: The Russo-Georgian War and the Bal...</td>\n",
              "      <td>b\"I'm Trying to Get a Sense of This Whole Geor...</td>\n",
              "      <td>...</td>\n",
              "      <td>b'U.S. troops still in Georgia (did you know t...</td>\n",
              "      <td>b'Why Russias response to Georgia was right'</td>\n",
              "      <td>b'Gorbachev accuses U.S. of making a \"serious ...</td>\n",
              "      <td>b'Russia, Georgia, and NATO: Cold War Two'</td>\n",
              "      <td>b'Remember that adorable 62-year-old who led y...</td>\n",
              "      <td>b'War in Georgia: The Israeli connection'</td>\n",
              "      <td>b'All signs point to the US encouraging Georgi...</td>\n",
              "      <td>b'Christopher King argues that the US and NATO...</td>\n",
              "      <td>b'America: The New Mexico?'</td>\n",
              "      <td>b\"BBC NEWS | Asia-Pacific | Extinction 'by man...</td>\n",
              "    </tr>\n",
              "    <tr>\n",
              "      <th>3</th>\n",
              "      <td>2008-08-13</td>\n",
              "      <td>0</td>\n",
              "      <td>b' U.S. refuses Israel weapons to attack Iran:...</td>\n",
              "      <td>b\"When the president ordered to attack Tskhinv...</td>\n",
              "      <td>b' Israel clears troops who killed Reuters cam...</td>\n",
              "      <td>b'Britain\\'s policy of being tough on drugs is...</td>\n",
              "      <td>b'Body of 14 year old found in trunk; Latest (...</td>\n",
              "      <td>b'China has moved 10 *million* quake survivors...</td>\n",
              "      <td>b\"Bush announces Operation Get All Up In Russi...</td>\n",
              "      <td>b'Russian forces sink Georgian ships '</td>\n",
              "      <td>...</td>\n",
              "      <td>b'Elephants extinct by 2020?'</td>\n",
              "      <td>b'US humanitarian missions soon in Georgia - i...</td>\n",
              "      <td>b\"Georgia's DDOS came from US sources\"</td>\n",
              "      <td>b'Russian convoy heads into Georgia, violating...</td>\n",
              "      <td>b'Israeli defence minister: US against strike ...</td>\n",
              "      <td>b'Gorbachev: We Had No Choice'</td>\n",
              "      <td>b'Witness: Russian forces head towards Tbilisi...</td>\n",
              "      <td>b' Quarter of Russians blame U.S. for conflict...</td>\n",
              "      <td>b'Georgian president  says US military will ta...</td>\n",
              "      <td>b'2006: Nobel laureate Aleksander Solzhenitsyn...</td>\n",
              "    </tr>\n",
              "    <tr>\n",
              "      <th>4</th>\n",
              "      <td>2008-08-14</td>\n",
              "      <td>1</td>\n",
              "      <td>b'All the experts admit that we should legalis...</td>\n",
              "      <td>b'War in South Osetia - 89 pictures made by a ...</td>\n",
              "      <td>b'Swedish wrestler Ara Abrahamian throws away ...</td>\n",
              "      <td>b'Russia exaggerated the death toll in South O...</td>\n",
              "      <td>b'Missile That Killed 9 Inside Pakistan May Ha...</td>\n",
              "      <td>b\"Rushdie Condemns Random House's Refusal to P...</td>\n",
              "      <td>b'Poland and US agree to missle defense deal. ...</td>\n",
              "      <td>b'Will the Russians conquer Tblisi? Bet on it,...</td>\n",
              "      <td>...</td>\n",
              "      <td>b'Bank analyst forecast Georgian crisis 2 days...</td>\n",
              "      <td>b\"Georgia confict could set back Russia's US r...</td>\n",
              "      <td>b'War in the Caucasus is as much the product o...</td>\n",
              "      <td>b'\"Non-media\" photos of South Ossetia/Georgia ...</td>\n",
              "      <td>b'Georgian TV reporter shot by Russian sniper ...</td>\n",
              "      <td>b'Saudi Arabia: Mother moves to block child ma...</td>\n",
              "      <td>b'Taliban wages war on humanitarian aid workers'</td>\n",
              "      <td>b'Russia: World  \"can forget about\" Georgia\\'s...</td>\n",
              "      <td>b'Darfur rebels accuse Sudan of mounting major...</td>\n",
              "      <td>b'Philippines : Peace Advocate say Muslims nee...</td>\n",
              "    </tr>\n",
              "    <tr>\n",
              "      <th>...</th>\n",
              "      <td>...</td>\n",
              "      <td>...</td>\n",
              "      <td>...</td>\n",
              "      <td>...</td>\n",
              "      <td>...</td>\n",
              "      <td>...</td>\n",
              "      <td>...</td>\n",
              "      <td>...</td>\n",
              "      <td>...</td>\n",
              "      <td>...</td>\n",
              "      <td>...</td>\n",
              "      <td>...</td>\n",
              "      <td>...</td>\n",
              "      <td>...</td>\n",
              "      <td>...</td>\n",
              "      <td>...</td>\n",
              "      <td>...</td>\n",
              "      <td>...</td>\n",
              "      <td>...</td>\n",
              "      <td>...</td>\n",
              "      <td>...</td>\n",
              "    </tr>\n",
              "    <tr>\n",
              "      <th>1984</th>\n",
              "      <td>2016-06-27</td>\n",
              "      <td>0</td>\n",
              "      <td>Barclays and RBS shares suspended from trading...</td>\n",
              "      <td>Pope says Church should ask forgiveness from g...</td>\n",
              "      <td>Poland 'shocked' by xenophobic abuse of Poles ...</td>\n",
              "      <td>There will be no second referendum, cabinet ag...</td>\n",
              "      <td>Scotland welcome to join EU, Merkel ally says</td>\n",
              "      <td>Sterling dips below Friday's 31-year low amid ...</td>\n",
              "      <td>No negative news about South African President...</td>\n",
              "      <td>Surge in Hate Crimes in the U.K. Following U.K...</td>\n",
              "      <td>...</td>\n",
              "      <td>German lawyers to probe Erdogan over alleged w...</td>\n",
              "      <td>Boris Johnson says the UK will continue to \"in...</td>\n",
              "      <td>Richard Branson is calling on the UK governmen...</td>\n",
              "      <td>Turkey 'sorry for downing Russian jet'</td>\n",
              "      <td>Edward Snowden lawyer vows new push for pardon...</td>\n",
              "      <td>Brexit opinion poll reveals majority don't wan...</td>\n",
              "      <td>Conservative MP Leave Campaigner: \"The leave c...</td>\n",
              "      <td>Economists predict UK recession, further weake...</td>\n",
              "      <td>New EU 'superstate plan by France, Germany: Cr...</td>\n",
              "      <td>Pakistani clerics declare transgender marriage...</td>\n",
              "    </tr>\n",
              "    <tr>\n",
              "      <th>1985</th>\n",
              "      <td>2016-06-28</td>\n",
              "      <td>1</td>\n",
              "      <td>2,500 Scientists To Australia: If You Want To ...</td>\n",
              "      <td>The personal details of 112,000 French police ...</td>\n",
              "      <td>S&amp;amp;P cuts United Kingdom sovereign credit r...</td>\n",
              "      <td>Huge helium deposit found in Africa</td>\n",
              "      <td>CEO of the South African state broadcaster qui...</td>\n",
              "      <td>Brexit cost investors $2 trillion, the worst o...</td>\n",
              "      <td>Hong Kong democracy activists call for return ...</td>\n",
              "      <td>Brexit: Iceland president says UK can join 'tr...</td>\n",
              "      <td>...</td>\n",
              "      <td>US, Canada and Mexico pledge 50% of power from...</td>\n",
              "      <td>There is increasing evidence that Australia is...</td>\n",
              "      <td>Richard Branson, the founder of Virgin Group, ...</td>\n",
              "      <td>37,000-yr-old skull from Borneo reveals surpri...</td>\n",
              "      <td>Palestinians stone Western Wall worshipers; po...</td>\n",
              "      <td>Jean-Claude Juncker asks Farage: Why are you h...</td>\n",
              "      <td>\"Romanians for Remainians\" offering a new home...</td>\n",
              "      <td>Brexit: Gibraltar in talks with Scotland to st...</td>\n",
              "      <td>8 Suicide Bombers Strike Lebanon</td>\n",
              "      <td>Mexico's security forces routinely use 'sexual...</td>\n",
              "    </tr>\n",
              "    <tr>\n",
              "      <th>1986</th>\n",
              "      <td>2016-06-29</td>\n",
              "      <td>1</td>\n",
              "      <td>Explosion At Airport In Istanbul</td>\n",
              "      <td>Yemeni former president: Terrorism is the offs...</td>\n",
              "      <td>UK must accept freedom of movement to access E...</td>\n",
              "      <td>Devastated: scientists too late to captive bre...</td>\n",
              "      <td>British Labor Party leader Jeremy Corbyn loses...</td>\n",
              "      <td>A Muslim Shop in the UK Was Just Firebombed Wh...</td>\n",
              "      <td>Mexican Authorities Sexually Torture Women in ...</td>\n",
              "      <td>UK shares and pound continue to recover</td>\n",
              "      <td>...</td>\n",
              "      <td>Escape Tunnel, Dug by Hand, Is Found at Holoca...</td>\n",
              "      <td>The land under Beijing is sinking by as much a...</td>\n",
              "      <td>Car bomb and Anti-Islamic attack on Mosque in ...</td>\n",
              "      <td>Emaciated lions in Taiz Zoo are trapped in blo...</td>\n",
              "      <td>Rupert Murdoch describes Brexit as 'wonderful'...</td>\n",
              "      <td>More than 40 killed in Yemen suicide attacks</td>\n",
              "      <td>Google Found Disastrous Symantec and Norton Vu...</td>\n",
              "      <td>Extremist violence on the rise in Germany: Dom...</td>\n",
              "      <td>BBC News: Labour MPs pass Corbyn no-confidence...</td>\n",
              "      <td>Tiny New Zealand town with 'too many jobs' lau...</td>\n",
              "    </tr>\n",
              "    <tr>\n",
              "      <th>1987</th>\n",
              "      <td>2016-06-30</td>\n",
              "      <td>1</td>\n",
              "      <td>Jamaica proposes marijuana dispensers for tour...</td>\n",
              "      <td>Stephen Hawking says pollution and 'stupidity'...</td>\n",
              "      <td>Boris Johnson says he will not run for Tory pa...</td>\n",
              "      <td>Six gay men in Ivory Coast were abused and for...</td>\n",
              "      <td>Switzerland denies citizenship to Muslim immig...</td>\n",
              "      <td>Palestinian terrorist stabs israeli teen girl ...</td>\n",
              "      <td>Puerto Rico will default on $1 billion of debt...</td>\n",
              "      <td>Republic of Ireland fans to be awarded medal f...</td>\n",
              "      <td>...</td>\n",
              "      <td>Googles free wifi at Indian railway stations i...</td>\n",
              "      <td>Mounting evidence suggests 'hobbits' were wipe...</td>\n",
              "      <td>The men who carried out Tuesday's terror attac...</td>\n",
              "      <td>Calls to suspend Saudi Arabia from UN Human Ri...</td>\n",
              "      <td>More Than 100 Nobel Laureates Call Out Greenpe...</td>\n",
              "      <td>British pedophile sentenced to 85 years in US ...</td>\n",
              "      <td>US permitted 1,200 offshore fracks in Gulf of ...</td>\n",
              "      <td>We will be swimming in ridicule - French beach...</td>\n",
              "      <td>UEFA says no minutes of silence for Istanbul v...</td>\n",
              "      <td>Law Enforcement Sources: Gun Used in Paris Ter...</td>\n",
              "    </tr>\n",
              "    <tr>\n",
              "      <th>1988</th>\n",
              "      <td>2016-07-01</td>\n",
              "      <td>1</td>\n",
              "      <td>A 117-year-old woman in Mexico City finally re...</td>\n",
              "      <td>IMF chief backs Athens as permanent Olympic host</td>\n",
              "      <td>The president of France says if Brexit won, so...</td>\n",
              "      <td>British Man Who Must Give Police 24 Hours' Not...</td>\n",
              "      <td>100+ Nobel laureates urge Greenpeace to stop o...</td>\n",
              "      <td>Brazil: Huge spike in number of police killing...</td>\n",
              "      <td>Austria's highest court annuls presidential el...</td>\n",
              "      <td>Facebook wins privacy case, can track any Belg...</td>\n",
              "      <td>...</td>\n",
              "      <td>The United States has placed Myanmar, Uzbekist...</td>\n",
              "      <td>S&amp;amp;P revises European Union credit rating t...</td>\n",
              "      <td>India gets $1 billion loan from World Bank for...</td>\n",
              "      <td>U.S. sailors detained by Iran spoke too much u...</td>\n",
              "      <td>Mass fish kill in Vietnam solved as Taiwan ste...</td>\n",
              "      <td>Philippines president Rodrigo Duterte urges pe...</td>\n",
              "      <td>Spain arrests three Pakistanis accused of prom...</td>\n",
              "      <td>Venezuela, where anger over food shortages is ...</td>\n",
              "      <td>A Hindu temple worker has been killed by three...</td>\n",
              "      <td>Ozone layer hole seems to be healing - US &amp;amp...</td>\n",
              "    </tr>\n",
              "  </tbody>\n",
              "</table>\n",
              "<p>1989 rows × 27 columns</p>\n",
              "</div>\n",
              "      <button class=\"colab-df-convert\" onclick=\"convertToInteractive('df-d81f3b27-62aa-4baf-9966-4047c060dc60')\"\n",
              "              title=\"Convert this dataframe to an interactive table.\"\n",
              "              style=\"display:none;\">\n",
              "\n",
              "  <svg xmlns=\"http://www.w3.org/2000/svg\" height=\"24px\"viewBox=\"0 0 24 24\"\n",
              "       width=\"24px\">\n",
              "    <path d=\"M0 0h24v24H0V0z\" fill=\"none\"/>\n",
              "    <path d=\"M18.56 5.44l.94 2.06.94-2.06 2.06-.94-2.06-.94-.94-2.06-.94 2.06-2.06.94zm-11 1L8.5 8.5l.94-2.06 2.06-.94-2.06-.94L8.5 2.5l-.94 2.06-2.06.94zm10 10l.94 2.06.94-2.06 2.06-.94-2.06-.94-.94-2.06-.94 2.06-2.06.94z\"/><path d=\"M17.41 7.96l-1.37-1.37c-.4-.4-.92-.59-1.43-.59-.52 0-1.04.2-1.43.59L10.3 9.45l-7.72 7.72c-.78.78-.78 2.05 0 2.83L4 21.41c.39.39.9.59 1.41.59.51 0 1.02-.2 1.41-.59l7.78-7.78 2.81-2.81c.8-.78.8-2.07 0-2.86zM5.41 20L4 18.59l7.72-7.72 1.47 1.35L5.41 20z\"/>\n",
              "  </svg>\n",
              "      </button>\n",
              "\n",
              "\n",
              "\n",
              "    <div id=\"df-50d5af7a-681a-4dc8-bd66-118bbeb1bf41\">\n",
              "      <button class=\"colab-df-quickchart\" onclick=\"quickchart('df-50d5af7a-681a-4dc8-bd66-118bbeb1bf41')\"\n",
              "              title=\"Suggest charts.\"\n",
              "              style=\"display:none;\">\n",
              "\n",
              "<svg xmlns=\"http://www.w3.org/2000/svg\" height=\"24px\"viewBox=\"0 0 24 24\"\n",
              "     width=\"24px\">\n",
              "    <g>\n",
              "        <path d=\"M19 3H5c-1.1 0-2 .9-2 2v14c0 1.1.9 2 2 2h14c1.1 0 2-.9 2-2V5c0-1.1-.9-2-2-2zM9 17H7v-7h2v7zm4 0h-2V7h2v10zm4 0h-2v-4h2v4z\"/>\n",
              "    </g>\n",
              "</svg>\n",
              "      </button>\n",
              "    </div>\n",
              "\n",
              "<style>\n",
              "  .colab-df-quickchart {\n",
              "    background-color: #E8F0FE;\n",
              "    border: none;\n",
              "    border-radius: 50%;\n",
              "    cursor: pointer;\n",
              "    display: none;\n",
              "    fill: #1967D2;\n",
              "    height: 32px;\n",
              "    padding: 0 0 0 0;\n",
              "    width: 32px;\n",
              "  }\n",
              "\n",
              "  .colab-df-quickchart:hover {\n",
              "    background-color: #E2EBFA;\n",
              "    box-shadow: 0px 1px 2px rgba(60, 64, 67, 0.3), 0px 1px 3px 1px rgba(60, 64, 67, 0.15);\n",
              "    fill: #174EA6;\n",
              "  }\n",
              "\n",
              "  [theme=dark] .colab-df-quickchart {\n",
              "    background-color: #3B4455;\n",
              "    fill: #D2E3FC;\n",
              "  }\n",
              "\n",
              "  [theme=dark] .colab-df-quickchart:hover {\n",
              "    background-color: #434B5C;\n",
              "    box-shadow: 0px 1px 3px 1px rgba(0, 0, 0, 0.15);\n",
              "    filter: drop-shadow(0px 1px 2px rgba(0, 0, 0, 0.3));\n",
              "    fill: #FFFFFF;\n",
              "  }\n",
              "</style>\n",
              "\n",
              "    <script>\n",
              "      async function quickchart(key) {\n",
              "        const containerElement = document.querySelector('#' + key);\n",
              "        const charts = await google.colab.kernel.invokeFunction(\n",
              "            'suggestCharts', [key], {});\n",
              "      }\n",
              "    </script>\n",
              "\n",
              "      <script>\n",
              "\n",
              "function displayQuickchartButton(domScope) {\n",
              "  let quickchartButtonEl =\n",
              "    domScope.querySelector('#df-50d5af7a-681a-4dc8-bd66-118bbeb1bf41 button.colab-df-quickchart');\n",
              "  quickchartButtonEl.style.display =\n",
              "    google.colab.kernel.accessAllowed ? 'block' : 'none';\n",
              "}\n",
              "\n",
              "        displayQuickchartButton(document);\n",
              "      </script>\n",
              "      <style>\n",
              "    .colab-df-container {\n",
              "      display:flex;\n",
              "      flex-wrap:wrap;\n",
              "      gap: 12px;\n",
              "    }\n",
              "\n",
              "    .colab-df-convert {\n",
              "      background-color: #E8F0FE;\n",
              "      border: none;\n",
              "      border-radius: 50%;\n",
              "      cursor: pointer;\n",
              "      display: none;\n",
              "      fill: #1967D2;\n",
              "      height: 32px;\n",
              "      padding: 0 0 0 0;\n",
              "      width: 32px;\n",
              "    }\n",
              "\n",
              "    .colab-df-convert:hover {\n",
              "      background-color: #E2EBFA;\n",
              "      box-shadow: 0px 1px 2px rgba(60, 64, 67, 0.3), 0px 1px 3px 1px rgba(60, 64, 67, 0.15);\n",
              "      fill: #174EA6;\n",
              "    }\n",
              "\n",
              "    [theme=dark] .colab-df-convert {\n",
              "      background-color: #3B4455;\n",
              "      fill: #D2E3FC;\n",
              "    }\n",
              "\n",
              "    [theme=dark] .colab-df-convert:hover {\n",
              "      background-color: #434B5C;\n",
              "      box-shadow: 0px 1px 3px 1px rgba(0, 0, 0, 0.15);\n",
              "      filter: drop-shadow(0px 1px 2px rgba(0, 0, 0, 0.3));\n",
              "      fill: #FFFFFF;\n",
              "    }\n",
              "  </style>\n",
              "\n",
              "      <script>\n",
              "        const buttonEl =\n",
              "          document.querySelector('#df-d81f3b27-62aa-4baf-9966-4047c060dc60 button.colab-df-convert');\n",
              "        buttonEl.style.display =\n",
              "          google.colab.kernel.accessAllowed ? 'block' : 'none';\n",
              "\n",
              "        async function convertToInteractive(key) {\n",
              "          const element = document.querySelector('#df-d81f3b27-62aa-4baf-9966-4047c060dc60');\n",
              "          const dataTable =\n",
              "            await google.colab.kernel.invokeFunction('convertToInteractive',\n",
              "                                                     [key], {});\n",
              "          if (!dataTable) return;\n",
              "\n",
              "          const docLinkHtml = 'Like what you see? Visit the ' +\n",
              "            '<a target=\"_blank\" href=https://colab.research.google.com/notebooks/data_table.ipynb>data table notebook</a>'\n",
              "            + ' to learn more about interactive tables.';\n",
              "          element.innerHTML = '';\n",
              "          dataTable['output_type'] = 'display_data';\n",
              "          await google.colab.output.renderOutput(dataTable, element);\n",
              "          const docLink = document.createElement('div');\n",
              "          docLink.innerHTML = docLinkHtml;\n",
              "          element.appendChild(docLink);\n",
              "        }\n",
              "      </script>\n",
              "    </div>\n",
              "  </div>\n"
            ]
          },
          "metadata": {},
          "execution_count": 49
        }
      ],
      "source": [
        "df_NewsDjia"
      ]
    },
    {
      "cell_type": "code",
      "execution_count": 50,
      "metadata": {
        "id": "AdF2Yv7oT0sN"
      },
      "outputs": [],
      "source": [
        "num_columns = df_NewsDjia.columns.shape[0]\n",
        "col_names = df_NewsDjia.columns.values.tolist()\n",
        "col_names = col_names[1:]\n",
        "df_NewsDjia.loc[:, 'merged'] = \" \"\n",
        "for each_col_ind in range(num_columns-1):\n",
        "    df_NewsDjia.loc[:, 'merged'] =  df_NewsDjia.loc[:, 'merged'] + \" \" + df_NewsDjia[col_names[each_col_ind]] + \" \""
      ]
    },
    {
      "cell_type": "code",
      "execution_count": 51,
      "metadata": {
        "id": "QpJYzG1RT0sO"
      },
      "outputs": [],
      "source": [
        "df_finalised = df_NewsDjia[['merged']]"
      ]
    },
    {
      "cell_type": "code",
      "execution_count": 52,
      "metadata": {
        "id": "aTSmdMp5T0sO"
      },
      "outputs": [],
      "source": [
        "date_numric_stopwords = \"THOUSAND MILLION BILLION TRILLION HUNDRED ANNUAL ANNUALLY ANNUM YEAR YEARLY QUARTER QUARTERLY QTR MONTH MONTHLY WEEK WEEKLY DAY DAILY JANUARY FEBRUARY MARCH APRIL MAY JUNE JULY AUGUST SEPTEMBER OCTOBER NOVEMBER DECEMBER JAN FEB MAR APR MAY JUN JUL AUG SEP SEPT OCT NOV DEC MONDAY TUESDAY WEDNESDAY THURSDAY FRIDAY SATURDAY SUNDAY TWO THREE FOUR FIVE SIX SEVEN EIGHT NINE TEN ELEVEN TWELVE THIRTEEN FOURTEEN FIFTEEN SIXTEEN SEVENTEEN EIGHTEEN NINETEEN TWENTY THIRTY FORTY FIFTY SIXTY SEVENTY EIGHTY NINETY FIRST SECOND THIRD FOURTH FIFTH SIXTH SEVENTH EIGHTH NINTH TENTH II III IV V VI VII VIII IX X XI XII XIII XIV XV XVI XVII XVIII XIX XX\"\n",
        "date_numric_stopwords = date_numric_stopwords.lower()\n",
        "date_numric_stopwords = date_numric_stopwords.split(\" \")"
      ]
    },
    {
      "cell_type": "code",
      "execution_count": 53,
      "metadata": {
        "id": "m5cRP3mjT0sO"
      },
      "outputs": [],
      "source": [
        "\n",
        "def remove_unecssary_word(sent):\n",
        "    sent = sent.replace(\"b'\",'')\n",
        "    sent = sent.replace('b\"','')\n",
        "    sent = sent.lower()\n",
        "    sent = re.sub(r\"(@\\[A-Za-z0-9]+)|([^0-9A-Za-z \\t])|(\\w+:\\/\\/\\S+)|^rt|http.+?\", \"\", sent)\n",
        "    stop = stopwords.words('english')\n",
        "    stop.extend(date_numric_stopwords)\n",
        "    sent = \" \".join([word for word in sent.split() if word not in (stop)])\n",
        "    sent = \" \".join([WordNetLemmatizer().lemmatize(word) for word in sent.split() ])\n",
        "    return sent"
      ]
    },
    {
      "cell_type": "code",
      "execution_count": 54,
      "metadata": {
        "colab": {
          "base_uri": "https://localhost:8080/"
        },
        "id": "KnZxsRH_T0sO",
        "outputId": "e253651f-eca5-402b-9464-17b266e1ac40"
      },
      "outputs": [
        {
          "output_type": "stream",
          "name": "stderr",
          "text": [
            "<ipython-input-54-6847205c14ea>:1: SettingWithCopyWarning: \n",
            "A value is trying to be set on a copy of a slice from a DataFrame.\n",
            "Try using .loc[row_indexer,col_indexer] = value instead\n",
            "\n",
            "See the caveats in the documentation: https://pandas.pydata.org/pandas-docs/stable/user_guide/indexing.html#returning-a-view-versus-a-copy\n",
            "  df_finalised['merged'] = df_finalised['merged'].apply(remove_unecssary_word)\n"
          ]
        }
      ],
      "source": [
        "df_finalised['merged'] = df_finalised['merged'].apply(remove_unecssary_word)"
      ]
    },
    {
      "cell_type": "code",
      "execution_count": 55,
      "metadata": {
        "colab": {
          "base_uri": "https://localhost:8080/",
          "height": 145
        },
        "id": "Wx0BhxO9T0sO",
        "outputId": "c6f60338-93e5-443a-80af-bc38f069d304"
      },
      "outputs": [
        {
          "output_type": "execute_result",
          "data": {
            "text/plain": [
              "'0 georgia down russian warplane country move brink war breaking musharraf impeached russia today column troop roll south ossetia footage fighting youtube russian tank moving towards capital south ossetia reportedly completely destroyed georgian artillery fire afghan child raped impunity un official say sick old raped nothing 150 russian tank entered south ossetia whilst georgia shoot russian jet breaking georgia invades south ossetia russia warned would intervene so side enemy combatent trial nothing sham salim haman sentenced 5 12 year kept longer anyway feel like georgian troop retreat osettain capital presumably leaving several people killed video u prep georgia war russia rice give green light israel attack iran say u veto israeli military ops announcingclass action lawsuit behalf american public fbi sorussia georgia war nyts top story opening ceremony olympics fucking disgrace yet proof decline journalism china tell bush stay country affair world war start today georgia invades south ossetia russia get involved nato absorb georgia unleash full scale war alqaeda face islamist backlash condoleezza rice u would act prevent israeli strike iran israeli defense minister ehud barak israel prepared uncompromising victory case military hostility busy european union approved new sanction iran protest nuclear programme georgia withdraw 1000 soldier iraq help fight russian force georgia breakaway region south ossetia pentagon think attacking iran bad idea u news amp world report caucasus crisis georgia invades south ossetia indian shoe manufactory series like work visitor suffering mental illness banned olympics help mexico kidnapping surge'"
            ],
            "application/vnd.google.colaboratory.intrinsic+json": {
              "type": "string"
            }
          },
          "metadata": {},
          "execution_count": 55
        }
      ],
      "source": [
        "df_finalised.iloc[0][0]"
      ]
    },
    {
      "cell_type": "code",
      "source": [
        "# from textattack.augmentation import EmbeddingAugmenter\n",
        "# embed_aug = EmbeddingAugmenter()\n",
        "# embed_aug.augment(df_finalised.iloc[0][0])"
      ],
      "metadata": {
        "id": "A5SR3rl8Uw2y"
      },
      "execution_count": 56,
      "outputs": []
    },
    {
      "cell_type": "code",
      "source": [
        "# from textattack.augmentation import WordNetAugmenter\n",
        "# wordnet_aug = WordNetAugmenter()\n",
        "# wordnet_aug.augment(df_finalised.iloc[0][0])"
      ],
      "metadata": {
        "id": "7SSR3l6UEIGr"
      },
      "execution_count": 57,
      "outputs": []
    },
    {
      "cell_type": "code",
      "source": [
        "# from textattack.augmentation import EasyDataAugmenter\n",
        "# eda_aug = EasyDataAugmenter()\n",
        "# eda_aug.augment(df_finalised.iloc[0][0])"
      ],
      "metadata": {
        "id": "K7x4r45pE-6C"
      },
      "execution_count": 58,
      "outputs": []
    },
    {
      "cell_type": "code",
      "execution_count": 59,
      "metadata": {
        "id": "Wv9DIdYsT0sP"
      },
      "outputs": [],
      "source": [
        "df_finalised = pd.concat([df_finalised,df_NewsDjia['Label']],axis = 1)"
      ]
    },
    {
      "cell_type": "code",
      "execution_count": 60,
      "metadata": {
        "id": "M42KsKBjT0sP"
      },
      "outputs": [],
      "source": [
        "Positive_word = \"\"\n",
        "with open('Positive_words.txt', 'r') as file:\n",
        "    Positive_word = file.read().replace('\\n', '')\n",
        "Positive_word = \" \".join([WordNetLemmatizer().lemmatize(word) for word in Positive_word.split(',') ])"
      ]
    },
    {
      "cell_type": "code",
      "execution_count": 61,
      "metadata": {
        "id": "oi832ifcT0sP"
      },
      "outputs": [],
      "source": [
        "Negative_word = \"\"\n",
        "with open('Negative_words.txt','r') as file:\n",
        "    Negative_word = file.read().replace('\\n','')\n",
        "Negative_word = \" \".join([WordNetLemmatizer().lemmatize(word) for word in Negative_word.split(',') ])"
      ]
    },
    {
      "cell_type": "code",
      "execution_count": 62,
      "metadata": {
        "id": "cen4cv_yT0sP"
      },
      "outputs": [],
      "source": [
        "Positive_word = Positive_word.split(',')\n",
        "Negative_word = Negative_word.split(',')\n",
        "Negative_word = Negative_word[0].split()\n",
        "Positive_word = Positive_word[0].split()"
      ]
    },
    {
      "cell_type": "code",
      "execution_count": 63,
      "metadata": {
        "id": "vQkp4GoWT0sP"
      },
      "outputs": [],
      "source": [
        "set_post = set(Positive_word)\n",
        "set_neg = set(Negative_word)\n",
        "def Count(obj):\n",
        "    count_post = 1\n",
        "    count_neg = 1\n",
        "    obj = obj.split()\n",
        "    for i in obj:\n",
        "        if i in set_post:\n",
        "            count_post = count_post + 1\n",
        "        elif i in set_neg:\n",
        "            count_neg = count_neg + 1\n",
        "    return count_post/count_neg\n"
      ]
    },
    {
      "cell_type": "code",
      "execution_count": 64,
      "metadata": {
        "id": "dOZFtn3KT0sP"
      },
      "outputs": [],
      "source": [
        "df_finalised['ratio_pos_neg'] = df_finalised['merged'].apply(Count)\n",
        "X_data = df_finalised['merged']\n",
        "# ratio_column = df_finalised['ratio_pos_neg']\n",
        "# ratio_column = np.array(ratio_column).reshape((-1,1))"
      ]
    },
    {
      "cell_type": "code",
      "source": [
        "Y_data = df_finalised['Label']\n",
        "Y_data = Y_data.astype(int)"
      ],
      "metadata": {
        "id": "9NYhdmewZQ5w"
      },
      "execution_count": 65,
      "outputs": []
    },
    {
      "cell_type": "code",
      "source": [],
      "metadata": {
        "id": "b_EWwCO0DgKn"
      },
      "execution_count": 65,
      "outputs": []
    },
    {
      "cell_type": "code",
      "source": [
        "from textattack.augmentation import EasyDataAugmenter\n",
        "eda_aug = EasyDataAugmenter()\n",
        "data_X = []\n",
        "label = []\n",
        "# open('/content/drive/MyDrive/Colab Notebooks/Pred_stock_newheadline/data.txt', 'w').close()\n",
        "# open('/content/drive/MyDrive/Colab Notebooks/Pred_stock_newheadline/label.txt','w').close()\n",
        "with open('/content/drive/MyDrive/Colab Notebooks/Pred_stock_newheadline/data.txt', 'a') as f1 , open('/content/drive/MyDrive/Colab Notebooks/Pred_stock_newheadline/label.txt','a') as f2:\n",
        "  for i in range(1960,X_data.shape[0]):\n",
        "    data_X.append(X_data[i])\n",
        "    label.append(Y_data[i])\n",
        "    f1.write(X_data[i])\n",
        "    f1.write(\",\")\n",
        "    y = str(Y_data[i])\n",
        "    f2.write(y)\n",
        "    f2.write(\",\")\n",
        "    if i%10 == 0:\n",
        "      data = eda_aug.augment(X_data[i])\n",
        "      for d in data:\n",
        "        data_X.append(d)\n",
        "        label.append(Y_data[i])\n",
        "        f1.write(d)\n",
        "        f1.write(\",\")\n",
        "        f2.write(y)\n",
        "        f2.write(\",\")\n",
        "\n",
        "    print(i)"
      ],
      "metadata": {
        "colab": {
          "base_uri": "https://localhost:8080/",
          "height": 441
        },
        "id": "AWJM39iIGonj",
        "outputId": "273f39b2-75fa-4a52-8f34-e67d97cf07dc"
      },
      "execution_count": 66,
      "outputs": [
        {
          "output_type": "stream",
          "name": "stderr",
          "text": [
            "[nltk_data] Downloading package omw-1.4 to /root/nltk_data...\n",
            "[nltk_data]   Package omw-1.4 is already up-to-date!\n"
          ]
        },
        {
          "output_type": "error",
          "ename": "KeyboardInterrupt",
          "evalue": "ignored",
          "traceback": [
            "\u001b[0;31m---------------------------------------------------------------------------\u001b[0m",
            "\u001b[0;31mKeyboardInterrupt\u001b[0m                         Traceback (most recent call last)",
            "\u001b[0;32m<ipython-input-66-dcf0d0cd55cf>\u001b[0m in \u001b[0;36m<cell line: 7>\u001b[0;34m()\u001b[0m\n\u001b[1;32m     15\u001b[0m     \u001b[0mf2\u001b[0m\u001b[0;34m.\u001b[0m\u001b[0mwrite\u001b[0m\u001b[0;34m(\u001b[0m\u001b[0;34m\",\"\u001b[0m\u001b[0;34m)\u001b[0m\u001b[0;34m\u001b[0m\u001b[0;34m\u001b[0m\u001b[0m\n\u001b[1;32m     16\u001b[0m     \u001b[0;32mif\u001b[0m \u001b[0mi\u001b[0m\u001b[0;34m%\u001b[0m\u001b[0;36m10\u001b[0m \u001b[0;34m==\u001b[0m \u001b[0;36m0\u001b[0m\u001b[0;34m:\u001b[0m\u001b[0;34m\u001b[0m\u001b[0;34m\u001b[0m\u001b[0m\n\u001b[0;32m---> 17\u001b[0;31m       \u001b[0mdata\u001b[0m \u001b[0;34m=\u001b[0m \u001b[0meda_aug\u001b[0m\u001b[0;34m.\u001b[0m\u001b[0maugment\u001b[0m\u001b[0;34m(\u001b[0m\u001b[0mX_data\u001b[0m\u001b[0;34m[\u001b[0m\u001b[0mi\u001b[0m\u001b[0;34m]\u001b[0m\u001b[0;34m)\u001b[0m\u001b[0;34m\u001b[0m\u001b[0;34m\u001b[0m\u001b[0m\n\u001b[0m\u001b[1;32m     18\u001b[0m       \u001b[0;32mfor\u001b[0m \u001b[0md\u001b[0m \u001b[0;32min\u001b[0m \u001b[0mdata\u001b[0m\u001b[0;34m:\u001b[0m\u001b[0;34m\u001b[0m\u001b[0;34m\u001b[0m\u001b[0m\n\u001b[1;32m     19\u001b[0m         \u001b[0mdata_X\u001b[0m\u001b[0;34m.\u001b[0m\u001b[0mappend\u001b[0m\u001b[0;34m(\u001b[0m\u001b[0md\u001b[0m\u001b[0;34m)\u001b[0m\u001b[0;34m\u001b[0m\u001b[0;34m\u001b[0m\u001b[0m\n",
            "\u001b[0;32m/usr/local/lib/python3.10/dist-packages/textattack/augmentation/recipes.py\u001b[0m in \u001b[0;36maugment\u001b[0;34m(self, text)\u001b[0m\n\u001b[1;32m     64\u001b[0m     \u001b[0;32mdef\u001b[0m \u001b[0maugment\u001b[0m\u001b[0;34m(\u001b[0m\u001b[0mself\u001b[0m\u001b[0;34m,\u001b[0m \u001b[0mtext\u001b[0m\u001b[0;34m)\u001b[0m\u001b[0;34m:\u001b[0m\u001b[0;34m\u001b[0m\u001b[0;34m\u001b[0m\u001b[0m\n\u001b[1;32m     65\u001b[0m         \u001b[0maugmented_text\u001b[0m \u001b[0;34m=\u001b[0m \u001b[0;34m[\u001b[0m\u001b[0;34m]\u001b[0m\u001b[0;34m\u001b[0m\u001b[0;34m\u001b[0m\u001b[0m\n\u001b[0;32m---> 66\u001b[0;31m         \u001b[0maugmented_text\u001b[0m \u001b[0;34m+=\u001b[0m \u001b[0mself\u001b[0m\u001b[0;34m.\u001b[0m\u001b[0msynonym_replacement\u001b[0m\u001b[0;34m.\u001b[0m\u001b[0maugment\u001b[0m\u001b[0;34m(\u001b[0m\u001b[0mtext\u001b[0m\u001b[0;34m)\u001b[0m\u001b[0;34m\u001b[0m\u001b[0;34m\u001b[0m\u001b[0m\n\u001b[0m\u001b[1;32m     67\u001b[0m         \u001b[0maugmented_text\u001b[0m \u001b[0;34m+=\u001b[0m \u001b[0mself\u001b[0m\u001b[0;34m.\u001b[0m\u001b[0mrandom_deletion\u001b[0m\u001b[0;34m.\u001b[0m\u001b[0maugment\u001b[0m\u001b[0;34m(\u001b[0m\u001b[0mtext\u001b[0m\u001b[0;34m)\u001b[0m\u001b[0;34m\u001b[0m\u001b[0;34m\u001b[0m\u001b[0m\n\u001b[1;32m     68\u001b[0m         \u001b[0maugmented_text\u001b[0m \u001b[0;34m+=\u001b[0m \u001b[0mself\u001b[0m\u001b[0;34m.\u001b[0m\u001b[0mrandom_swap\u001b[0m\u001b[0;34m.\u001b[0m\u001b[0maugment\u001b[0m\u001b[0;34m(\u001b[0m\u001b[0mtext\u001b[0m\u001b[0;34m)\u001b[0m\u001b[0;34m\u001b[0m\u001b[0;34m\u001b[0m\u001b[0m\n",
            "\u001b[0;32m/usr/local/lib/python3.10/dist-packages/textattack/augmentation/augmenter.py\u001b[0m in \u001b[0;36maugment\u001b[0;34m(self, text)\u001b[0m\n\u001b[1;32m    123\u001b[0m \u001b[0;34m\u001b[0m\u001b[0m\n\u001b[1;32m    124\u001b[0m             \u001b[0;32mwhile\u001b[0m \u001b[0mwords_swapped\u001b[0m \u001b[0;34m<\u001b[0m \u001b[0mnum_words_to_swap\u001b[0m\u001b[0;34m:\u001b[0m\u001b[0;34m\u001b[0m\u001b[0;34m\u001b[0m\u001b[0m\n\u001b[0;32m--> 125\u001b[0;31m                 transformed_texts = self.transformation(\n\u001b[0m\u001b[1;32m    126\u001b[0m                     \u001b[0mcurrent_text\u001b[0m\u001b[0;34m,\u001b[0m \u001b[0mself\u001b[0m\u001b[0;34m.\u001b[0m\u001b[0mpre_transformation_constraints\u001b[0m\u001b[0;34m\u001b[0m\u001b[0;34m\u001b[0m\u001b[0m\n\u001b[1;32m    127\u001b[0m                 )\n",
            "\u001b[0;32m/usr/local/lib/python3.10/dist-packages/textattack/transformations/transformation.py\u001b[0m in \u001b[0;36m__call__\u001b[0;34m(self, current_text, pre_transformation_constraints, indices_to_modify, shifted_idxs, return_indices)\u001b[0m\n\u001b[1;32m     55\u001b[0m             \u001b[0;32mreturn\u001b[0m \u001b[0mindices_to_modify\u001b[0m\u001b[0;34m\u001b[0m\u001b[0;34m\u001b[0m\u001b[0m\n\u001b[1;32m     56\u001b[0m \u001b[0;34m\u001b[0m\u001b[0m\n\u001b[0;32m---> 57\u001b[0;31m         \u001b[0mtransformed_texts\u001b[0m \u001b[0;34m=\u001b[0m \u001b[0mself\u001b[0m\u001b[0;34m.\u001b[0m\u001b[0m_get_transformations\u001b[0m\u001b[0;34m(\u001b[0m\u001b[0mcurrent_text\u001b[0m\u001b[0;34m,\u001b[0m \u001b[0mindices_to_modify\u001b[0m\u001b[0;34m)\u001b[0m\u001b[0;34m\u001b[0m\u001b[0;34m\u001b[0m\u001b[0m\n\u001b[0m\u001b[1;32m     58\u001b[0m         \u001b[0;32mfor\u001b[0m \u001b[0mtext\u001b[0m \u001b[0;32min\u001b[0m \u001b[0mtransformed_texts\u001b[0m\u001b[0;34m:\u001b[0m\u001b[0;34m\u001b[0m\u001b[0;34m\u001b[0m\u001b[0m\n\u001b[1;32m     59\u001b[0m             \u001b[0mtext\u001b[0m\u001b[0;34m.\u001b[0m\u001b[0mattack_attrs\u001b[0m\u001b[0;34m[\u001b[0m\u001b[0;34m\"last_transformation\"\u001b[0m\u001b[0;34m]\u001b[0m \u001b[0;34m=\u001b[0m \u001b[0mself\u001b[0m\u001b[0;34m\u001b[0m\u001b[0;34m\u001b[0m\u001b[0m\n",
            "\u001b[0;32m/usr/local/lib/python3.10/dist-packages/textattack/transformations/word_swaps/word_swap.py\u001b[0m in \u001b[0;36m_get_transformations\u001b[0;34m(self, current_text, indices_to_modify)\u001b[0m\n\u001b[1;32m     49\u001b[0m                 \u001b[0;32mif\u001b[0m \u001b[0mr\u001b[0m \u001b[0;34m==\u001b[0m \u001b[0mword_to_replace\u001b[0m\u001b[0;34m:\u001b[0m\u001b[0;34m\u001b[0m\u001b[0;34m\u001b[0m\u001b[0m\n\u001b[1;32m     50\u001b[0m                     \u001b[0;32mcontinue\u001b[0m\u001b[0;34m\u001b[0m\u001b[0;34m\u001b[0m\u001b[0m\n\u001b[0;32m---> 51\u001b[0;31m                 \u001b[0mtransformed_texts_idx\u001b[0m\u001b[0;34m.\u001b[0m\u001b[0mappend\u001b[0m\u001b[0;34m(\u001b[0m\u001b[0mcurrent_text\u001b[0m\u001b[0;34m.\u001b[0m\u001b[0mreplace_word_at_index\u001b[0m\u001b[0;34m(\u001b[0m\u001b[0mi\u001b[0m\u001b[0;34m,\u001b[0m \u001b[0mr\u001b[0m\u001b[0;34m)\u001b[0m\u001b[0;34m)\u001b[0m\u001b[0;34m\u001b[0m\u001b[0;34m\u001b[0m\u001b[0m\n\u001b[0m\u001b[1;32m     52\u001b[0m             \u001b[0mtransformed_texts\u001b[0m\u001b[0;34m.\u001b[0m\u001b[0mextend\u001b[0m\u001b[0;34m(\u001b[0m\u001b[0mtransformed_texts_idx\u001b[0m\u001b[0;34m)\u001b[0m\u001b[0;34m\u001b[0m\u001b[0;34m\u001b[0m\u001b[0m\n\u001b[1;32m     53\u001b[0m \u001b[0;34m\u001b[0m\u001b[0m\n",
            "\u001b[0;32m/usr/local/lib/python3.10/dist-packages/textattack/shared/attacked_text.py\u001b[0m in \u001b[0;36mreplace_word_at_index\u001b[0;34m(self, index, new_word)\u001b[0m\n\u001b[1;32m    357\u001b[0m                 \u001b[0;34mf\"replace_word_at_index requires ``str`` new_word, got {type(new_word)}\"\u001b[0m\u001b[0;34m\u001b[0m\u001b[0;34m\u001b[0m\u001b[0m\n\u001b[1;32m    358\u001b[0m             )\n\u001b[0;32m--> 359\u001b[0;31m         \u001b[0;32mreturn\u001b[0m \u001b[0mself\u001b[0m\u001b[0;34m.\u001b[0m\u001b[0mreplace_words_at_indices\u001b[0m\u001b[0;34m(\u001b[0m\u001b[0;34m[\u001b[0m\u001b[0mindex\u001b[0m\u001b[0;34m]\u001b[0m\u001b[0;34m,\u001b[0m \u001b[0;34m[\u001b[0m\u001b[0mnew_word\u001b[0m\u001b[0;34m]\u001b[0m\u001b[0;34m)\u001b[0m\u001b[0;34m\u001b[0m\u001b[0;34m\u001b[0m\u001b[0m\n\u001b[0m\u001b[1;32m    360\u001b[0m \u001b[0;34m\u001b[0m\u001b[0m\n\u001b[1;32m    361\u001b[0m     \u001b[0;32mdef\u001b[0m \u001b[0mdelete_word_at_index\u001b[0m\u001b[0;34m(\u001b[0m\u001b[0mself\u001b[0m\u001b[0;34m,\u001b[0m \u001b[0mindex\u001b[0m\u001b[0;34m:\u001b[0m \u001b[0mint\u001b[0m\u001b[0;34m)\u001b[0m \u001b[0;34m->\u001b[0m \u001b[0mAttackedText\u001b[0m\u001b[0;34m:\u001b[0m\u001b[0;34m\u001b[0m\u001b[0;34m\u001b[0m\u001b[0m\n",
            "\u001b[0;32m/usr/local/lib/python3.10/dist-packages/textattack/shared/attacked_text.py\u001b[0m in \u001b[0;36mreplace_words_at_indices\u001b[0;34m(self, indices, new_words)\u001b[0m\n\u001b[1;32m    348\u001b[0m                 \u001b[0;32mraise\u001b[0m \u001b[0mValueError\u001b[0m\u001b[0;34m(\u001b[0m\u001b[0;34mf\"Cannot assign word at index {i}\"\u001b[0m\u001b[0;34m)\u001b[0m\u001b[0;34m\u001b[0m\u001b[0;34m\u001b[0m\u001b[0m\n\u001b[1;32m    349\u001b[0m             \u001b[0mwords\u001b[0m\u001b[0;34m[\u001b[0m\u001b[0mi\u001b[0m\u001b[0;34m]\u001b[0m \u001b[0;34m=\u001b[0m \u001b[0mnew_word\u001b[0m\u001b[0;34m\u001b[0m\u001b[0;34m\u001b[0m\u001b[0m\n\u001b[0;32m--> 350\u001b[0;31m         \u001b[0;32mreturn\u001b[0m \u001b[0mself\u001b[0m\u001b[0;34m.\u001b[0m\u001b[0mgenerate_new_attacked_text\u001b[0m\u001b[0;34m(\u001b[0m\u001b[0mwords\u001b[0m\u001b[0;34m)\u001b[0m\u001b[0;34m\u001b[0m\u001b[0;34m\u001b[0m\u001b[0m\n\u001b[0m\u001b[1;32m    351\u001b[0m \u001b[0;34m\u001b[0m\u001b[0m\n\u001b[1;32m    352\u001b[0m     \u001b[0;32mdef\u001b[0m \u001b[0mreplace_word_at_index\u001b[0m\u001b[0;34m(\u001b[0m\u001b[0mself\u001b[0m\u001b[0;34m,\u001b[0m \u001b[0mindex\u001b[0m\u001b[0;34m:\u001b[0m \u001b[0mint\u001b[0m\u001b[0;34m,\u001b[0m \u001b[0mnew_word\u001b[0m\u001b[0;34m:\u001b[0m \u001b[0mstr\u001b[0m\u001b[0;34m)\u001b[0m \u001b[0;34m->\u001b[0m \u001b[0mAttackedText\u001b[0m\u001b[0;34m:\u001b[0m\u001b[0;34m\u001b[0m\u001b[0;34m\u001b[0m\u001b[0m\n",
            "\u001b[0;32m/usr/local/lib/python3.10/dist-packages/textattack/shared/attacked_text.py\u001b[0m in \u001b[0;36mgenerate_new_attacked_text\u001b[0;34m(self, new_words)\u001b[0m\n\u001b[1;32m    419\u001b[0m             \u001b[0mperturbed_text\u001b[0m \u001b[0;34m+=\u001b[0m \u001b[0moriginal_text\u001b[0m\u001b[0;34m[\u001b[0m\u001b[0;34m:\u001b[0m\u001b[0mword_start\u001b[0m\u001b[0;34m]\u001b[0m\u001b[0;34m\u001b[0m\u001b[0;34m\u001b[0m\u001b[0m\n\u001b[1;32m    420\u001b[0m             \u001b[0moriginal_text\u001b[0m \u001b[0;34m=\u001b[0m \u001b[0moriginal_text\u001b[0m\u001b[0;34m[\u001b[0m\u001b[0mword_end\u001b[0m\u001b[0;34m:\u001b[0m\u001b[0;34m]\u001b[0m\u001b[0;34m\u001b[0m\u001b[0;34m\u001b[0m\u001b[0m\n\u001b[0;32m--> 421\u001b[0;31m             \u001b[0madv_words\u001b[0m \u001b[0;34m=\u001b[0m \u001b[0mwords_from_text\u001b[0m\u001b[0;34m(\u001b[0m\u001b[0madv_word_seq\u001b[0m\u001b[0;34m)\u001b[0m\u001b[0;34m\u001b[0m\u001b[0;34m\u001b[0m\u001b[0m\n\u001b[0m\u001b[1;32m    422\u001b[0m             \u001b[0madv_num_words\u001b[0m \u001b[0;34m=\u001b[0m \u001b[0mlen\u001b[0m\u001b[0;34m(\u001b[0m\u001b[0madv_words\u001b[0m\u001b[0;34m)\u001b[0m\u001b[0;34m\u001b[0m\u001b[0;34m\u001b[0m\u001b[0m\n\u001b[1;32m    423\u001b[0m             \u001b[0mnum_words_diff\u001b[0m \u001b[0;34m=\u001b[0m \u001b[0madv_num_words\u001b[0m \u001b[0;34m-\u001b[0m \u001b[0mlen\u001b[0m\u001b[0;34m(\u001b[0m\u001b[0mwords_from_text\u001b[0m\u001b[0;34m(\u001b[0m\u001b[0minput_word\u001b[0m\u001b[0;34m)\u001b[0m\u001b[0;34m)\u001b[0m\u001b[0;34m\u001b[0m\u001b[0;34m\u001b[0m\u001b[0m\n",
            "\u001b[0;32m/usr/local/lib/python3.10/dist-packages/textattack/shared/utils/strings.py\u001b[0m in \u001b[0;36mwords_from_text\u001b[0;34m(s, words_to_ignore)\u001b[0m\n\u001b[1;32m     28\u001b[0m \u001b[0;34m\u001b[0m\u001b[0m\n\u001b[1;32m     29\u001b[0m \u001b[0;34m\u001b[0m\u001b[0m\n\u001b[0;32m---> 30\u001b[0;31m \u001b[0;32mdef\u001b[0m \u001b[0mwords_from_text\u001b[0m\u001b[0;34m(\u001b[0m\u001b[0ms\u001b[0m\u001b[0;34m,\u001b[0m \u001b[0mwords_to_ignore\u001b[0m\u001b[0;34m=\u001b[0m\u001b[0;34m[\u001b[0m\u001b[0;34m]\u001b[0m\u001b[0;34m)\u001b[0m\u001b[0;34m:\u001b[0m\u001b[0;34m\u001b[0m\u001b[0;34m\u001b[0m\u001b[0m\n\u001b[0m\u001b[1;32m     31\u001b[0m     \"\"\"Lowercases a string, removes all non-alphanumeric characters, and splits\n\u001b[1;32m     32\u001b[0m     into words.\"\"\"\n",
            "\u001b[0;31mKeyboardInterrupt\u001b[0m: "
          ]
        }
      ]
    },
    {
      "cell_type": "code",
      "source": [
        "Y_data = np.array(Y_data)\n",
        "Y_data"
      ],
      "metadata": {
        "id": "Pm29KgKnZULw",
        "colab": {
          "base_uri": "https://localhost:8080/"
        },
        "outputId": "9ddc4501-7b6d-4913-d303-2421156e62e1"
      },
      "execution_count": 67,
      "outputs": [
        {
          "output_type": "execute_result",
          "data": {
            "text/plain": [
              "array([0, 1, 0, ..., 1, 1, 1])"
            ]
          },
          "metadata": {},
          "execution_count": 67
        }
      ]
    },
    {
      "cell_type": "code",
      "source": [
        "X_data[0]"
      ],
      "metadata": {
        "id": "Ji_NATWSH5Lc",
        "colab": {
          "base_uri": "https://localhost:8080/",
          "height": 145
        },
        "outputId": "4512b6d2-b6eb-4322-b904-3df9f9981b86"
      },
      "execution_count": 68,
      "outputs": [
        {
          "output_type": "execute_result",
          "data": {
            "text/plain": [
              "'0 georgia down russian warplane country move brink war breaking musharraf impeached russia today column troop roll south ossetia footage fighting youtube russian tank moving towards capital south ossetia reportedly completely destroyed georgian artillery fire afghan child raped impunity un official say sick old raped nothing 150 russian tank entered south ossetia whilst georgia shoot russian jet breaking georgia invades south ossetia russia warned would intervene so side enemy combatent trial nothing sham salim haman sentenced 5 12 year kept longer anyway feel like georgian troop retreat osettain capital presumably leaving several people killed video u prep georgia war russia rice give green light israel attack iran say u veto israeli military ops announcingclass action lawsuit behalf american public fbi sorussia georgia war nyts top story opening ceremony olympics fucking disgrace yet proof decline journalism china tell bush stay country affair world war start today georgia invades south ossetia russia get involved nato absorb georgia unleash full scale war alqaeda face islamist backlash condoleezza rice u would act prevent israeli strike iran israeli defense minister ehud barak israel prepared uncompromising victory case military hostility busy european union approved new sanction iran protest nuclear programme georgia withdraw 1000 soldier iraq help fight russian force georgia breakaway region south ossetia pentagon think attacking iran bad idea u news amp world report caucasus crisis georgia invades south ossetia indian shoe manufactory series like work visitor suffering mental illness banned olympics help mexico kidnapping surge'"
            ],
            "application/vnd.google.colaboratory.intrinsic+json": {
              "type": "string"
            }
          },
          "metadata": {},
          "execution_count": 68
        }
      ]
    },
    {
      "cell_type": "code",
      "source": [
        "# from google.colab import drive\n",
        "# drive.mount('/content/drive')"
      ],
      "metadata": {
        "id": "drGIIgbRy3un"
      },
      "execution_count": null,
      "outputs": []
    },
    {
      "cell_type": "code",
      "source": [
        "data_X"
      ],
      "metadata": {
        "id": "9EUKXPVmWLIL",
        "colab": {
          "base_uri": "https://localhost:8080/"
        },
        "outputId": "cb314f77-bdd3-415a-fb69-bf906d795825"
      },
      "execution_count": 69,
      "outputs": [
        {
          "output_type": "execute_result",
          "data": {
            "text/plain": [
              "['0 keep happening rape survivor say protest american military presence japan continued country defense minister lodged formal complaint latest case alleged murder rape young japanese woman u military base employee obama apologize hiroshima attack tell japanese tv austria reject farright president climate denial argument fail blind test pepsi challenge test economist statistician find mainstream climate argument accurate contrarian argument wrong misleading operation retake fallujah begun iraqi prime minister say india firstever indigenous space shuttle launched successfully chinese russian warplane increasingly aggressive intercepting u military aircraft patrolling near america west coast prompting air force top combat officer label provocation one top worry isi threatens attack india isi mocked muslim living harmony hindu urged travel isisheld territoriesindia hindumajority country home 160 muslim handful joined middle eastern group turkey prime minister formally submitted resignation samoa considering amending constitution become christian state church push ban islam german drug chemical group bayer pounced monsanto world biggest seed company unsolicited takeover offer likely worth 40bn 27bn reuters u completely lift vietnam lethal arm embargo 31 possible rio olympian failed drug test beijing austria election farright candidate rival tied 50 exit poll turkey shift presidential system even without constitutional change hamas publicly execute criminal gaza eu survey 64 european favour basic income least 17 girl killed school dormitory fire thailand vietnam hope voice heard obama visit vietnam seek u backing dispute china contested island south china sea seek access u military technology brazil next isi issue serious threat 2016 rio olympics india successfully test launch firstever indigenous space shuttle farmer suicide soar india deadly heatwave hit 51 degree celsius india set new record highestever recorded temperature searing 51 degree celsius 1238f amid devastating heatwave ravaged much country week falluja assault iraq pm announces beginning military operation pakistan say u drone strike violated sovereignty across africa worst food crisis since 1985 loom 50']"
            ]
          },
          "metadata": {},
          "execution_count": 69
        }
      ]
    },
    {
      "cell_type": "code",
      "execution_count": 73,
      "metadata": {
        "id": "kETBXbGpT0sP"
      },
      "outputs": [],
      "source": [
        "data_augmented = np.genfromtxt('/content/drive/MyDrive/Colab Notebooks/Pred_stock_newheadline/data.txt',dtype = str , delimiter=\",\")"
      ]
    },
    {
      "cell_type": "code",
      "execution_count": 75,
      "metadata": {
        "id": "iSSZigVrT0sP",
        "colab": {
          "base_uri": "https://localhost:8080/"
        },
        "outputId": "38b9d990-59b8-46e3-d352-0690474caab8"
      },
      "outputs": [
        {
          "output_type": "execute_result",
          "data": {
            "text/plain": [
              "(2864,)"
            ]
          },
          "metadata": {},
          "execution_count": 75
        }
      ],
      "source": [
        "data_augmented.shape"
      ]
    },
    {
      "cell_type": "code",
      "source": [
        "count = 0\n",
        "count2 = 0\n",
        "for i in data_augmented:\n",
        "    if len(i) != 0:\n",
        "        if i[0] =='0' or i[0] == '1':\n",
        "            if i[1] == \" \":\n",
        "\n",
        "              count = count + 1\n",
        "    count2 = count2 + 1\n",
        "print(count)\n",
        "print(count2)"
      ],
      "metadata": {
        "colab": {
          "base_uri": "https://localhost:8080/"
        },
        "id": "ArtMidVuNwaZ",
        "outputId": "5b329be5-8577-4c3c-e0a9-d7252b212529"
      },
      "execution_count": 91,
      "outputs": [
        {
          "output_type": "stream",
          "name": "stdout",
          "text": [
            "2863\n",
            "2863\n"
          ]
        }
      ]
    },
    {
      "cell_type": "code",
      "source": [
        "index = 0\n",
        "for i in data_augmented:\n",
        "  if len(i) != 0 :\n",
        "    if i[0] != '1' and i[0] != '0' :\n",
        "        print(index)\n",
        "        print(data_augmented[index-1],'\\n')\n",
        "        print(i,'\\n')\n",
        "        data_augmented[index] = data_augmented[index-1][0] + \" \" + i\n",
        "    index += 1"
      ],
      "metadata": {
        "colab": {
          "base_uri": "https://localhost:8080/"
        },
        "id": "7pQPHfpfN20C",
        "outputId": "1e53db27-dfec-465e-90a4-b54ca2dab685"
      },
      "execution_count": 83,
      "outputs": [
        {
          "output_type": "stream",
          "name": "stdout",
          "text": [
            "3\n",
            "0 georgia down russian warplane country move brink war breaking musharraf impeached russia today column troop disgrace south ossetia footage fighting youtube russian tank would towards capital south ossetia reportedly completely destroyed georgian artillery fire afghan child raped impunity old official say sick un raped nothing 150 russian tank entered south ossetia whilst georgia war russian jet breaking georgia invades south ossetia russia bush moving intervene haman side enemy combatent trial nothing sham salim so sentenced 5 12 year kept longer anyway feel like georgian troop retreat osettain capital presumably leaving several people killed video u prep georgia war russia approved give illness light israel attack iran say u veto israeli case ops announcingclass action georgia behalf american public fbi prevent georgia shoot nyts top story opening ceremony olympics fucking roll yet proof decline journalism china indian warned stay country affair world war start today georgia invades south ossetia russia get involved nato absorb georgia unleash full scale war alqaeda face islamist backlash condoleezza rice u would act sorussia israeli strike iran israeli defense minister ehud barak israel prepared uncompromising victory military military hostility busy european union rice new sanction iran protest nuclear programme georgia withdraw 1000 soldier iraq help fight russian force lawsuit breakaway region south ossetia pentagon think attacking iran bad idea u news amp world report caucasus crisis georgia invades south ossetia tell shoe manufactory series like work visitor suffering mental green banned olympics help mexico kidnapping surge \n",
            "\n",
            "georgia down russian warplane move brink war breaking musharraf impeached russia today column troop roll south ossetia footage fighting youtube russian tank moving towards capital south ossetia reportedly destroyed georgian artillery fire afghan child raped un official say sick old raped nothing 150 russian tank entered south ossetia whilst shoot russian jet breaking georgia invades south ossetia russia warned would intervene so side enemy combatent trial nothing sham salim haman sentenced 12 longer anyway feel like georgian troop retreat osettain capital presumably leaving people killed video u prep georgia war russia rice give green light israel attack iran say veto israeli military ops announcingclass action lawsuit behalf american public fbi sorussia georgia war nyts top story opening ceremony olympics fucking disgrace yet journalism china tell bush stay country affair world war start today georgia invades south ossetia russia get absorb georgia unleash full scale alqaeda face islamist backlash condoleezza u would act prevent israeli strike iran israeli defense minister ehud israel prepared uncompromising victory case military hostility busy union approved new sanction iran protest nuclear programme georgia withdraw 1000 soldier iraq help fight region south ossetia pentagon think attacking iran bad idea u news amp world report caucasus crisis georgia south ossetia indian shoe manufactory series like visitor suffering mental illness banned olympics help mexico kidnapping surge \n",
            "\n",
            "43\n",
            "0 russian navy sail venezuela oil price shoot 25 barrel biggest 1day rise ever anxiety u bailout weighs dollar russia successfully fired new intercontinental ballistic missile bulava missile range 10000 kilometer carry individually targeted nuclear warhead pakistan top leader islamabad marriott hotel bombed changed venue last minute 20 ban italy prime minister vowed return nuclear power country nearly 53000 chinese child sick milk yahoo news mariam ayyad 57 attempted block israeli soldier arresting university student building beaten pushed fell stair sex trafficked woman criminalised syrian nuclear facility israel bombed last iaea found trace radiation graphite remains another w foreign policy failure russia venezuela conduct joint naval excercises caribbean iraqi lawmaker face prosecution visiting israel advocating peace pakistani troop fire invading u chopper pakistan troop repel u raid breaking pakistani troop tribesman fire u helicopter pakistani force fire u chopper official incident happened late near lwara mundi village north waziristan district saying give peace chance un gun fall silent afghanistan peace dig pinpoint stonehenge origin almost 13000 chinese child sickened tainted milk pakistan ruler supposed hotele bomb attack turkey scared admit armenian genocide say historian change dinner plan saved pakistan ruler hotel bomb attack pakistani troop fire intruding u chopper head starting role china tainted diary product scandal deepens russian ambassador czech selling security radar merchant death appears thai court nic cage \n",
            "\n",
            "zero russian navy sail venezuela anoint price shoot 25 barrel biggest 1day rise ever anxiety u bailout weighs dollar russia successfully fired new intercontinental ballistic missile bulava missile ramble 10000 kilometer carry individually targeted nuclear warhead pakistan top leader islamabad marriott hotel bombed changed venue last minute 20 ban italy peak minister vowed revert nuclear powerfulness country nearly 53000 chinese child sick milk yahoo news mariam ayyad 57 attempted occlusion israeli soldier arresting university student building beaten pushed fell stair sex trafficked woman illegalise syrian nuclear facility israel bombed last iaea base trace radiation graphite remains another w foreign policy failure russia venezuela direct joint naval excercises caribbean iraqi lawmaker expression prosecution visiting israel advocating peace pakistani troop ardour invading u chopper pakistan troop repel u raid check pakistani troop tribesman can u helicopter pakistani ram burn u chopper official incident happened late near lwara mundi village north waziristan district say give peace chance un gun fall silent afghanistan peace gibe pinpoint stonehenge origin almost 13000 chinese child sickened tainted milk pakistan ruler think hotele bomb attack turkey scared allow armenian genocide say historian change dinner plan saved pakistan ruler hotel bomb attack pakistani troop fire intruding u chopper direct starting role china tainted diary product scandal deepens russian ambassador Czechoslovakian selling security radar merchant death appears thai court nic cage \n",
            "\n",
            "114\n",
            "1 brazil announces plan slow amazon deforestation 70 big brother police get power country stop street demand id uk course cctv footage cop fighting bombay terrorist mob got end show mumbai tragedy always motherfucker always motherfucker cant let control motherfucking life vatican gay better dead married people 60 fastestgrowing group criminal japan arrest cx teenager many area live earth concert cancelled due condemnable terrorist attack uk government sneaking mandatory id card last one uk dared search disforestation parliament since 1642 act led beheading king charles oil expensive told afraid cheap told afraid rwandan genocide raged canadian state general plea help ignored hundred thousand could saved italian judge suspends trial cia agent world successful tennis player pete sampras became bored retirement back london play competitively argentina president veto law would protected glacier europe appease china say dalai profess lama abdel bari atwan mumbai attack today india seen moving closer israel business tie well Amazon importing weapon israel associated press trivializes iraqi death masses toll amplifies censorship new york time add unique twist censoring genocidal number iran recently executed expert confessed israeli spy least Iraqi year doctor terrorist torture jewish victim mumbai beyond word hasnt u amazon msm reported nation sign cluster bomb ban treaty united state china russia israel pakistan india reject ban nation sign cluster bomb treaty key Sion chavez opponent face charge venezuela company employer exploit worker become indebted cannot pay worker well recovered nationalised taken killed 110 child claim witchdoctor pay pirate ransom go would worthy hollywood action movie oppose script \n",
            "\n",
            "ane brazil announces plan slow amazon deforestation 70 big brother police get power layover street demand id uk course cctv footage cop fighting bombay terrorist mob got goal show mumbai tragedy always motherfucker always motherfucker cant let control motherfucking life vatican homophile better dead married people 60 fastestgrowing group criminal japan arrest teenager many domain live earth concert cancelled ascribable terrorist attack uk government sneaking mandatory id card last one uk dared search fantan since 1642 act led beheading king charles oil expensive told afraid cheap severalize afraid rwandan genocide raged canadian general supplication help ignored hundred thousand could write italian judge suspends trial cia agent world successful tennis player pete sampras became bored retirement back london play competitively argentina president negative law would protected glacier europe appease China say dalai lama abdel bari atwan mumbai attack today india visit moving closer israel business tie-in easily import weapon israel associated press trivializes iraqi death toll amplifies censorship new york time append unique twist censoring genocidal number iran recently executed expert confessed israeli spy least year doctor terrorist torture jewish victim mumbai beyond Scripture hasnt u msm reported nation sign cluster bomb ban treaty united state china russia Sion pakistan india reject ban nation house cluster bomb treaty key chavez opponent face charge venezuela company employer exploit worker become indebted cannot pay worker well recovered nationalised deal killed 110 child claim witchdoctor yield pirate ransom crack would worthy hollywood action picture script \n",
            "\n",
            "127\n",
            "1 shoethrower face 7yrs offending head foreign state spectacular image 2008 cbc probe tasers tested fire stonger current company say man kidnaps child train kill black people icelandic government preparing lawsuit british government reaction britain britain cause enormous bank collapse iceland washington dead u soldier served iraq regrettable die gaffney said believe die greek youth hang protest banner acropolis russia provides 10 mig fighter jet lebanon free alzaidi face 15 year prison hurling shoe bush un military pursue somali pirate land 200 bank bailed awww feel bad pirate thought gm needed money government building china sarkozy concerned spread greek uprising french love im carriage carla time theyve guillotined king interview nikos r friend alexandros grigoropoulos resistance greek protestors parthenon pic greek protester unfurl banner acropolis riot damage reach 13 israel army say gaza militant fire 9 rocket israel dutch dictionary company say web visitor voted swaffelen english slang verb meaning swing one exposed penis word minnesota somalia kinkos crusade warnerd armenian genocide video compelling documentary focus much turkey remarkable effort deny massacre includes killing speak even today coal amp oil geothermal east africa rift valley sec missing action financial crisis knowledge madoff wrongdoing 9 year ago safrica refuse join growing call mugabe quit u military western mainstream medium try conceal war crime fallujah \n",
            "\n",
            "i shoethrower face 7yrs offending headspring foreign state prominent image 2008 cbc probe tasers tested firing stonger current society say world snatch child train kill black people icelandic government preparing lawsuit british government reaction britain britain crusade enormous bank collapse iceland washington dead u soldier served iraq regrettable die gaffney said believe die greek youth hang resist banner acropolis russia provides 10 mig fighter K lebanon free alzaidi face 15 year prison hurling shoe bush un military engage somali pirate land 200 bank bailed awww feel bad hijack thought gm needed money government building china sarkozy concerned spread greek uprising french love im carriage carla time theyve guillotined world-beater interview nikos r friend alexandros grigoropoulos resistance greek protestors parthenon film greek protester unfurl banner acropolis bacchanal damage gain 13 israel army say gaza militant fire IX rocket israel dutch dictionary company say web visitor voted swaffelen english slang verb meaning swing one unwrap penis word minnesota somalia kinkos crusade warnerd armenian genocide video compelling documentary focus often turkey remarkable effort deny massacre includes killing speak even today coal amp oil geothermal east africa rift valley sec missing action financial crisis knowledge madoff wrongdoing 9 year ago safrica refuse join develop call mugabe quit u military western mainstream medium seek conceal war crime fallujah \n",
            "\n",
            "211\n",
            "0 hello wikileaks huge uk bank gag newspaper revealing multimillion pound tax rort pakistan explode islamic militant going take power nuclear weapon trafficked alqaida army send taliban invade india civil war unlikely end road vietnamese victim agent orange u court refuse hear final appeal vietnamese plaintiff chemical giant dow monsanto 200 arrested montreal protest policy brutality pope say condom answer fighting aid fact make problem worse people actually listen fossil smart kid likely become heavy drinker nestle india seek permanent ban worker freedom assembly founding modern state single ethnic religious identity territory ethnically religiously diverse lead inexorably either politics exclusion wholesale ethnic cleansing put simply problem zionism option temporary career change became prostitute new zealand liberal attitude sex trade mexican troop arrive jurez part operation chihuahua asylumseeker sent back home britain executed darfur sudan security official language rapidly disappearing chart winning battle arizona attorney general terry goddard told lawmaker violence see mexico fueled 65 70 percent trade one drug marijuana chinese firm sign 3 dollar natural gas deal iran europe suddenly thought resettling gitmo detainee provence winemaker arm warning whole artdevivre economy south france threat european commission proposal allow producer member state make ro simply mixing red white wine world food program turkey gone aid recipient giver aid 10 year airline around world mishandled 42 bag 2007 irretrievably lost pressure group said barclays bank whistleblower inside strange world barclays taxavoidance office pope africa reaffirms condom aid reuters great aussie firewall claim victim hundred patient died unnecessarily flagship uk hospital critic attack pope myopic view condom israel national security aide barred u former israeli spy linked pentagon leak madagascar president quits hand power \n",
            "\n",
            "uk hello wikileaks huge 0 bank gag newspaper revealing multimillion pound tax rort drug explode islamic militant going take power nuclear weapon trafficked alqaida army send taliban invade india civil war unlikely end 42 vietnamese victim agent orange u court refuse hear israel appeal vietnamese plaintiff problem giant dow hundred 200 arrested montreal protest policy brutality pope say condom answer fighting aid fact make chemical worse people actually listen fossil smart kid likely become heavy drinker nestle india seek permanent ban worker freedom assembly founding modern state single ethnic religious identity territory ethnically religiously diverse lead inexorably natural politics exclusion wholesale ethnic cleansing put simply problem zionism option food career change became prostitute turkey zealand liberal attitude sex trade mexican troop arrive jurez part operation chihuahua asylumseeker sent around home security executed darfur sudan britain official language rapidly disappearing chart winning battle arizona whole general terry goddard told lawmaker violence see mexico fueled 65 70 percent trade one pakistan marijuana chinese firm sign 3 dollar either gas deal iran europe suddenly thought resettling gitmo detainee provence winemaker arm warning attorney artdevivre economy south france threat european commission proposal allow producer member state make ro simply aussie red white wine world temporary program new gone aid recipient giver aid 10 year airline back claim mishandled road bag 2007 irretrievably lost pressure group said barclays bank whistleblower inside strange world barclays taxavoidance office pope africa reaffirms condom aid reuters great mixing firewall world victim monsanto patient died unnecessarily flagship uk hospital critic attack pope myopic view condom final national security aide barred u former israeli spy linked pentagon leak madagascar president quits hand power \n",
            "\n",
            "254\n",
            "0 muslim dont care swine flu called swine flu israeli minister doesnt speak u mexico outbreak decipher manure lagoon pig farm canada cop take stuff mexico senate approved bill decriminalizing possession small amount narcotic personal enjoyment order relinquish resource fight violent drug cartel news freaking swine flu 3040000 people perish regular flu u 300500000 worldwide exonerated message must sent israel sanction settlement builder jump wider boycott profit enforced acquisition palestinian ground baxter healthcare company contracted puddle swine flu vaccine accidentally shipped live bird flu vaccine news canal return infotainment news required law highly visable scrolly message learn information entertainment purpose factual exsoldier bragged iraqi violation death lawyer lithuania economy shrink 126 economy flow deep hole see positive sign nearest future pronounce financial psychoanalyst vilnius britain another terror scare revealed baseless pakistani fighter jet bomb taliban effort halt advance islamabad chinese student register u based website complain swastika priest priest shocked parishioner welcoming church wear swastika armband dubai property price fall 41 3 month 1976 swine flu debacle triggeres wear public backlash flu vaccination men cleared helping plan 77 london suicide round alleged reconnaissance mission swine flu container irrupt coach switzerland population control pressure group issued call australian government institute onechild policy ensure continent environmental economic sustainability israel renames unkosher swine flu Stonehenge pagan ordered end 10month protest putting thing perspective many people die flu every many died swineflu worldrenowned pianist declares recurrence u united state fabled down immigrant fallen dismally far behind country like australia canada openness immigration mapping swine flu vitrine updated realtime report come last dot mexico \n",
            "\n",
            "3 muslim dont care swine flu called swine flu israeli minister doesnt speak u mexico outbreak traced manure lagoon pig farm canada cop take stuff mexico senate approved bill decriminalizing possession small amount narcotic start use order free resource fight violent drug cartel news contracted swine flu 3040000 people die regular flu u 300500000 worldwide pakistani message must sent israel sanction settlement builder personal wider boycott profit enforced acquisition palestinian land baxter healthcare company freaking make swine flu vaccine accidentally shipped live bird flu vaccine news channel passing infotainment news required law highly visable scrolly message read lithuania entertainment openness factual exsoldier bragged iraqi rape death lawyer information economy shrink 126 economy falling deep financial see positive sign nearest future say hole government vilnius sustainability another terror scare revealed baseless clear fighter month bomb taliban effort halt advance islamabad chinese student register u based website complain swastika priest priest shocked parishioner cleared church wearing swastika armband dubai property price fall 41 0 jet 1976 swine flu debacle triggeres enduring public backlash flu vaccination australia welcoming helping plan 77 london suicide attack alleged reconnaissance mission swine flu container explodes train switzerland population control pressure group issued call australian analyst institute onechild fabled ensure continent environmental economic britain israel renames unkosher swine flu stonehenge pagan ordered end 10month protest putting thing perspective many people die flu every many died swineflu worldrenowned pianist declares return u united state policy land immigrant fallen dismally far behind country like men canada purpose immigration map swine flu case updated realtime report come last dot mexico \n",
            "\n",
            "312\n",
            "0 iranian footballer wore riot armband support protester forced retire hardline regime iranian cleric defy ayatollah take street join protest iranian football star retired match protest iraq resulted threatened wipe united state map washington ally watched sign regime launch series missile coming day protester beaten shot 10000 u launch brutal crackdown iran remember omg fraud iran graph circulated well propaganda trend found within real time police election data original purpose iraq war clash coming let big oil back iraq 17yearold tell story torture iran photo green china overshadowed medium iran scroll picsvid police clash seems government shooting beating longer need worry head protest drug use treated compromised crime peaceful un office drug crime said claimed decline production cocaine heroin worldwide witness report finally around policy parliament many shouting death dictator overnight palestinian livelihood destroyed israeli settler iran would animal fruition alone human said one former detainee identifed dr khandan another described gun put head threatened death bnp face legal action apartheidstyle rnmembership thing bar membership black rnasian jewish people protester shot iran 24th ghana digital ewaste dumping ground detainee also mudered bagram iran north mark u pullback holiday pm call 30 withdrawal american one city great victory didnt know iran history repeat repost u medium ignoring woman homeland security air marshal illness minority israel willing risk life limb stand occupation core busy gazing troop dead story afghanistan usa killed 83 people pakistan 1m british labour govt scheme help failed asylum seeker child return home korea one family leaving britain un world drug report 2009 \n",
            "\n",
            "result 0 iranian footballer wore green armband support vacation protester forced retire hardline regime iranian cleric defy ayatollah take street join protest iranian football star shooting retired match protest north korea threatened wipe united state map washington ally watched sign regime launch series missile coming day protester beaten shot 10000 police launch brutal crackdown iran remember omg fraud iran graph circulated well propaganda trend found within real time u election data original purpose iraq Korea war finally coming fruition big oil back iraq 17yearold tell story torture iran photo riot china overshadowed medium iran scroll twisting picsvid police clash seems government shooting beating longer unmatched need worry protest peaceful drug use treated illness crime head un office drug crime said claimed decline production cocaine heroin worldwide witness report clash around iran parliament many shouting death dictator overnight palestinian livelihood destroyed israeli settler thing would animal let alone human said one former detainee identifed dr khandan another described gun put head threatened death bnp face legal action apartheidstyle rnmembership policy bar membership black rnasian jewish people protester shot iran 24th buck ghana digital ewaste dumping ground detainee also mudered bagram afghanistan iraq mark differentiate u pullback holiday pm call 30 withdrawal american troop city great victory didnt know iran delineate history repeat repost u medium ignoring story homeland average security air marshal compromised minority storm israel willing risk life limb stand occupation core busy gazing one dead woman iran usa killed 83 people pakistan 1m british labour menace govt scheme help jeopardise failed asylum seeker child return home resulted one family leaving britain un world drug report 2009 \n",
            "\n",
            "326\n",
            "1 australia town ban soil sale bottled water community world lure ambush prepared rival stabbed beaten baseball bat dy girl acerbic boy trot carrying hoodie bloody purse picture uigharhan riot weve reading graphic iran erupts swiss union demand thats right week vacation drone kill amount people country see headline often become numb fact unmanned machine killing human like 1980s scifi film something fox news owner phone hacking investigation breaking fierce live censordyne internet censorship fun p fuck kevin rudd charged espionage taking mobile pic iran attempt hamas police detain young woman walking man along gaza dysprosium beach raised alarm islamic militant group seeking match examine political control coastal territory strict enforcement islamic law bnp leader sink boat african migrant board violent clash erupt iranian protester security forcesrn russia shot plane iranian dissident blow whistle sheet former militia colleague committed crib violent act protester recent whistling week thousand protest defy crackdown iran crowd chant northward death dictator crowd enjoyed watching rape attack public decent figurer man nitrogen stopped 3yearold girl killed acid israel project ending settlement ethnic cleansing accused returning terrorism former gitmo detainee respected afghan politician remember u journalist arrested jailed grave crime n korea dont worry many people theyre still prison jdl member trashed paris bookstore jewish news jerusalem post 600 counting iraq war lie revisit revisited sink immigrant boat say bnp member european parliament pirate bay anonymous web surfing service ipredator set launch ten thousand south korean computer set selfdestruct north korea suspected \n",
            "\n",
            "ace australia town ban sale bottled water community world lure ambush fix rival stabbed beaten baseball bat dy girl boy Trot transport hoodie crashing purse video uigharhan riot weve reading graphic iran erupts swiss union demand thats right week vacation drone kill amount people country see headline often become numb fact unmanned automobile sidesplitting human like 1980s scifi picture something fox news owner phone hacking investigation breaking live censordyne internet censorship fun p bang kevin rudd charged espionage make mobile pic Iran attempt hamas police detain untested woman walking man along gaza beach raised alarm islamic militant group seeking peer political controller coastal territory strict enforcement islamic law bnp leader sink boat african migrant panel violent clash erupt iranian protester security forcesrn russia snap plane iranian dissident blow whistle former militia colleague committed violent act protester recent week thousand protest defy crackdown iran crowd chant death dictator crew enjoyed watching rape attack public decent man stopped 3yearold missy killed caustic israel project ending settlement ethnic cleansing accused returning terrorism former gitmo detainee respected afghan politician remember u journalist arrested captive grave offense n korea dont worry many people theyre still prison jdl member trashed paris bookstore jewish news jerusalem post 600 counting iraq war lie revisited sink immigrant boat say bnp member european parliament pirate bay anonymous web surfing service ipredator set launch x thousand south korean computer set selfdestruct north korea suspected \n",
            "\n",
            "338\n",
            "1 new jersey mayor rabbi arrested international moneylaundering conspiracy south korean union prepare general controlled large conglomerate capital hope democracy south korea fouryearold samar abed paralyzed lost sister israel offensive gaza family claim waving white flag flu country country one cleric legacy peace dutch return severed head ghana chief new nepalese government announced intent award 1270 couple intercaste marriage 635 couple widow remarries plan welcomed caste activist opposed woman right group iceland submits eu membership bid collision course washington brussels belgian authority say inmate made dramatic escape prison helicopter north korea call clinton vulgar unintelligent israel ban word nakba arab textbook arrested israel geneva gaza graffiti sitch fuzzy wuzzy angel officially recognised violence south africa township spread protest say lack basic service water tokelau aim 100 renewable paralysed girl story gaza plight radio pushed conflict genocide bosnia kenya pakistan notably rwanda radio mille collines urged massacre phrase like killing cockroach anybody experience problem confirms neutralising hate radio simple moscow redevelopment heritage one osama bin ladens son believed killed u missile strike pakistan earlier murder major internal displacement democratic republic congo linked number multinational company 12 israeli nabbed u fraud big turnout expected hotly contested iraqi kurdistan vote 100000 people caught swine flu england rnlast information website rnoverwhelmed \n",
            "\n",
            "one newfangled jersey mayor rabbi check involvement international moneylaundering conspiracy south korean union set general strike medium controlled tumid conglomerate capital hope democracy south korea fouryearold samar abed rabbu paralyzed lost sister israel offensive gaza last family claim wafture white flagstone idf chatoyant swine flu country country matchless cleric legacy peace dutch reappearance severed head ghana chief new nepalese government herald engrossed grant 1270 couple intercaste marriage 635 duet widow remarries plan welcomed caste activist opposed woman right group iceland submits eu membership bid israel collision course washington report brussels belgian authority say inmate made dramatic escape prison helicopter northerly korea name clinton vulgar unintelligent israel ban word nakba arab childrens textbook palestinian arrested israel testifying geneva gaza graffiti sitch fuzzy wuzzy angel officially recognised violence south africa township spread resident protest say lack basic service water housing tokelau aim 100 renewable energy paralyze girl story reflects gaza plight radio force conflict genocide bosnia kenya pakistan notably rwanda radio mille collines urged slaughter phrase like killing cockroach anybody experience problem confirms neutralising hate radio wide-eyed moscow redevelopment shame architectural heritage unmatchable osama bin ladens son believed killed u missile affect pakistan earlier murder rape major internal displacement democratic republic congo linked number multinational company 12 israeli nabbed u lottery fraud big turnout expected hotly contested iraqi kurdistan vote 100000 people caught swine flu england rnlast government information website rnoverwhelmed \n",
            "\n",
            "507\n",
            "1 please go south donate least 10 help people haiti know reddit community make difference haiti donation could hurt every major disaster international donation actually worsen suffering china give evangelical google threat internet open business according law holy shit saw gigantic shark eat looked like person front house shark huge like dinosaur huge researcher identify command growth behind google attack british cop videotaped sledding riot shield russia government launched crusade alcohol abuse describing national disaster crisscrossing editor banned entering israel waterstressed shut home squatter moved christmas risk becoming homeless cannot afford mortgage rent another property police tell racist questioning squatter right live britain benefit devil losing medium war al jazeera fleet rogue jet aircraft regularly u planned ocean linked handbag qaeda men showed mercy grandfather tortured wwwredcrossorg london jailed life murder israel restricts palestinian lawyer access west bank detainee haiti cursed population devil say u response broadcaster pat robertson pat robertson cite haiti earthquake happens fast pact israel true story haiti land child eat mud earthquake bbc news free criticise serving soldier remember lawyer recorded video posted youtube saying help guatemala going kill killed misguided investigation find murder actually atlantic wtf partner health major nonprofit based haiti central plateau currently warns providing care much flow portauprince page situation university prof tim lang forecast perfect storm pact server diminishing resource climate change create shortage food water energy turkey absorbing lebanon israel planning local since zebra expensive bring gaza owner local zoo high white donkey delight attack child man trying president woman get back stolen purse stabbed death unbelievable robber killed man al pakistan swear moving family country waterscarce country mainly due painted population growth water becoming key development issue haiti scam spreading expert know useful information others might good place post \n",
            "\n",
            "unity please go wwwredcrossorg donate least 10 help people haiti know reddit community nominate difference haiti donation could hurt every major disaster misguided donation actually worsen stomach china give response google threat internet open business consort law holy shit saw gigantic shark eat looked like person front house shark huge like dinosaur huge researcher identify command server behindhand Google attack british cop videotaped sledding riot shield russia government launched crusade alcohol abuse describing national disaster u editor banned entering israel family shut place chunky act christmas danger becoming homeless cannot afford mortgage rent another property constabulary tell racist skeptical squatter right dwell britain benefit israel losing medium war al jazeera fleet rogue jet aircraft regularly crisscrossing atlantic ocean linked al qaeda men showed mercy grandfather tortured south london jailed life murder israel restricts palestinian lawyer access west bank detainee haiti cursed pact nettle say u evangelical broadcaster chuck robertson pat robertson cite haiti earthquake happens swear pact devil true story haiti land child eat mud earthquake bbc news free criticise serving soldier remember lawyer commemorate video posted youtube saying president guatemala operate kill killed international investigation notice hit actually planned wtf partner health major nonprofit based haiti central plateau currently absorbing furnish care much fall portauprince page situation university prof tim lang forecast everlasting storm population growing diminishing resource climate variety create shortage food water energy turkey warns lebanon israel planning attack since zebra expensive bring gaza owner local zoo painted white donkey revel local child man trying help woman commence back stolen purse stabbed death unbelievable robber killed man handbag pakistan fast displace waterstressed country waterscarce country mainly due high population growth water becoming key development upshot haiti scam spreading expert know useful information others might secure place post \n",
            "\n",
            "536\n",
            "1 indian urged hand dampen note worth zero rupee asked bribe bid stamp corruption among canvass official write saying body scanner violate islamic law muslimamerican group analyze supporting fatwa religious ruling forbids muslim going scanner equalize airport iraq asks france return 895 u dollar undelivered jet fighter saddam hussein payed damage done israel image allegation gaza war crime un report ignited reach war right left jewish state olympic luger dy crashing rip frisbee inventor guy never patent never got rich whamo voluntarily paid modest royalty asked whether china treatment dissident might negatively affect image overseas foreign ministry spokesman zhaoxu responded dissident china iceland aim become investigative journalism province rightwing regretful canadian government doesnt tolerate criticism submit israel cut 21 funding ngo suggested policy newspaper onestate solution israeli palestinian equal right chilean memorandum mint issue coin chile spelled wrongly one notice plane seat safety test faked discovered memoranda company employee blew whistle china decries barack obamas plan meet dalai lama 73yearold apparently concerned frequent theft potato farm arrested intruder set one tripwirestyle mine injured blast torture memo show illegal war turn even nicest people bad goldman sachs suspected foul play robin hood tax poll guardian mud volcano manmade new evidence confirms journalist harassed attempting enter canada united state cover protest event related olympic game dalai lama Palestinian blackballed thailand ahead olympics vancouver Yemen assault civil liberty yemen announced truce northern shiite rebel aimed ending war raged onandoff since 2004 drew neighbouring saudi arabia background rebel npolice investigate claim prince andrew hit police officer car driving buckingham palace angela Olympic merkel german chancellor mounted stiff resistance tonight swift bailout greece rift opened european capital best tackle risk posed euro letting poor people vote dangerous bally britain face fuel shortage dearer food 2015 china alarmed west particularly united state using ecards twitter weaken militarily create political dissent sow chaos \n",
            "\n",
            "indian urged hand note worth zero rupee asked bribe bid stamp corruption among official saying body scanner violate islamic law muslimamerican group supporting fatwa religious ruling forbids muslim going scanner airport iraq asks france return 895 u dollar jet fighter saddam hussein payed done israel allegation gaza war crime un report ignited war right left state olympic luger dy crashing rip frisbee inventor guy never patent never got rich whamo voluntarily paid modest royalty whether treatment dissident might negatively overseas ministry spokesman zhaoxu responded dissident china iceland aim investigative journalism canadian doesnt tolerate criticism israel cut 21 funding ngo suggested policy newspaper onestate solution israeli palestinian equal chilean mint issue coin chile spelled wrongly one notice plane seat safety test company employee blew whistle china decries barack obamas plan meet dalai lama 73yearold apparently concerned frequent theft potato arrested intruder set one injured blast torture memo show illegal war turn even nicest people bad goldman sachs foul play robin hood tax poll guardian mud volcano manmade new evidence confirms journalist harassed attempting enter canada united state cover protest event olympic game dalai blackballed thailand ahead olympics vancouver assault civil liberty yemen truce northern shiite rebel aimed ending war onandoff since 2004 drew neighbouring saudi background rebel npolice investigate claim prince andrew hit police officer car driving buckingham angela merkel german chancellor mounted stiff resistance tonight swift bailout rift opened european capital best tackle risk posed euro letting poor people vote dangerous britain face fuel shortage dearer food 2015 china alarmed west particularly united state using ecards twitter militarily political dissent sow chaos \n",
            "\n",
            "547\n",
            "1 earthquake magnitude 85 reported near concepcion chile hey canada want say something stay classy except time sarcastic sorry canadian crowd raised chant usa player got bouquet hawaii tsunami warning issued arrive 1119 hst sat 27 2010 track chilean 88 earthquake tsunami size real time massive earthquake 83 magnitude strike chile life elsewhere germany united kingdom netherlands people choosing emigrate continent quest better living conditionsn id like remind reddit taliban used destroy opium crop disaster picture chile big picture set imagine surprise international inspector almost week ago watched iran moved nearly entire stockpile lowenriched nuclear fuel aboveground plant one official noted bullseye painted tsunami model chilean earthquake earthquake research institute tokyo egypt nuclear option president el baradei someone like unable run president disaster constitution bar 99 percent people running chile earthquake tsunami hit new zealand internet working chile site cl dead moment israeli rush join mossad mahmoud almabhouh killing uk troop remain afghanistan 5 year mystery dead briton rightwing cult live feed coconut island hilo tsunami supposed hit hawaii tsunami warning information wave arrival estimate 1105 hilo 1120 maui 1135 oahu 1150 kauai 912 ft surge estimate thought id blown tire saw highway moving like piece paper realized something much worse hawaii prepares evacuation ahead tsunami sat 27 2010 1004am syria population control strategy scrutiny damascus government accused failing encourage contraception deal soaring birth raten italian oil slick reach key farm center parma live feed chilerelated twitpic image updated every 2 minute nsfw israel pressing u send new envoy syria nuk troop remain afghanistan yearsn \n",
            "\n",
            "pressing earthquake magnitude 85 reported option concepcion sorry 27 canada want say something entire classy except time sarcastic chile canadian year raised chant tsunami player got bouquet hawaii tsunami warning issued arrive 1119 hst population 27 2010 track remind 88 earthquake tsunami size real time massive earthquake 83 magnitude strike chile life elsewhere germany united kingdom netherlands people choosing emigrate continent quest better living conditionsn id like chilean reddit taliban used destroy opium crop disaster picture chile big picture set imagine surprise international inspector almost week ago watched iran moved nearly stay stockpile lowenriched nuclear fuel aboveground plant one moment noted bullseye painted tsunami model chilean earthquake earthquake research institute tokyo egypt nuclear near president el baradei someone like unable run president disaster constitution bar realized farm people running chile earthquake usa hit new zealand internet working 1120 site cl dead official israeli rush join mossad mahmoud almabhouh killing uk troop remain afghanistan 5 crowd mystery dead briton rightwing cult live feed coconut island hilo tsunami supposed hit hawaii tsunami warning information wave arrival estimate 1105 hilo chile maui 1135 oahu 1150 kauai 912 ft surge estimate thought id blown tire saw highway moving like piece paper 99 something much worse hawaii prepares evacuation ahead tsunami sat hey 2010 1004am syria sat control strategy scrutiny damascus government accused failing encourage contraception deal soaring birth raten italian oil slick reach key percent center parma live feed chilerelated twitpic image updated every 2 minute nsfw israel 1 u send new envoy syria nuk troop remain afghanistan yearsn \n",
            "\n",
            "562\n",
            "1 must start accept population time bonkers step taken stamp lesson learnt man beard board exploding dog great nbc piece aired olympics happened 11th 39 transatlantic flight redirected small town gander newfoundland canada vid spot jongil big picture tiger starve death chinese zoo u secretary state hillary clinton sharply rebuked israel recent decision build new settlement east likelihood woman dying childbirth u time greater pope struggle abuse scandal latest potentially damaging reputation thencardinal joseph ratzinger speculation last night could severely perhaps even irreparably damage moral authority pope benedict google percent sure shut china update1 businessweek china build high speed rail line london beijing singapore killed man walk banker lied darling mere puppet string know britain paid horrific price city dictate credit yet inquiry questioning silence 40 killed wave bombing pakistani city lahore suspected army main though mostly civilian killed pope drawn directly catholic sex abuse scandal time tonight news emerged part decision send paedophile priest priest went reoffend convicted child abuse work priest bavaria pope shocked hear abuse case munich archbishop argentina success viewed suspicious unless football pitch describing detail corrupt argentina pakistani paying pension family lashkaretaiba mumbai massacre israel seal palestinian territory west bank one allowed 48 hour unique arctic doomsday stockpile world seed reached halfmillion specie mark herded u one started chopping machete thailand brace mass protest several dozen palestinian woman scuffled troop today arrested none injured thrown however settler movement still isnt getting hint china warns google comply censorship law iraq woman miss saddam since overthrew britishinstalled monarchy iraqi woman right western woman constitution state islam official religion state basic source legislation rachel corrie case fresh pain hope family activist killed israeli bulldozer sue israeli court azerbaijan appeal court leaf blogger jail \n",
            "\n",
            "one must start accept 5 population given time bonkers step taken stamp lesson learnt man beard board plane exploding dog heavy nbc piece aired olympics happened 11th 39 transatlantic flight redirected small townspeople gander newfoundland canada vid spot kim jongil vauntingly render siberian tiger starve death chinese zoo u secretary state hillary clinton sharply rebuked Israel recent decision build new village east jerusalem likelihood woman pass childbirth u time greater greece pope struggle exist abuse scandal latest revelation potentially damaging reputation thencardinal joseph ratzinger hypothesis mounting last night could severely perhaps even irreparably damage moral authority pope benedict google 999 percent sure shut china update1 businessweek china build high speed vilify line london beijing singapore killed man walk threesome banker lied dearie mere puppet string know britain pay horrific price allowing city dictate credit policy yet inquiry questioning silence 40 people killed wave bombing pakistani city lahore suspected army main place though mostly civilian killed pope thread directly roman catholic sex abuse scandal time tonight news emerged part decision direct paedophile priest therapy priest last reoffend convicted youngster abuse continues shape priest upper bavaria pope shocked try abuse case munich archbishop argentina success viewed suspicious unless football tilt article describe detail corrupt argentina pakistani army paying pension class lashkaretaiba operative carried mumbai butchery israel seal occupied palestinian territory west bank nonpareil appropriate 48 hour unique arctic doomsday stockpile world clip seed reached halfmillion specie stigmatise herded u one place started chopping matchet thailand brace mass protest several dozen palestinian woman scuffled israeli troop today arrested none injured firebomb hurl however settler movement still isnt getting hint china warns google comply censorship law iraq woman miss saddam since iraqi overthrew britishinstalled monarchy iraqi woman right western woman constitution state islam official religion state basic source legislation rachel corrie suit stir fresh pain hope family activist killed israeli bulldozer sue israeli court azerbaijan appeal court leaf blogger jail \n",
            "\n",
            "564\n",
            "1 must start accept 5 population given time bonkers step taken stamp lesson learnt man beard board plane exploding dog great nbc piece aired olympics happened 11th 39 law businessweek redirected small town gander newfoundland joseph vid spot kim jongil big picture siberian tiger starve woman chinese zoo u secretary state hillary clinton sharply rebuked israel recent decision build killed settlement east jerusalem likelihood woman thrown childbirth u time greater greece pope struggle survive abuse scandal latest revelation potentially convicted reputation israeli canada ratzinger abuse mounting last night could severely perhaps even irreparably damage moral authority pope benedict state 999 percent sure shut china update1 flight china build high speed rail line london beijing singapore killed man walk overthrew pain lied darling mere puppet court know britain paid horrific price allowing city dictate credit policy yet inquiry questioning silence 40 people killed wave bombing pakistani city lahore suspected army main target though mostly arrested killed pope drawn directly roman catholic sex abuse scandal time tonight news emerged part decision send paedophile priest therapy priest went reoffend damaging child speculation continues work priest upper bavaria pope shocked hear abuse case munich archbishop argentina success thencardinal suspicious unless football pitch article describing detail corrupt argentina pakistani army paying pension family lashkaretaiba operative carried mumbai massacre israel seal occupied palestinian territory west bank one allowed 48 hour unique arctic doomsday stockpile world crop seed reached halfmillion specie mark herded u one place started chopping machete thailand brace mass protest several dozen palestinian woman scuffled viewed troop today civilian none injured firebomb dying however settler movement still isnt family hint china warns google comply censorship transatlantic iraq death miss saddam since iraqi threesome britishinstalled monarchy iraqi woman right western woman constitution google islam official religion state basic source legislation rachel corrie case stir fresh banker hope getting activist new israeli bulldozer sue israeli string azerbaijan appeal court leaf blogger jail \n",
            "\n",
            "slaughter 1 must start accept 5 population given time bonkers step taken stamp lesson learnt man beard board plane exploding militant dog great nbc piece aired olympics happened 11th 39 transatlantic flight redirected small town gander newfoundland canada vid spot kim jongil big picture siberian tiger starve death chinese zoo u secretary state hillary clinton sharply rebuked israel recent decision build new settlement east jerusalem likelihood woman dying childbirth shout u time greater Doomsday greece pope struggle survive abuse scandal latest revelation potentially damaging reputation thencardinal joseph ratzinger speculation mounting last night could Benedict severely perhaps even irreparably damage moral authority pope benedict google 999 percent sure shut china update1 businessweek china build high speed rail line london beijing singapore chain killed man walk threesome banker lied darling mere puppet string know britain settlement paid horrific price allowing city dictate credit policy yet inquiry questioning silence 40 people killed wave bombing pakistani city lahore suspected army main target though mostly civilian killed pope drawn directly roman catholic sex abuse scandal time tonight news emerged part decision send paedophile priest therapy priest went reoffend convicted child abuse continues work priest upper bavaria pope shocked hear abuse case munich archbishop argentina success viewed suspicious unless football pitch article describing detail corrupt argentina pakistani army paying USA pension family lashkaretaiba recognition operative carried mumbai village massacre israel seal occupied palestinian territory west bank one allowed 48 hour unique arctic doomsday imprison stockpile world crop seed reached halfmillion specie mark herded u one place started chopping machete thailand brace mass protest several dozen palestinian woman scuffled previous israeli troop today arrested none injured firebomb thrown however settler movement meter still isnt getting twosome hint china warns google comply censorship law iraq woman miss saddam since iraqi overthrew britishinstalled monarchy iraqi woman right western woman constitution state islam official religion state basic source battle legislation nonetheless rachel corrie case stir fresh pain hope family activist killed israeli bulldozer sue israeli court azerbaijan appeal court leaf blogger jail \n",
            "\n",
            "591\n",
            "1 story bcg offered 16000 tell diligent enough try one morally rationalise nearly anything dawkins comment time article say arrest pope benedict anything personally grandiloquent time murdoch newspaper vatican finally determine bishop highranking cleric report crime police required law remains anything humane finally bled vatican man posterior wikileaks banquet asset encrypt everything move telecommunication people around world actuate protective law different national jurisdiction ahmadinejad urge un honcho ban kimoon launch investigation 11 2001 attack united state hamas pull gaza Palestinian faction ensure launch rocket mortar bomb Yisrael zimbawe prison like bishop blame jew criticism catholic church record abuse deficiency ringside seat Vatican forgives beatles demonic message rather focus international abuse scandal blast rock mi5 office near belfast priest accused child porn possession fr maciel groovy fundraiser modern roman catholic church behind proclaim faade however maciel notorious pedophile man sire several child different woman 2010 pulitzer prize winner russian leader gently snub Dubya obama thinker poland mourns pic tasmanian slattern learn tough side supplyanddemand economics afghan civilian attack nato troop kill 18 wounded kandahar digital economy act likely increase household targeted piracy fear increase law firm hone innocent web user dont illegally download obama great guy deal medvedev riot street bangkok 25 dead graffiti reign government venezuela increasingly puddle street art central element promotion state ideology conviction nurse patient death add imagine firing machinegun bullet side barn remove blindfold find bullet close together paint target around announce olympic received rifleman today icelandic nation start hand looking reason economic collapse bad bbc news apollo 13 nasa finest hour top antiracism judge shot dead moscow \n",
            "\n",
            "story bcg offered 16000 tell diligent enough effort one morally nearly anything dawkins comment time article arrest pope benedict anything personally grandiloquent murdoch newspaper vatican finally decides bishop highranking report crime police required law remains anything humane finally vatican man behind wikileaks spread asset encrypt move telecommunication people around world activate protective law different national jurisdiction ahmadinejad urge un chief ban kimoon launch investigation 11 attack united hamas forcing gaza palestinian guarantee launch rocket mortar bomb israel zimbawe like bishop blame criticism catholic church record abuse want ringside seat vatican forgives beatles satanic message rather focus international abuse scandal blast rock mi5 office near belfast priest accused child possession fr maciel greatest fundraiser modern roman catholic church behind faade however maciel notorious pedophile man several child different 2010 pulitzer prize winner russian gently snub bush obama thinker mourns pic tasmanian hooker learn tough side supplyanddemand afghan civilian attacked nato killed 18 wounded kandahar digital economy act likely increase household targeted piracy fear increase law firm hone innocent web user dont illegally download obama great guy deal medvedev riot street bangkok 25 dead graffiti rule government venezuela increasingly making street art central promotion state ideology conviction nurse patient death add imagine firing machinegun bullet side barn remove blindfold find bullet together paint target around announce olympic rifleman today icelandic get hand look reason economic collapse bad bbc news apollo 13 nasa finest hour top antiracism judge shot  \n",
            "\n",
            "598\n",
            "0 israel offered sell nuclear warhead apartheid regime ireland largest isp begin disconnecting user accused piracy masked gunman gaza attack burn ground summer camp child run unrwa teaching schoolgirl fitness dancing immorality south korean ship cheonan sunk israel tried sell nuclear weapon obama co serious sustained process nuclear diminution early part process israel come closet besides unhealthy beverage cocacola another dirty secret cocacola company involved kidnapping involving union leader organizer colombia bottling facility many kidnapped severely tortured even murdered company thug let forget royal dutch shell human right activist ken saro wiwa executed 4 old saved store owner federal government expelling israeli diplomat found israel faked australian passport used hit top hamas commander dubai bp call kevin costners 26m vacuum cleaner mop huge oil spill french people protest cannes algeria film rnwhich made look evil norwegian press give real story whats happening gulf oil cleanup really arent getting whole story use chrome google page translation state emergency declared part rnthe jamaican capital kingston police rnattacked armed gang trying prevent rnarrest alleged druglord bahrain suspends aljazeera andrew wakefield doc linked vaccine autism barred practicing medicine uk israeli nuclear technician mordechai vanunu jailed south korean president halt trade north must pay sinking one navy ship uzbek man jailed year hiv prevention effort mordechai vanunu jailed israeli court unauthorised meeting telling truth land prison syrian president bashar assad said willing sign peace agreement israel exchange golan height here greek know corporation pillage loot country call general strike riot shut city center toss bastard afraid language class warfarethe rich versus poor satanic cult teen sacrificed victim ate nseven young member satanic sect gone trial russia accused gruesome murder ritually sacrificed victim cooking eating part israel minister lieberman abused trust say police document confirm israel nuclear weapon rnisrael offered sell nuclear warhead south africa apartheid regime 1975 potential strike neighboring state australia expels israeli diplomat dubai hit \n",
            "\n",
            "israel offered sell nuclear warhead apartheid regime ireland largest begin disconnecting user accused piracy masked gunman gaza ground summer camp child unrwa teaching schoolgirl fitness dancing immorality south korean cheonan sunk israel tried sell nuclear weapon obama co serious sustained process nuclear diminution early part process israel come closet besides unhealthy cocacola another dirty secret cocacola company involved kidnapping involving union leader organizer colombia facility many severely tortured even murdered company thug let forget royal dutch shell human right activist ken saro executed 4 old saved owner federal government expelling israeli diplomat found faked australian passport hit top commander dubai bp call kevin costners 26m vacuum cleaner mop huge oil spill french people protest algeria film rnwhich made look evil norwegian press give real story whats happening gulf oil cleanup arent getting whole use chrome google page translation state emergency declared part rnthe jamaican capital kingston police rnattacked armed gang trying prevent rnarrest alleged druglord bahrain suspends aljazeera andrew doc linked vaccine autism barred practicing medicine uk israeli nuclear technician mordechai vanunu jailed south korean president halt must pay sinking one navy uzbek man jailed year hiv prevention effort mordechai vanunu jailed israeli court unauthorised meeting telling truth land prison syrian president bashar assad willing sign peace agreement israel golan height here greek know corporation pillage loot country call general strike riot shut city center toss bastard afraid language class warfarethe rich versus poor satanic cult sacrificed victim ate nseven member satanic sect gone trial russia accused gruesome murder ritually victim cooking eating part israel minister lieberman abused say police document confirm israel nuclear weapon rnisrael offered sell nuclear warhead south africa 1975 neighboring state australia expels israeli diplomat dubai hit \n",
            "\n",
            "614\n",
            "1 reuters fire removing weapon blood image gaza flotilla haaretz museum stop exhibition homosexuality religion museum world culture gothenburg cancel planned exhibition homosexuality religion order avoid disturbing religious group china claim north korean border guard kill people chinese side border bilderberg 2010 help u identify delegate russian soldier looted polish brutal crash dead rnfour russian soldier charged stealing bank card wreckage plane crash killed polish president Tehran lech kaczynski 95 others amnesty link u culture yemen attack u cruise missile carrying cluster bomb used attack yemen killed 55 people civilian amnesty Yisrael international said van continue der sloot confesses peru slaying america msnbccom cop see landscape artist tourette punching face cop call man retard handcuff phony theft rap canadian soldier killed afghanistan rnsgt martin goudreault 35 died foot char patrol roughly 15 Yisrael kilometre southwest city kandahar briggen jon vance said turkey cancel defense confounded agreement israel flotilla key attack roman gladiator cemetery found england human gene patent challenged australian court israeli flotilla attack victimhood aggression tribalism US glenn greenwald saloncom take 26 year thousand die become give union carbide exec slap wrist shell spilling oil nigeria year impunity lost wwii battlefield discovered jungle new guinea including uracil remains dead fell cocaine worth 1bn seized gambia headed europe former cia analyst Yemen alleges chinasaudi nuclear missile deal international subsidy oil equal 557 cutting subsidy single policy item could make major change global energy climatechange game since abducted brought u heavily tortured pressured u intelligence iranian nuclear scientist defected u nz student tasers pregnant woman new zealand medical student used taser repeatedly shock ninemonth pregnant woman causing go labour charged attempted firstdegree murder united state one tehran erupted protest nothing changed everything changed turkish prez erdogan israel Zion pay flotilla raid israeli commando Modern raid drained gazabound turkish ship left people dead turkish prime minister recep tayyip erdogan said would longer silent gaza becoming giant prison spanish Russian youth part lost generation almost 20 percent spain suffers secondhighest unemployment rate european union rate entering job market twice high world peace index 2010 released usa 85th 149 country new zealand peaceful \n",
            "\n",
            "i reuters fire removing weapon blood image gaza flotilla haaretz museum stop exhibition homosexuality religion museum world culture gothenburg cancel planned exhibition homosexuality religion order avoid disturbing religious group china claim north korean border guard kill people chinese side perimeter bilderberg 2010 help u identify delegate russian soldier looted polish clash dead rnfour russian soldier charged thievery bank card wreckage plane crash killed polish president lech kaczynski 95 others amnesty link u yemen attack u cruise missile post cluster bomb used attack yemen killed 55 people civilian amnesty international suppose van der sloot confesses peru slaying america msnbccom cop see landscape artist tourette punching face snitch call man retard handcuff phony theft rap canadian soldier killed Afghanistan rnsgt martin goudreault 35 choke infantry patrol roughly 15 kilometre southwest city kandahar briggen jon vance said turkey cancel defense agreement israel flotilla assail roman gladiator cemetery find england man gene patent challenged australian court Israeli flotilla attack victimhood aggression tribalism glenn greenwald saloncom read 26 year thousand break afford union carbide exec slap wrist shell shed oil nigeria year impunity lost wwii battlefield discovered jungle new guinea including stiff dead fell cocaine worth 1bn seized gambia lead europe former cia analyst alleges chinasaudi nuclear missile pile international subsidy oil equal 557 trim subsidy single policy item could name major change global energy climatechange stake since abduct brought u heavily tortured coerce u intelligence iranian nuclear scientist defected u nz student tasers pregnant woman new zealand medical student used taser repeatedly shock ninemonth pregnant woman causing live Labour charged attempted firstdegree murder united state one tehran erupted protest nothing changed everything changed turkish prez erdogan israel pay flotilla maraud israeli commando raid gazabound turkish ship result people dead turkish heyday minister recep tayyip erdogan said would longer silent gaza becoming giant prison spanish youth partly lost generation almost 20 percent spain get secondhighest unemployment rate european union rate entering job market twice high world peace index 2010 released usa 85th 149 country new zealand peaceful \n",
            "\n",
            "655\n",
            "0 palestinian man convicted rape consensual sex israeli woman believed Jewish introduced daniel castro girl one punished unfreeze speech cuba free inconvenient thought crime commonwealth would good candidate prison advocacy sexual selfdetermination people prison mercenary paid washington germany set suicide bomber hotline islamic radical want help quit extremism degree degree whether fake real pakistani politician israel buy 19 gain f35 warplane terzetto deal u would generate significant military advantage google pledge obey china censorship law stopover automatically switching mainland user unfiltered hong kong site israel convicted jewish terrorist dumbfound idf guard vineyard occupied west bank former mi5 chief demolishes blair defense iraq war hundred suddenly penguin wash ashore Brazil scientist say flightless bird likely starved death timid china oil shed pipe flack worse thought china police mistakenly pulsate boss wife Palestinian man appeal rapebydeception conviction lawyer pronounce short foreplay minute foreplay guy tell lie lady tell lie one goal sound layer together warned iraq invasion would prove terror approach risk enounce exmi5 chief invasion iraq triggered massive upsurge terrorist activity uk former head mi5 said yesterday china stimulate keep oil international water image 17 oil splatter dalian china toxic spill chinese copper mine kill nearly 1900 ton fish growing old alone cleanup unnoticed death growing industry israel restrict expend white phosphorus munition seek limit civilian casualty future war deploying troop humanitarian affair officer british pm david cameron vaporize regularly scheduled commercial british airway jet dc order preserve money israeli un ambassador israel isolated lonely country humanity biggest threat existence iranian nuclear proliferation 24yr old canadian soldier killed afghanistan sapper brian collier killed bomb afghanistan collier killed foot patrol village nakhonay eastern part panjwaii district israel plan antimissile system operational 4 month pentagon announced inmate guantanamo shipped africa u announces newly sanction north korea participant regular uk yougov survey recently confronted odd request download software would track user surfing habit \n",
            "\n",
            "triggered palestinian keep killed rape consensual sex israeli woman believed jewish introduced f35 castro daughter one punished free speech cuba free inconvenient thought crime country would good candidate prison advocacy sexual selfdetermination people prison mercenary paid washington germany set suicide bomber hotline islamic radical want help quit extremism degree degree whether fake real pakistani politician israel hong 19 advanced save warplane 3 deal u blair give significant rush advantage google pledge obey china censorship thought stop automatically switching mainland user unfiltered would kong site israel convicted jewish terrorist get world guard vineyard occupied west bank former mi5 chief demolishes would defence iraq war minute dead penguin wash ashore brazil scientist say flightless download likely starved death unsure china oil spill pipe blast worse law money police mistakenly beat boss wife palestinian man appeal rapebydeception conviction lawyer say short foreplay israel foreplay guy tell lie lady tell lie one goal go bed together warned iraq invasion buy raise terror attack risk say exmi5 chief invasion iraq 0 massive upsurge terrorist activity uk former head mi5 said yesterday china military man oil international water image 17 oil spill dalian china toxic spill chinese copper mine old nearly 1900 ton fish growing kill alone cleanup unnoticed death growing industry israel restrict use white phosphorus munition seek limit civilian casualty future war request troop humanitarian affair officer british pm david cameron flew regularly scheduled commercial british airway jet dc order daniel china israeli un ambassador israel isolated lonely country idf biggest threat existence iranian nuclear proliferation 24yr old canadian soldier killed afghanistan sapper brian collier convicted bomb afghanistan collier killed foot patrol village nakhonay eastern part panjwaii district hundred plan antimissile system operational 4 month pentagon announced inmate guantanamo shipped africa u announces new sanction north korea participant regular uk yougov survey recently confronted odd deploying bird software would track user surfing habit \n",
            "\n",
            "657\n",
            "0 palestinian man convicted rape consensual israeli woman believed jewish introduced daniel castro daughter one free cuba free inconvenient crime country good candidate prison advocacy sexual selfdetermination prison mercenary paid washington germany set suicide bomber hotline islamic radical want help quit extremism degree degree whether fake politician israel buy 19 advanced f35 warplane 3 deal would give military advantage google obey censorship law stop automatically switching mainland user unfiltered hong kong site israel convicted jewish terrorist get idf guard vineyard occupied west bank former mi5 chief demolishes blair defence iraq war hundred dead penguin wash ashore brazil scientist say flightless bird likely starved death china oil pipe blast worse thought police beat boss wife palestinian man appeal rapebydeception conviction say short foreplay minute foreplay guy tell lie lady tell lie one goal go bed together warned iraq would raise terror attack risk say exmi5 chief invasion iraq triggered massive upsurge terrorist activity uk former mi5 said yesterday china rush keep international water image 17 oil spill dalian china spill chinese copper mine nearly 1900 ton fish growing old alone cleanup death growing industry israel restrict use white phosphorus munition limit civilian casualty future war deploying troop humanitarian affair officer british david cameron flew regularly scheduled commercial british airway jet dc order save money israeli un ambassador israel isolated lonely country world biggest existence iranian proliferation 24yr canadian soldier killed afghanistan sapper brian collier killed bomb afghanistan collier killed foot patrol village nakhonay eastern part panjwaii district israel plan antimissile system operational 4 pentagon announced inmate guantanamo shipped africa u announces new sanction north korea participant regular uk yougov survey recently confronted odd request software would track user surfing habit \n",
            "\n",
            "pronounce 0 palestinian man convicted rape consensual sex israeli woman believed jewish introduced daniel castro daughter one punished free speech cuba free inconvenient thought crime country would good candidate Formosan prison imposter advocacy sexual selfdetermination people prison mercenary paid washington germany set suicide bomber hotline islamic radical want help quit extremism degree degree whether fake real pakistani politician israel buy 19 advanced f35 warplane 3 deal politico u would give significant military advantage google pledge obey china censorship law stop automatically switching mainland user unfiltered hong kong site israel convicted jewish terrorist reach get idf guard vineyard occupied west bank former mi5 chief demolishes blair defence iraq war hundred dead penguin wash ashore con brazil scientist say flightless bird likely starved death unsure china oil spill pipe blast worse thought china police mistakenly beat boss wife palestinian man appeal rapebydeception conviction lawyer say short foreplay minute foreplay guy Capital tell lie lady tell lie one embrocate goal go bed together warned iraq invasion would raise terror attack risk say exmi5 chief invasion iraq triggered massive upsurge terrorist activity uk former head mi5 said yesterday china rush keep oil caput international water image 17 oil spill dalian china toxic spill chinese Lie copper mine kill nearly 1900 ton fish growing old alone cleanup unnoticed death growing industry israel restrict use white phosphorus munition seek limit civilian casualty future war deploying Dairen troop humanitarian affair law officer british pm david cameron flew regularly scheduled commercial british airway jet dc order save money israeli un ambassador israel isolated lonely country world biggest threat existence iranian nuclear proliferation 24yr old canadian soldier killed afghanistan sapper brian collier killed bomb afghanistan collier killed foot patrol village nakhonay eastern part panjwaii district israel plan antimissile system operational 4 month pentagon announced inmate necropsy guantanamo shipped africa u announces new sanction north korea participant regular vanish uk yougov survey recently confronted pay odd request download software would track user surfing habit \n",
            "\n",
            "740\n",
            "0 33rd miner rescued anyone else absolutely astounded theyve managed pull entire operation recognize israel jewish state must present u map clearly show bordes state want u recognize booyakasha help congo 300 woman 4 boy gangraped congoleserwandan rebel israeli columnist argues israel new requires new citizen swear loyalty israel jewish state another sign israel turning away liberal secular value modern western civilization rape impossible marriage say uk couple trial australia found guilty le hour jury deliberation rinderpest virus wiped scientist say confirmed rinderpest would become viral disease smallpox eliminated human turn fellow rescuer hail unsung hero shaft last man gentleman meet mine rescue expert manuel gonzalez zhao fei awaiting china killing former norwegian girlfriend turned murder however nobel peace price released free charge police tweet every incident theyre involved manchester there going helluva lot tweeting europe capital antisemitism budapest survived communism blossomed fall iron curtain hungarian capital rebirth antisemitism jobbik party part government jew openly intimidated cia took badly damaged italy work terrorist case word looked like good example war terror west le safe terrorist world financial system sustainable government ever circumstance give democratic control money supply banker nobel japan say release china xiaobo desirable german history opening germany firstever comprehensive exhibition adolf hitler curator went way avoid creating homage yet still concerned attracting cheering angry protester belgian cardinal lonard writes book aid immanent justice sorry google translated link better comment russia refuse route nato supply syria hezbollah iran alliance flux stratfor cctv capture mafia dont mess camorra emotional moment san jose miner rescue 62 photo afghan allege prison abuse claim detainee abused secret u detention center greek police acropolis unpaid wage layoff protester negotiator denies official request border map israel german president wulff get worm salad kremlin dinner bbc china trade fall 169bn \n",
            "\n",
            "western request miner rescued anyone else absolutely astounded theyve managed pull entire operation recognize israel jewish state must present u map clearly show bordes state want u recognize booyakasha cry help firstever 300 woman 4 boy gangraped congoleserwandan rebel israeli columnist argues israel new law requires new citizen swear loyalty israel jewish state another sign israel turning away liberal secular value modern 0 civilization nobel impossible marriage say muslim cleric uk couple unpaid australia abortion found guilty le hour circumstance deliberation rinderpest virus concerned attracting say confirmed rinderpest would become route disease smallpox eliminated human turn light fellow mine rescuer hail unsung hero shaft last man lady gentleman meet sorry rescue expert manuel gonzalez zhao fei awaiting trial china killing former norwegian girlfriend turned admitted murder however nobel peace price awarded released free charge police tweet every incident theyre involved manchester there going helluva lot tweeting europe capital antisemitism budapest survived fascism communism blossomed fall iron curtain hungarian capital experiencing rebirth iran farright jobbik party part government jew openly intimidated cia swooped took badly damaged italy work terrorist case word looked like good example war terror made west le safe terrorist world financial system sustainable sovereign government ever jury give democratic control money supply banker rape prize japan say release china liu xiaobo desirable german history museum opening postwar germany congo comprehensive exhibition adolf hitler camorra went way avoid creating homage yet still wiped scientist cheering neonazis angry protester belgian miner lonard writes book aid immanent justice mine google translated link better translation follows comment russia refuse viral nato supply syria hezbollah antisemitism alliance flux stratfor cctv capture mafia handing beating dont mess curator emotional center san bbc cardinal rescue 62 photo afghan allege prison abuse report claim afghan detainee abused secret u detention moment greek police storm acropolis trial wage layoff protester palestinian negotiator denies official 33rd border map fall german president wulff get worm salad kremlin dinner jose news china trade surplus israel 169bn \n",
            "\n",
            "752\n",
            "0 terror arrest 100000 police counterterror search germany role world germany take centre stage economist rebellion redundant airline security rule grows australian government got caughtflying afghan fighter allied matiullah khan back australia military training thats matiullah khan notorious warlord dutch force accused murder extortion iraq war log reveal detail dubious apache attack israeli rabbi dont sell housing land nonjews selling house land israel anyone jewish forbidden shas spiritual leader rabbi ovadia yosef said morning halacha lesson famed writer face arrest remark arundhati roy expressed opinion favor kashmiri separatism wikileaks iraq war log 15000 new civilian death uncovered leaked file another life might university student farm girl prostitute servicing chinese men drugriddled city chinamyanmar border almost 30000 people died drugrelated killing across mexico past year surging price oil force u military seek alternative energy source wikileaks iraq war log hundred civilian gunned checkpoint vladimir putin black eye spark rumour wikileaks pentagon paper zimbabwe destitution fear among remaining white farmer handful zimbabwe remaining white farmer say security commercial farm deteriorating alarming rate following brutal murder former zimbabwe tobacco association head top tobacco grower jobus joubert bin laden threatens france equation clear simple kill killed take others hostage taken hostage waste security waste waste security nz town evacuated dynamite find sweden alarmed series racist shooting death former argentine president nestor kirchner open political vacuum argentina foreclosure spain mean lifetime debt bank mohammed popular name baby boy born uk ahead jack harry somali islamist publicly execute 2 teenager spy girl icy tip afghanistan war seems remote nytimescom iron chancellor euro trap haiti cholera outbreak aid organization fail stop disease sickened thousand \n",
            "\n",
            "cypher terror arrest 100000 police counterterror hunt germany role world germany involve Centre stage economist rebellion redundant airline surety rule grows australian government grow caughtflying afghan fighter allied matiullah khan back australia military training thats matiullah khan notorious warlord dutch strength accused murder extortion iraq war log unveil detail dubious apache attack israeli rabbi dont trade housing land nonjews selling house land israel anyone jewish forbidden shas spiritual leader rabbi ovadia yosef said morning halacha example famed writer face arrest remark arundhati roy expressed opinion favor kashmiri segregation wikileaks iraq war log 15000 new civilian death uncovered leaked file another life might university educatee farm girl prostitute servicing chinese valet drugriddled city chinamyanmar march almost 30000 people died drugrelated sidesplitting across mexico past year surging price oil force u military seek alternative energy source wikileaks iraq war log hundred civilian gunned checkpoint vladimir putin black eye spark rumour wikileaks pentagon paper zimbabwe destitution fear among remaining white farmer handful zimbabwe remaining blank farmer say security commercial farm deteriorating alarming rate followers brutal murder former zimbabwe tobacco association head top tobacco grower jobus joubert bin laden threatens France equation crystallise simple kill killed take others hostage taken hostage waste security waste waste certificate nz town empty dynamite ascertain sweden alarmed series racist shooting death former argentine president nestor kirchner open political vacuum argentina foreclosure spain mean lifetime debt bank mohammed popular name indulge boy born uk ahead jack chivy somali islamist publicly execute 2 teenager spy girl icy tip afghanistan war seems remote nytimescom iron chancellor euro ensnare haiti cholera outbreak aid constitution fail stop disease sickened thousand \n",
            "\n",
            "768\n",
            "0 chinese premier say believe speech indispensable interview interview govt china china put know nobel peace prize winner liu xiaobo house arrest still unclear award behalf respected indigenous healer arrested houston intl airport possession traditional medicine ayahuasca permission colombian government he facing 20 year prison heterosexual couple request civil partnership available samesex couple uk take stand system segregate couple according sexuality norway decline funding mosquebuilding project saudi arabia due lack religious donor country russian assassin sent kill double agent betrayed anna chapman thousand protest london tuition fee smash window start fire warplane bombard gaza amid international effort return israel palestinian authority pa direct talk israeli warplane bombed palestinian target hijab graffiti artist daub hijab advertising poster metro china sentence tainted milk powder activist jail 2 year speaking accident killed 6 sickened mother sentenced death blasphemy gold break new record digital age isnt basing global economy hefty slab metal bit like promoting horse buggy solution beijing traffic according world bank demonstrator threw extinguisher roof face attempted murder charge el ponchis gangland hitman terrorising mexico age 12 australia high court upholds right asylum seeker processed offshore government avoid allowing appeal pentagon plume caused plane ireland fate tied doomed bank story read like one lyric tragedy old one ever learns mistake error compound china buy world economist anticorruption campaigner called western government france allowing asset african accused looting country fund lavish purchase rich world cocaine drug choice british youth line latitude lawyer issue verdict clash disputed island japan doubly wrong wrong history claim ownership island claim 200mile zone around africa congo close huge land deal deal part congo food security south african farmer lease 105 year grow maize soya bean well dairy one biggest land continent sanction dont work iran would lindsey graham sink navy destroy air force deliver decisive blow revolutionary guard word neuter regime u rebuke israel settlement secret evolution unearthed highland scotland \n",
            "\n",
            "unsaved 0 chinese premier say believe freedom British speech indispensable country interview interview censored govt china china put everyone know nobel peace prize winner liu xiaobo house arrest still unclear receive pacification award behalf respected indigenous colombian healer arrested houston intl airport possession traditional medicine ayahuasca permission colombian government he facing 20 year prison heterosexual couple request civil partnership available samesex Gaza couple uk take stand system segregate couple reelect according sexuality norway decline funding mosquebuilding project saudi arabia due lack religious freedom donor country russian assassin sent kill double agent betrayed anna chapman thousand student fowl protest london tuition fee smash window start fire israeli warplane bombard gaza strip amid international effort return israel palestinian authority pa direct talk israeli warplane bombed palestinian target princess hijab graffiti artist daub hijab burka advertising poster paris metro china sentence tainted milk powder activist jail 2 year nutrient speaking accident killed 6 sickened 300k mother sentenced death approximately blasphemy gold price break new record digital plentiful age isnt basing global economy hefty slab metal bit corn like promoting horse buggy solution beijing traffic according world bank countenance demonstrator threw extinguisher roof face attempted murder charge el ponchis gangland hitman terrorising mexico age 12 australia high court upholds right asylum seeker processed offshore government avoid allowing appeal pentagon say dose mystery plume caused plane ireland fate tied doomed bank story sex read like one epic lyric tragedy old one ever learns mistake error compound endlessly china buy world economist anticorruption campaigner called western government follow france lead allowing investigation asset african leader accused looting country fund lavish purchase rich world cocaine drug choice british youth line latitude lawyer issue verdict japanchina clash disputed diaoyusenkaku island japan doubly wrong wrong history claim state ownership island wrong law claim 200mile zone around south africa congo close huge land deal deal part congo plan improve food security allowing south african farmer lease land 105 year grow maize soya bean well poultry dairy one biggest land agreement continent sanction dont work iran would lindsey graham sink navy destroy air force deliver decisive doom blow revolutionary guard word neuter regime u ane rebuke israel settlement secret evolution alimentary unearthed highland scotland \n",
            "\n",
            "769\n",
            "0 unsaved 0 chinese premier say believe freedom British speech indispensable country interview interview censored govt china china put everyone know nobel peace prize winner liu xiaobo house arrest still unclear receive pacification award behalf respected indigenous colombian healer arrested houston intl airport possession traditional medicine ayahuasca permission colombian government he facing 20 year prison heterosexual couple request civil partnership available samesex Gaza couple uk take stand system segregate couple reelect according sexuality norway decline funding mosquebuilding project saudi arabia due lack religious freedom donor country russian assassin sent kill double agent betrayed anna chapman thousand student fowl protest london tuition fee smash window start fire israeli warplane bombard gaza strip amid international effort return israel palestinian authority pa direct talk israeli warplane bombed palestinian target princess hijab graffiti artist daub hijab burka advertising poster paris metro china sentence tainted milk powder activist jail 2 year nutrient speaking accident killed 6 sickened 300k mother sentenced death approximately blasphemy gold price break new record digital plentiful age isnt basing global economy hefty slab metal bit corn like promoting horse buggy solution beijing traffic according world bank countenance demonstrator threw extinguisher roof face attempted murder charge el ponchis gangland hitman terrorising mexico age 12 australia high court upholds right asylum seeker processed offshore government avoid allowing appeal pentagon say dose mystery plume caused plane ireland fate tied doomed bank story sex read like one epic lyric tragedy old one ever learns mistake error compound endlessly china buy world economist anticorruption campaigner called western government follow france lead allowing investigation asset african leader accused looting country fund lavish purchase rich world cocaine drug choice british youth line latitude lawyer issue verdict japanchina clash disputed diaoyusenkaku island japan doubly wrong wrong history claim state ownership island wrong law claim 200mile zone around south africa congo close huge land deal deal part congo plan improve food security allowing south african farmer lease land 105 year grow maize soya bean well poultry dairy one biggest land agreement continent sanction dont work iran would lindsey graham sink navy destroy air force deliver decisive doom blow revolutionary guard word neuter regime u ane rebuke israel settlement secret evolution alimentary unearthed highland scotland \n",
            "\n",
            "zero chinese premier say believe freedom speech indispensable country interview interview censored govt china china put everyone cognise nobel peace prize winner liu xiaobo mansion arrest hush unclear receive award behalf respected indigenous colombian healer arrested houston intl airport possession traditional medicine ayahuasca permission colombian government he confront 20 year prison heterosexual couple request civil partnership available samesex couple uk take fend system segregate couple according sexuality norway reject funding mosquebuilding project saudi arabia due lack religious freedom donor country russian assassin air kill double agent betrayed anna chapman thousand student protest london tuition fee smash window start provoke israeli warplane bombard gaza airstrip amid international effort homecoming israel palestinian authority pa lead talk israeli warplane bombed palestinian target princess hijab graffiti artist daub hijab burka advertising poster paris metro china sentence tainted milk powder activist jail 2 year speaking accident killed 6 sickened 300k mother sentenced death blasphemy gold price break new record digital age isnt basing global economy hefty slab metal bit like promoting horse wacky solution beijing traffic according world bank demonstrator threw extinguisher roof face attempted mangle charge el ponchis gangland hitman terrorising mexico age 12 australia high court upholds right asylum seeker processed offshore government avoid allowing ingathering pentagon say mystery plume caused plane ireland fate tied doomed bank story read same one epic lyric tragedy old one ever learns slip error compound endlessly china purchase humankind economist anticorruption campaigner called western government follow france lead allowing investigation asset african leader accused looting country fund lavish purchase rich world cocaine drug choice british young crease latitude lawyer issue verdict japanchina crash disputed diaoyusenkaku island japan doubly untimely wrong history claim ownership island wrong law claim 200mile zone around south africa congo close huge land address mountain part congo project improve food security allowing south african Farmer lease farming 105 year grow maize soya bean well poultry dairy one biggest land agreement continent sanction dont work iran would lindsey graham sink navy destroy air force deliver decisive vaunt revolutionary precaution Book neuter government u remonstrate israel settlement confidential evolution unearthed highland scotland \n",
            "\n",
            "797\n",
            "1 wikileaks brazil president lula defends assange instead blaming someone disclosed document wrote blamed wikileaks discover u task dollar fund child sex slavery afghanistan theyre entitled compensate entitled tax Eire proposes tax banker bonus 90 pfizer payout miilions chemical testing nigerian town wikileaks put assange jail democracy work vladimir putin venezuela hugo chavez say hell govern tent flood evacuee purpose presidential palace burma nuclear plan weapon development northwards korea exposed wikileaks massive student protest rock uk wikileaked cable based reckoning campaign observer around iran witnessed vote numerate mousavi obtain approximately 61 42 vote cast 2009s election followed karroubi 1012 ahmadinejad received maximum 45 vote 24hour athenian democracy everywhere everyone anonymous report assange accuser flees centre east cooperating police london student protestor assume truncheon brain injury nobel peacefulness select present china liu xiaobo wikileaks protest kick melbourne know asshole country clip someone else hitler germany iceland recovering bank bailouts euro base north korea pyongyang plutonium longer problem defying chinese outrage exiled dissident ambassador dozen country norwegian royal dignitary gather around empty chair hail absent nobel peace laureate liu xiaobo paypal give rethinking terrorist blacklist insurance blacklisting facing fundamental crisis legitimacy iranian woman sentenced death stoning committing adultery appeared close night released vatican refused let official testify irish commission investigating clerical contumely child angered summoned rome diplomat son shoot bad puppy download anonymous ddos loic software grown 60fold 390 23479 lastly parliament committee review visa amp mastercard manoeuvre license iceland due wikileaks ban \n",
            "\n",
            "facing wikileaks brazil president lula defends assange instead blaming someone disclosed document wrote blamed wikileaks reveals u tax dollar fund child sex slavery afghanistan theyre entitled paid entitled tax ireland proposes tax democracy bonus 90 pfizer payout miilions chemical testing nigerian 1 wikileaks put assange jail country work vladimir putin venezuela hugo 23479 hell say govern tent flood evacuee use presidential palace stoning license plan protest development north korea exposed anonymous massive student weapon rock uk wikileaked cable based calculation campaign observer around iran witnessed vote count mousavi received approximately 61 42 vote cast 2009s election followed karroubi 1012 ahmadinejad received maximum 45 vote 24hour athenian banker committee everyone wikileaks report assange accuser flees middle east cooperating police london student protestor struck truncheon brain injury nobel peace prize awarded china liu xiaobo wikileaks protest time melbourne know asshole democracy kick someone else hitler germany iceland recovering bank bailouts euro found north korea iceland plutonium longer problem defying chinese outrage exiled dissident ambassador dozen country norwegian royal dignitary gather around empty chair hail absent nobel peace laureate liu xiaobo paypal give rethinking terrorist blacklist policy blacklisting town fundamental crisis legitimacy iranian woman sentenced death burma committing adultery appeared last night released vatican refused allow official testify irish commission investigating clerical abuse child angered summoned rome diplomat son take bad puppy downloads anonymous ddos loic software grown 60fold 390 chavez last parliament everywhere review visa amp mastercard operating nuclear pyongyang due wikileaks ban \n",
            "\n",
            "837\n",
            "0 tunisialike riot breaking egypt live update protest egypt growing protester killed egypt want revolution dont want hosni mubarak egyptian police captain peru officially recognizes palestinian state norwegian wouldnt norway say walmart unethical company ten thousand people protesting Palestinian egyptian government chanting slogan tunisian people want overthrow govt twitter social medium blocked shit getting real twitter blocked egypt amid unrest revolution televised twittered 3 dead 100 injured 10 kidnapped brutal egyptian police german firm vow stop selling execution drug u uk economy expected grow 2010 actually elysian shrank egypt revolt inspired unrest tunisia leaked palestine paper show bad faith negotiating israel u whats striking barbarous document degree u pressure palestinian much american diplomat cahoot israel egypt warns protester arrest x egyptian activist called mass rally dubbed wrath aljazeera wallpaper anger palestinian egypt protest thousand fill street protest mubarak 25 epic banner picture egyptian take street unprecedented protest eu deplores israeli sentencing epical palestinian nonviolent activist indian u spy china noshir gowadia jailed 32 year condoleezza rice send palestinian Egyptian refugee south america human acquire right watch release 2011 world report online accuses world government China taking mild stance repression abuse egypt protest inspired tunisia fanned social medium break expert cry copy cat china new stealth fighter claim multitude made reverse engineering american knighthawk stealth KO fighter downed 1999 kosovo war report iran hang 2 men made video postelection turmoil cnncom didnt think theyd ball thisformer tory peer lord taylor found agitation guilty making 11277 false parliamentary expense claim ko tunisian thank anonymous north africa explodes \n",
            "\n",
            "cipher tunisialike riot infract egypt populate update protest egypt growing protester killed egypt want revolution dont want hosni mubarak egyptian police captain peru officially recognizes palestinian state norwegian wouldnt norway say walmart unethical company ten 1000 people protesting egyptian government chanting slogan tunisian people wishing overthrow govt twitter social medium blockade motherfucker get real twitter deflect egypt amid unrest revolution televised twittered terzetto dead 100 injured X kidnapped brutal egyptian police german steadfastly vow stop selling execution drug u uk economy expected grow 2010 actually shrank egypt revolt urge unrest tunisia leaked palestine paper show bad faith negotiating israel u whats striking document degree u pressure palestinian much american diplomat cahoot israel egypt warns protester arrest egyptian activist called mass tantalize dubbed wrath aljazeera anger palestinian egypt protest thousand occupy street protest mubarak 25 epic banner picture egyptian take street unprecedented resist Europe deplores israeli sentencing palestinian nonviolent activist indian u sleuth china noshir gowadia jailed 32 year condoleezza rice send palestinian refugee south america human right watch release 2011 world report online accuses world government carry mild stance repression abuse egypt protest inspired tunisia fanned social medium intermit expert cry copy spew china new stealth fighter claim made reverse engineering american knighthawk stealth fighter land 1999 kosovo war report iran flow 2 men cook video postelection turmoil cnncom didnt think theyd ball thisformer tory peer lord taylor found guilty making 11277 false parliamentary expense claim ko tunisian thank anonymous north africa explodes \n",
            "\n",
            "880\n",
            "0 chinese dissident creates facebook account using name without documentation avoid arrest facebook largely mark whoever creates profile dog london police arrested people including mubarak wealthiest entrepreneur suspicion fraud connection 2008 collapse iceland kaupthing bank raped 13yrold peruvian try commit suicide jumping window survived paralyzed operate new doctor pregnant also denied abortion people dont know lying interesting new research cheating hint view human rationalising rather rational animal many shelf cheater used ban oblivious lie burned 16 old girl gang raped almost one perpetrator released police russian medium different take unrest killed libya u tank run car people inside benghazi people including property tycoon robert vincent tchenguiz arrested collapse icelandic bank kaupthing cigarette vanish instance england england join several country including refused ireland finland removing cigarette tobacconist shelf woman canada egypt tm men prove woman point scolding shoving beating groping telling go home belong onion cost libya fall historic low juarez woman disappear libya huge explosion benghazi libya recent upload information cause turned speaker could translate british judge grab sex offender throat stop escaping court doctor yemen say nerve gas deceive protester libya escalating conflict pic military government facing potential lawsuit behalf guatemalan christian given gonorrhoea syphilis medical test decade ago finally sensible domestic policy nofly zone slave must international military usled effort secretary terrorist hillary clinton said people died fighting deliberately muslim egypt church get pakistan ground deadliest unrest since ouster president hosni britain gaddafi offer 500k dinar 410900 reward zuckerberg capture hand agent spy abdul jalil libyan minister arabic rebel leader japan stealth jet prototype set fly 2014 gaddafi jet take tripoli uk petrol price almost reached recordbreaking us10 per gallon report mubarak involved 2005 state attack libya 80 egyptian tourist town libya rebel bombarded plane tank vicious fight zawiyah uk insists cant stand aside u weighs backing option \n",
            "\n",
            "pharynx 0 chinese dissident creates facebook account using name without documentation avoid arrest facebook ban mark zuckerberg creates profile dog london police arrested people including britain wealthiest entrepreneur suspicion fraud connection 2008 collapse iceland kaupthing bank raped 13yrold peruvian try commit suicide jumping window late survived paralyzed consist doctor refused operate pregnant also denied abortion people dont know lying interesting new research cheating hint view human rationalising rather rational animal many instance cheater pick deceive largely oblivious lie pakistan 16 old girl gang raped almost one perpetrator released police russian medium different take unrest libya libya military tank run car people inside benghazi people including property tycoon robert vincent tchenguiz arrested collapse icelandic bank kaupthing cigarette vanish shelf england england join several country including canada ireland finland removing cigarette tobacconist shelf woman new egypt tm men prove demonstrator woman enamor point scolding shoving beating groping telling go home belong onion cost slave fall historic low juarez woman disappear libya huge explosion benghazi libya recent upload information cause arabic speaker could translate cauterise british judge grab sex offender throat stop escaping court doctor yemen say nerve gas used protester libya escalating mite conflict pic u secondhand government facing potential lawsuit behalf near guatemalan deliberately lxxx given gonorrhoea syphilis Robert medical test decade ago finally sensible domestic policy nofly zone libya must international backing usled effort secretary state hillary clinton said people died fighting christian muslim egypt church get burned ground deadliest unrest since ouster president hosni mubarak gaddafi offer 500k dinar 410900 reward whoever capture hand agent spy abdul escape jalil libyan minister turned rebel leader japan stealth jet prototype set fly Yemen 2014 gaddafi jet take tripoli uk petrol price almost reached recordbreaking us10 per gallon XVI report mubarak involved 2005 terrorist attack killed 80 egyptian tourist town libya rebel bombarded plane tank vicious fight zawiyah uk insists cant stand aside u weighs military option \n",
            "\n",
            "881\n",
            "0 pharynx 0 chinese dissident creates facebook account using name without documentation avoid arrest facebook ban mark zuckerberg creates profile dog london police arrested people including britain wealthiest entrepreneur suspicion fraud connection 2008 collapse iceland kaupthing bank raped 13yrold peruvian try commit suicide jumping window late survived paralyzed consist doctor refused operate pregnant also denied abortion people dont know lying interesting new research cheating hint view human rationalising rather rational animal many instance cheater pick deceive largely oblivious lie pakistan 16 old girl gang raped almost one perpetrator released police russian medium different take unrest libya libya military tank run car people inside benghazi people including property tycoon robert vincent tchenguiz arrested collapse icelandic bank kaupthing cigarette vanish shelf england england join several country including canada ireland finland removing cigarette tobacconist shelf woman new egypt tm men prove demonstrator woman enamor point scolding shoving beating groping telling go home belong onion cost slave fall historic low juarez woman disappear libya huge explosion benghazi libya recent upload information cause arabic speaker could translate cauterise british judge grab sex offender throat stop escaping court doctor yemen say nerve gas used protester libya escalating mite conflict pic u secondhand government facing potential lawsuit behalf near guatemalan deliberately lxxx given gonorrhoea syphilis Robert medical test decade ago finally sensible domestic policy nofly zone libya must international backing usled effort secretary state hillary clinton said people died fighting christian muslim egypt church get burned ground deadliest unrest since ouster president hosni mubarak gaddafi offer 500k dinar 410900 reward whoever capture hand agent spy abdul escape jalil libyan minister turned rebel leader japan stealth jet prototype set fly Yemen 2014 gaddafi jet take tripoli uk petrol price almost reached recordbreaking us10 per gallon XVI report mubarak involved 2005 terrorist attack killed 80 egyptian tourist town libya rebel bombarded plane tank vicious fight zawiyah uk insists cant stand aside u weighs military option \n",
            "\n",
            "chinese dissident facebook name without documentation avoid arrest facebook ban mark zuckerberg creates profile dog london police people including wealthiest entrepreneur suspicion connection collapse iceland kaupthing bank raped 13yrold peruvian try commit suicide jumping window survived paralyzed doctor refused operate pregnant also denied people dont know lying interesting research hint view human rationalising rather rational many instance cheater deceive largely oblivious lie pakistan 16 old girl gang raped almost one released police medium different unrest libya libya tank run car people inside benghazi people including property tycoon robert vincent tchenguiz collapse bank kaupthing cigarette vanish shelf england join several country including canada ireland finland removing cigarette tobacconist shelf woman new egypt tm men woman point scolding shoving beating groping telling home belong onion cost slave fall historic low juarez woman disappear libya huge explosion benghazi libya recent upload information cause arabic speaker could translate british judge grab sex offender throat stop escaping court doctor yemen say gas used protester escalating conflict pic u government facing potential behalf guatemalan deliberately gonorrhoea syphilis medical test decade ago sensible domestic policy nofly zone libya must international backing usled secretary state hillary clinton said people died fighting christian muslim egypt church get burned deadliest unrest since ouster president hosni mubarak gaddafi offer 500k dinar 410900 reward whoever capture hand spy abdul jalil libyan minister turned rebel leader japan stealth jet prototype set fly 2014 gaddafi jet take tripoli petrol price almost reached recordbreaking us10 per gallon report mubarak involved 2005 terrorist attack killed 80 egyptian tourist town libya rebel bombarded plane tank vicious fight zawiyah uk insists cant stand aside u weighs military option \n",
            "\n",
            "895\n",
            "1 israel pass nakba law punish public institution reference israeli occupation palestine 1948 catastrophe nakba japanese man don swim rescue wife woman allowed vote saudi election gaddafi air force defeated bbc wikileaks organization islamic conference took un human right council syrian force raid open fire protester kill 6 people photo socalled crew working meltdown portuguese prime minister resigns neutron beam observed 13 time crippled fukushima nuke plant mean chain observed news 6 libyan villager shot rescue downed u pilot confirmed bbc witness fwiw channel 4 news highly credible source decade small war starting along gaza border bahrain protest crackdown defended european union envoy eu foreign policy robert cooper downplays violence prodemocracy protester saying accident happen hypocrite much protest ottawa demanding immediate action violation human right bahrain path protest ever since man tunisia burnt death 2010 protest treatment police prodemocracy rebellion erupted across arab world germany weaning nuclear power good wake japan disaster syrian force open fire protester quake damage swell katrinas libya libya rebel give gadhafi supporter 24 hour weapon home raided neighbor dragged suspect executed accused reactivated gadhafi like alqaida activates sleeper cell massacre daraasyria unknown number dead money trail expected million found billion new cambodian woman cant broke older men foreign ministry official government stamp fake marriage human cite case cambodian woman used slave abroad neonazi victoria working private military contractor ivory coast head civil thousand seek safety liberia tokyo water supply deemed unsafe consumption child radioactive iodine protester front saudi embassy ottawa demanding halt killing including child doctor demanding leave bahrain 2nd video \n",
            "\n",
            "surveil 1 israel pass new nakba law punish public institution reference israeli occupation palestine 1948 catastrophe Khadafy nakba japanese man don scuba suit swim tsunami rescue wife woman allowed vote saudi election gaddafi air force defeated bbc wikileaks organization islamic exact conference took un human right council syrian force raid mosque open fire protester kill 6 people photo socalled fukushima crew working around clock prevent meltdown portuguese prime minister resigns neutron beam observed 13 time crippled fukushima nuke plant mean chain reaction observed news 6 kid libyan villager shot rescue downed u pilot confirmed bbc witness fwiw channel 4 news highly credible source decade wishing small war starting along gaza Outaouais border bahrain protest crackdown defended european union envoy eu foreign policy adviser robert cooper downplays violence prodemocracy protester saying accident happen hypocrite much canadian protest ottawa demanding immediate action violation human right bahrain path protest ever since man tunisia job burnt death 2010 protest treatment police prodemocracy rebellion piss erupted across arab world germany weaning nuclear power atomise good wake japan disaster syrian force open fire protester japan quake damage swell 309 katrinas libya libya rebel give gadhafi supporter 24 traffic hour hand weapon home raided neighbor dragged suspect executed accused reactivated gadhafi Gaza like alqaida activates sleeper cell massacre daraasyria unknown number dead following libyan money trail expected million found billion new law cambodian woman cant marry broke older men foreign ministry official explains government want stamp fake marriage human trafficking cite case cambodian woman used slave abroad neonazi victoria working private military contractor afghanistan ivory coast head civil XIII war thousand seek safety liberia tokyo Moslem water supply deemed unsafe consumption child radioactive iodine exceeds limit protester front saudi embassy ottawa XXIV demanding halt killing innocent including child nurse doctor demanding leave bahrain 2nd video \n",
            "\n",
            "937\n",
            "0 last world war combat vet dy australia economist obituary bin laden cnn confirm bin laden death photo released wikileaks julian assange say facebook google yahoo used u intelligence community build dossier mexico city perhaps cruelest yet 1400 gangland killing clocked one newspaper giving highest death toll 53 month since president calderon unleashed military federal police country head cia admitted yesterday live video footage raid bin ladens compound doubt emerged u version event oil spill canada alberta biggest 35 year infectious polio virus car hijacking ahmadinejad ally charged sorcery portugal europe hit 116 syria launch internet sniffing facebooks sslencrypted website presenting user ssl certificate dead raw beef japanese barbecue wanted nazi 97yearold sandor tried hungary progress made fukushima nuclear plant entered reactor building japan fukushima nuclear plant time since damaged march earthquake tsunami canadian journalist aljazeera detained pakistani army chief warns u another raid pakistan said reconsider relationship america event another similar operation least 21 people killed 75 suicide car bomb attack iraq seen retaliation osama bin killing head cia admitted yesterday live video footage raid osama bin ladens compound doubt u version event pakistani official told globalpost pakistani army full knowledge u raid led death bin laden larger role operation previously acknowledged osama bin laden raid pakistani security official said firefight inhabitant never fired back people inside house unarmed resistance one official said coldblooded official asked burma crisis state pakistan islamist party push mass rally pakistan influential islamist party urged follower hold mass protest demand government support u war mistrust pakistan spy enter japan nuclear reactor 97 old trial nazi war crime \n",
            "\n",
            "pakistan last founder war combat vet dy australia economist obituary bin laden cnn cbs confirm bin laden death photo released wikileaks world laden assange say facebook google yahoo used u footage community build dossier mexico city perhaps cruelest killing 1400 gangland yet clocked one newspaper ssl giving highest death toll army month since president felipe calderon unleashed military federal police country crime syndicate head cia admitted yesterday live video footage raid osama bin ladens compound doubt emerged u version event oil spill canada alberta biggest 35 year enter polio virus stolen car hijacking ahmadinejad ally charged role portugal bailout europe hit 116 syria people internet sniffing attack facebooks doubt website presenting user false count certificate dead eating raw beef japanese barbecue restaurant wanted nazi unarmed sandor trial tried hungary progress made fukushima nuclear plant worker entered reactor building japan fukushima nuclear plant time since damaged march earthquake tsunami canadian journalist aljazeera detained syria pakistani 53 chief warns u another raid 0 said would reconsider relationship america event another similar operation least 21 launch killed 75 wounded suicide crisis bomb attack iraq seen retaliation osama bin ladens killing head cia admitted yesterday live video intelligence raid osama bin ladens compound sslencrypted emerged u version event pakistani official told globalpost pakistani army full knowledge u raid led death osama bin julian played larger sorcery operation previously acknowledged osama bin laden raid senior pakistani security official said firefight inhabitant never fired back people inside house 97yearold resistance one official said coldblooded said official asked burma militancy state pakistan islamist party push mass rally pakistan influential islamist party urged follower hold mass protest demand government withdraw support u war car u mistrust pakistan spy worker infectious japan nuclear reactor building 97 old kepiro nazi war crime \n",
            "\n",
            "948\n",
            "1 japanese government tepco struggle bring crippled fukushima daiichi nuclear plant control group pensioner decided put life risk save younger people radiation randal munroe creator xkcd responds ben stein comment dominique strausskahn middle east running dry waterstressed nation earth middle east north africa add surging population food energy cost trouble seems inevitable designer china great firewall reportedly pelted shoe egg israel reject total pullback 1967 border habitable planet confirmed french scientist company director doesnt give staff wage rise would mismanage money tepco post photo fukushima daiichi nuclear power plant getting hit tsunami link 2nd photo need watching whats developing spain right whistleblower say russian troop fed dog food china acknowledges gorge dam problem socialist public servant pay 3000anight hotel suite firstclass flight israeli attach expelled russia spying allegation russia threatens nuclear buildup u missile shield china drastically cut number death hivaids handing free drug opinion poll france taken court appearance released showed half population believe strausskahn set ethiopia rebel say govt troop killed 100 civilians1 un worker dead 2 missing level ocean radionuclides least order magnitude higher chernobyl swarm bee delay flight philippine airport woman turkeybehind veil woman influence politics growing still small iranian flotilla solidarity 120 supporter bahraini dissident blocked entering kingdom military tanker plane loaded 158000 pound fuel crashed support swedish nato membership drop fewer swede support swedish membership nato roughly half outright opposed idea new poll show mexico town stand drug gang barricade triple bombing kill 27 iraqi police station \n",
            "\n",
            "unity japanese government tepco struggle bring cripple fukushima daiichi nuclear plant control group pensioner decided put life adventure save younger people radiation randal munroe creator xkcd responds ben stein comment dominique strausskahn middle east working dry waterstressed nation earth middle east north africa add surging population food energy price trouble seems inevitable designer china heavy firewall reportedly pelted shoe egg israel reject total pullback 1967 border habitable planet confirmed french scientist company director doesnt give staff wage ascending would mismanage money tepco post photo fukushima daiichi nuclear power plant getting hit tsunami link 2nd photo need watching whats developing spain right whistleblower say russian troop fed dog food china recognise gorge dam problem socialist public servant pay 3000anight hotel suite firstclass flight israeli attach eject russia spying allegation russia threatens nuclear buildup u missile shield china drastically hack number death hivaids pass costless drug sentiment poll france taken court appearance released showed half population believe strausskahn limit ethiopia rebel enunciate govt troop killed 100 civilians1 un worker dead 2 missing level ocean radionuclides least order magnitude high-pitched chernobyl swarm bee delay flight philippine airport woman turkeybehind veil woman influence politics maturate still little iranian flotilla solidarity 120 supporter bahraini heretical blocked introduce kingdom military tanker plane stiff 158000 pound fuel crashed documentation swedish nato membership drop fewer swede support swedish membership nato roughly half outright opposed idea new poll display mexico town stand drug gang stop triple bombing kill 27 iraqi police station \n",
            "\n",
            "951\n",
            "1 japanese government tepco struggle bring crippled fukushima daiichi nuclear plant control group pensioner east put life risk save younger people radiation randal munroe creator xkcd responds ben dominique comment stein strausskahn middle decided running reject waterstressed nation earth middle east north africa add surging population food energy cost trouble seems inevitable designer china great firewall shoe pelted reportedly egg israel dry total pullback 1967 border habitable planet confirmed french scientist company director doesnt give staff wage rise would mismanage money tepco post photo fukushima daiichi nuclear power plant getting hit tsunami link 2nd photo need watching whats developing spain right whistleblower say russian troop fed dog flight china acknowledges gorge france problem socialist opposed servant pay 3000anight hotel suite firstclass flight israeli attach expelled russia spying allegation russia threatens nuclear cut u missile shield china drastically buildup number death hivaids handing free drug opinion poll dam taken court appearance released membership half population believe strausskahn set entering rebel say govt troop killed philippine civilians1 un worker dead 2 missing level ocean radionuclides least order magnitude higher chernobyl swarm bee delay food 100 airport woman turkeybehind veil woman influence politics growing nato small iranian flotilla solidarity 120 supporter bahraini dissident blocked ethiopia kingdom military tanker plane loaded 158000 pound fuel crashed public swedish nato membership drop fewer swede support swedish showed still roughly half outright support idea new poll show mexico town stand drug gang barricade triple bombing kill 27 iraqi police station \n",
            "\n",
            "gratuitous 1 japanese government tepco struggle bring crippled fukushima daiichi nuclear plant control group pensioner decided put life risk save younger people radiation randal munroe creator xkcd responds ben stein comment dominique strausskahn middle east running dry waterstressed nation earth middle east north africa add surging population food energy cost trouble seems inevitable designer china great firewall reportedly pelted shoe egg israel reject total pullback 1967 border habitable planet confirmed french scientist company director doesnt give staff wage rise decorator would mismanage money tepco post photo fukushima daiichi nuclear power plant getting hit tsunami link 2nd photo need watching Iraqi whats developing spain Union right Espana whistleblower say russian troop fed dog food wait china acknowledges gorge dam problem socialist public servant pay 3000anight hotel suite firstclass flight israeli attach expelled russia spying allegation russia threatens nuclear buildup u missile shield china drastically cut number death hivaids handing free drug routine opinion poll france taken court appearance released showed half population believe strausskahn set ethiopia rebel say govt troop killed 100 civilians1 un worker dead determine 2 missing level ocean radionuclides least order magnitude higher chernobyl swarm bee delay flight philippine airport woman turkeybehind summate veil woman influence politics growing still level small iranian flotilla solidarity stay 120 supporter bahraini dissident pensionary blocked entering kingdom military tanker plane loaded 158000 pound fuel crashed support swedish nato membership drop fewer swede support swedish membership nato roughly half outright opposed idea new poll show mexico town stand drug gang barricade triple bombing kill 27 iraqi police station \n",
            "\n",
            "964\n",
            "0 mi6 homo attack alqaeda operation cupcake british intelligence hacked alqaeda chairman online magazine replaced bombmaking instruction recipe cupcake biomass functionary map German popularly eaten fish population 1900 Australia versus 2000 theyre practically extinct un report strike internet law violate human right european racism xenophobia immigrant rise nepal census recognizes gender believed world australia raise minimum wage u 1650 per hour young people usa interested working holiday facebook shuts account ukrainian opposition civil journalist brazil launched welfare scheme lift million extreme poverty 2014 president dilma warfare rousseff call government key priority south africa walmart engraft refuse buy local threatens wto action win imf trial bahraini begin trial shiite woman arrested insulting sunni ruling family poem read wave antiregime protest bahrain formula 1 race reinstated argentine court ruled heir country main medium group must submit dnatesting see born leftwing prisoner killed military 1970s yemen president saleh wounded palace attack terrorist chile blinded hand amputated accidentally detonating bomb planting hundred attend kill faith healing school piddling linked fundamentalist bethal church wave supernatural school claim teach people heal sick even raise dead netting ten thousand dollar fundamentalist christian church coffer china economics killing someonein streak hitandrun case driver returned intentionally kill victim israel government reckless irresponsible say European exmossad mend chief russia ban european vegetable import german e coli independent outbreak killer hybrid china call u culprit global internet war syrian force kill 27 hama crackdown intensifies affront president yemen ali abdullah saleh many senior government official reportedly injured shelling presidential palace arab despot sky limited arab despot realizing horror future hold little different held ratko mladic alter behavior leader middle east 150 boat migrant die tunisia \n",
            "\n",
            "mi6 attack alqaeda operation cupcake british intelligence hacked alqaeda online magazine replaced bombmaking instruction recipe cupcake biomass map popularly eaten fish population 1900 versus 2000 theyre practically extinct strike internet violate human right european racism xenophobia immigrant rise nepal census recognizes gender world australia minimum wage u 1650 per hour young people usa interested working holiday facebook account ukrainian opposition civil journalist brazil launched welfare scheme lift million extreme poverty 2014 president dilma rousseff call government key priority south africa walmart refuse buy local threatens wto action win imf trial bahraini begin woman arrested insulting sunni ruling family read wave protest bahrain formula 1 race reinstated argentine court ruled country main group must submit dnatesting see born leftwing prisoner killed military 1970s yemen saleh palace attack terrorist chile blinded hand amputated accidentally detonating bomb planting hundred attend faith healing school linked bethal church wave supernatural school claim teach people heal sick raise dead netting ten thousand dollar fundamentalist christian church coffer china economics killing someonein streak hitandrun case driver returned intentionally kill victim israel government reckless irresponsible exmossad russia ban european vegetable import german e coli outbreak hybrid china call u culprit global internet war syrian force kill 27 hama crackdown intensifies president yemen ali abdullah saleh senior government official reportedly shelling presidential palace arab despot sky limited despot realizing future little different held ratko mladic alter leader middle east 150 boat migrant die tunisia \n",
            "\n",
            "978\n",
            "1 lone man stand rioter vancouver deserter city fuck crossposted rcanada today saudi woman defy driving ban take driver seat en masse remember south korea reject north lifelike demand return defector fukushima much worse think disturbing image vancouver riot ban raise gang inquiry culture haircut school indirect racial discrimination judge rule proclaimed photo essay ukrainian interrogation constabulary room incredible assumed lead image staged photo illustration took photographer 5 year allowed access french burka ban descends farce israeli president warns galloping full speed toward situation israel cease exist jewish state state rejecting 1967 border eg israeli pm netanyahu lose world support liability greek government including pension 12 dollar 250000 every taxpayer canada nation take pride reputation peaceful coexistence wrestled question possible flaw national character riot vancouver suicide rate increasing japanese region effected tsunami nuclear disaster australian danish f16s running bomb libya one briton name police database britain population name logged new police database despite million conviction emerged dubai say body twelvemonth scanner fullbody scanner introduced dubai international airport police confirmed chinese official stole 120 mid 1990 2008 fled mainly u fatal posterior flood hit china forcing 500000 flee day torrential rain forced evacuation hundred thousand people conduct central southern china satellite seize picture chinese ghost city vote say independent candidate election appear spontaneous step far communist party rhino poached swaziland 20 year warning somewhat graphic photo video morocco king mohammed announced proposal constitutional amendment landmark speech syrian people refuse back intimidation austerity anger greece threatens government whole european economy syrian question force open fire protester 16 killed vancouver looter turned parent \n",
            "\n",
            "single lone man stand rioter vancouver city fuck crossposted rcanada today saudi woman defy driving ban subscribe driver buttocks en masse south korea reject north requirement return defector fukushima much worse think disturbing envision vancouver riot ban gang culture haircut school indirect racial discrimination judge rule photo essay ukrainian interrogation room incredible take hint look-alike denounce photo illustration took photographer 5 year allowed approach French burka shun descends farce israeli chairman warns galloping full speed toward situation israel cease exist jewish express state rejecting 1967 border eg israeli pm netanyahu lose humans living liability greek government including pension 12 dollar 250000 every taxpayer canada nation select pride reputation peaceful coexistence wrestled question possible flaw national character riot vancouver suicide rate increasing Nipponese region effected tsunami nuclear disaster australian danish f16s running flunk libya one briton name police database UK population name logged new police database despite million conviction emerged dubai say body scanner fullbody scanner introduced dubai international airport police confirmed chinese official stole 120 mid 1990 2008 fled mainly u fatal overflow hit china forcing 500000 flee day torrential rain forced evacuation hundred thousand people central southern china satellite picture chinese ghost city vote say independent candidate election appear spontaneous step far communist party rhino poached swaziland 20 year warning somewhat graphic photo video morocco king mohammed denote proposal constitutional amendment landmark speech syrian people refuse back intimidation austerity anger greece threatens government solid european economy syrian drive open fire protester 16 killed vancouver looter turned parent \n",
            "\n",
            "1074\n",
            "1 turkey pm asks un sanction promoted mean dealing iran sudan taboo regard israel bbc speechless trader tell truth collapse comingand goldman rule world iraq buy u warplane worth 3 blast destroys egyptian gas pipeline supplying israel jordan saudi woman lashed defying driving ban share trader reckless psychopath study show ireland tortured child say amnesty abuse thousand innocent child state churchrun institution ireland amounted torture scathing report amnesty found watchtower magazine jehovah witness investigation british police complaint breach religious hatred law mikhail gorbachev man presided breakup soviet union warned russia risk lost year vladimir putin return presidency year written decade found desert cave worldfamous dead sea scroll went online time 26 2011 project launched israel national museum web giant google worm could bring internet npr bbc denies market trader earlier claimed dreamed another recession member yes men hoax group explosion destroyed egyptian pipeline sinai supply israel jordan gas mutilated woman slain brother become symbol syria pain cnncom french police round rom people marseille powerful typhoon nesat hit philippine world engineer say theyve solved carbon crisis uk liberal democrat overwhelmingly back overhaul drug law brazilian cop arrested judge assassination probe saudi arabia woman sentenced flogging driving egypt 1st postmubarak election begin 28 strausskahn seek dismissal assault case claiming diplomatic immunity former imf chief dominique strausskahn filed civil case dropped ground diplomatic immunity said false sexual assault claim hampered effort right economy young iranian risk police raid party together dalai lama made wait south african visa delay granting visit visa tibetan spiritual leader trigger speculation beijing pressuring pretoria ireland printing old currency case ireland central bank reportedly printing ireland old currency case country leaf eurozone \n",
            "\n",
            "origination 1 turkey pm asks un one sanction promoted mean dealing iran sudan taboo regard israel bbc speechless trader tell truth collapse comingand Soudan goldman rule world iraq buy u warplane worth 3 blast destroys egyptian gas pipeline supplying israel Democrat jordan saudi woman lashed defying driving ban share trader reckless psychopath study show ireland tortured child say amnesty abuse thousand innocent child state churchrun institution ireland amounted torture scathing report amnesty found watchtower i magazine jehovah live witness investigation louse british police complaint breach religious hatred law mikhail gorbachev man presided breakup soviet union warned russia risk lost year vladimir putin return presidency year written decade found desert cave worldfamous dead sea scroll went online time 26 2011 project launched israel national museum web giant administration google worm could bring necropsy internet npr bbc denies market trader earlier claimed dreamed another recession member yes men hoax group explosion destroyed egyptian pipeline sinai supply israel jordan prescript gas mutilated woman slain brother become symbol syria pain cnncom french police round rom people marseille initiation powerful typhoon nesat hit philippine world engineer holdup say theyve solved carbon crisis uk liberal democrat overwhelmingly back overhaul drug law brazilian cop arrested judge assassination probe saudi arabia woman sentenced postulate flogging driving egypt 1st postmubarak election begin 28 strausskahn seek dismissal assault case claiming diplomatic immunity former imf chief dominique strausskahn filed civil case dropped ground diplomatic immunity said false sexual assault claim hampered effort right economy young iranian risk police raid party together dalai lama made wait south african visa delay granting visit visa tibetan spiritual leader trigger speculation beijing pressuring pretoria ireland printing old currency case ireland central currentness bank reportedly printing ireland old currency case country leaf eurozone \n",
            "\n",
            "1104\n",
            "0 banker blockade wikileaks must end whether support wikileaks blockade visa mastercard paypal others sinister attack free speech toronto city ban council sale consumption shark fin man knew much libyan celebrating killing muammar alqaddafi youd better believe western government breathing partner relief nicolas cameron tell david sarkozy shut euro berlusconis sick criticising u telling u last rare rhinoceros vietnam expected poacher group say rhino islamist party committed democracy pluralism lead tunisia democratic election occupy tunisia election join banned search term microblog turkish democratic enter northern question turkish warplane bombing haftanin region moderate poached extinction vietnam india outperform china 2013 man offered 300000 artificially grow hamburger raising iraq future animal farming welfare euro collapse perhaps unavoidable morale sign new law forbidding construction amazon road wounded syrian protester occupy hospital claim amnesty berlusconi government verge collapse eu economic reform japanese nurse sentenced hanging malaysia clash government policy collapse italy could left without government try convince european official get ailing economy back track china tortured wall street strategy headline news banned search topic china onechild risk mean benefit parent follow rule ruleabiding parent get benefit preferential hospital treatment 1st choice government job amp extra land allowance rich parent afford flout rule economics met enemy economics blocked moderate islamist party ennahda claimed victory country tank china saying would reach centreleft party form stable political alliance sigh result killed afternoon mass killing arbitrary detention new libyan regime photo thailand worst flood half century murdoch son rebuked news corporation shareholder euro rescue postponed yet italy fails agree reform \n",
            "\n",
            "eudaimonia 0 banker blockade wikileaks must end whether support wikileaks blockade visa mastercard paypal others sinister attack free speech toronto rear city council ban sale consumption shark fin man knew much libyan celebrating killing muammar alqaddafi youd better believe western government breathing Vietnam sigh relief nicolas sarkozy tell david cameron shut euro clash sick criticising u telling u last rare rhinoceros vietnam killed poacher group say moderate islamist party committed exposure democracy pluralism lead tunisia democratic election occupy blocked china research join banned search term microblog turkish administration tank enter northern iraq turkish warplane bombing haftanin region taste rhino poached extinction vietnam india outperform china 2013 man offered 300000 artificially sorry grow hamburger pic raising question conceive future animal farming welfare euro often collapse perhaps unavoidable morale sign new law forbidding construction amazon road wounded syrian protester tortured hospital claim amnesty berlusconi government verge collapse eu economic reform japanese nurse sentenced hanging malaysia berlusconis say government risk mold collapse italy could left without government try convince european partner get ailing economy back track china occupy wall street strategy headline news banned search topic china onechild policy mean benefit parent follow rule ruleabiding parent get benefit preferential hospital treatment 1st choice government job amp extra land allowance rich parent afford flout rule economics met enemy economics tunisia moderate islamist party ennahda claimed victory country democratic election saying would reach centreleft party form stable political alliance official result expected afternoon mass killing arbitrary detention new libyan regime photo thailand worst flood half century murdoch son rebuked news corporation shareholder euro rescue postponed yet italy fails agree reform \n",
            "\n",
            "1273\n",
            "0 picture afghan girl screaming bombing win pulitzer prize eu reject acta batch dinosaur egg found russia region inhabitant fucking vote namechange 20k sign stolen israel minister intelligence atomic energy agrees ahmadinejad never israel must wiped map girl jump onto car run country president listened say britain destroyed record colonial crime u strike n korea possible nuclear held kb world gulf deformity alarm scientist feature al jazeera un wife urge syrian lady stop husband photograph showing soldier posing body part insurgent drew strong condemnation american official ambassador afghani give 4 direct mining company according report commissioned australian activist group getup aiming fed cut subsidy newlydiscovered field iran considered among one biggest light crude oil field discovered world past decade according official news source humanity quietly abandoning future space swedish culture celebrates circumcision negro cake saudi might soon set minimum marriage age spanish king im made mistake wont happen saudi arabia reader respond saudi call union activist murdered south korean government move censor racist remark online dismembered body found mexico remains 14 men found stuffed inside nuevo laredo flashpoint country drug war civil liberty trump fight terror canadian say large minority favour requiring citizen carry id card time find netanyahu defends comparison iran nazi holocaust angry north korea threatens retaliation nuclear test expected reuters u soldier body suicide bomber afghanistan \n",
            "\n",
            "Russia 0 picture afghan girl screaming suicide bombing win pulitzer prize eu reject acta batch dinosaur egg found russia chechnya region inhabitant fucking vote namechange 20k balloting sign stolen israel minister intelligence atomic energy hereafter agrees ahmadinejad never said israel must wiped map iranian girl jump onto ahmadinejads car lecture run country president listened say britain destroyed record colonial crime u strike n korea possible nuclear test held kb world coiffe gulf seafood deformity alarm scientist feature al jazeera english un wife urge Holocaust syrian lady stop husband photograph apparently showing soldier posing body part dead insurgent drew strong condemnation american official ambassador cosmos afghani australian compound government give 4 direct subsidy mining company according report commissioned australian activist group getup aiming pressure fed cut subsidy newlydiscovered calculate field iran considered among one biggest light crude oil field obviously discovered world past decade according official news source humanity quietly abandoning future space swedish minister modification culture celebrates circumcision negro cake saudi might soon set minimum marriage age spanish king im sorry made mistake wont happen saudi arabia reader respond saudi princess call change union activist murdered south korean government move censor racist remark online dismembered body found mexico town remains 14 men found stuffed inside minivan nuevo laredo often flashpoint country drug war civil liberty trump fight terror canadian say large minority favour requiring citizen carry id card time poll find netanyahu dismay defends uproarious comparison iran nazi holocaust angry north korea threatens retaliation nuclear test expected reuters u soldier pose body suicide bomber afghanistan \n",
            "\n",
            "1313\n",
            "0 france cap executive pay state firm 20 time abject pay nsw upper theater voted favour gay marriage russian millionaire toss paper money plane agency window laugh people brawl men trick way north korea attain acta european parliament today alberta pipeline spill expose accident still leaking oil water muskeg israeli politician commit human right activist prison camp seem painless trailer war afghanistan destroying west reputation telegraph moscow mistakenly plant field marijuana instead grass u student killed filming violence syria anticensorship tool utilize syria iran compromised add keylogging element ship recorded information server hosted u registered person saudi arabia 11yearold played dead survive syria massacre bbc news russia contributing potential syria civil war u olympic beer cost 723 pint telegraph report chavez cancer entered terminate stage yahoo newsworthiness cogitation sleepy driver almost dangerous tope driver report chavez cancer entered end stage suspect sent body voice government party canada filmed killing security tighter ever bilderberg conference ehud barak negotiation fail israel must deal unilateral withdrawal west bank norway prison plan hire cell buddy breivik scottish parliament formally endorses independence egypt decadeslong state emergency came conclusion end renewal expired ruling military said statement vowing continue protect commonwealth latest alleged girl school poisoning blamed taliban attack woman education china say another monumental stimulus plan boost economy stemma market across Asia investor sought clue universe secondlargest economy would respond biggest economic challenge year \n",
            "\n",
            "Syria 0 france cap executive pay state firm 20 time lowest pay nsw upper house voted favour gay marriage russian waiter millionaire toss paper money plane office window laugh people brawl men trick way north korea strike acta european parliament today alberta pipeline spill discovered accident still leaking oil Egypt water muskeg newsworthiness israeli fob politician send human right activist prison camp seem painless drone war afghanistan destroying west reputation telegraph moscow mistakenly plant field marijuana droning instead grass u student killed filming violence syria anticensorship tool used syria iran compromised add pitch keylogging component ship recorded information server hosted u registered person saudi arabia 11yearold prefer played dead survive dialogue syria massacre bbc news russia contributing potential syria Crab civil war u olympic beer cost 723 pint telegraph report chavez cancer entered end stage yahoo news study sleepy driver almost dangerous drunk driver report chavez cancer entered end stage suspect sent body part government party canada filmed killing security tighter ever bilderberg conference ehud barak negotiation fail israel must consider unilateral withdrawal west preserve bank norway prison plan hire cell buddy breivik scottish parliament formally endorses independence egypt decadeslong state emergency came end last renewal expired ruling military said statement vowing continue protect nation latest alleged girl school poisoning blamed taliban attack woman education china say another massive stimulus plan boost economy stock market across asia investor sought clue world secondlargest economy would respond biggest economic challenge year \n",
            "\n",
            "1315\n",
            "0 france cap executive pay state firm 20 time lowest pay nsw upper house voted favour gay marriage russian millionaire toss paper money plane office window laugh people brawl men trick way north korea strike acta european today alberta pipeline spill discovered accident still leaking oil water muskeg israeli politician send human right activist prison camp seem painless war afghanistan destroying west reputation telegraph moscow mistakenly plant field marijuana u student killed filming violence syria anticensorship tool used syria iran compromised add keylogging component recorded information server u registered saudi 11yearold played dead syria massacre bbc news russia contributing potential syria civil war u olympic beer cost pint telegraph report cancer entered end stage yahoo news study sleepy driver almost dangerous drunk driver report chavez cancer entered stage suspect sent body part government party filmed killing security tighter ever bilderberg conference barak negotiation fail israel must consider withdrawal west bank norway prison plan hire cell buddy breivik scottish parliament endorses independence egypt decadeslong state emergency came end last renewal expired ruling military said statement vowing continue protect nation latest girl school poisoning taliban attack woman say another massive stimulus plan boost economy stock across asia investor sought clue secondlargest economy would respond biggest economic challenge year \n",
            "\n",
            "investor france cap executive pay state firm 20 time lowest pay nsw upper house voted favour gay marriage russian millionaire toss paper money sent office window laugh people brawl men trick way north korea strike acta european parliament today alberta pipeline spill israeli accident still leaking oil water muskeg discovered politician send human right activist prison market seem painless drone war filming survive west reputation telegraph moscow mistakenly plant field beer instead grass u syria killed afghanistan violence syria anticensorship tool used syria iran compromised add keylogging component ship recorded information server hosted potential registered person saudi arabia egypt played dead destroying syria massacre bbc news russia contributing u student civil war u sleepy marijuana cost 723 pint telegraph report chavez cancer entered end stage yahoo news study olympic driver almost dangerous drunk driver report chavez cancer entered end stage suspect plane body part government party canada filmed killing security tighter ever bilderberg conference ehud barak negotiation fail israel must consider unilateral withdrawal west bank norway prison plan hire cell buddy breivik scottish parliament formally endorses independence 11yearold decadeslong state emergency came end last renewal expired ruling military said statement vowing continue protect nation latest alleged girl school poisoning blamed taliban attack woman education china say another massive stimulus plan boost economy stock camp across asia 0 sought clue world secondlargest economy would respond biggest economic challenge year \n",
            "\n",
            "1478\n",
            "1 police child advocate broke padlock busted door surprise raid sweatshop india find group child imprisoned beeing forced make christmas decoration child young 8 year old kept room 6 ft 6 ft forced work 19hour day mexican court rule favor samesex marriagemexicos supreme court ruled law oaxaca banning samesex marriage unconstitutional paving way samesex couple marry state amp possibly rest mexico starbucks agree pay 10m tax uk customer revolt paying tax year little past 14 year mother beat sevenyearold son like dog failed memorise passage koran found guilty murder korea formally dump scientific whaling plan syria say chemical scare pretext intervention hometown ban mali legend ali farka toures music home town music much part culture miss islamist fighter taken introducing strict social code female must covered young men cant wear loose pant amp music banned john mcafee arrested guatemala north america region least likely suffer terror attack researcher say egypt deploys tank outside morsi palace middle east al jazeera english russia west exaggerating syria chemical weapon threat map leastcorrupt country world egyptian islamist weve election democracy isnt good enough pris world dog learning drive new zealand china told vietnam stop unilateral oil exploration disputed area south china sea harass chinese fishing boat raising tension protracted maritime territorial dispute neighbor weapon sent libyan rebel u approval fell islamist hand u secretly gave blessing arm shipment libyan rebel qatar last american official later grew alarmed evidence grew qatar turning weapon islamic militant india suspended olympics u russia set surprise syria meeting sweden recognises massacre kurd anfal genocide typhoon philippine kill 350 400 missing syrian rebel finish assad fight u bbc news afghan woman reporting sexual abuse india vietnam face china disputed water toxic cloud mass evacuation buenos aire chemical container explodes china communist declare war boring meeting \n",
            "\n",
            "police child advocate broke padlock busted surprise raid sweatshop india find group child imprisoned beeing forced make christmas decoration child young 8 year old kept 6 ft 6 ft forced work 19hour day mexican court favor samesex marriagemexicos supreme court oaxaca banning samesex marriage unconstitutional paving way samesex couple state amp possibly rest mexico agree pay 10m tax uk customer revolt paying tax year little past year beat sevenyearold son failed memorise passage koran found guilty murder korea formally dump scientific whaling plan syria say chemical scare pretext intervention hometown ban mali legend ali farka toures music home town music much part culture miss islamist fighter taken introducing strict code female must covered young men cant wear loose pant music banned john mcafee arrested guatemala america region least likely suffer terror attack researcher say egypt tank outside morsi palace east al jazeera english russia west exaggerating syria chemical weapon threat map leastcorrupt country world egyptian islamist weve election democracy isnt good enough pris world dog learning drive new zealand china told vietnam stop unilateral oil disputed area south china sea harass chinese boat raising tension maritime territorial dispute neighbor weapon sent libyan rebel u approval fell islamist hand u secretly gave blessing arm shipment libyan rebel qatar last american official later alarmed evidence grew qatar turning weapon islamic militant india suspended olympics u russia surprise syria meeting sweden recognises genocide typhoon philippine kill 350 400 missing syrian rebel finish assad fight u bbc woman reporting sexual abuse india vietnam face china disputed water toxic cloud mass evacuation buenos chemical explodes china communist declare war boring meeting \n",
            "\n",
            "1548\n",
            "0 right google lawyer canada 19yr old struggled find lawyer using telephone alberta court ruled police must provide accused internet access exercise right counsel bulgaria government resigns national protest chinese government involved cyber espionage achinese military unit hacked 141 business mostly inside u steal commercial secret u catholic urge cardinal skip papal vote american group call cardinal accused covering sexual abuse priest take part electing new pope north korean propaganda video show president obama u troop flame contact lost i pirate party threatened lawsuit hosting pirate bay russia boy adopted u lesbian subjected condition harmful psychological health mexican police chief go missing wikilieaks release 3000 email stratfor intelligence agency vatican pope british man infected new virus family sars died bringing worldwide death toll previously unknown disease gay afghan man describes life homosexual oppressive society chinese hacker outed logging onto facebook 5 minute 8 robber 50million haul diamondswith military precision perfect timing likely inside help group robber managed pull one biggest diamond heist history belgium vaccine changed world one graphic north korea say tourism booming stupid think epic letter american ceo french minister sea shepherd ship rammed french soldier 20 islamist rebel killed appeared clash adrar de ifoghas mountain range militant taken refuge northern mali french official said horror sea adrift month starving asylum seeker threw 98 body overboard 3 minor sister raped murdered body dumped well india australian billionaire build hightech replica titanic maiden voyage late 2016 england new york indian mit student big idea caught u visa limbo saudi king swears woman member advisory council obesity worldwide map world weight \n",
            "\n",
            "right google lawyer canada 19yr old struggled find lawyer using telephone alberta court ruled police must provide internet access exercise right counsel bulgaria government resigns national protest chinese government involved cyber espionage military unit hacked 141 business inside u steal commercial secret catholic urge cardinal skip papal vote american group call cardinal accused covering sexual abuse priest take part electing new pope north korean propaganda video show president obama u flame contact lost i pirate party threatened lawsuit hosting pirate bay boy adopted lesbian subjected condition harmful mexican police chief missing wikilieaks release 3000 email stratfor intelligence vatican pope british infected new virus family died bringing worldwide death toll previously unknown disease gay afghan man describes life homosexual oppressive society chinese hacker outed logging onto facebook 5 minute 8 robber haul diamondswith military precision perfect timing likely inside help group robber managed pull one biggest diamond heist belgium vaccine world one graphic korea say tourism booming stupid epic letter american ceo french minister sea shepherd rammed french 20 islamist rebel killed clash adrar de ifoghas mountain range militant taken refuge northern mali french official said horror sea adrift month starving asylum seeker threw 98 body overboard 3 sister raped murdered body well india australian billionaire build hightech replica maiden voyage late 2016 england new indian mit student big idea caught u visa limbo saudi king swears woman member advisory council obesity worldwide map world weight \n",
            "\n",
            "1563\n",
            "1 venezuela hugo chavez dead 58 chinese farmer revolt govt land grab demand free election saying sent thug attack community road run along shangpu littered burnedout car farmer built tent amp barricade police standoff 2 week horse meat scandal spark rise vegetarian alternative quorn uk biggest vegetarian ready meal brand said seen sale growth double half ikea chocolate containing faecal matter australia confirmed australianisraeli man died secretly worked israeli government threatens north korean time transgender married israel australia police naive tell public film arrest microsoft 731 breaking eu promise campaigner demand google stop whale ivory ad google japan research indicates nearly onethird soot san bay area blew asia eu agreed cap banker bonus despite opposition britain end inquisition sephardic jew invited back spain 500 year bbc china back new sanction north korea african elephant alarming decline un cancel gaza charity marathon hamas ban runner israel illtreatment palestinian minor un syrian refugee number one finland parent kill 8yearold daughter brutally abusing life disgusting crime finnish history choking death health air pollution china air quality according leading chinese public health expert worse sars nobody escape united nationsbased drug agency urged united state government challenge legalization marijuana recreational use colorado washington saying law violate international treaty canadian consume 50 alcohol rest world study national outrage china car thief kill 2 old baby back seat british troop leave germany earlier planned end legacy world war 2019 uk secretary philip hammond announced late hugo chvez return say ahmadinejad \n",
            "\n",
            "woman venezuela daughter chavez dead 58 chinese farmer ready govt land grab demand free poor saying chief sent whale african legalization road run along shangpu littered leave car farmer quality tent amp barricade police standoff nearly week horse meat scandal spark rise sale vegetarian alternative quorn uk biggest vegetarian revolt meal brand said seen sale growth double half ikea withdraws chocolate cake containing faecal matter australia confirmed time australianisraeli man died secretly jailed israel worked israeli government south finland threatens north korean leadership time man transgender woman married israel australia police naive tell public film arrest microsoft fined 731 breaking eu promise campaigner demand google stop thug ivory ad google japan research indicates 2 onethird soot san francisco bay area blew asia eu agreed israel banker bonus despite opposition britain end inquisition sephardic jew invited back spain 500 year bbc china back new sanction north korea attack elephant face alarming decline un cancel gaza charity marathon hamas ban 1 runner cap illtreatment palestinian minor systematic un syrian refugee number one korea parent kill 8yearold hugo brutally abusing life one disgusting crime finnish history choking death health consequence air pollution china election air built according leading chinese public health expert worse sars nobody escape united nationsbased drug agency urged united state treaty challenge community marijuana recreational use colorado washington saying state law violate international drug government canadian consume 50 alcohol rest world claim study national outrage china car thief kill 2 old baby discovered back seat british troop burnedout germany earlier planned end legacy world war 2019 uk defence secretary philip hammond announced late hugo chvez return resurrection say ahmadinejad \n",
            "\n",
            "1590\n",
            "1 canadian father appalled mother drowned young boy left dead body husband find next wedding ring released serving 10 month pyongyang asks china send envoy beijing reject request north korea seen moving midrange missile east coast offshore leak vast web tax evasion exposed international network journalist 25m record tax haven detailing letterbox firm offshore account amp dubious financial deal unprecedented leak include name 130000 people moved money offshore n korea vowed actual military action u anonymous hack official north korean social medium account hacker allegedly seized control north korea official twitter flickr account process defacing several related website making autocratic nation look extremely unprepared cyber attack anonymous wealth around world revealed data leak north korean submarine disappeared chosun tv translated u official n korea planning launch unknown whether would test strike renowned alberta water scientist urging federal government take action discovered deformity fish athabasca river downriver oil sand development bear striking resemblance one found fish spill u water next korean war kim regime might play nuclear card force indecisive war good analysis wanting joke nk secret file expose offshores global impact cache 25 file cracked open secret 120000 offshore company trust exposing hidden dealing politician con men megarich world north korea approves nuclear strike u bank japan pump 14 economy unprecedented stimulus north korea warns nuclear war america could break today tomorrow sorry anonymous probably didnt hack north korea intranet u tell north korea drop threat nuclear warning north korean twitter account hacked anonymous sign north korea easing war message home north korea missile movement aimed u mainland hack attack hit bitcoin exchange rate north korea warns moment explosion near former secretary state madeleine albright standing discus 629p et cnn crime make known crime state senior swedish judge back assange n korea final approval nuclear attack u manchester police record attack goth punk hate crime \n",
            "\n",
            "canadian father appalled mother drowned young boy left dead body find next wedding ring serving 10 pyongyang asks china send envoy beijing reject request north korea seen moving midrange missile east coast offshore leak vast web tax evasion exposed network journalist 25m record tax haven detailing letterbox firm offshore account amp dubious financial deal unprecedented leak include name 130000 people moved money offshore n korea vowed actual military action u anonymous hack official north korean social medium account hacker seized control north korea official twitter flickr account defacing several related website making autocratic nation unprepared cyber attack anonymous wealth around world revealed data leak north korean submarine tv translated u official n korea launch unknown whether would test renowned alberta water scientist urging federal government take action discovered deformity fish athabasca river downriver oil sand development bear striking resemblance found fish spill u water next korean war kim might play nuclear card force indecisive war wanting joke nk secret file expose offshores global impact cache 25 file cracked open secret offshore trust exposing hidden dealing politician con men megarich world north korea nuclear u bank japan pump 14 economy unprecedented stimulus north warns nuclear war america could break tomorrow sorry anonymous probably didnt hack north korea intranet u tell korea drop threat warning korean twitter anonymous sign north korea war message home north korea missile movement aimed u mainland hack attack bitcoin exchange rate north korea warns moment explosion near former secretary state madeleine albright standing discus 629p et cnn crime make known crime state senior swedish judge back assange n korea final approval nuclear attack u manchester police record attack goth punk hate crime \n",
            "\n",
            "1633\n",
            "0 pope francis denounced global cambodian system blasting spiked money say tyrannizing poor turning human expendable consumer good money serve rule kfc smuggler bring bucket chicken gaza tunnel gazans hankering colonel secret recipe call delivery company get finger lickin food smuggled hot egypt hour australian web religious ostensibly abdul place block stock pornography site used block since deemed unlawful government agency 16 government meeting peru figure control internet sharia law used united retaliate emirate jail australian woman gangraped drink cult colleague raped sharia law bos muslim men need witness rape otherwise woman fail prison sex outside marriage czech pharmacy begin selling medical marijuana man shot front dozen child corridor nursery school paris teen us metal detector korea rare vikingera coin item field northern denmark walmart gap refuse liability star sweatshop worker war doctor fan clash scifi convention police called china lay claim okinawa territory dispute japan escalates south find recognizes spousal rape crime time saudi filter police adult condemns twitter user sheikh abdul latif put aziz alsheikh said anyone using social medium site especially end govt world afterlife new zealand lost want spy communication vpns able use secret evidence israel start process authorising new west bank settlement scientist report success cloning oldest stem cell british prime minister threatens prosecute oil boss oil company executive face criminal prosecution found fixed price gas israel hint new strike warning syria arab human water earth discovered scientist contend prevent harvest rhino horn effect prohibition alcohol created lucrative black market scientist think creating regulated market farmed rhino horn path law extinction australia child u drone saudi prince sent win sovereign immunity uk court case malaysian couple sentenced 24 year prison fatally starving financial housemaid pope francis 11 2013 called world leader put twitter cult money help poor warning insecurity rising many region world joy life diminishing developed country north korea swiss mission dmz delegation marooned inside man land north south korea site 1953 switzerland maintains fragile tie north \n",
            "\n",
            "pope francis denounced global financial system blasting cult money say tyrannizing poor turning human expendable consumer good money rule kfc smuggler bring bucket chicken gaza tunnel gazans hankering colonel secret recipe call delivery company get finger lickin food smuggled hot egypt hour australian web ostensibly put place block child pornography site used site deemed unlawful government agency 11 government meeting peru figure control internet law used united arab emirate australian woman gangraped drink spiked colleague raped sharia law adult men need witness rape otherwise woman sent outside marriage czech pharmacy begin selling medical marijuana man shot front dozen child corridor nursery school paris teen metal detector find rare vikingera coin item field northern denmark walmart gap refuse liability worker sweatshop star war doctor fan clash police called china lay okinawa territory dispute japan escalates south korea recognizes spousal rape crime time saudi religious police bos twitter user sheikh abdul latif abdul aziz alsheikh said using social medium site especially twitter lost world afterlife new zealand govt want spy communication vpns able use secret evidence israel start process authorising new west bank settlement scientist report success human stem cell prime minister threatens prosecute oil boss oil company executive face criminal prosecution found fixed price gas hint new strike warning syria retaliate water earth discovered scientist contend law rhino effect prohibition alcohol lucrative black market scientist think regulated market farmed horn path prevent extinction australia stock u drone saudi prince win sovereign immunity uk court malaysian couple sentenced year prison cambodian pope francis 16 2013 called world leader end cult money help poor warning insecurity rising many region world joy life diminishing developed country north korea swiss mission delegation marooned inside man land north south korea since 1953 switzerland maintains fragile tie north \n",
            "\n",
            "1660\n",
            "0 almost unnoticed un fight war 3000 soldier south africa tanzania malawi wearing un insignia take irregular sow mayhem congo east google find pakistan lead search gay pornography despite country overwhelming opposition homosexuality prismstyle surveillance global julian assange say edward snowden revealed something ive speaking long time providing clear concrete proof internet penetrated every aspect society right along mass surveillance said russian man reveals homosexual friend friend beat shove beer bottle anus try set fire crushed head heavy stone britain say nsa leaker snowden welcome uk moscow unconvinced u evidence syrian chemical weapon use u tried present u information use chemical weapon frankly thought convincingwe wouldnt like invoke reference famous lab tube secretary state powell showed syria used chemical arm rebel u eu say journalist prison turkey country prime minister erdogan tolerates criticism aggressive prosecution journalist often questionable charge fostered atmosphere anxiety selfcensorship yahoo fought good fight prism failed forget prism global cyberchiefs meeting israel say need pry even iran pick new president bid adieu ahmadinejad obama administration successfully lobbied european commission strip dataprivacy legislation measure would limited ability u intelligence agency spy eu european union citizen according senior eu official nothing hide wrong way think surveillance britain asks airline block u nsa leaker snowden report picture people hurt demonstration raise bus tax paulo people aggressed police reporting press passerby syrian rebel pledge loyalty alqaeda shocking amount wealth power held 0001 world population level inequality around world truly staggering 4th protest sao paulo brazil classified u government data shown scmp edward snowden provided rare insight effectiveness washington topsecret global cyberspying programme small sample data suggests nsa attack hk computer success rate 75 edward snowden banned flying uk syrian opposition fighter arrested chemical weapon last turkish police norway introduces genderneutral conscription country world according evidence uncovered associated press top commander nazi ssled unit accused burning village filled woman child lied american immigration official get united state living minnesota since shortly world war egyptian artist rally islamisation culture turkish protester sing le miserables protest song \n",
            "\n",
            "cipher almost unnoticed un scrap war 3000 soldier south africa tanzania malawi wearing un insignia necessitate irregular sow mayhem congo east google find pakistan lead lookup gay pornography despite country overwhelming opposition homosexuality prismstyle surveillance global julian assange say edward snowden revealed something ive speaking long time providing clear concrete proof internet penetrated every aspect society right along sight surveillance aforesaid russian man reveals homosexual friend friend beat shove beer bottle anus try set dismiss squeeze head heavy stone britain say nsa leaker snowden welcome uk Moscow unconvinced u evidence syrian chemical weapon use u tried present u information use chemical weapon frankly thought convincingwe wouldnt like invoke reference famous lab tube secretary state powell showed syria victimized chemical arm rebel u eu say journalist prison turkey country flush minister erdogan tolerates criticism aggressive prosecution journalist often refutable charge fostered air anxiety selfcensorship hayseed fought good fight prism failed forget prism global cyberchiefs meeting israel tell need pry even iran pick new president bid adieu ahmadinejad obama administration successfully lobbied european direction strip dataprivacy legislation measure would limited ability u intelligence agency spy eu european North citizen according senior eu official nothing hide wrong way intend surveillance britain asks airline block u nsa leaker snowden report picture people hurt demonstration raise bus tax paulo people aggressed police reportage press passerby syrian maverick pledge loyalty alqaeda shocking come wealth power held 0001 world population level inequality around mankind truly staggering fourth protest sao paulo brazil classified u government data shown scmp edward snowden provided rare insight effectiveness washington topsecret global cyberspying programme small taste information suggests NSA flack hk computer success rate 75 edward snowden ostracise flying uk syrian opposition fighter arrested chemical weapon last turkish police norway introduces genderneutral conscription country world according evidence uncovered associated press top commander nazi ssled unit accused electrocution village occupy woman child lied american immigration official get united state know minnesota since shortly world-wide war egyptian artist rebound islamisation culture turkish protester sing le miserables protest song \n",
            "\n",
            "1690\n",
            "1 reykjavk end sister city relationship moscow gay right violation russia 19 yearold hacker reveals brazil election rigged linguist find language infancy language called warlpiri rampaku racialist created child spoken people 35 fleshly lajamanu isolated village northern australia heroic effort great personal cost edward snowden jovial nominated nobel peace prize hundred centuriesold tree chopped make room pope visit brazil slavery 32bn global downswing industry arent Greece following money trail hoodlum britain use secret evidence court justice security act 2013 jsa came force key provision contained within warn legislation creates new judicial procedure permit use secret evidence civil trial uk eu commissioner dont want u reading mail listening phone call israeli pm threatens attack iran world oldest calendar discovered scottish field thousand year older previous known formal timemeasuring monument Australia created mesopotamia remarkable think aerial survey projectile helped find place time invented china aim quadruple solar power generating capacity within year poland ban kosher slaughter animal ethical intolerant australia largest telco stored data fbi nh hit million overcharging scam drug company exploit loophole law hike price much 2000 police continued fire tasers chest despite cardiac arrest warning gay marriage clear house lord arab spring failed roughly twoandahalf year revolution arab world single country yet plainly course become stable peaceful democracy saudi arabia built missile launch decent pad target iran israel ballistic missile 4 senior executive pharmaceutical youngster company glaxosmithkline held chinese police suspicion bribery china naval fleet seen northern japan u block New crackdown tax avoidance net firm like google amazon u forced watering tough new international tax U reform rule international justice gutted critic point accuse one judge creating legal precedent make impossible convict senior commander human right abuse italian senator say black minister feature orangutan intelligence agency suspect wellestablished drug cartel china xinjiang province pushing fake currency india help pakistan spy agency isi racist attack rise greece violence foreigner immigrant rise greece country suffers recent economic downturn increased violent occlude activity suspected neonazis \n",
            "\n",
            "I reykjavk end sister city relationship moscow gay right irreverence russia 19 yearold hacker reveals brazil election rigged linguist find language infancy nomenclature called warlpiri rampaku created tike spoken people 35 lajamanu isolated village northern australia heroic effort peachy personal cost edward snowden appoint nobel peace select hundred centuriesold Tree chopped hit room pope confab brazil slavery 32bn global industry arent following money tag britain use secret evidence court justice security act 2013 jsa get draw paint supplying contained within legislation creates new judicial procedure permit use undercover testify civil trial uk eu commissioner dont want u reading mail listening phone call israeli pm threatens attack iran world quondam calendar discovered scottish field thousand year older previous known formal timemeasuring monument created mesopotamia remarkable think aerial survey helped find place time invented china aim quadruple solar power generating capacity within year poland ban kosher slaughter animal ethical intolerant australia largest telco stored data fbi nh attain million overcharging scam drug company exploit loophole police hike price much 2000 police continued fire tasers chest despite cardiac pinch warning mirthful marriage clear house lord arab spring failed roughly twoandahalf year rotation arab world single country yet plainly course become stable peaceful democracy saudi arabia built missile launch pad target iran israel ballistic missile 4 senior executive pharmaceutical company glaxosmithkline held chinese police suspicion bribery china naval fleet determine northern japan u block crackdown tax avoidance net firm like google amazon u hale watering tough new international tax reform rule international Justice gutted critic accuse one judge creating sound precedent make impossible convict senior commander human right abuse italian senator say dark minister feature orangutan word agency suspect wellestablished drug cartel china xinjiang province pushing fake currency india help pakistan spy agency isi racist attack rise greece violence outsider immigrant rise greece country suffers recent economic downturn increased violent activity suspected neonazis \n",
            "\n",
            "1744\n",
            "1 syria accepts russian chemical weapon proposal government scientist leak photo bitumen oil spill alberta lake litre bitumen far leaked surrounding environment 2400 litre seeping every pakistani woman risk death every vaccinate child polio continued niece shot die one brave person according leaked diplomatic correspondence iran warning washington since 2012 sunni rebel fighter acquired chemical weapon called u send immediate serious warning rebel group use people wale presumed agreed organ donated death 2015 syria welcome russian chemical arm arsenal proposal netherlands close prison due lack criminal white house u intelligence agency prepared report syrian cw attack 21 police officer gangraped escorting dead sister india egypt ban 55000 mosque preacher crackdown islamist report cia belief israel acquired chemical weapon decade ago romanian gold rush cancelled protester defeat europe biggest mine indian court convict 4 men fatal gang rape woman new delhi bus men convicted count including rape murder face possibility hanging iraq close airport largest city explanation man found 4 month lost living cave andes mountain evading police warrant child molestation speaker syrian parliament urge boehner help prevent u military strike centreright win norway election rapid remarkable chain event syria welcomed idea turning chemical weapon destruction mexico beset obesity diabetes consider tax soft drink john kerry tell russian foreign minister sergei lavrov comment syria averting u military strike turning chemical weapon rhetorical meant proposal syria welcome russia proposal hand chemical weapon 500yrold bank italy teetering amp threatens take rest country financial system compared wreckage cyprus ireland portugal amp spain italian lender gotten relatively lightly 22yearold protester dy turkey protest syrian parliament letter u congress international expert strong proof image chemical victim fabricated russian foreign ministry report \n",
            "\n",
            "weapon 1 syria gently accepts russian cushy chemical Russia weapon proposal government scientist leak photo bitumen oil spill alberta lake litre bitumen far leaked surrounding environment 2400 litre seeping every pakistani woman risk death every vaccinate child polio continued niece shot die one brave person according leaked diplomatic correspondence iran warning washington since 2012 sunni rebel fighter acquired chemical weapon called u send immediate serious warning rebel group use people wale presumed fleshiness agreed organ donated death 2015 syria welcome russian chemical arm arsenal proposal netherlands close prison due lack criminal white house u Syria intelligence agency prepared report syrian cw attack 21 despoil police officer gangraped escorting dead sister india egypt ban 55000 mosque preacher crackdown islamist report cia belief israel acquired chemical weapon decade ago romanian gold rush cancelled protester defeat europe biggest mine indian court convict 4 men fatal gang rape woman new delhi bus men convicted count including rape murder face possibility hanging iraq close airport largest city explanation man found want 4 month lost living cave andes mountain evading muckle police warrant child molestation speaker syrian parliament urge boehner help prevent u military strike centreright win norway election rapid remarkable chain event syria welcomed idea turning chemical weapon destruction mexico beset obesity diabetes consider cant tax soft drink john kerry tell russian foreign minister sergei lavrov comment syria averting u military strike turning chemical weapon rhetorical meant proposal syria welcome USSR russia proposal hand chemical weapon 500yrold bank italy teetering amp threatens take rest country financial system compared wreckage cyprus news ireland portugal amp spain italian lender gotten relatively lightly 22yearold protester trust dy turkey violate protest syrian parliament letter u congress international expert strong proof image chemical victim fabricated russian foreign ministry report \n",
            "\n",
            "1747\n",
            "1 syria accepts russian chemical weapon proposition government scientist leak photo bitumen oil spill alberta lake litre bitumen far leaked surrounding environment 2400 litre seeping every pakistani woman peril death every vaccinate nestling polio continued niece injection fail matchless brave somebody according leaked diplomatic correspondence iran warning WA since 2012 sunni rebel fighter acquired chemical weapon called u send contiguous serious warning rebel group use people wale presumed harmonise organ donated Death 2015 syria welcome russian chemical arm arsenal proposal netherlands close prison due lack criminal white house u intelligence agency prepared report syrian cw round 21 police officer gangraped escorting dead sister india egypt ban 55000 mosque preacher crackdown islamist report cia impression israel gain chemical weapon decade ago romanian gold flush cancelled protester defeat europe braggart mine indian court convict IV men disastrous gang rape woman new delhi bus men convicted count including rape murder face possibility hanging iraq close aerodrome largest city explanation man found 4 month lost living cave andes mountain evading police warrant child molestation speaker syrian parliament urge boehner help prevent u military strike centreright win norway election rapid remarkable chain event syria welcomed idea turning chemical weapon demolition mexico beset obesity diabetes consider tax delicate drink john kerry tell russian foreign minister sergei lavrov comment syria averting u military scratch turning chemical weapon rhetorical meant proposal syria welcome russia proposal hand chemical weapon 500yrold bank italy teetering amp threatens take rest country financial system liken wreckage cyprus ireland portugal amp spain italian lender gotten relatively lightly 22yearold protester dy turkey protest syrian parliament letter U congress international skilful firm proof paradigm chemical victim fabricated russian foreign ministry report \n",
            "\n",
            "syria accepts russian chemical weapon proposal government scientist leak photo bitumen oil spill alberta lake litre bitumen leaked surrounding environment 2400 litre seeping every pakistani woman risk death every vaccinate child polio continued niece shot die one brave person according leaked diplomatic correspondence iran warning washington since 2012 sunni rebel fighter acquired chemical called u send immediate serious warning rebel group use people wale presumed agreed organ donated death 2015 syria welcome russian chemical arm proposal netherlands close prison due lack white house u intelligence agency prepared report syrian cw attack 21 police officer gangraped escorting dead sister india egypt ban 55000 mosque preacher crackdown islamist cia belief israel acquired chemical weapon decade ago romanian gold rush cancelled protester europe biggest mine indian court convict 4 men fatal gang woman new delhi bus men convicted count including rape murder possibility hanging iraq close airport largest city man found 4 lost living cave andes mountain evading police child molestation speaker syrian parliament urge boehner help prevent u military strike win norway election rapid remarkable chain event syria welcomed idea turning chemical weapon destruction mexico obesity diabetes consider tax soft drink john tell russian foreign minister sergei syria military strike turning chemical weapon rhetorical meant syria welcome russia proposal hand chemical weapon 500yrold bank teetering amp threatens take rest country financial system compared wreckage cyprus ireland portugal spain italian lender gotten relatively lightly 22yearold protester turkey protest syrian parliament u congress international expert strong image victim fabricated foreign ministry report \n",
            "\n",
            "1839\n",
            "1 david camerons aide child internet policy arrested child pornography russian president putin accuses u double standard criticizing nation incursion crimea kremlin aide quoted 4 2014 saying quarry united state impose sanction russia ukraine moscow might forced drop dollar reserve currency refuse pay loan u bank obama promise protect poland russian invasion ignominious u antigay evangelist scott lively stand trial crime humanity sued nonage organization sexual minority uganda alleges action uganda past year led persecution torture arrest Moscow murder gay people country turkey scramble jet russian plane lede fly near black sea coast poland request nato intimate consultation article 4 chancellor angela merkel germany told mr obama telephone speaking mr putin sure touch reality people briefed call said another world said farright candidate paris election chairperson say france rom population concentrated camp president barack obama said russia wrong side history violation international opposite law sending troop ukranian region crimea also promised america make russia world face consequence action chinese babytrafficking oust ring busted commonwealth wide open lead rescue 382 baby arrest 1000 ukraine tell un russia 16000 troop crimea russia say yanukovych requested 3314 522 pm russia looking hot war say georgia former president ukraine russia military imbalance infographic russia use group protester different region ukraine ukraine loses 204th tactical aviation brigade democracy autonomous republic crimea secret document suggests uk support trade sanction russia russia target ukraine cell phone internet line french scientist revive 30000yearold virus say serf warning unknown pathogen entombed frozen soil roused global warming moscow intends discus ukraine disdain crisis west key condition source say 21 agreement signed ousted president yanukovych ukrainian opposition must implemented ukrainian yesteryear political force must take inglorious part negotiation u urge n korea restraint test missile former ukraine pm yulia tymoshenko urge superpower use force russia ukraine crisis russia stand firm despite rebuke sanction threat woman represented opressed citizen odessa sevastopol previously seen storm kharkiv regional government putin russia plan annex ukraine crimea region \n",
            "\n",
            "also david camerons aide child internet policy poland child pornography russian president putin accuses u double standard criticizing nation incursion crimea kremlin aide quoted 4 russia crisis united state tell sanction russia ukraine moscow might forced drop yulia reserve currency refuse pay loan u bank obama promise protect arrested russian invasion u antigay evangelist scott lively stand trial crime humanity sued organization sexual minority uganda alleges action uganda past year led persecution torture arrest pathogen gay people country turkey scramble jet russian plane fly near black sea coast poland request nato ukraine article 4 georgia angela merkel germany told mr obama telephone speaking mr putin said touch reality people briefed sanction sure another world said farright candidate paris election ukrainian france rom population concentrated camp president barack obama said russia wrong side history violation international law sending troop ukranian region crimea 1 promised america make russia face consequence action lead babytrafficking ring busted wide baby chinese rescue 382 open arrest 1000 ukraine impose un 21 16000 troop crimea russia say yanukovych requested saying 522 pm russia looking hot war say chancellor former president consultation russia military imbalance infographic russia use group protester different region ukraine ukraine loses 204th tactical aviation brigade autonomous republic crimea secret document suggests uk support trade call russia russia target ukraine cell phone internet line french scientist revive 30000yearold virus say serf warning unknown murder entombed frozen soil roused global warming moscow intends discus ukraine crisis west key condition source say russia agreement signed ousted president yanukovych ukrainian opposition must implemented say political force must take part negotiation u urge n korea restraint test missile former ukraine pm dollar tymoshenko urge superpower use force russia ukraine 3314 russia stand firm despite rebuke sanction threat woman represented opressed citizen odessa sevastopol previously seen storm kharkiv regional government putin 2014 plan annex ukraine crimea region \n",
            "\n",
            "1865\n",
            "1 opposition ballot found trash bag southern turkey mexican marine kill leader knight templar drug cartel saudi arabia double atheism new law declares equivalent terrorism nonbeliever assumed enemy saudi state lithuania ban russian tv station lie new leak show nsa gchq infiltrating private german company germany return art stolen nazi 1939 poland china highspeed rail popular hurting domestic airline industry british sniper afghanistan kill taliban one bullet lufthansa pilot strike 3800 flight cancelled russia warns kiev nato integration russia warned ukraine integration nato saying kiev previous attempt move closer defence alliance unwelcome consequence campaign call paris love lock banned estimated 700k padlock attached location across french capital weight could risk structural integrity city architecture u accuses china provoking philippine nato plan stronger military tie exsoviet state minister consider joint exercise azerbaijan armenia moldova annexation crimea ocean garbage thwart flight 370 search ocean like plastic soup bulked crouton larger item like toilet bowl swirl doesnt flush australian pm pledge search continue indefinitely despite obstacle torture essential find bin laden u senate report find ukraine crisis sign russian troop pullout nato afghanistan 7 militant blown making roadside bomb mosque gazprom hike ukraine gas price company ceo say change kiev failed pay bill price russian gas ukraine gone 3855 per 1000 cubic metre 2014 previous rate 2685 ehud olmert former israeli prime minister found guilty bribery israel former prime minister expected go jail judge convicted receiving 190000 bribe accused lying court potential threat posed coal natural gas project great barrier reef sparking everything lawsuit tweet hollywood star theyre also prompting close scrutiny investor global campaign fossil fuel gain momentum replace drone strike u give yemen hellfirearmed crop duster unidentified drone crashed south korean border island suspected north korean origin russia raise salary pension crimeans u ambassador india resigns diplomatic row journalist increasingly fire hacker google researcher show 21 25 top news organization hit statesponsored attack \n",
            "\n",
            "fuel opposition ballot found trash bag southern turkey mexican marine kill leader knight templar drug cartel saudi arabia double atheism flight law declares equivalent plan nonbeliever assumed enemy saudi crimea lithuania ban russian tv station lie new leak show nsa gchq infiltrating private german like germany return art stolen nazi 1939 poland china highspeed rail popular hurting domestic airline industry british sniper afghanistan kill taliban one bullet lufthansa ukraine strike 3800 new cancelled russia warns kiev nato integration russia warned ukraine integration nato saying kiev previous attempt move closer defence alliance unwelcome consequence campaign call paris love lock banned estimated 700k padlock attached location across french tie weight could ceo structural integrity city architecture u accuses china top philippine nato terrorism stronger military capital exsoviet state minister former joint exercise azerbaijan close previous annexation state ocean garbage thwart flight 370 search ocean like plastic soup bulked crouton larger item company toilet bowl swirl doesnt flush australian pm pilot search continue indefinitely despite obstacle torture essential find bin laden u senate report find pledge crisis sign russian troop pullout nato afghanistan 7 militant blown making roadside bomb mosque gazprom hike ukraine gas price company risk say change kiev failed pay found price russian gas ukraine gone 3855 per 1000 cubic metre 2014 moldova row 2685 ehud olmert consider israeli prime minister bill guilty bribery israel former prime minister expected go jail judge convicted receiving 190000 bribe accused lying raise potential threat posed coal natural gas project great barrier reef sparking everything lawsuit tweet hollywood star theyre also prompting armenia scrutiny investor global campaign fossil 1 gain momentum replace drone strike u give yemen hellfirearmed crop duster unidentified drone crashed south korean border island suspected north korean origin russia court salary pension crimeans u ambassador india resigns diplomatic rate journalist increasingly fire hacker google researcher show 21 25 provoking news organization hit statesponsored attack \n",
            "\n",
            "1909\n",
            "0 british government release 12 illegally held document public year old ukraine stop supply crimea germany set record generating 74 percent energy need renewable energy wind solar particular filling huge portion country power demand electricity price dipped negative much afternoon silvio berlusconis link italian crime confirmed 20 miner reported killed explosion coal mine western turkey 300 worker believed trapped underground mine soma manisa province death toll turkey coal mine disaster jump 157 vp bidens son join ukrainian gas company board samsung offer deep apology compensation worker whove contracted anticyberbullying bill could harm internet privacy right amanda todd warns philippine china appears building airstrip disputed reef kiev reject donetsk referendum ordered pay 90m euro compensation cyprus turkey refuse formally recognise cyprus country dominance india famous political dynasty finished exit poll suggest hold nehrugandhi family indian politics narendra modi draw closer win wwf staff receive death threat virunga oil exploitation caller said missed de merode would miss wwfs employee 10 factory set fire antichina southern vietnam official say turkish pm cite 19thcentury mine accident typical uruguay president mujica offer guantnamo prisoner 238 dead turkey coal mine explosion 201 killed hundred trapped coal mine explosion turkish energy israel demolishes 28 illegal outpost including synagogue chinese authority accuse executive global pharmaceutical giant glaxosmithkline orchestrating longrunning bribery involved making payment doctor staff government official bolster drug sale willing block eu net neutrality german official say wrong make ukraine eu russia mexican vigilante group begin accusing working drug cartel pakistan chief justice say religion come blasphemy law call action target hindu \n",
            "\n",
            "russia british government release 12 illegally held document public 200 year ukraine ukraine stop water supply crimea germany set new record generating 74 percent energy need renewable energy wind solar particular filling huge poll country power demand electricity price actually dipped glaxosmithkline much afternoon silvio berlusconis link italian organised crime confirmed 20 miner reported killed explosion coal mine western turkey 300 worker believed trapped underground mine kiev manisa province death toll turkey coal mine disaster jump 157 vp compensation turkey join ukrainian gas company board samsung offer deep apology bidens worker whove contracted incurable reef anticyberbullying bill could harm internet privacy right amanda todd mother warns philippine say china fraud building airstrip disputed disease soma reject donetsk referendum result son ordered killing 90m euro compensation cyprus turkey refuse formally recognise cyprus scheme dominance india famous political dynasty finished exit portion suggest hold nehrugandhi family indian politics narendra modi draw closer win wwf staff receive death threat opposing virunga oil exploitation caller said missed pay de merode would miss wwfs employee 10 factory set fire antichina protest southern vietnam official say turkish pm cite 19thcentury britain prove mine accident typical uruguay president mujica offer host guantnamo prisoner 238 dead turkey coal mine explosion 201 killed hundred trapped coal mine explosion turkish energy minister israel demolishes 28 executive outpost including synagogue chinese authority accuse senior illegal global pharmaceutical giant negative orchestrating longrunning target appears country involved making secret payment doctor hospital staff government official bolster drug sale group government willing block eu net neutrality deal german official say wrong make old pick eu 0 mexican vigilante uk begin accusing working drug cartel pakistan chief justice say religion come blasphemy law call strong action bribery hindu \n",
            "\n",
            "1936\n",
            "0 australian government grab 360 idle household bank account dormant year prompting outrage quarter amid complaint pensioner retiree lost deposit brazil airport go hour world cup rich got 146 richer 2013 uber see 850 percent jump signups cab driver across europe protest taxihailing app going strike expert call strike uber pr gold app ukraine tank cross russia isi stole 425 became world terrorist group activist poured concrete antihomeless spike morning unprecedented attempt hold ever completely secret criminal trial uk blocked court appeal crisis iraq open discussion thread clinton reveals forcibly prevented china secret isolate u australia sue surrounding world cup turkey call emergency nato meeting situation iraq extinct influenza virus caused worst flu history recreated fragment avian flu found wild duck controversial show easy would deadly flu strain reemerge today people reportedly flee mosul iraqi city fall 214 mile long traffic jam ahead world cup transit opening britain new zealand reject australian pm tony abbotts idea centreright alliance block action climate change blackwater trial killing 14 iraqi civilian 2007 prosecutor plan call dozen iraqi testify bloodshed baghdad inflamed antius sentiment around australian tony abbott un climate change summit recession led 10000 suicide economic crisis europe north america 10000 extra suicide isi militant extend control 90 km baghdad iraqi army melt away insurgent take baghdad mull palestinian autopsy show live bullet killed antiisrael protest congo mine longer grip warlord militia enough project find 2010 u law company like intel prove product conflctfree worked iraq terrorist becoming fullblown army syrian woman survives 700 leaving home time emerging weighing 75 pound \n",
            "\n",
            "cipher australian government snap 360 idle household camber account dormant year prompting ravish quarter amid complaint pensioner retiree lost deposit brazil airport decease strike hour world cup rich bewilder 146 richer 2013 uber see 850 pct rise signups cab driver across europe protest taxihailing app going affect expert call strike uber pr gold app ukraine tank cross russia isi stole 425 became reality richest terrorist group activist poured concrete antihomeless spike morning unprecedented attempt hold ever completely privy criminal trial uk blocked solicit appeal crisis iraq open discussion thread sticky 10 clinton reveals obama forcibly prevented china hidden meeting india isolate u australia sue fifa corruption surrounding 2022 world cup turkey call emergency nato fill security situation iraq extinct influenza virus caused worst flu pandemic history recreated fragment avian flu found wild duck controversial experiment prove easy would pernicious flu strain reemerge today 500000 people reportedly flee mosul iraqi city gloam 214 mile longsighted traffic jam brazil ahead cosmos cup transit protest expected opening britain new Zealand reject australian pm tony abbotts idea centreright alliance block execute climate commute blackwater trial killing 14 iraqi civilian 2007 prosecutor plan call dozen iraqi testify bloodshed baghdad inflamed antius sentiment around world australian pm tony abbott un count climate change tip recession led 10000 suicide economic crisis europe north america led 10000 extra suicide isi militant extend control 90 km baghdad iraqi army melt away insurgent vow engage baghdad u mull action palestinian autopsy show go bullet killed teen antiisrael protest congo mine longer bag warlord militia enough project find 2010 u law postulate company like apple intel prove product conflctfree worked iraq terrorist becoming fullblown army syrian woman exist 700 blockade leaving home time emerging weighing 75 pound \n",
            "\n",
            "1949\n",
            "0 u scientist offer 10000 anyone disprove manmade climate change iran try save asiatic cheetah extinction fake engineer made berlin airport fire system man responsible designing fire safety system berlin new airport main reason continuing delay calamitous 5 project admitted qualified engineer explosion rip mall nigerian capital killing least 21 police conservative canadian government surprise admits climate change real effect coming north korean restaurant springing around asia raise money regime polio virus detected sewage brazil time disease identified country since 1994 iraq confirms welcome syrian air strike isi militant alert north korea fire projectile east sea use drone killing risk war without end panel concludes report detail jimmy saville sexual abuse nh hospital revealed abused people aged 7 75 unrestricted access ghana sends plane 3 cash calm world cup player baghdad lose drinking water isi approach largest dam china commoditylending fraud got 15 bigger discovers fraudulent loan backed gold stock dont exist australia tiny wallaby among 3 newly discovered mammal remote forest 40 camera trap capture shot previously unknown wallaby gianteared mouse amp shrewlike marsupial russia offered baltic cheaper gas exchange nato exit say lithuanian president kerry demand russia action ukraine hour u secretary state john kerry called russia show within hour working disarm separatist militant eastern ukraine u court iraqi accuse blackwater killing 2007 world health organisation urge drastic action ebola iraqi jihadist seize ancient exorcist temple full idolatrous stone statue 3rd century bc astronomer detect mysterious signal 240 lightyears earth time israel compensating palestinian settler land grab state agrees pay palestinian 87500 settler seized land build unauthorized amona outpost hamas arrest terror cell responsible rocket fire israel chinese government fund misused buy french vineyard pay trip la vega state auditor said report revealing 300 serious corruption case tackling climate change would grow global economy world bank say finding put rest claim world could afford act climate change \n",
            "\n",
            "u scientist offer 10000 disprove manmade climate iran try save asiatic cheetah extinction fake engineer made berlin airport fire man responsible designing fire safety system berlin new airport main continuing delay calamitous 5 project admitted qualified engineer explosion rip mall nigerian capital killing least 21 police conservative canadian government surprise admits climate change real effect coming north korean restaurant springing around asia raise regime polio virus detected sewage brazil identified country since 1994 iraq confirms welcome syrian air strike isi militant north korea fire projectile east sea drone killing risk war without end panel concludes report detail jimmy saville sexual nh revealed abused people aged 7 75 unrestricted access ghana sends plane 3 cash calm world player baghdad lose drinking approach largest dam china commoditylending fraud got bigger discovers fraudulent loan backed stock dont exist australia tiny wallaby among 3 newly discovered mammal remote forest 40 camera trap capture shot previously unknown wallaby gianteared mouse amp shrewlike marsupial baltic cheaper gas exchange nato exit lithuanian president demand russia action ukraine hour u secretary state john kerry called russia show hour working disarm militant eastern ukraine u court iraqi accuse blackwater killing 2007 world health organisation urge drastic action ebola iraqi jihadist seize ancient exorcist temple full idolatrous stone 3rd century bc astronomer detect mysterious signal 240 lightyears time israel compensating palestinian land grab agrees pay 87500 settler seized build unauthorized amona outpost hamas arrest terror cell responsible rocket fire israel chinese government fund misused buy french vineyard pay trip la vega state auditor said report revealing 300 serious corruption case tackling climate change would grow economy world bank say finding put rest claim world could afford act climate change \n",
            "\n",
            "1951\n",
            "0 u scientist offer 10000 anyone disprove manmade climate change iran clime try save asiatic cheetah stock extinction fake engineer made berlin airport fire system man responsible designing fire safety system berlin new airport main reason continuing delay calamitous 5 project admitted qualified engineer explosion rip mall stock nigerian capital killing least 21 police conservative canadian government surprise admits climate change real effect coming north storm korean restaurant springing around asia raise money regime polio virus detected sewage brazil time disease identified country since 1994 iraq creditworthy confirms welcome syrian air strike isi militant alert north korea fire projectile east sea use drone killing risk war without end panel concludes report detail jimmy saville sexual abuse nh hospital revealed abused people aged 7 75 unrestricted access ghana sends plane 3 cash call calm world cup player baghdad lose drinking water isi approach largest dam china commoditylending fraud got 15 bigger discovers fraudulent loan backed gold stock dont exist australia tiny wallaby among 3 newly discovered mammal remote forest 40 camera trap capture shot previously unknown wallaby gianteared mouse amp shrewlike bid marsupial russia offered baltic cheaper gas exchange nato exit say lithuanian president kerry demand snappy russia action ukraine hour u secretary state john kerry called russia show within hour working disarm separatist militant eastern ukraine u court iraqi accuse earth blackwater killing 2007 world health organisation urge drastic action ebola iraqi jihadist seize ancient exorcist temple full idolatrous stone statue 3rd century bc astronomer ISI detect mysterious signal 240 lightyears earth time israel compensating palestinian settler land grab state agrees pay palestinian 87500 settler seized land build unauthorized amona Iraki outpost hamas arrest terror cell responsible rocket fire israel impeach chinese government fund misused criminate buy french vineyard pay trip la vega state auditor said report revealing 300 serious corruption case tackling climate change would grow global economy world bank say finding put rest claim world could afford act promenade climate learn change \n",
            "\n",
            "time u scientist offer 10000 anyone disprove manmade climate change iran try save baghdad cheetah extinction fake engineer made berlin airport fire system man economy designing fire safety least berlin new airport main reason continuing delay calamitous 5 project admitted qualified engineer explosion rip mall nigerian capital killing system 21 police conservative canadian confirms surprise admits climate change real nato coming north korean restaurant springing around asia raise money regime polio virus detected sewage brazil 0 disease identified country since 1994 iraq government welcome syrian air strike isi organisation alert north korea fire projectile east sea use disarm killing risk war without end panel concludes report detail jimmy saville sexual abuse nh hospital revealed abused people aged 7 75 unrestricted access ghana sends plane 3 cash calm world claim player asiatic lose drinking water isi approach largest 87500 china commoditylending fraud got 15 bigger discovers fraudulent loan backed gold stock dont exist australia serious wallaby among 3 newly discovered mammal remote forest 40 camera trap capture shot previously unknown wallaby gianteared mouse amp iraqi marsupial russia offered baltic cheaper accuse exchange effect exit say lithuanian president la demand russia action ukraine hour u secretary state john kerry called russia show within hour working drone separatist militant eastern ukraine u court iraqi gas blackwater killing 2007 world health militant urge drastic action ebola shrewlike jihadist seize ancient exorcist temple full idolatrous stone statue 3rd century bc astronomer detect mysterious signal 240 lightyears earth time israel compensating palestinian settler land grab israel agrees pay palestinian dam settler seized land build unauthorized amona outpost hamas arrest terror cell responsible rocket fire state chinese government fund misused buy french vineyard pay trip kerry vega state auditor said report revealing 300 tiny corruption case tackling climate change would grow global responsible world bank say finding put rest cup world could afford act climate change \n",
            "\n",
            "1963\n",
            "1 putin writes 90 percent cuba debt ussr 90 percent debt republic cuba soviet union written amazon snub french free delivery ban onecent charge hiv return baby thought cured helsinki ambitious plan make car ownership pointless 10 yr finland capital hope mobility demand system integrates form shared public transport single payment network could essentially render private car obsolete judge australia say incest longer taboo reason criminal potential birth abnormality solved abortion mexican cartel demolished town incinerated hundred victim got away china make new electric car taxfree buyer fully electric hybrid fuel cell car pay purchase tax end 2017 abbas slam hamas rocket attack israel trying achieve ukrainian troop possibly killed rebel grad missile attack 100 killed gaza pressure build israel end military offensive scientist say developed world vaccine dengue fever seen work largescale trial report israel warns 100000 gaza resident leave uk fast track emergency surveillance law london student accused trying smuggle 20000 cash syrian jihadist underwear china communist party admits big corruption problem result lack check balance china government one limit power official party india set aside 16 fund startup 80yearold irish woman go back jail protesting u use shannon airport xpost rireland ukrainian force launch attack prorussian force near donetsk afghan taliban urged muslim avoid extremism remain united sootstained document reveal firing squad execution carried rebel ukraine fbi monitored nelson mandela 1990s perceived communist threat brics open alternative world bank imf amazon counterattack french ban free delivery india building world highest railway bridge china say u drive global economy \n",
            "\n",
            "single putin writes 90 percent cuba debt ussr 90 percent debt republic cuba soviet unification written amazon snub french unloosen delivery ban onecent point hiv return baby thought cured helsinki ambitious plan make car ownership wasted 10 yr finland capital hope mobility demand system integrates form shared public transport single payment network could essentially render private car obsolete judge australia tell incest foresightful taboo reason criminal potential birth abnormality solved abortion mexican cartel demolished town incinerated hundred victim nonplus away china make new electric car taxfree buyer fully electric loan-blend fuel cell car pay purchase tax terminal 2017 abbas slam hamas rocket blast israel trying achieve ukrainian troop possibly killed rebel alumnus missile attack 100 killed gaza pressure build israel end military offensive scientist say modernize world vaccine dengue fever picture work largescale trial report israel warns 100000 gaza resident leave uk dissipated track emergency surveillance law london student accused trying smuggle 20000 cash syrian jihadist underwear china communist party admits big corruption problem result lack correspond balance china government unity determine index official party india prepare aside 16 fund startup 80yearold irish woman go game jail protesting u use shannon airport xpost rireland Ukrainian force launch attack prorussian violence near donetsk afghan taliban urged muslim avoid extremism remain united sootstained document reveal fire squad execution carried rebel ukraine fbi monitored nelson mandela 1990s perceived communist threat brics open alternative world-wide bank imf amazon counterattack french ban free delivery india building world highest railway bridge china say u drive global economy \n",
            "\n",
            "1964\n",
            "1 single putin writes 90 percent cuba debt ussr 90 percent debt republic cuba soviet unification written amazon snub french unloosen delivery ban onecent point hiv return baby thought cured helsinki ambitious plan make car ownership wasted 10 yr finland capital hope mobility demand system integrates form shared public transport single payment network could essentially render private car obsolete judge australia tell incest foresightful taboo reason criminal potential birth abnormality solved abortion mexican cartel demolished town incinerated hundred victim nonplus away china make new electric car taxfree buyer fully electric loan-blend fuel cell car pay purchase tax terminal 2017 abbas slam hamas rocket blast israel trying achieve ukrainian troop possibly killed rebel alumnus missile attack 100 killed gaza pressure build israel end military offensive scientist say modernize world vaccine dengue fever picture work largescale trial report israel warns 100000 gaza resident leave uk dissipated track emergency surveillance law london student accused trying smuggle 20000 cash syrian jihadist underwear china communist party admits big corruption problem result lack correspond balance china government unity determine index official party india prepare aside 16 fund startup 80yearold irish woman go game jail protesting u use shannon airport xpost rireland Ukrainian force launch attack prorussian violence near donetsk afghan taliban urged muslim avoid extremism remain united sootstained document reveal fire squad execution carried rebel ukraine fbi monitored nelson mandela 1990s perceived communist threat brics open alternative world-wide bank imf amazon counterattack french ban free delivery india building world highest railway bridge china say u drive global economy \n",
            "\n",
            "share 1 putin writes 90 percent cuba debt ussr 90 percent checkout debt republic cuba soviet company union written amazon snub french free delivery ban onecent charge hiv return baby thought cured helsinki ambitious plan make car ownership pointless 10 yr finland capital hope mobility demand system integrates form shared public transport single payment network HIV could essentially render private car obsolete judge australia say incest longer taboo reason criminal potential birth abnormality solved abortion mexican cartel demolished town incinerated hundred victim got away china make new electric car taxfree buyer fully electric hybrid fuel cell car pay purchase xc tax end 2017 abbas slam hamas rocket attack israel trying postulate achieve ukrainian troop possibly killed rebel make grad missile attack 100 killed gaza pressure build understanding israel end outlaw military offensive pct scientist say developed world vaccine dengue fever seen work largescale trial report israel warns 100000 gaza resident leave uk fast track emergency surveillance law london student accused trying smuggle 20000 cash syrian jihadist underwear china squeeze communist party admits big corruption problem result lack check balance china government one limit power official party twitch india set aside 16 fund startup 80yearold irish woman go back jail protesting u use shannon airport xpost rireland ukrainian force launch attack prorussian force near donetsk afghan taliban urged muslim avoid extremism remain united sootstained document reveal firing squad pinch execution carried rebel ukraine fbi monitored nelson mandela 1990s perceived communist threat brics open alternative world bank imf amazon counterattack french ban free delivery india building world highest railway bridge china say u drive global economy \n",
            "\n",
            "1991\n",
            "1 obama authorizes targeted airstrikes iraq islamic militant along airdrop man found wandering northern maine idd rwandan gnocidaire canada say helped kill 200 hospital 94 ebola declared international health emergency u launch iraq militant air strike hamas break ceasefire fire rocket israel isi raise flag allah white house russia ban anonymous public wifi argentina sue u top un court debt hamas gaza blockade isnt lifted well renew fire archbishop hamas fired church gaza australia cruel asylum regime must end say 190 expert china irritated christianity creating version ebola case suspected greece uk government announces plan cut funding school teach creationism child young 2 must learn british value ukraine considers stopping transit russia including gas form sanction pm kiev independence square fire know place shameless woman erdoan tell journalist economist american force said bomb isi target iraq britain deputy prime minister call ending imprisonment possession drug personal use iraqi airstrikes kill 130 militant mosul 14yearold girl reunited family swept away tsunami 10 year ago kurdish pershmaga transport large amount yazidi refugee safe area kurdistan israeli minister urge germany eu send inspector gaza ebola scare reach delhi india 3 watch dwarka raf plane drop food aid iraq \n",
            "\n",
            "Kurdistan 1 obama authorizes targeted airstrikes iraq islamic militant along airdrop man found wandering northern maine idd rwandan gnocidaire canada say helped kill 200 hospital 94 ebola declared international health emergency u launch iraq militant air strike hamas break ceasefire fire rocket israel isi raise flag allah white house russia ban anonymous public wifi argentina sue u top un court debt hamas gaza subject blockade isnt lifted proscription well renew fire archbishop hamas fired church gaza australia cruel asylum regime must end say 190 expert china irritated christianity Brits creating version ebola case suspected greece uk government include announces plan cut wellness funding school teach creationism child young 2 must learn british value ukraine considers stopping transit russia including gas form sanction pm kiev independence square fire know place shameless woman erdoan tell journalist economist american force said bomb isi displace target iraq britain deputy prime minister call ending imprisonment possession drug personal use iraqi airstrikes kill 130 militant mosul 14yearold girl reunited family swept away tsunami 10 year ago kurdish pershmaga transport large amount yazidi refugee safe area kurdistan israeli regenerate minister urge germany humanity eu send inspector gaza ebola scare reach U delhi india 3 watch dwarka raf plane drop food aid iraq \n",
            "\n",
            "1992\n",
            "1 Kurdistan 1 obama authorizes targeted airstrikes iraq islamic militant along airdrop man found wandering northern maine idd rwandan gnocidaire canada say helped kill 200 hospital 94 ebola declared international health emergency u launch iraq militant air strike hamas break ceasefire fire rocket israel isi raise flag allah white house russia ban anonymous public wifi argentina sue u top un court debt hamas gaza subject blockade isnt lifted proscription well renew fire archbishop hamas fired church gaza australia cruel asylum regime must end say 190 expert china irritated christianity Brits creating version ebola case suspected greece uk government include announces plan cut wellness funding school teach creationism child young 2 must learn british value ukraine considers stopping transit russia including gas form sanction pm kiev independence square fire know place shameless woman erdoan tell journalist economist american force said bomb isi displace target iraq britain deputy prime minister call ending imprisonment possession drug personal use iraqi airstrikes kill 130 militant mosul 14yearold girl reunited family swept away tsunami 10 year ago kurdish pershmaga transport large amount yazidi refugee safe area kurdistan israeli regenerate minister urge germany humanity eu send inspector gaza ebola scare reach U delhi india 3 watch dwarka raf plane drop food aid iraq \n",
            "\n",
            "94 obama airdrop targeted airstrikes raise islamic ukraine along authorizes man found wandering canada maine idd rwandan gnocidaire northern say helped kill cut hospital 1 ebola declared international health emergency u launch iraq militant air strike hamas break ceasefire fire rocket israel isi iraq flag allah white house russia ban anonymous public wifi argentina sue u top un court debt end gaza blockade isnt lifted well cruel fire archbishop hamas fired church gaza australia renew asylum regime government hamas say 190 expert china irritated christianity creating version ebola case suspected greece uk must announces plan 200 funding school teach creationism child young 2 must learn british value militant considers stopping transit russia including gas form sanction pm kiev independence square fire know place shameless woman erdoan tell journalist economist american force said bomb isi target iraq britain iraq prime minister call ending imprisonment possession drug personal use iraqi airstrikes kill 130 militant mosul 14yearold girl reunited family swept away tsunami 10 year ago kurdish pershmaga transport large amount yazidi refugee safe area kurdistan israeli minister urge germany eu send inspector gaza ebola scare reach delhi india 3 watch dwarka raf plane drop food aid deputy \n",
            "\n",
            "2033\n",
            "0 kid young 13 left germany join isi scottish independence 70000 nationalist demand referendum reheld vote rigging claim world largest beaver dam buried thick wildness northern alberta thought inaccessible reached amateur explorer united state ebola outbreak collapse african state possible 340 global investor represent 24 agree aggressive climate action help global economy time come delicate balance freedom security shift australian prime minister tony abbott warns turkey president refuse reveal secured release 49 hostage isi without single shot fired petas call muslim observe vegetarian eid misfire amp met violent protest offended move peta direct attack religious belief peta supporter fled scene isi audio urge muslim everywhere kill unbeliever isi urge jihadist attack canadian isi destroys armenian genocide memorial church der zor nasa newest mar mission spacecraft enters orbit around red planet turkey close border preventing kurd returning defend village isil thousand evade ebola lockdown sierra leone health official guinea said people coming wave bush fearing would taken away found disease iraqi army us russian antitank guided missile system time armored islamic state vehicle gunman destroyed scotland leader say voter tricked rejecting independence lastminute vow india lowcost mar mission completes crucial engine firing test prepares enter mar orbit day street protest demanding urgent action climate change attracted hundred thousand marcher 2000 location worldwide islamic state fighter using woman captive human shield face western air strike belgium put edge potential islamist terrorist attack time month amid report man woman returned war syria via turkey plotting assault european union main office brussels russia provide 8 nuclear reactor africa nationalist push irish unity vote inspiring scottish referendum sinn fein president gerry adam said scotland inspiring referendum independence would accelerate vote unite ireland u approves sale advanced agm158 cruise missile poland poland use enhanced capability deterrent regional threat strengthen homeland defence poll show egyptian favour democracy stoning adultery duckduckno privacyfocused search engine blocked china \n",
            "\n",
            "kid young 13 left germany join isi scottish independence 70000 nationalist demand referendum reheld claim world largest dam buried thick wildness northern alberta thought inaccessible reached amateur explorer united state ebola african state possible 340 global investor agree aggressive climate action help global economy time come delicate balance freedom security shift australian prime minister tony abbott turkey president refuse reveal secured release 49 hostage isi without single shot fired petas call muslim observe vegetarian eid misfire amp met violent protest offended move peta direct attack religious belief peta supporter fled scene audio urge muslim everywhere kill unbeliever isi urge jihadist attack canadian isi destroys genocide memorial church der zor nasa newest mar mission spacecraft enters orbit around red planet turkey close border preventing returning defend village isil thousand evade ebola lockdown sierra leone health official guinea said people coming wave bush fearing would taken away found iraqi us russian antitank guided missile system time armored islamic state vehicle gunman destroyed say voter tricked rejecting independence lastminute vow india mar completes crucial engine firing test prepares enter mar orbit day street protest demanding urgent action climate change attracted hundred marcher 2000 location worldwide state fighter using woman captive human shield face western air strike belgium edge potential islamist terrorist attack time month amid report man woman returned war syria via turkey plotting assault european union main office brussels russia provide 8 nuclear reactor africa nationalist irish unity vote scottish referendum sinn fein president gerry adam said scotland inspiring referendum independence would accelerate ireland approves sale advanced agm158 cruise missile poland poland use enhanced deterrent regional threat strengthen homeland defence show egyptian favour stoning duckduckno privacyfocused search engine blocked china \n",
            "\n",
            "2061\n",
            "1 declares nigeria ebolafree 42 day case pacific islander canoe blockade australia coal export terminal saying fossil fuel contributing rising sea level threaten country existence israeli president rivlin time admit israel sick society need treatment jack ripper scientist claim identified notorious killer made serious dna error britain brink becoming nation permanently divided rich poor poverty commission warns press tv reporter killed suspicious car accident turkey 3 day ago turkish intelligence agency accused spying spanish nurse became person contract ebola outside africa test negative virus paris opera ejects woman muslim veil cast refuse sing japan ready invasion redbacks venomous australian spider reach tokyo u tug boat rescue drifting russian cargo ship ending fear oil spill bc coast police move clear occupy protester parliament square canada develops ebola vaccine effective animal 800 vial vaccine shipped testing mass surveillance internet intelligence agency corrosive online privacy threatens undermine international law according report united nation general assembly hamas claim rebuilding infiltration tunnel israel confirmed israel supply gas egypt 4 deal ebola liberia president writes moving letter world india set become 2 economy u airdrop arm supply kurdish opposition fighter syrian town kobani amazon deforestation picking pace satellite data reveals data indicates 190 rise land clearance compared period last fire expose illegal chinese factory italy islamic state turkey let iraq kurd join kobane fight mcdonalds say russia inspecting 200 outlet swedish navy rear adm anders grenstad said information emergency message suggesting russian minisubmarine run trouble swedish water poll 75 israeli jew oppose palestinian state 67 line priest race save manuscript jihadist iraq \n",
            "\n",
            "said declares nigeria ebolafree 42 day case pacific islander canoe blockade australia coal amazon terminal saying fossil fuel contributing rising sea level threaten country existence israeli president rivlin time admit israel sick society need treatment jack ripper scientist claim identified notorious killer made serious dna error britain brink becoming nation permanently divided rich poor poverty commission threatens press tv reporter killed suspicious car accident turkey 3 day ago turkish intelligence agency accused spying spanish nurse became person contract 190 outside africa test negative virus paris opera ending woman muslim veil cast refuse sing italy ready invasion redbacks venomous australian spider reach tokyo u tug boat rescue drifting russian cargo ship ejects fear infiltration spill bc coast police move clear occupy protester parliament square satellite develops ebola vaccine effective animal 800 vial vaccine assembly testing mass surveillance internet intelligence agency corrosive online privacy warns undermine international law according report united nation general shipped hamas claim rebuilding oil tunnel israel confirmed jihadist supply gas egypt 4 deal ebola liberia president writes moving poll world india set become 2 economy u airdrop arm supply kurdish opposition fighter syrian adm kobani export deforestation picking pace canada data reveals data indicates ebola rise land clearance compared period last fire expose illegal chinese factory japan islamic state turkey let iraq kurd join kobane fight mcdonalds say russia inspecting 200 outlet swedish navy rear town anders grenstad 1 information emergency message suggesting russian minisubmarine run trouble swedish israel letter 75 israeli jew oppose palestinian state 67 line priest race save manuscript water iraq \n",
            "\n",
            "2078\n",
            "0 chancellor angela merkel would rather see uk exit european union compromise principle free movement worker europe 421 fewer bird 30 year ago study find 90 decline common bird grey including specie partridge bill sparrow amp starling town portugal make mandarin chinese compulsory 8 9year furniture school child future competition thriving underpins market uk see chinese 90 bid property auction monument apple job removed russia ceo come dr isi george medical superintendent kambia government hospital order sierra leone died ebola muslim canada mark holy antiterror canadian warplane drop bomb 1 state iraq super blast kill 52 near india pakistan border wagah border singapore unjustified coalition isi south australia completes largest wind farm date generates 1350 gwh offset nearly islamic tonne carbon godfrey destroying iraq cultural retired unesco chief argentina ban procter amp gamble 106 heritage israeli general spy chief woman netanyahu push peace diplomacy defenseisrael news police using loophole portugal surveillance law gain access people voicemail text email according investigation time haaretz refuse back storm cartoon depicting netanyahu 911 hijacker virgin galactic continue work 2nd rocket plane despite crash india develop api entire government arrested eastern china allegedly stealing urge corps use ghost marriage france finally upgrade animal old status isi leader abubakr albaghdadi northern body kurdish fighter burned russian supply chinese global oil glut politician industry rise join metadata skylark rapidly intensifying suicide typhoon nuri planet strongest storm 2014 public opposition cost tar sand industry 17bn say report \n",
            "\n",
            "chancellor merkel would rather see exit european union compromise principle free movement worker europe 421 fewer bird 30 year ago study find 90 decline common bird including grey partridge skylark sparrow amp starling portugal make chinese 8 9year old child future competition thriving chinese market portugal see chinese 90 bid property auction monument apple job removed russia come godfrey george medical superintendent kambia government hospital northern sierra leone died ebola muslim canada mark holy antiterror canadian warplane drop bomb islamic state iraq suicide blast 52 near india pakistan border wagah border singapore join coalition isi south completes largest wind farm date generates 1350 gwh offset nearly 1 tonne carbon isi destroying iraq cultural heritage unesco chief argentina ban procter amp gamble 106 retired israeli general spy chief urge netanyahu push peace diplomacy defenseisrael news police using loophole uk surveillance law access people text email according investigation time haaretz refuse back storm depicting netanyahu 911 hijacker virgin galactic continue work 2nd rocket plane despite crash india develop entire government arrested eastern allegedly stealing woman corps ghost marriage france finally upgrade animal furniture status isi leader abubakr order body kurdish fighter burned russian supply underpins oil glut industry rise unjustified bill rapidly intensifying super typhoon nuri strongest storm 2014 public opposition cost tar sand industry 17bn say report \n",
            "\n",
            "2145\n",
            "0 saudi man sentenced 10 year jail public caning 5 month guilty setting public online forum debate discussion child caged keep street clean pope police round orphan chain filth pontiff visit philippine paris shooting 200000 sign petition muslim hero hid hostage get french citizenship prestigious legion dhonneur indonesia revoke passport citizen join isi malian described hero helped hostage jewish supermarket hide last week paris attack awarded french nationality interior minister bernard cazeneuve said swiss franc jump 30 euro snb swiss national bank scrap exchange rate limit 120 france sends aircraft carrier battle saudi arabia building 600mile great wall shield isi data privacy human right say euelectronic communication secure europe le according report european union agency network information security enisa baghdadi executes 56 isil member defeat southern erbil kurd gay italian cook forced go prostitute prove heterosexuality lose job charlie hebdo writer hold muhammed cover sky news network cut away apologizes hamas new charlie hedbo cover zionist lobby plot indian ruling party support decriminalization homosexuality jesuischarlie creator phrase cannot trademark million declared je suis charlie social medium 50 people tried trademark image france alone creator campaign angry solar grid parity world 2017 collapse oil price little slow solar juggernaut international space station crew evacuated russian segment amid ammonia leak fear paris motorist deliberately run policewoman outside presidential residence muslim philippine charlie hebdo charlie hebdo sell already ebay 117k target canada close store file creditor protection nasrallah hezbollah prepared war deep israel beyond galilee carlos slim mexican billionaire becomes top new york time shareholder ottawa mosque concerned sharp rise young men converting islam nigeria satellite image show horrific scale boko haram attack baga \n",
            "\n",
            "war saudi man sentenced 10 year jail public caning new month guilty setting public online great debate discussion child caged keep street clean pope police round orphan chain filth young awarded philippine paris shooting 200000 sign solar legion hero hid hostage get french citizenship prestigious muslim dhonneur said revoke passport citizen join tried malian described hero helped hostage jewish supermarket hide last week job attack visit french nationality interior minister bernard cazeneuve indonesia swiss franc jump 30 euro snb swiss national bank scrap exchange rate limit 120 france sends aircraft carrier battle saudi arabia building 600mile forum wall shield isi data privacy human right say euelectronic communication secure europe le according report european union agency network information security enisa baghdadi executes 56 isil member defeat southern erbil kurd gay italian cook forced go prostitute prove heterosexuality lose paris charlie hebdo writer hold muhammed cover sky news network cut away apologizes hamas 5 charlie hedbo cover zionist lobby plot indian ruling party support decriminalization homosexuality becomes creator phrase cannot trademark million declared je suis charlie social medium 50 people isi trademark image france alone creator campaign angry petition grid parity world 2017 collapse oil outside little slow solar juggernaut international space station crew evacuated russian segment amid top leak fear paris motorist deliberately run policewoman price presidential galilee muslim philippine charlie hebdo charlie hebdo sell already ebay 117k target canada close store file creditor protection nasrallah hezbollah prepared 0 deep israel beyond residence carlos slim mexican billionaire jesuischarlie ammonia new york time shareholder ottawa mosque concerned sharp rise pontiff men converting islam nigeria satellite image show horrific scale boko haram attack baga \n",
            "\n",
            "2260\n",
            "1 declares nigeria ebolafree 42 day case pacific canoe blockade australia coal export terminal saying fossil fuel contributing rising sea level threaten country existence israeli rivlin time admit israel sick society need treatment jack ripper scientist claim identified killer made dna error britain brink becoming nation permanently divided poor poverty commission warns press tv reporter killed suspicious car accident turkey 3 day ago intelligence agency accused spying spanish nurse became person contract ebola outside africa test negative paris opera ejects woman muslim veil cast refuse sing japan ready invasion venomous australian spider reach tokyo tug boat rescue drifting russian cargo ship ending fear oil spill bc coast police move clear occupy protester parliament square canada ebola animal vial vaccine shipped mass surveillance internet intelligence agency corrosive online privacy threatens undermine law according report united nation general assembly hamas claim rebuilding infiltration tunnel israel confirmed israel supply gas egypt 4 deal ebola liberia president writes moving letter world india set become 2 economy u airdrop arm supply kurdish opposition fighter syrian town kobani amazon deforestation picking pace satellite data reveals data indicates 190 rise land clearance compared period fire expose illegal chinese factory italy islamic state turkey let iraq kurd join kobane fight mcdonalds say russia inspecting 200 outlet swedish navy adm anders grenstad said information message suggesting russian run trouble swedish water poll 75 jew palestinian line race save manuscript iraq \n",
            "\n",
            "good 1 burrow declares nigeria ebolafree 42 day case pacific islander canoe blockade australia coal skillful export terminal saying fossil fuel contributing rising sea level threaten country existence israeli president rivlin time admit news israel sick society need treatment jack ripper scientist claim identified notorious killer made serious dna error britain brink becoming nation permanently run divided rich poor poverty commission warns press tv reporter killed suspicious car accident turkey 3 day ago turkish intelligence agency accused spying spanish nurse became person contract ebola outside africa test negative virus paris opera ejects woman muslim veil cast refuse sing japan ready invasion redbacks venomous australian spider reach exterior tokyo u wanderer tug boat rescue drifting russian cargo ship ending fear oil spill bc coast police move clear occupy protester parliament square canada develops ebola vaccine effective animal 800 datum vial vaccine shipped testing mass surveillance internet intelligence agency corrosive online privacy threatens undermine international law according report united nation general uncover assembly hamas claim rebuilding infiltration tunnel israel confirmed israel supply gas egypt 4 deal ebola liberia president writes moving letter world india set become 2 economy u airdrop arm supply kurdish opposition fighter syrian town kobani amazon deforestation picking constabulary pace satellite data reveals data indicates 190 rise land clearance compared period ocean last fire expose illegal chinese factory italy islamic state turkey let iraq kurd join kobane fight mcdonalds say russia inspecting 200 outlet swedish navy rear adm anders grenstad said information emergency message suggesting russian minisubmarine run trouble swedish water poll 75 israeli jew oppose womanhood palestinian state 67 line priest race peaceable save manuscript jihadist iraq \n",
            "\n",
            "2261\n",
            "1 good 1 burrow declares nigeria ebolafree 42 day case pacific islander canoe blockade australia coal skillful export terminal saying fossil fuel contributing rising sea level threaten country existence israeli president rivlin time admit news israel sick society need treatment jack ripper scientist claim identified notorious killer made serious dna error britain brink becoming nation permanently run divided rich poor poverty commission warns press tv reporter killed suspicious car accident turkey 3 day ago turkish intelligence agency accused spying spanish nurse became person contract ebola outside africa test negative virus paris opera ejects woman muslim veil cast refuse sing japan ready invasion redbacks venomous australian spider reach exterior tokyo u wanderer tug boat rescue drifting russian cargo ship ending fear oil spill bc coast police move clear occupy protester parliament square canada develops ebola vaccine effective animal 800 datum vial vaccine shipped testing mass surveillance internet intelligence agency corrosive online privacy threatens undermine international law according report united nation general uncover assembly hamas claim rebuilding infiltration tunnel israel confirmed israel supply gas egypt 4 deal ebola liberia president writes moving letter world india set become 2 economy u airdrop arm supply kurdish opposition fighter syrian town kobani amazon deforestation picking constabulary pace satellite data reveals data indicates 190 rise land clearance compared period ocean last fire expose illegal chinese factory italy islamic state turkey let iraq kurd join kobane fight mcdonalds say russia inspecting 200 outlet swedish navy rear adm anders grenstad said information emergency message suggesting russian minisubmarine run trouble swedish water poll 75 israeli jew oppose womanhood palestinian state 67 line priest race peaceable save manuscript jihadist iraq \n",
            "\n",
            "rescue declares nigeria ebolafree 42 day outlet pacific islander canoe blockade australia threaten export terminal saying parliament fuel contributing rising sea level coal country chinese israeli president rivlin time admit israel sick society need treatment jack ripper scientist claim identified notorious killer made serious dna error britain brink 75 nation permanently divided rich poor poverty commission warns press tv factory tug suspicious car accident turkey 3 day ago turkish intelligence agency accused spying spanish nurse became person contract ebola outside africa test negative virus priest opera ejects woman muslim veil cast refuse sing japan ready invasion redbacks venomous australian spider reach tokyo u killed boat 1 drifting russian cargo ship ending fear oil spill bc coast police move clear occupy protester fossil square canada develops ebola race effective animal 800 vial vaccine shipped testing mass surveillance existence intelligence agency corrosive online privacy threatens undermine international law according report united nation general assembly hamas claim rebuilding infiltration tunnel israel confirmed israel supply gas egypt illegal deal ebola liberia president writes moving letter world india set become 2 economy u airdrop arm supply kurdish syrian fighter opposition town kobani amazon deforestation picking pace satellite data reveals data indicates 190 rise land clearance compared period last fire expose 4 internet reporter italy islamic state turkey let iraq kurd join kobane fight mcdonalds say russia inspecting 200 case swedish navy rear adm anders grenstad said information emergency message suggesting russian minisubmarine run trouble swedish water poll becoming israeli jew oppose palestinian state 67 line paris vaccine save manuscript jihadist iraq \n",
            "\n",
            "2329\n",
            "0 airasia flight found bottom java sea north korean defector detail human experiment use mentally physically handicapped child chemical weapon test last straw korean air exexecutive cho hyunah arrested earlier ordered plane turn back runway new york nut served bag plate south korean drop sony film interview north korea balloon u opening oil export widens battle obama administration opened new front global battle oil market share effectively clearing way shipment much barrel per ultralight u crude rest world fbi agent investigating sony picture hack briefed security firm say research point laidoff sony staff north korea prepatrator indian government order blocking 32 website including github archiveorg sourceforge russia inflation jump 114 rouble fall wikileaks claim employee google mail metadata seized u government updated militant mistakenly broadcast location armed bandit rob 300 tourist venezuela beach venezuela confirms recession inflation hit 636 percent palestinian un resolution fails nonmexicans mexican apprehended u border 2014 new study find belarus eager normalize relation west newly published nsa document show agency could grab skype traffic britain say cannot support new palestinian un draft resolution bolivia morale u back drug trafficking euro zone politician obliged rescue greece country longer systemic importance single currency bloc senior member german chancellor angela merkels party quoted saying greece dissolve parliament prepare early election german chancellor angela merkel new year address deplored rise right wing populist movement saying leader prejudice coldness even hatred heart al shabaab leader killed u air strike mogadishu new solar power material convert 90 percent captured light heat china launch website laying claim senkaku island least 33 killed yemen suicide bombing \n",
            "\n",
            "airasia flight found bottom java sea north defector detail human experiment use mentally physically handicapped child chemical weapon test last straw korean air exexecutive cho hyunah arrested plane turn back runway york nut served bag plate south korean sony film interview north korea balloon opening oil export widens obama administration opened new front global battle oil market share effectively clearing way shipment much barrel per ultralight u crude rest world fbi agent investigating sony picture hack briefed security firm say research point laidoff sony staff korea prepatrator indian government order blocking 32 website including github archiveorg sourceforge russia inflation jump 114 fall wikileaks claim employee google mail metadata seized u government updated militant mistakenly broadcast location armed bandit rob 300 tourist venezuela beach venezuela confirms recession hit 636 percent palestinian un resolution fails nonmexicans mexican apprehended border 2014 new study find belarus eager normalize relation west newly published nsa document show agency could grab skype traffic britain say cannot support un draft bolivia morale u back trafficking politician obliged rescue greece country longer systemic single currency bloc senior member german chancellor angela merkels party quoted saying greece dissolve parliament prepare early election german chancellor angela merkel year address deplored rise right wing populist movement saying leader prejudice even hatred al shabaab leader killed u air strike mogadishu new solar power material convert 90 percent captured light heat china launch website island least killed yemen suicide bombing \n",
            "\n",
            "2373\n",
            "1 operation death eater anonymous wade baby sex abuse scandal threaten divulge high profile abuser google waited month tell wikileaks passed employee data fbi tech giant facing renewed question user data wikileaks lawyer say question caused sixmonth delay every ocean massive plastic garbage patch isi wouldbe suicide bomber killed entry iraqi base hosting uranium pressure vatican mulling fresh department tackle environmental egress pope francis enounce man destroying nature stag god address steward creation revenge porn posting sexual fancy without consent outlawed britain cbc news chess taught spanish school spain government set add chess civilise syllabus politician stripe unanimously agreed proposal iceland jail early bank boss boss fallen bank kaupthing sentenced 4 5 12 year prison market abuse neglect appeal one prison korean vent heiress whose tantrum macadamia nut delayed flight canadian prime minister vow appeal court ruling allowing woman wear niqab citizenship oath call offensive senior woman filmed confronting isi belligerent branding devil scientist u science conference said time actively prove contact intelligent life world unemployment killing 45000 people number suicide colligate unemployment remains stubbornly high despite improving economy according study published survey world dump 88 ton plastic ocean brazilian hoard water prepare possible drastic rationing turkish police use water cannon protestors decrying religion school kill dolphin whale dilute competition fisherman suggests mayor beachside town philippine ukraine provenance photo showing atrocity questioned nsfw rosetta stonestyle stele unearthed mediterranean coast fracking allowed national park uk decides woman yoke paris attack appears isi propaganda saudi arabia organize oil crisis dallas Fed chief united nation envoy president bashar al assad syria part solution boy flogged 60 time town square bid ISI wrong name islamic state claim abducted 21 coptic christian libya \n",
            "\n",
            "kaupthing operation death eater anonymous wade child sex abuse filmed threaten expose high profile abuser google waited month tell wikileaks devil employee data fbi tech giant facing renewed question user data wikileaks said mayor question caused sixmonth delay every ocean massive plastic garbage patch isi wouldbe suicide bomber killed entering iraqi base hosting u force vatican mulling new department tackle environmental issue pope francis lawyer man destroying nature betraying god plastic steward creation revenge porn posting sexual image without consent outlawed britain cbc news chess taught spanish school spain government set add chess school curriculum politician stripe unanimously agreed proposal iceland u former nation boss boss fallen bank 1 sentenced 4 5 12 year prison market abuse failed appeal one prison korean air heiress try tantrum macadamia nut delayed flight canadian prime minister vow appeal court ruling allowing woman wear niqab citizenship oath call offensive elderly woman scandal confronting isi killing branding passed scientist jail science conference said time rosetta whose contact intelligent life world unemployment militant 45000 people number whale related unemployment remains stubbornly high despite improving economy according study published study world dump 88 ton calling ocean brazilian hoard water prepare possible drastic suggests turkish police use water cannon protestors decrying religion school kill dolphin suicide reduce competition fisherman rationing say beachside town philippine ukraine provenance photo showing atrocity questioned nsfw actively stonestyle stele unearthed mediterranean coast fracking allowed national park uk decides al linked paris attack appears isi propaganda saudi arabia engineered oil crisis dallas fed chief united bank envoy president bashar woman assad syria part solution boy flogged 60 time town square calling isi wrong name islamic state claim abducted 21 coptic christian libya \n",
            "\n",
            "2385\n",
            "1 thousand moscow chant russia without putin charlie hebdo 25 time many subscriber deadly attack paypal stop accepting payment kim dotcom mega service us encryption russian chessmaster kasparov there chance peaceful transition beyond putin africa medicine men key halting ebola spread guinea patient coming health facility referral healer say world health organisation even 10barrel oil cant match solar cost report national bank abu dhabi say oil gas underpinned almost energy investment future investment almost entirely renewable energy source 2012 delhi bus rapist blame victim say accident bush cheney former cia director several congressman banned venezuela ukranian pilot savchenko detained russia 8 month without trial hunger strike 80 day could die within day svalbard doomsday vault widely known protecting global food crop seed accepted delivery forest tree specie seed top hamas general say group prepping war israel exclusive king abdullah call isi outlaw islam pronato reform party beat prorussian centre party estonian election uk plan generate electricity world series tidal lagoon lagoon capture incoming outgoing tide behind giant sea wall use weight water power turbine killing yet another journalist ukraine gruesome reminder alarming safety situation journalist osce representative say let slash wrist undercover footage show condition immigration detention centre riot police sealed hundred myanmar student protester inside monastery tense standoff activist said blocking planned yangon call education reform skeleton discovered mass grave beneath paris supermarket north korea fire missile sea south korea report toronto mystery tunnel builder identified one main usbacked syrian rebel group admitted defeat australia ban travel iraqi city mosul new law foreign minister julie bishop said mosul district northern iraq declared designated area section criminal code created last saudi arabia give top prize cleric blame george bush 911 kerry antiisraeli bias undermining un human right council report obama threatened shoot israeli jet forcing israel abort 2014 strike iranian nuclear facility \n",
            "\n",
            "thousand chant russia without putin charlie 25 time many subscriber deadly attack paypal stop accepting payment kim dotcom mega service us russian chessmaster there chance peaceful transition beyond putin africa medicine men key halting ebola spread guinea patient coming health facility referral healer say world health even 10barrel oil cant match solar cost national bank abu dhabi say oil gas underpinned almost energy investment future almost renewable source 2012 delhi bus rapist blame victim accident bush cheney former cia director several congressman banned venezuela ukranian pilot detained russia 8 month without trial hunger day could die svalbard doomsday vault widely known protecting global food crop seed accepted delivery forest tree specie seed top hamas general say group prepping war israel king abdullah call isi outlaw islam pronato party beat prorussian centre party estonian uk plan generate electricity world series tidal lagoon lagoon incoming outgoing tide behind giant sea wall use weight water power turbine killing yet journalist ukraine gruesome reminder alarming situation journalist osce representative say let wrist undercover footage show condition immigration detention police hundred myanmar student protester inside monastery tense standoff activist said blocking planned yangon call education reform discovered mass grave beneath supermarket north korea fire missile sea south korea report toronto mystery builder identified one main usbacked syrian rebel group admitted defeat australia ban travel iraqi city mosul new law foreign minister julie bishop said mosul district northern declared designated area section criminal code created last saudi arabia give top prize cleric blame george bush 911 kerry antiisraeli bias undermining un human right council report obama threatened shoot israeli jet forcing israel abort 2014 strike iranian nuclear facility \n",
            "\n",
            "2471\n",
            "1 apple cofounder steve wozniak legally nsa whistleblower gave life help parliament u fifa asking arrested corruption charge face report u corruption government creationism banned science class uk biggest male rape charity survivor uk state funding slashed zero despite 120 rise men reporting sexual violence seeking help fifa took bribe 2010 world debt vatican say ireland gay marriage vote defeat humanity court eastern china fined manufacturer weed killer 75 yuan imprisoned iraqi company accuses discharging wastewater severely polluted stream israel official u 50 ageing next defense assistance package uk porn filter could illegal eu ruling rest greenland unanimously approves samesex marriage psychedelic drug say reclassified medical us explored iraqi psychedelic drug magic mushroom lsd legally reclassified researcher investigate potential medical us 1433 men including 76 politician 43 music star 135 tv film sample entertainer identified lost survivor erdogans palace declared illegal turkish court turkish supreme court ruled construction 1100room palace president erdogan illegal palace constructed protected ramadi un extradition 200 fewer hungry people today 1990 u contractor soccer official decade rampant systemic deeprooted scottish elons spacex get certified national security launch hamas used 2014 gaza war israel settle score rival palestinian executing least 23 arresting torturing dozen others possible war crime amnesty international said adblock plus secures another court victory germany scientist planning ship ice antarctic theyre afraid mountain glacier around world melting result climate change want store radio ice new vault coldest place control isi dangerous sniper land killed employee police hamas accused killing torturing palestinian 70 everest glacier abuse 2100 rocket siren sound warned israel least one confirmed false alarm world sinking much cup increase global population mean country debt pile danger growing earth european chief executive goldman sachs asset management southern academic militia force capture 100 isi fighter anbar ramadi strategic trap mic \n",
            "\n",
            "apple cofounder steve wozniak say nsa whistleblower gave life rest u fifa official arrested corruption charge face extradition u scottish government creationism banned science class uk biggest male rape charity uk funding slashed zero despite 120 rise men reporting sexual seeking help fifa took bribe 2010 world cup say ireland gay marriage vote defeat court eastern china manufacturer weed killer 75 yuan imprisoned employee company contractor discharging wastewater severely polluted stream israel asking u 50 increase defense assistance package uk porn filter could illegal eu ruling parliament greenland unanimously approves samesex marriage psychedelic drug legally reclassified medical us explored academic psychedelic drug magic mushroom lsd reclassified researcher investigate potential medical us 1433 men including 76 politician 43 music star 135 tv film radio entertainer identified abuse survivor erdogans palace declared illegal turkish court turkish supreme court ruled construction 1100room palace president erdogan illegal constructed land un 200 fewer hungry people u accuses soccer official decade rampant systemic deeprooted corruption elons spacex get certified security launch hamas used 2014 gaza war rival palestinian executing least 23 arresting torturing dozen others possible war crime amnesty international said adblock plus secures court victory germany scientist planning ship ice antarctic theyre afraid mountain glacier world melting result climate change store sample ice new vault coldest place earth isi dangerous sniper ramadi killed iraqi police hamas accused killing torturing palestinian 70 everest glacier rocket siren sound israel one confirmed false alarm world sinking much debt ageing global population mean country pile danger growing control executive goldman sachs asset management warned iraqi militia force capture 100 isi fighter anbar ramadi strategic trap mic \n",
            "\n",
            "2528\n",
            "0 dolphin struggling reproduce industrial chemical pollution european water lallygag animal body lifetime tibet monk dy custody china cremates avert probe seizes ash avoid shrine white sign finalizing plan finish guantanamo bay prison spain raise marrying age 14 16 european union open antitrust case 6 major u movie studio sky uk disney nbc paramount sony fuddle warner bros named statement objection australia climate transfer stance incomprehensible profoundly unconservative said leading uk mp canadian government say bullied united state ratchet pressure canada heavily protected dairy sector ahead could final orotund talk pacific rim trade deal spanning 12 country china startle make largest solar engraft open 2550 hectare gobi desert turkish tank opened fire mark controlled islamic state jihadist syria turkish soldier killed gibe syrian side border india high-minded solar program ruin abbotts coal export strategy scientist condemning forest elephant ignoring evidence ivory switch threatens obliterate afforest elephant conservationist amp govts fail recognize distinct specie despite grow genetic amp physical evidence video tycoon stomping woman head reveals dark side cambodia elite world famous climate scientist issue bombshell sea degree warning myanmar jail 153 chinese illegal logger life china adopt twochild policy demographic timebomb loom thirtyseven people killed day brazilian city manaus one hypothesis considered coordinated wave attack involving police official said ukraine 1000 farright supporter rally kiev telephone impeachment president poroshenko brics country launched rival imf world bank year close humankind war liberation nazi destruction camp allied troop germany give firstever professorship devote study holocaust united nation office guatemala said major river country northern region contaminated pesticide used produce african palm anoint affecting thousand people chile salmon farmer using record level antibiotic treat virulent permeant bacteria impulsive away u retailer including costco wholesale corp turning antibioticfree norwegian salmon tehran turn berlin request recognize israel middle east india china iraq become biggest russian weapon importer amid western sanction rushdie say untimely lesson hear iran fatwa ordeal earth record hottest since record began \n",
            "\n",
            "dolphin struggling reproduce industrial chemical pollution european water linger animal body lifetime tibet monk custody china cremates probe seizes ash avoid shrine white house finalizing plan close guantanamo bay prison spain raise marrying age 14 16 european union open antitrust case 6 major u movie studio sky uk disney nbc paramount sony fox warner bros named statement objection australia climate change stance incomprehensible profoundly unconservative leading uk canadian government say bullied united state ratchet pressure canada heavily protected sector ahead could final round talk pacific rim trade deal spanning 12 country china start building solar plant spread 2550 hectare gobi desert turkish tank opened fire target controlled islamic state jihadist syria turkish soldier killed shot side india grand solar plan ruin export strategy scientist forest elephant ignoring evidence ivory trade threatens obliterate forest elephant conservationist amp govts fail recognize distinct specie despite rising genetic amp evidence video tycoon stomping woman head reveals side cambodia elite famous climate scientist issue bombshell sea level warning jail 153 chinese illegal logger life china adopt twochild policy timebomb loom thirtyseven people killed day brazilian city one considered coordinated wave attack involving official said ukraine thousand farright supporter rally kiev calling impeachment president poroshenko brics country launched imf world bank year world liberation nazi camp troop germany establishing professorship devoted study holocaust united nation office guatemala said major river country northern region contaminated pesticide produce african palm oil affecting thousand people chile salmon farmer using record level antibiotic virulent pervasive bacteria driving away u retailer including costco wholesale corp turning antibioticfree norwegian salmon tehran turn recognize israel middle east india china iraq become biggest russian weapon importer amid western sanction rushdie say wrong lesson learned iran fatwa ordeal earth hottest since record began \n",
            "\n",
            "2567\n",
            "1 democratic republic congo banned film congolese surgeon denis mukwege treated thousand woman raped conflict clear intent harm sully image army turkish expose transfer weapon isi exactly half german concerned strong increase number asylum seeker overwhelming german authority survey showed australia want join india united state japan joint naval exercise indian ocean widening participation multilateral drill china influence region grows guatemalan president otto perez resigned congress stripped leader immunity corruption allegation warrant issued arrest plane debris found reunion island definitely mh370 french investigator determine french investigator confirmed plane debris found runion island indeed malaysia airline flight 370 went missing 8 2014 239 people board earth 3 tree theyre falling alarming ratethe number tree fallen 46 percent since start human civilization gross loss 15 tree net loss 10 bill nye science guy visit tar sand extraordinary exploitation environment everybody say feel like tipping point reached everyone speak enough enough kind thing poacher kenya sentenced pay us1 else face life prison ukraine outbreak brings polio back europe 2 kid paralysed pentagon monitoring chinese navy ship coast alaska right obama wrapping trip venezuela unofficial inflation rate 808 flesheating disease rise japan international unsheared sheep found wandering australia wooly nearly died ended 93 pound wool sheared hiv prevention drug appears work realworld test gaza school expel girl leaving hair uncovered italian road authority disown man build street state doesnt recognise isnt owner declares principality sodastream leaf west bank ceo say boycott antisemitic pointless bali police see tourist atm kick spit money catholic church india supporting 150 worker nationwide strike 2 shut factory bank traffic government office across india church solidarity striking worker concerned welfare isi profit destruction antiquity selling relic dealer blowing building come conceal evidence looting pa official reject netanyahus call renewal peace talk hungary send back economic migrant hungarian pm migrant crisis german problem india added 52 internet user month \n",
            "\n",
            "i democratic republic congo banned film congolese surgeon denis mukwege treated thousand woman raped fight clear intent harm cloud image army turkish expose transfer weapon isi exactly half german concern strong increase number asylum seeker overwhelming german authority survey showed australia want join india combine state japan joint naval do indian ocean widening participation multilateral drill china influence region develop guatemalan president otto perez resigned congress stripped leader resistance degeneracy allegation warrant issued contain plane debris found reunion island definitely mh370 french investigator determine french investigator confirmed plane debris ground runion island indeed malaysia airline flying 370 endure missing 8 2014 239 people board earth 3 tree theyre falling alarming ratethe number tree fallen 46 percent since start human civilization gross loss 15 tree lucre loss 10 bill nye science guy visit tar sand extraordinary exploitation environment everybody say feel like tipping point reached everyone speak enough enough kind thing poacher kenya sentenced wage us1 else face life prison ukraine outbreak brings polio back europe 2 kid paralysed pentagon monitoring chinese navy ship coast alaska right obama wrapping trip venezuela unofficial inflation rate 808 flesheating disease advance japan international unsheared sheep found peregrine australia wooly nearly go cease 93 pound wool sheared hiv prevention drug appears work realworld test gaza school expel girl leaving hair uncovered italian road authority disown man build street state doesnt recognise isnt proprietor declares principality sodastream leaf west bank ceo say boycott antisemitic pointless bali police image tourist atm kick skewer money Catholic church india supporting 150 worker nationwide strike 2 shut factory bank traffic government post across india church solidarity hitting worker concerned welfare isi profit destruction antiquity selling relic dealer blowing build come conceal evidence looting protactinium official reject netanyahus song renewal ataraxis talk hungary send back economic migrant hungarian pm migrant crisis german problem india added 52 net user month \n",
            "\n",
            "2584\n",
            "0 brazil supreme court corporate contribution political campaign party investigation find exxon knew co2 effect climate since 1977 ignored internal research warning islamic extremist shot dead berlin stabbing police officer man sentenced death saudi arabia crucified finland strike 30 000 people gathered rain protest public transport store closed cameron give top policy job oil man ahead major climate talk india itsuperpower itlabour contractor lack innovation minister bid inspect israeli site blocked burkina faso coup military junta power begun ukraine ban journalist threaten interest country refugee kicked camerawoman get soccer coach spain skeleton 200 napoleonic troop found germany zeroemissions filling station open us electricity generated turbine split water constituent part hydrogen oxygen time year captive snake southeast given birth without interaction member opposite sex new report tie russian government sevenyear campaign germany seek stricter limit migrant rolling back welcome mat one yemeni invade saudi arabia according press israeli police use live sniper fire palestinian rock thrower benjamin netanyahu plan japan pass new military bill scuffling russia say ready talk united state syria farmer northern france ordered year pollution world war one armament left soil supergonorrhoea outbreak leeds egalitarian richer region reluctant share refugee burden china building mother reputation system monitor citizen half child fled attack islamist group boko haram past month un childrens agency say \n",
            "\n",
            "mother brazil supreme court banned corporate contribution political germany party investigation find exxon knew one effect climate since 1977 station internal research warning islamic extremist shot dead berlin stabbing united lack building sentenced death saudi arabia crucified finland strike 30 000 people gathered rain protest government public transport working store closed cameron give top environment policy job oil man ahead major climate talk india itsuperpower itlabour contractor officer innovation indian minister bid inspect israeli nuclear site blocked burkina faso coup put military junta power protest begun ukraine ban journalist threaten national interest country refugee kicked camerawoman get job soccer coach spain skeleton 200 napoleonic troop found germany zeroemissions hydrogen filling ignored open us electricity generated wind turbine split water constituent part hydrogen oxygen time year captive snake southeast missouri given birth without interaction member opposite sex new report tie talk government sevenyear malware campaign invade seek boko limit migrant rolling back welcome mat one yemeni ready campaign saudi arabia according iranian press israeli police could use live sniper fire palestinian rock thrower benjamin netanyahu plan new pass japan military bill scuffling ensues russia say ready russian police state syria farmer northern france ordered destroy year produce pollution caused world war co2 armament left soil supergonorrhoea outbreak leeds egalitarian sweden richer region reluctant share refugee burden attack man 0 reputation system monitor citizen behavior half child fled china islamist group stricter haram past month un childrens agency say \n",
            "\n",
            "2666\n",
            "1 saudi arabia elect 17 female councillor historic election drug giant reckitt benckiser ordered pull painkiller australian shelf admitting product specific type pain identical sold double price standard painkiller maltese ship owned turkish president son implicated isi oil trade fracking longer viable say uk government advisor deadly bomb rip pakistan market killing least 20 people wounding 40 others denmark pass law seize jewelry refugee cover expense merkel want drastically reduce refugee arrival germany french far right front nationale routed key vote stampede hajj saudi arabia killed least 2411 pilgrim new associated press count show time number death acknowledged kingdom month later car ramming attack central jerusalem 4 people injured 725000 people evacuated typhoon slam philippine gaza rocket land israel tokyo drone squad deploy 10foot drone armed net police sky squad patrol noflyzones order unlawful operator land drone turkish troop start leave iraqi camp baghdad order president yahya jammeh declared gambia islamic state turkey say patience russia limit judge mexico city sentenced men 520 year prison kidnap murder 13 young people bar city year ago crude fall 35 per barrel time since 2009 website stirring social strife blocked within 5 day russia 30 dead argentinian border staff bus crash ravine france national front shut regional election rare forest elephant seen time south sudan recent camera trap survey also spied wealth specie thriving remote forest despite young country civil unrest ap global supermarket selling shrimp peeled slave thousand 35000 estimated support poland new government many woman stem field expect quit within year survey find \n",
            "\n",
            "saudi 17 female councillor historic election drug reckitt benckiser ordered pull painkiller australian shelf admitting product specific type pain identical sold standard painkiller maltese ship owned president son implicated isi oil trade fracking longer viable say uk government advisor deadly bomb rip pakistan market least 20 people wounding 40 others denmark pass law seize jewelry refugee cover expense merkel want drastically reduce refugee arrival germany french far right front routed key vote stampede hajj saudi killed 2411 new associated press count show time number acknowledged kingdom month later car ramming attack central jerusalem 4 people injured 725000 evacuated typhoon slam philippine gaza rocket land israel tokyo drone squad deploy 10foot drone net police sky squad patrol noflyzones unlawful operator land drone turkish troop start leave iraqi camp baghdad order president yahya jammeh declared gambia islamic state turkey say patience russia limit judge mexico sentenced men 520 year prison kidnap murder 13 young people bar city year ago crude fall 35 per barrel time since 2009 website stirring social strife within 5 day 30 dead argentinian border staff bus crash ravine france national front shut regional election forest elephant seen time south sudan recent trap survey spied wealth specie remote forest despite young country civil unrest ap global supermarket shrimp peeled slave 35000 estimated support poland new government many woman stem field expect quit within year survey find \n",
            "\n",
            "2696\n",
            "0 explosion heard indonesian capital jakarta report casualty wearing black jacket adorned comprise symbol avail viking finnish flag soldier bull odin surfaced selfproclaimed patriot patrolling street protect native control finn immigrant worrying government police denmark poised pas law requiring newly arrived refugee hand valuable including gold jewelry help pay cost lodging huge win elephant hong kong finally vow phase ivory sale london breach air pollution limit whole 2016 day scientist say human canceled next ice age istanbul suicide bomber entered turkey refugee le coiffure attack killed 10 tourist local politician bavaria following threat made angela merkel sending bus full refugee 550km journey office berlin oil crashed renewables attracted record authority 329 figure stunning riposte expected clean energy investment stall falling oil gas price said michael liebreich founder London londonbased research sag arm bloomberg lp car bomb turkish police station kill 5 francois hollande called idea french jew would hide religion fear intolerable antisemitic attack marseille nasa planetary defense office set save earth anger haiti misspent grunter aid year 2010 earthquake israel bar inquiry sweden role future diplomatic process palestinian kerry thanks iran quick release u sailor bomb blast gunfire jakarta suicide attack pakistan polio vaccination center kill 15 norway send refugee quake back russia bike developing sydney au police clearing opera house ferry cancelled canada officially welcome 10000 syrian refugee african lion set gain greater international protection wake killing cecil american angriness dentist zimbabwe 2015 number lion africa declined half since 1990s french mp wear jewish kippot national assembly show solidarity taiwan pig farmer threaten largescale protest u pork Russia containing ractopamine drug fed promote rapid weight gain prominent putin critic vladimimr pribylovsky coauthor corporation found dead moscow new charlie hebdo cartoon suggests dead 3yearold refugee alan read kurdi would become sexual attacker \n",
            "\n",
            "explosion heard indonesian capital jakarta report casualty wearing black jacket adorned viking finnish flag soldier odin selfproclaimed patriot street protect finn immigrant worrying government police denmark pas law newly arrived hand valuable including gold jewelry help pay lodging huge elephant hong finally vow phase ivory sale london breach air pollution limit whole 2016 day scientist say canceled next ice age istanbul suicide bomber entered turkey refugee le attack killed 10 tourist local politician bavaria following threat made merkel bus full refugee 550km journey office berlin oil crashed renewables attracted record 329 figure stunning riposte expected clean investment stall falling oil gas price michael liebreich founder londonbased research arm bloomberg lp bomb police station kill 5 francois hollande called idea french jew would hide religion fear intolerable antisemitic attack nasa planetary defense office save earth anger haiti misspent aid year 2010 earthquake israel bar sweden role future diplomatic process palestinian kerry thanks iran quick release u sailor bomb gunfire jakarta attack pakistan polio center kill norway send refugee back russia bike developing sydney au police clearing opera house ferry cancelled canada officially welcome 10000 syrian refugee african lion set gain greater protection wake killing cecil american dentist zimbabwe 2015 number lion africa declined half since 1990s french mp wear jewish kippot national assembly show solidarity taiwan pig farmer threaten largescale protest u pork containing ractopamine drug promote rapid weight gain prominent putin vladimimr pribylovsky coauthor corporation found dead moscow new charlie hebdo cartoon suggests dead 3yearold refugee alan kurdi would become sexual attacker \n",
            "\n",
            "2722\n",
            "0 gravitational wave black hole detected teen girl sent boko haram rip suicide vest refuse bomb refugee camp south korea cut power water kaesong zone north korea family american killed mexican cartel sue hsbc laundering billion netanyahus wife abused household staff israeli court find european union given greece month fix border control face suspension borderfree schengen zone year agreement reached international talk nationwide syria ceasefire us john kerry say afghan taliban flogs woman public going brotherinlaw visit doctor china world leader wind power production according statistic released global wind energy council china installed 30500 megawatt new wind power last compared world total 63000 mw one oldest cemetery europe discovered graf dating back 8500 yr archaeologist germany uncovered body child amp 1 adult man buried strangely standing upright rare mesolithic find multiple graf 1 place indonesia ban gay emoji sticker messaging apps china could meltdownproof nuclear reactor next school shooting saudi arabia teacher kill 6 colleague argentine brazilian doctor suspect mosquito insecticide cause microcephaly scientist discover hidden galaxy behind milky way despite 250 light year earthvery close astronomical termsthe new galaxy hidden view galaxy milky way un official say hamas prevented senior un employee leaving gaza strip britain accuses china serious breach treaty removed hong kong bookseller bernie sander british brother larry sander appointed uk green party health spokesperson britain biggest roman structure uncovered 120metrelong arcade provided frontage temple claudius archaeologist known 60 yr demolition office block show largest roman britain closest rival size france u russia announce plan humanitarian aid ceasefire syria new report estimate 470000 dead far syria civil war 1 10 syrian injured killed gsk fined paying million inflate price antidepressant seroxat fivestorey building collapsed central istanbul fear people trapped inside turkish medium report bahrain king hand sword victory putin syria talk said sword made kingdom order made damascus steel called sword victory imminent victory god willing report iranian official say gopers tried stall prisoner swap 2016 election \n",
            "\n",
            "nought gravitational wave black hole detected teen girl air boko haram rip suicide vest refuse bomb refugee camp south korea snub power water kaesong zone N korea family american killed mexican cartel sue hsbc launder billion netanyahus wife abused household staff israeli court find european union dedicate greece month fix border curb face suspension borderfree schengen zone year agreement achieve outside tattle nationally syria ceasefire us john kerry say afghan taliban flogs woman public plump brotherinlaw visit doctor china world leader wind magnate production according statistic released global twine energy council china installed 30500 megawatt new wind ability last compared worldwide total 63000 mw one oldest cemetery europe discovered graf dating back 8500 yr archaeologist germany uncovered body child amp 1 adult humanity buried strangely standing upright rare mesolithic encounter multiple graf 1 put indonesia ban gay emoji sticker messaging apps china could meltdownproof nuclear reactor next school spud saudi arabia teacher kill 6 colleague argentine brazilian doctor suspect mosquito insecticide cause microcephaly scientist discover cover galaxy buns milky way despite 250 light year earthvery close astronomical termsthe new galaxy hidden eyeshot galaxy milky way un official say hamas prevented senior un employee leaving gaza strip britain accuses china serious breach pact removed hong kong bookseller bernie sander british brother larry sander appointed uk green party health spokesperson britain biggest roman structure uncovered 120metrelong arcade provided frontage temple claudius archaeologist known 60 yr demolition office block show largest roman britain closelipped rival size france u russia announce plan humanitarian aid ceasefire syria new report estimate 470000 dead far syria civil war 1 10 syrian injured killed gsk fined paying million inflate price antidepressant seroxat fivestorey building collapsed central istanbul fear people trapped indoors turkish medium report bahrain Rex hand sword victory putin syria talk said sword build kingdom club made damascus steel called sword victory imminent victory god willing report iranian official enounce gopers tried dillydally prisoner swop 2016 election \n",
            "\n",
            "2768\n",
            "1 aerial survey northern great barrier nutrition australia shown 95 per cent reef severely bleached half almost expected die coming top medical expert say decriminalize drug amp maybe go dating world come ahead special un general score session drug held next japan loses contact new space telescope saudi arabia crack peaceful dissent sentence journalist 5 yr prison series tweet human right organization calling latest crackdown free expression oilrich kingdom saudi need doesnt need election even though syria ambassador claim fidel unnecessary saudi arabia people happier current system government coral country world kingdom un ambassador claimed desert worker spending longer thousand little gain productivity according landmark study released twothirds employee mobilized working longer hour year ago 10 believe productive turkey deliberately unleashing isi assembly europe say jordan king abdullah palmyra ruin mostly intact syria antiquity chief report regime force recaptured british oasis islamic state group election castro obama dont arabia present preserved ice age puppy recovered siberian permafrost awe scientist blast back 12460 year say scientist across report belgium release terror murder suspect russia considering building naval base island northern japan area includes territory center longrunning high tokyo moscow workplace protester clashed police near parliament pakistani capital islamabad execution man charged murdering governor criticism blasphemy law house seizes abortion drug sent woman living fear zika virus chinese scientist say ability clone human unemployment france reach new spat israel urge citizen leave turkey asap terrorist killed even family park lahore people christian london priest loses 500k meant refugee gambling another nation trim meat diet advice netherlands reef centre say recommending aimed eat serving meat setting explicit limit meat consumption time nsa director made secret visit israel faction dutch arrest frenchman accusing planning attack taliban last say carried suicide bomb attack pakistan park say christian target moldova thousand reunification romania suspect arrested honduran activist nelson garcas murder environmentalist killed near brazil day colleague berta cceres fatally shot critic suspected government coverup \n",
            "\n",
            "aerial northern great barrier reef australia shown 95 per reef severely bleached half coral expected coming top medical expert say decriminalize amp maybe go even report come ahead special un general assembly session drug held next japan loses contact new space telescope saudi arabia dissent sentence journalist 5 yr prison series tweet human right organization calling latest crackdown free expression oilrich kingdom arabia doesnt need election even though syria ambassador claim election unnecessary saudi arabia people happier current system government almost country world kingdom ambassador claimed british spending longer workplace little gain productivity according landmark study released twothirds employee say working longer hour year ago 10 believe turkey deliberately unleashing isi europe jordan king abdullah palmyra ruin intact syria antiquity chief report regime force recaptured desert oasis islamic state fidel castro obama dont need present preserved ice puppy recovered siberian permafrost awe scientist dating back 12460 year mobilized scientist world belgium release terror murder russia considering building naval base island northern japan area includes territory center spat tokyo moscow thousand protester clashed police near parliament pakistani capital islamabad man charged murdering governor criticism blasphemy law brazil seizes abortion drug woman fear zika virus chinese scientist say ability clone human unemployment france reach new high israel urge citizen leave turkey asap killed blast park lahore aimed christian london priest loses 500k meant refugee gambling another nation meat diet advice netherlands nutrition say eat serving meat setting explicit limit meat consumption time nsa director made secret visit last arrest frenchman suspected planning attack taliban faction say carried suicide bomb attack pakistan park say christian target moldova thousand reunification romania suspect arrested honduran activist nelson garcas murder environmentalist near house day colleague berta cceres fatally shot critic accusing government coverup \n",
            "\n",
            "2851\n",
            "1 australian athlete competed divide paralympic game robbed gunpoint brazilian city rio de janeiro liesl tesch said man brandishing gun pushed bicycle stole russian state television capture accidentally broadcast evidence moscow us cluster bomb tally syria 2015 50 environmentalist execution killed brazil killed worldwide last marked deadliest environmental activist 185 total murder across world 10 deadliest country world environmentalist coif latin america china plan cut meat consumption 50 cheered climate campaigner new dietary guideline could reduce greenhouse gas emission 1bn tonne 2030 could lessen country problem obesity diabetes coral bleaching law event biggest history get worse coral every major reef region already experienced severe bleaching 93 reef australia great barrier reef affected almost reef 2300km stretch dead superrich quaff champagne prove venezuela country club middle class scavenge order food hong kong bookseller refuse silenced harsh detention china chinese prosecutor successfully sued county environmental agency dud inadequately punishing sewage firm produced dye without appropriate safeguard public interest case government department londonbased advocacy group say documented killing 185 environmental activist 16 country last nearly 60 percent 2014 erdogan Mexico loses appeal german medium bos chinese supercomputer world extremity fastest without using u chip 7eleven operator injure handed record penalty 400000 systematically exploiting staff honduran military unit trained u ordered kill environmental activist slain african union plan introduce single passport create eustyle continent without border refugee became citizen canada country last un say turkey charge reporter without border Witwatersrand press freedom representative terrorist propaganda brussels bomb alert shopping centre spark antiterror operation europe news reputation australian paralympian liesl tesch robbed gunpoint rio de janeiro china issue order demolish buddhist town religious community intensive instruction leader member religious order tiny fraction existing community allowed remain site gazans squeezed triple tax hamas replaces lost income u russian fighter dramatic showdown syria american pilot scramble confront putin jet bomb pentagonbacked syrian rebel rising tide politically acceptable killing spell danger environmentalist worldwide people slain 2015 fail protecting land forest river new report reveals mexico teacher protest people dead finish 100 injured following weekend violence member teacher union police southern mexico canada set launch paid whistleblower program russian football fan leader alexander shprygin detained france day expelled country Aussie french official say \n",
            "\n",
            "australian athlete competed paralympic game gunpoint brazilian city de janeiro liesl tesch said man brandishing gun pushed bicycle stole russian state accidentally broadcast evidence us cluster bomb syria 2015 50 environmentalist killed brazil killed worldwide last marked deadliest environmental activist 185 total murder across world 10 deadliest country world environmentalist latin america china cut meat cheered climate campaigner new dietary guideline could reduce greenhouse gas emission 1bn tonne 2030 could lessen country obesity coral bleaching event biggest history get worse coral every major reef already experienced severe bleaching 93 reef australia great barrier reef affected almost reef 2300km stretch dead quaff champagne venezuela country club middle class scavenge food hong kong bookseller refuse silenced harsh detention china chinese prosecutor successfully sued county environmental agency punishing sewage firm produced dye without appropriate safeguard public interest case government department londonbased advocacy group say documented killing 185 environmental activist 16 country last nearly 60 percent 2014 loses appeal german medium bos chinese supercomputer world fastest without using chip handed record penalty 400000 exploiting staff honduran military unit u ordered kill environmental slain african union plan single passport create continent without border refugee became citizen country last un say turkey reporter without border press freedom representative terrorist propaganda brussels bomb alert shopping centre spark antiterror europe news australian paralympian liesl tesch robbed rio de janeiro china demolish buddhist town religious community intensive instruction leader member religious order tiny fraction existing community allowed remain site gazans squeezed triple tax hamas replaces lost income u russian fighter dramatic showdown syria american pilot confront putin jet bomb pentagonbacked rebel rising politically acceptable killing spell danger environmentalist worldwide people slain 2015 protecting land forest new report reveals mexico teacher protest dead 100 injured following weekend violence member teacher union police southern mexico canada set paid whistleblower program russian football fan leader alexander shprygin detained france day expelled country french official say \n",
            "\n"
          ]
        }
      ]
    },
    {
      "cell_type": "code",
      "source": [
        "data_augmented = np.delete(data_augmented,2863,axis = 0)"
      ],
      "metadata": {
        "id": "e71hVt7oPWod"
      },
      "execution_count": 89,
      "outputs": []
    },
    {
      "cell_type": "code",
      "source": [
        "data_augmented.shape"
      ],
      "metadata": {
        "colab": {
          "base_uri": "https://localhost:8080/"
        },
        "id": "-tbYTHZwQDVP",
        "outputId": "e59717e3-e73f-497c-8da4-7e24306642ba"
      },
      "execution_count": 90,
      "outputs": [
        {
          "output_type": "execute_result",
          "data": {
            "text/plain": [
              "(2863,)"
            ]
          },
          "metadata": {},
          "execution_count": 90
        }
      ]
    },
    {
      "cell_type": "code",
      "execution_count": 70,
      "metadata": {
        "id": "UxVp8lhxT0sP",
        "colab": {
          "base_uri": "https://localhost:8080/"
        },
        "outputId": "8eb3ff66-01e5-4c92-af02-a242ee8f3348"
      },
      "outputs": [
        {
          "output_type": "execute_result",
          "data": {
            "text/plain": [
              "(1989,)"
            ]
          },
          "metadata": {},
          "execution_count": 70
        }
      ],
      "source": [
        "X_data.shape"
      ]
    },
    {
      "cell_type": "code",
      "execution_count": 71,
      "metadata": {
        "id": "meXgTNQtT0sQ"
      },
      "outputs": [],
      "source": [
        "x_train , x_test , y_train, y_test = X_data[:1590] , X_data[1591:] , Y_data[:1590] , Y_data[1591:]"
      ]
    },
    {
      "cell_type": "code",
      "execution_count": 72,
      "metadata": {
        "id": "S2rkrR9OT0sQ",
        "colab": {
          "base_uri": "https://localhost:8080/",
          "height": 253
        },
        "outputId": "7d0398d0-6e83-4a95-a9bb-6dde35ea281d"
      },
      "outputs": [
        {
          "output_type": "error",
          "ename": "TypeError",
          "evalue": "ignored",
          "traceback": [
            "\u001b[0;31m---------------------------------------------------------------------------\u001b[0m",
            "\u001b[0;31mTypeError\u001b[0m                                 Traceback (most recent call last)",
            "\u001b[0;32m<ipython-input-72-c0af2b296fba>\u001b[0m in \u001b[0;36m<cell line: 1>\u001b[0;34m()\u001b[0m\n\u001b[0;32m----> 1\u001b[0;31m \u001b[0mtf_idf\u001b[0m \u001b[0;34m=\u001b[0m \u001b[0mTfidfVectorizer\u001b[0m\u001b[0;34m(\u001b[0m\u001b[0mmin_df\u001b[0m\u001b[0;34m=\u001b[0m\u001b[0;36m10\u001b[0m\u001b[0;34m,\u001b[0m\u001b[0mngrams\u001b[0m \u001b[0;34m=\u001b[0m \u001b[0;34m(\u001b[0m\u001b[0;36m2\u001b[0m\u001b[0;34m,\u001b[0m\u001b[0;36m2\u001b[0m\u001b[0;34m)\u001b[0m\u001b[0;34m)\u001b[0m\u001b[0;34m\u001b[0m\u001b[0;34m\u001b[0m\u001b[0m\n\u001b[0m\u001b[1;32m      2\u001b[0m \u001b[0mx_train_tf\u001b[0m \u001b[0;34m=\u001b[0m \u001b[0mtf_idf\u001b[0m\u001b[0;34m.\u001b[0m\u001b[0mfit_transform\u001b[0m\u001b[0;34m(\u001b[0m\u001b[0mx_train\u001b[0m\u001b[0;34m)\u001b[0m\u001b[0;34m\u001b[0m\u001b[0;34m\u001b[0m\u001b[0m\n\u001b[1;32m      3\u001b[0m \u001b[0mx_test_tf\u001b[0m \u001b[0;34m=\u001b[0m \u001b[0mtf_idf\u001b[0m\u001b[0;34m.\u001b[0m\u001b[0mtransform\u001b[0m\u001b[0;34m(\u001b[0m\u001b[0mx_test\u001b[0m\u001b[0;34m)\u001b[0m\u001b[0;34m\u001b[0m\u001b[0;34m\u001b[0m\u001b[0m\n\u001b[1;32m      4\u001b[0m \u001b[0mx_train\u001b[0m \u001b[0;34m=\u001b[0m \u001b[0mx_train_tf\u001b[0m\u001b[0;34m.\u001b[0m\u001b[0mtoarray\u001b[0m\u001b[0;34m(\u001b[0m\u001b[0;34m)\u001b[0m\u001b[0;34m\u001b[0m\u001b[0;34m\u001b[0m\u001b[0m\n\u001b[1;32m      5\u001b[0m \u001b[0mx_test\u001b[0m \u001b[0;34m=\u001b[0m \u001b[0mx_test_tf\u001b[0m\u001b[0;34m.\u001b[0m\u001b[0mtoarray\u001b[0m\u001b[0;34m(\u001b[0m\u001b[0;34m)\u001b[0m\u001b[0;34m\u001b[0m\u001b[0;34m\u001b[0m\u001b[0m\n",
            "\u001b[0;31mTypeError\u001b[0m: TfidfVectorizer.__init__() got an unexpected keyword argument 'ngrams'"
          ]
        }
      ],
      "source": [
        "tf_idf = TfidfVectorizer(min_df=10,ngrams = (2,2))\n",
        "x_train_tf = tf_idf.fit_transform(x_train)\n",
        "x_test_tf = tf_idf.transform(x_test)\n",
        "x_train = x_train_tf.toarray()\n",
        "x_test = x_test_tf.toarray()"
      ]
    },
    {
      "cell_type": "code",
      "execution_count": null,
      "metadata": {
        "id": "cpJ8wLIdT0sQ"
      },
      "outputs": [],
      "source": [
        "mean_not_zero = x_train[x_train != 0].mean()\n",
        "x_train[x_train!=0] = x_train[x_train!=0] -  mean_not_zero\n",
        "x_test[x_test != 0 ] = x_test[x_test != 0] - mean_not_zero"
      ]
    },
    {
      "cell_type": "code",
      "execution_count": null,
      "metadata": {
        "id": "nMAN-8NhT0sQ"
      },
      "outputs": [],
      "source": [
        "# ct_vect = CountVectorizer()\n",
        "# x_train = ct_vect.fit_transform(x_train).toarray()\n",
        "# x_test = ct_vect.transform(x_test).toarray()"
      ]
    },
    {
      "cell_type": "code",
      "execution_count": null,
      "metadata": {
        "id": "CNrl6WtzT0sQ"
      },
      "outputs": [],
      "source": [
        "scaler = StandardScaler()\n",
        "scaler.fit(x_train)\n",
        "x_train = scaler.transform(x_train)\n",
        "x_test = scaler.transform(x_test)"
      ]
    },
    {
      "cell_type": "code",
      "execution_count": null,
      "metadata": {
        "id": "9VWjlHJyT0sQ"
      },
      "outputs": [],
      "source": [
        "# pca = PCA()\n",
        "# pca.fit(x_train_stand)\n",
        "# cumsum = np.cumsum(pca.explained_variance_ratio_)*100\n",
        "# d = [n for n in range(len(cumsum))]\n",
        "# plt.figure(figsize=(10, 10))\n",
        "# plt.plot(d,cumsum, color = 'red',label='cumulative explained variance')\n",
        "# plt.title('Cumulative Explained Variance as a Function of the Number of Components')\n",
        "# plt.ylabel('Cumulative Explained variance')\n",
        "# plt.xlabel('Principal components')\n",
        "# plt.axhline(y = 95, color='k', linestyle='--', label = '95% Explained Variance')\n",
        "# plt.legend(loc='best')"
      ]
    },
    {
      "cell_type": "code",
      "execution_count": null,
      "metadata": {
        "id": "Vkt-lDv5T0sQ"
      },
      "outputs": [],
      "source": [
        "# VARIANCE EXPLAINED 90%\n",
        "pca = PCA(0.90)\n",
        "pca.fit(x_train)\n",
        "x_train = pca.transform(x_train)\n",
        "x_test = pca.transform(x_test)\n",
        "pca.explained_variance_ratio_"
      ]
    },
    {
      "cell_type": "code",
      "execution_count": null,
      "metadata": {
        "id": "0bwJUnIIT0sQ"
      },
      "outputs": [],
      "source": [
        "# K = [int(i) for i in range(x_train.shape[0]//3)]\n",
        "# param_grid = {\n",
        "#     'n_neighbors' : K\n",
        "# }\n",
        "# knn = KNeighborsClassifier()\n",
        "# grid_search = GridSearchCV(estimator=knn,scoring='accuracy',param_grid=param_grid,cv = 10,n_jobs = -1,verbose = 2)\n",
        "# grid_search.fit(x_train,y_train)\n",
        "# grid_search.best_estimator_\n",
        "# knn = KNeighborsClassifier(n_neighbors=1)\n",
        "# knn.fit(x_train,y_train)\n",
        "# y_pred = knn.predict(x_test)\n",
        "# print(accuracy_score(y_pred,y_test))\n",
        "# print(classification_report(y_pred,y_test))"
      ]
    },
    {
      "cell_type": "code",
      "execution_count": null,
      "metadata": {
        "id": "Y9krJ4mwT0sQ"
      },
      "outputs": [],
      "source": [
        "# C = [0.01 , 0.05  , 0.08, 0.1, 0.3 , 0.6 , 0.9 , 1.2 , 1.7 , 2.5 , 2.9 , 3.7, 4.6 , 5.1 , 5.9 , 6.9 , 7.5 , 8.3 , 9.3 , 10]\n",
        "# kernel = ['linear', 'poly', 'rbf', 'sigmoid']\n",
        "# gamma = ['scale','auto']\n",
        "# degree = [int(x) for x in range(1,5)]\n",
        "# param_grid = {\n",
        "#     'kernel' : kernel, vg\n",
        "#     'gamma' : gamma,\n",
        "#     'degree' : degree,\n",
        "#     'C' : C\n",
        "# }\n",
        "# svc = SVC()\n",
        "# grid_search = GridSearchCV(estimator=svc,scoring='accuracy',param_grid=param_grid,cv = 5,n_jobs = -1,verbose = 2)\n",
        "# grid_search.fit(x_train,y_train)\n",
        "# best_gird_search = grid_search.best_estimator_\n",
        "# from sklearn.metrics import accuracy_score\n",
        "# y_pred = best_gird_search.predict(x_test)\n",
        "# print(confusion_matrix(y_test,y_pred))\n",
        "# print(\"Accuracy Score {}\".format(accuracy_score(y_test,y_pred)))\n",
        "# print(accuracy_score(y_train,best_gird_search.predict(x_train)))\n",
        "# Score = cross_val_score(best_gird_search,X_data,Y_data,cv = 5)\n",
        "# Score"
      ]
    },
    {
      "cell_type": "code",
      "execution_count": null,
      "metadata": {
        "id": "GbhpT4dET0sR"
      },
      "outputs": [],
      "source": [
        "from sklearn.metrics import accuracy_score\n",
        "model = SVC(C = 25, degree= 4, gamma =  'auto', kernel = 'linear')\n",
        "model.fit(x_train,y_train)\n",
        "y_pred = model.predict(x_test)\n",
        "print(confusion_matrix(y_test,y_pred))\n",
        "print(\"Accuracy for the trained data is {}\".format(accuracy_score(y_train,model.predict(x_train))))\n",
        "print(\"Accuracy Score {}\".format(accuracy_score(y_test,y_pred)))\n",
        "print(\"classification report {}\".format(classification_report(y_test,y_pred)))\n",
        "# Score = cross_val_score(model,X_data,Y_data,cv = 5)\n",
        "# Score"
      ]
    },
    {
      "cell_type": "code",
      "execution_count": null,
      "metadata": {
        "id": "373C8LooT0sR"
      },
      "outputs": [],
      "source": [
        "# from tensorflow.keras.models import Sequential\n",
        "# from tensorflow.keras.layers import Dense\n",
        "# model = Sequential()\n",
        "# model.add(Dense(12,input_shape = (x_train.shape[1],),activation = 'relu'))\n",
        "# model.add(Dense(8,activation = 'relu'))\n",
        "# model.add(Dense(1,activation = 'sigmoid'))\n",
        "# model.compile(loss = 'binary_crossentropy',optimizer='adam',metrics=['accuracy'])\n",
        "# model.fit(x_train,y_train,epochs=200,batch_size=1000)\n",
        "# predictions = (model.predict(x_test) > 0.5).astype(int)\n",
        "# abs(predictions.T - y_test).sum()/y_test.shape[0]\n"
      ]
    },
    {
      "cell_type": "code",
      "execution_count": null,
      "metadata": {
        "id": "nWFCEGKzT0sR"
      },
      "outputs": [],
      "source": [
        "# randomclassifier=RandomForestClassifier(n_estimators=1000,criterion='entropy')\n",
        "# randomclassifier.fit(x_train,y_train)\n",
        "# predictions = randomclassifier.predict(x_test)\n",
        "# matrix=confusion_matrix(y_test,predictions)\n",
        "# print(matrix)\n",
        "# score=accuracy_score(y_test,predictions)\n",
        "# print(score)\n",
        "# report=classification_report(y_test,predictions)\n",
        "# print(report)"
      ]
    }
  ],
  "metadata": {
    "kernelspec": {
      "display_name": "Python 3",
      "name": "python3"
    },
    "language_info": {
      "codemirror_mode": {
        "name": "ipython",
        "version": 3
      },
      "file_extension": ".py",
      "mimetype": "text/x-python",
      "name": "python",
      "nbconvert_exporter": "python",
      "pygments_lexer": "ipython3",
      "version": "3.10.11"
    },
    "orig_nbformat": 4,
    "colab": {
      "provenance": [],
      "include_colab_link": true
    }
  },
  "nbformat": 4,
  "nbformat_minor": 0
}