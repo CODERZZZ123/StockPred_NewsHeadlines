{
  "cells": [
    {
      "cell_type": "markdown",
      "metadata": {
        "id": "view-in-github",
        "colab_type": "text"
      },
      "source": [
        "<a href=\"https://colab.research.google.com/github/CODERZZZ123/StockPred_NewsHeadlines/blob/master/pred_stock.ipynb\" target=\"_parent\"><img src=\"https://colab.research.google.com/assets/colab-badge.svg\" alt=\"Open In Colab\"/></a>"
      ]
    },
    {
      "cell_type": "code",
      "execution_count": null,
      "metadata": {
        "colab": {
          "base_uri": "https://localhost:8080/"
        },
        "id": "B9xkIi4fT0sK",
        "outputId": "f5d0dc0f-e5de-442a-9c80-5acce5ebf98c"
      },
      "outputs": [
        {
          "name": "stderr",
          "output_type": "stream",
          "text": [
            "[nltk_data] Downloading package stopwords to /root/nltk_data...\n",
            "[nltk_data]   Package stopwords is already up-to-date!\n",
            "[nltk_data] Downloading package wordnet to /root/nltk_data...\n",
            "[nltk_data]   Package wordnet is already up-to-date!\n"
          ]
        }
      ],
      "source": [
        "import numpy as np\n",
        "import pandas as pd\n",
        "import nltk.corpus\n",
        "import re\n",
        "nltk.download('stopwords')\n",
        "nltk.download('wordnet')\n",
        "\n",
        "\n",
        "from nltk.stem import WordNetLemmatizer\n",
        "from nltk.corpus import stopwords\n",
        "from nltk.stem.porter import PorterStemmer\n",
        "import matplotlib.pyplot as plt\n",
        "# !pip install sklearn\n",
        "import random\n",
        "from sklearn.feature_extraction.text import CountVectorizer\n",
        "from sklearn.feature_extraction.text import TfidfTransformer\n",
        "from sklearn.feature_extraction.text import TfidfVectorizer\n",
        "from sklearn.metrics import accuracy_score\n",
        "from sklearn.metrics import classification_report\n",
        "from sklearn.model_selection import train_test_split\n",
        "from sklearn.preprocessing import StandardScaler\n",
        "from sklearn.decomposition import PCA\n",
        "from sklearn.model_selection import GridSearchCV\n",
        "from sklearn.svm import SVC\n",
        "from sklearn.preprocessing import StandardScaler\n",
        "from sklearn.metrics import confusion_matrix\n",
        "from sklearn.ensemble import RandomForestClassifier\n",
        "from sklearn.model_selection import cross_val_score\n",
        "from sklearn.naive_bayes import GaussianNB\n",
        "from sklearn.feature_extraction.text import CountVectorizer\n",
        "from sklearn.neighbors import KNeighborsClassifier\n",
        "from gensim.models import KeyedVectors\n",
        "from sklearn.metrics.pairwise import euclidean_distances\n",
        "from sklearn.model_selection import RandomizedSearchCV\n",
        "from sklearn.linear_model import SGDClassifier\n",
        "from sklearn.ensemble import VotingClassifier\n",
        "from sklearn.linear_model import LogisticRegression\n",
        "from sklearn.tree import DecisionTreeClassifier\n",
        "from sklearn.preprocessing import Normalizer\n",
        "# !pip install textattack\n",
        "# !pip install --upgrade gensim --quiet"
      ]
    },
    {
      "cell_type": "code",
      "execution_count": null,
      "metadata": {
        "id": "hIHZTthYA0tA"
      },
      "outputs": [],
      "source": [
        "# import gensim\n",
        "\n",
        "# !pip install transformers --quiet"
      ]
    },
    {
      "cell_type": "code",
      "execution_count": null,
      "metadata": {
        "id": "aSAHOHjzBHzN"
      },
      "outputs": [],
      "source": [
        "# import transformers"
      ]
    },
    {
      "cell_type": "code",
      "execution_count": null,
      "metadata": {
        "id": "IMYmDEBVBl6R"
      },
      "outputs": [],
      "source": [
        "# !pip install sacremoses --quiet"
      ]
    },
    {
      "cell_type": "code",
      "execution_count": null,
      "metadata": {
        "id": "NsQEyXUxBq2U"
      },
      "outputs": [],
      "source": [
        "# import sacremoses"
      ]
    },
    {
      "cell_type": "code",
      "execution_count": null,
      "metadata": {
        "id": "ZzENF1KrBvIG"
      },
      "outputs": [],
      "source": [
        "# !pip install nlpaug --quiet"
      ]
    },
    {
      "cell_type": "code",
      "execution_count": null,
      "metadata": {
        "id": "wByHAA0DB0Ch"
      },
      "outputs": [],
      "source": [
        "# import nlpaug.augmenter.char as na\n",
        "# import nlpaug.augmenter.word as naw\n",
        "# import nlpaug.augmenter.sentence as nas\n",
        "# import nlpaug.flow as nafc\n",
        "# from nlpaug.util import Action"
      ]
    },
    {
      "cell_type": "code",
      "execution_count": null,
      "metadata": {
        "id": "atzWm9jsCLEk"
      },
      "outputs": [],
      "source": [
        "# from nlpaug.util.file.download import DownloadUtil\n",
        "# DownloadUtil.download_word2vec(dest_dir = \".\")\n",
        "# DownloadUtil.download_fasttext(dest_dir = \".\" , model_name = 'crawl-300d-2M')\n"
      ]
    },
    {
      "cell_type": "code",
      "execution_count": null,
      "metadata": {
        "id": "rN7FEZ0ZuqFO"
      },
      "outputs": [],
      "source": [
        "# from google.colab import drive\n",
        "# drive.mount('/content/drive')\n",
        "# import requests\n",
        "# import time\n",
        "\n",
        "# while True:\n",
        "#     try:\n",
        "#         requests.get('https://www.google.com')\n",
        "#         print(\"Kept alive.\")\n",
        "#     except:\n",
        "#         print(\"Failed to keep alive.\")\n",
        "#     time.sleep(600)"
      ]
    },
    {
      "cell_type": "code",
      "execution_count": null,
      "metadata": {
        "id": "RNqcUOuIT0sM"
      },
      "outputs": [],
      "source": [
        "from sklearn import  set_config\n",
        "set_config(display = 'diagram')"
      ]
    },
    {
      "cell_type": "code",
      "execution_count": null,
      "metadata": {
        "id": "1s_eLsA1T0sN"
      },
      "outputs": [],
      "source": [
        "df_NewsDjia = pd.read_csv('News_DJIA.csv', delimiter=',')\n",
        "# df_DjiaStock = pd.read_csv('DJIA_t.csv',delimiter=',')"
      ]
    },
    {
      "cell_type": "code",
      "execution_count": null,
      "metadata": {
        "id": "Im-8hHxS1heY"
      },
      "outputs": [],
      "source": [
        "# from google.colab import drive\n",
        "# drive.mount('/content/drive')"
      ]
    },
    {
      "cell_type": "code",
      "execution_count": null,
      "metadata": {
        "id": "Euw0z2hIPiPN"
      },
      "outputs": [],
      "source": [
        "# df_DjiaStock"
      ]
    },
    {
      "cell_type": "code",
      "execution_count": null,
      "metadata": {
        "id": "WIQ6Fn1iT0sN"
      },
      "outputs": [],
      "source": [
        "for i in df_NewsDjia.columns :\n",
        "    df_NewsDjia[i] = df_NewsDjia[i].astype(str)"
      ]
    },
    {
      "cell_type": "code",
      "execution_count": null,
      "metadata": {
        "id": "76jhl5TfT0sN"
      },
      "outputs": [],
      "source": [
        "# df_NewsDjia"
      ]
    },
    {
      "cell_type": "code",
      "execution_count": null,
      "metadata": {
        "id": "AdF2Yv7oT0sN"
      },
      "outputs": [],
      "source": [
        "num_columns = df_NewsDjia.columns.shape[0]\n",
        "col_names = df_NewsDjia.columns.values.tolist()\n",
        "col_names = col_names[1:]\n",
        "df_NewsDjia.loc[:, 'merged'] = \" \"\n",
        "for each_col_ind in range(num_columns-1):\n",
        "    df_NewsDjia.loc[:, 'merged'] =  df_NewsDjia.loc[:, 'merged'] + \" \" + df_NewsDjia[col_names[each_col_ind]] + \" \""
      ]
    },
    {
      "cell_type": "code",
      "execution_count": null,
      "metadata": {
        "id": "QpJYzG1RT0sO"
      },
      "outputs": [],
      "source": [
        "df_finalised = df_NewsDjia[['merged']]"
      ]
    },
    {
      "cell_type": "code",
      "execution_count": null,
      "metadata": {
        "id": "aTSmdMp5T0sO"
      },
      "outputs": [],
      "source": [
        "date_numric_stopwords = \"THOUSAND MILLION BILLION TRILLION HUNDRED ANNUAL ANNUALLY ANNUM YEAR YEARLY QUARTER QUARTERLY QTR MONTH MONTHLY WEEK WEEKLY DAY DAILY JANUARY FEBRUARY MARCH APRIL MAY JUNE JULY AUGUST SEPTEMBER OCTOBER NOVEMBER DECEMBER JAN FEB MAR APR MAY JUN JUL AUG SEP SEPT OCT NOV DEC MONDAY TUESDAY WEDNESDAY THURSDAY FRIDAY SATURDAY SUNDAY TWO THREE FOUR FIVE SIX SEVEN EIGHT NINE TEN ELEVEN TWELVE THIRTEEN FOURTEEN FIFTEEN SIXTEEN SEVENTEEN EIGHTEEN NINETEEN TWENTY THIRTY FORTY FIFTY SIXTY SEVENTY EIGHTY NINETY FIRST SECOND THIRD FOURTH FIFTH SIXTH SEVENTH EIGHTH NINTH TENTH II III IV V VI VII VIII IX X XI XII XIII XIV XV XVI XVII XVIII XIX XX\"\n",
        "date_numric_stopwords = date_numric_stopwords.lower()\n",
        "date_numric_stopwords = date_numric_stopwords.split(\" \")"
      ]
    },
    {
      "cell_type": "code",
      "execution_count": null,
      "metadata": {
        "id": "m5cRP3mjT0sO"
      },
      "outputs": [],
      "source": [
        "\n",
        "def remove_unecssary_word(sent):\n",
        "    sent = sent.replace(\"b'\",'')\n",
        "    sent = sent.replace('b\"','')\n",
        "    sent = sent.lower()\n",
        "    sent = re.sub(r\"(@\\[A-Za-z0-9]+)|([^0-9A-Za-z \\t])|(\\w+:\\/\\/\\S+)|^rt|http.+?\", \"\", sent)\n",
        "    stop = stopwords.words('english')\n",
        "    stop.extend(date_numric_stopwords)\n",
        "    sent = \" \".join([word for word in sent.split() if word not in (stop)])\n",
        "    sent = \" \".join([WordNetLemmatizer().lemmatize(word) for word in sent.split() ])\n",
        "    return sent"
      ]
    },
    {
      "cell_type": "code",
      "execution_count": null,
      "metadata": {
        "colab": {
          "base_uri": "https://localhost:8080/"
        },
        "id": "KnZxsRH_T0sO",
        "outputId": "7c3709c9-2e38-477a-88d1-13015b6803c6"
      },
      "outputs": [
        {
          "name": "stderr",
          "output_type": "stream",
          "text": [
            "<ipython-input-183-6847205c14ea>:1: SettingWithCopyWarning: \n",
            "A value is trying to be set on a copy of a slice from a DataFrame.\n",
            "Try using .loc[row_indexer,col_indexer] = value instead\n",
            "\n",
            "See the caveats in the documentation: https://pandas.pydata.org/pandas-docs/stable/user_guide/indexing.html#returning-a-view-versus-a-copy\n",
            "  df_finalised['merged'] = df_finalised['merged'].apply(remove_unecssary_word)\n"
          ]
        }
      ],
      "source": [
        "df_finalised['merged'] = df_finalised['merged'].apply(remove_unecssary_word)"
      ]
    },
    {
      "cell_type": "code",
      "execution_count": null,
      "metadata": {
        "colab": {
          "base_uri": "https://localhost:8080/",
          "height": 145
        },
        "id": "Wx0BhxO9T0sO",
        "outputId": "f894f8e8-86e6-49a3-c906-bdceefe57d11"
      },
      "outputs": [
        {
          "data": {
            "application/vnd.google.colaboratory.intrinsic+json": {
              "type": "string"
            },
            "text/plain": [
              "'0 georgia down russian warplane country move brink war breaking musharraf impeached russia today column troop roll south ossetia footage fighting youtube russian tank moving towards capital south ossetia reportedly completely destroyed georgian artillery fire afghan child raped impunity un official say sick old raped nothing 150 russian tank entered south ossetia whilst georgia shoot russian jet breaking georgia invades south ossetia russia warned would intervene so side enemy combatent trial nothing sham salim haman sentenced 5 12 year kept longer anyway feel like georgian troop retreat osettain capital presumably leaving several people killed video u prep georgia war russia rice give green light israel attack iran say u veto israeli military ops announcingclass action lawsuit behalf american public fbi sorussia georgia war nyts top story opening ceremony olympics fucking disgrace yet proof decline journalism china tell bush stay country affair world war start today georgia invades south ossetia russia get involved nato absorb georgia unleash full scale war alqaeda face islamist backlash condoleezza rice u would act prevent israeli strike iran israeli defense minister ehud barak israel prepared uncompromising victory case military hostility busy european union approved new sanction iran protest nuclear programme georgia withdraw 1000 soldier iraq help fight russian force georgia breakaway region south ossetia pentagon think attacking iran bad idea u news amp world report caucasus crisis georgia invades south ossetia indian shoe manufactory series like work visitor suffering mental illness banned olympics help mexico kidnapping surge'"
            ]
          },
          "execution_count": 184,
          "metadata": {},
          "output_type": "execute_result"
        }
      ],
      "source": [
        "df_finalised.iloc[0][0]"
      ]
    },
    {
      "cell_type": "code",
      "execution_count": null,
      "metadata": {
        "id": "A5SR3rl8Uw2y"
      },
      "outputs": [],
      "source": [
        "# from textattack.augmentation import EmbeddingAugmenter\n",
        "# embed_aug = EmbeddingAugmenter()\n",
        "# embed_aug.augment(df_finalised.iloc[0][0])"
      ]
    },
    {
      "cell_type": "code",
      "execution_count": null,
      "metadata": {
        "id": "7SSR3l6UEIGr"
      },
      "outputs": [],
      "source": [
        "# from textattack.augmentation import WordNetAugmenter\n",
        "# wordnet_aug = WordNetAugmenter()\n",
        "# wordnet_aug.augment(df_finalised.iloc[0][0])"
      ]
    },
    {
      "cell_type": "code",
      "execution_count": null,
      "metadata": {
        "id": "K7x4r45pE-6C"
      },
      "outputs": [],
      "source": [
        "# from textattack.augmentation import EasyDataAugmenter\n",
        "# eda_aug = EasyDataAugmenter()\n",
        "# eda_aug.augment(df_finalised.iloc[0][0])"
      ]
    },
    {
      "cell_type": "code",
      "execution_count": null,
      "metadata": {
        "id": "Wv9DIdYsT0sP"
      },
      "outputs": [],
      "source": [
        "df_finalised = pd.concat([df_finalised,df_NewsDjia['Label']],axis = 1)"
      ]
    },
    {
      "cell_type": "code",
      "execution_count": null,
      "metadata": {
        "id": "M42KsKBjT0sP"
      },
      "outputs": [],
      "source": [
        "# Positive_word = \"\"\n",
        "# with open('Positive_words.txt', 'r') as file:\n",
        "#     Positive_word = file.read().replace('\\n', '')\n",
        "# Positive_word = \" \".join([WordNetLemmatizer().lemmatize(word) for word in Positive_word.split(',') ])"
      ]
    },
    {
      "cell_type": "code",
      "execution_count": null,
      "metadata": {
        "id": "oi832ifcT0sP"
      },
      "outputs": [],
      "source": [
        "# Negative_word = \"\"\n",
        "# with open('Negative_words.txt','r') as file:\n",
        "#     Negative_word = file.read().replace('\\n','')\n",
        "# Negative_word = \" \".join([WordNetLemmatizer().lemmatize(word) for word in Negative_word.split(',') ])"
      ]
    },
    {
      "cell_type": "code",
      "execution_count": null,
      "metadata": {
        "id": "cen4cv_yT0sP"
      },
      "outputs": [],
      "source": [
        "# Positive_word = Positive_word.split(',')\n",
        "# Negative_word = Negative_word.split(',')\n",
        "# Negative_word = Negative_word[0].split()\n",
        "# Positive_word = Positive_word[0].split()"
      ]
    },
    {
      "cell_type": "code",
      "execution_count": null,
      "metadata": {
        "id": "vQkp4GoWT0sP"
      },
      "outputs": [],
      "source": [
        "# set_post = set(Positive_word)\n",
        "# set_neg = set(Negative_word)\n",
        "# def Count(obj):\n",
        "#     count_post = 1\n",
        "#     count_neg = 1\n",
        "#     obj = obj.split()\n",
        "#     for i in obj:\n",
        "#         if i in set_post:\n",
        "#             count_post = count_post + 1\n",
        "#         elif i in set_neg:\n",
        "#             count_neg = count_neg + 1\n",
        "#     return count_post/count_neg\n"
      ]
    },
    {
      "cell_type": "code",
      "execution_count": null,
      "metadata": {
        "id": "dOZFtn3KT0sP"
      },
      "outputs": [],
      "source": [
        "# df_finalised['ratio_pos_neg'] = df_finalised['merged'].apply(Count)\n",
        "# ratio_column = df_finalised['ratio_pos_neg']\n",
        "# ratio_column = np.array(ratio_column).reshape((-1,1))\n",
        "X_data = df_finalised['merged']"
      ]
    },
    {
      "cell_type": "code",
      "execution_count": null,
      "metadata": {
        "id": "9NYhdmewZQ5w"
      },
      "outputs": [],
      "source": [
        "Y_data = df_finalised['Label']\n",
        "Y_data = Y_data.astype(int)"
      ]
    },
    {
      "cell_type": "code",
      "execution_count": null,
      "metadata": {
        "colab": {
          "base_uri": "https://localhost:8080/",
          "height": 145
        },
        "id": "ASqt7TciSdK6",
        "outputId": "f20f8c70-1165-4f3a-f096-0157778e6aa0"
      },
      "outputs": [
        {
          "data": {
            "application/vnd.google.colaboratory.intrinsic+json": {
              "type": "string"
            },
            "text/plain": [
              "'0 georgia down russian warplane country move brink war breaking musharraf impeached russia today column troop roll south ossetia footage fighting youtube russian tank moving towards capital south ossetia reportedly completely destroyed georgian artillery fire afghan child raped impunity un official say sick old raped nothing 150 russian tank entered south ossetia whilst georgia shoot russian jet breaking georgia invades south ossetia russia warned would intervene so side enemy combatent trial nothing sham salim haman sentenced 5 12 year kept longer anyway feel like georgian troop retreat osettain capital presumably leaving several people killed video u prep georgia war russia rice give green light israel attack iran say u veto israeli military ops announcingclass action lawsuit behalf american public fbi sorussia georgia war nyts top story opening ceremony olympics fucking disgrace yet proof decline journalism china tell bush stay country affair world war start today georgia invades south ossetia russia get involved nato absorb georgia unleash full scale war alqaeda face islamist backlash condoleezza rice u would act prevent israeli strike iran israeli defense minister ehud barak israel prepared uncompromising victory case military hostility busy european union approved new sanction iran protest nuclear programme georgia withdraw 1000 soldier iraq help fight russian force georgia breakaway region south ossetia pentagon think attacking iran bad idea u news amp world report caucasus crisis georgia invades south ossetia indian shoe manufactory series like work visitor suffering mental illness banned olympics help mexico kidnapping surge'"
            ]
          },
          "execution_count": 195,
          "metadata": {},
          "output_type": "execute_result"
        }
      ],
      "source": [
        "X_data[0]"
      ]
    },
    {
      "cell_type": "code",
      "execution_count": null,
      "metadata": {
        "id": "AWJM39iIGonj"
      },
      "outputs": [],
      "source": [
        "# from textattack.augmentation import EasyDataAugmenter\n",
        "# eda_aug = EasyDataAugmenter()\n",
        "# data_X = []\n",
        "# label = []\n",
        "# # open('/content/drive/MyDrive/Colab Notebooks/Pred_stock_newheadline/data.txt', 'w').close()\n",
        "# # open('/content/drive/MyDrive/Colab Notebooks/Pred_stock_newheadline/label.txt','w').close()\n",
        "# with open('/content/drive/MyDrive/Colab Notebooks/Pred_stock_newheadline/data.txt', 'a') as f1 , open('/content/drive/MyDrive/Colab Notebooks/Pred_stock_newheadline/label.txt','a') as f2:\n",
        "#   for i in range(0,X_data.shape[0]):\n",
        "#     data_X.append(X_data[i])\n",
        "#     label.append(Y_data[i])\n",
        "#     f1.write(X_data[i])\n",
        "#     f1.write(\",\")\n",
        "#     y = str(Y_data[i])\n",
        "#     f2.write(y)\n",
        "#     f2.write(\",\")\n",
        "#     if i%10 == 0:\n",
        "#       data = eda_aug.augment(X_data[i])\n",
        "#       for d in data:\n",
        "#         data_X.append(d)\n",
        "#         label.append(Y_data[i])\n",
        "#         f1.write(d)\n",
        "#         f1.write(\",\")\n",
        "#         f2.write(y)\n",
        "#         f2.write(\",\")\n",
        "\n",
        "#     print(i)\n",
        "# open('/content/drive/MyDrive/Colab Notebooks/Pred_stock_newheadline/train_data.txt', 'w').close()\n",
        "\n",
        "# Note test sample isbeing already saved aside so no need to run it again\n",
        "# open('/content/drive/MyDrive/Colab Notebooks/Pred_stock_newheadline/test_data.txt','w').close()\n",
        "\n",
        "# for i in range(0,X_data.shape[0]//10+1):\n",
        "#   if i >= X_data.shape[0]:\n",
        "#     break\n",
        "\n",
        "#   random_numbers = random.sample(range(0, 10), 5)\n",
        "#   for k,l in enumerate(random_numbers): random_numbers[k] += i*10\n",
        "#   random_numbers.sort()\n",
        "#   # print(random_numbers)\n",
        "#   for j in range(0,10):\n",
        "#     if j + i*10 >= X_data.shape[0] :\n",
        "#       break\n",
        "#     if j + i*10 in random_numbers:\n",
        "#       with open('/content/drive/MyDrive/Colab Notebooks/Pred_stock_newheadline/train_data.txt', 'a') as f1 :\n",
        "        # code for te text augementation on the jth index\n",
        "        # f1.write(\"\")\n",
        "        # t = 0\n",
        "\n",
        "    # else:\n",
        "    #   with open('/content/drive/MyDrive/Colab Notebooks/Pred_stock_newheadline/test_data.txt', 'a') as f2:\n",
        "    #     # code for the text augmentation on the jth index\n",
        "    #     f2.write(X_data[j + i*10])\n",
        "    #     f2.write(\",\")\n",
        "    # print(j + i*10)\n"
      ]
    },
    {
      "cell_type": "code",
      "execution_count": null,
      "metadata": {
        "colab": {
          "base_uri": "https://localhost:8080/"
        },
        "id": "Pm29KgKnZULw",
        "outputId": "1d6e95e7-7f2b-4909-dfa3-7b00ec8b0b1b"
      },
      "outputs": [
        {
          "data": {
            "text/plain": [
              "array([0, 1, 0, ..., 1, 1, 1])"
            ]
          },
          "execution_count": 197,
          "metadata": {},
          "output_type": "execute_result"
        }
      ],
      "source": [
        "Y_data = np.array(Y_data)\n",
        "Y_data"
      ]
    },
    {
      "cell_type": "code",
      "execution_count": null,
      "metadata": {
        "id": "Ji_NATWSH5Lc"
      },
      "outputs": [],
      "source": [
        "# X_data[0]"
      ]
    },
    {
      "cell_type": "code",
      "execution_count": null,
      "metadata": {
        "id": "drGIIgbRy3un"
      },
      "outputs": [],
      "source": [
        "# from google.colab import drive\n",
        "# drive.mount('/content/drive')"
      ]
    },
    {
      "cell_type": "code",
      "execution_count": null,
      "metadata": {
        "id": "9EUKXPVmWLIL"
      },
      "outputs": [],
      "source": [
        "# data_X"
      ]
    },
    {
      "cell_type": "code",
      "execution_count": null,
      "metadata": {
        "id": "kETBXbGpT0sP"
      },
      "outputs": [],
      "source": [
        "data_augmented = np.genfromtxt('/content/drive/MyDrive/Colab Notebooks/Pred_stock_newheadline/data.txt',dtype = str , delimiter=\",\")"
      ]
    },
    {
      "cell_type": "code",
      "execution_count": null,
      "metadata": {
        "colab": {
          "base_uri": "https://localhost:8080/"
        },
        "id": "iSSZigVrT0sP",
        "outputId": "49b4a649-c967-481c-aac3-8ce3c68d5e20"
      },
      "outputs": [
        {
          "data": {
            "text/plain": [
              "(2864,)"
            ]
          },
          "execution_count": 202,
          "metadata": {},
          "output_type": "execute_result"
        }
      ],
      "source": [
        "data_augmented.shape"
      ]
    },
    {
      "cell_type": "code",
      "execution_count": null,
      "metadata": {
        "colab": {
          "base_uri": "https://localhost:8080/"
        },
        "id": "ArtMidVuNwaZ",
        "outputId": "7cff619d-e715-4eed-ae4b-fb9cc945d654"
      },
      "outputs": [
        {
          "name": "stdout",
          "output_type": "stream",
          "text": [
            "2788\n",
            "2864\n"
          ]
        }
      ],
      "source": [
        "count = 0\n",
        "count2 = 0\n",
        "for i in data_augmented:\n",
        "    if len(i) != 0:\n",
        "        if i[0] =='0' or i[0] == '1':\n",
        "            if i[1] == \" \":\n",
        "\n",
        "              count = count + 1\n",
        "    count2 = count2 + 1\n",
        "print(count)\n",
        "print(count2)"
      ]
    },
    {
      "cell_type": "code",
      "execution_count": null,
      "metadata": {
        "id": "7pQPHfpfN20C"
      },
      "outputs": [],
      "source": [
        "index = 0\n",
        "for i in data_augmented:\n",
        "  if len(i) != 0 :\n",
        "    if i[0] != '1' and i[0] != '0' :\n",
        "        data_augmented[index] = data_augmented[index-1][0] + \" \" + i\n",
        "    index += 1"
      ]
    },
    {
      "cell_type": "code",
      "execution_count": null,
      "metadata": {
        "colab": {
          "base_uri": "https://localhost:8080/"
        },
        "id": "HRtyCRn3CFL8",
        "outputId": "7fc03572-f83c-4d09-817b-f9860a6b69b6"
      },
      "outputs": [
        {
          "data": {
            "text/plain": [
              "(2864,)"
            ]
          },
          "execution_count": 205,
          "metadata": {},
          "output_type": "execute_result"
        }
      ],
      "source": [
        "data_augmented.shape"
      ]
    },
    {
      "cell_type": "code",
      "execution_count": null,
      "metadata": {
        "colab": {
          "base_uri": "https://localhost:8080/"
        },
        "id": "-tbYTHZwQDVP",
        "outputId": "f8577424-b372-4a0a-d12a-11f8e175205d"
      },
      "outputs": [
        {
          "data": {
            "text/plain": [
              "(2864,)"
            ]
          },
          "execution_count": 206,
          "metadata": {},
          "output_type": "execute_result"
        }
      ],
      "source": [
        "data_augmented.shape"
      ]
    },
    {
      "cell_type": "code",
      "execution_count": null,
      "metadata": {
        "id": "XF9KVQNz2dOp"
      },
      "outputs": [],
      "source": [
        "data_augmented = data_augmented[:-1]"
      ]
    },
    {
      "cell_type": "code",
      "execution_count": null,
      "metadata": {
        "id": "-VT5orgXRvTr"
      },
      "outputs": [],
      "source": [
        "label_updated = data_augmented.astype('<U1')"
      ]
    },
    {
      "cell_type": "code",
      "execution_count": null,
      "metadata": {
        "colab": {
          "base_uri": "https://localhost:8080/"
        },
        "id": "N4sSo8s9TLGl",
        "outputId": "70ac9ad2-17f2-41cf-8f9d-6a9a0c289cf9"
      },
      "outputs": [
        {
          "data": {
            "text/plain": [
              "array(['0', '0', '0', ..., '1', '1', '0'], dtype='<U1')"
            ]
          },
          "execution_count": 209,
          "metadata": {},
          "output_type": "execute_result"
        }
      ],
      "source": [
        "label_updated"
      ]
    },
    {
      "cell_type": "code",
      "execution_count": null,
      "metadata": {
        "colab": {
          "base_uri": "https://localhost:8080/"
        },
        "id": "f36xhhHWXVNa",
        "outputId": "e2182d08-7577-4587-d47c-0424d8272c76"
      },
      "outputs": [
        {
          "name": "stderr",
          "output_type": "stream",
          "text": [
            "<ipython-input-210-39bc489429a0>:1: DeprecationWarning: `np.float` is a deprecated alias for the builtin `float`. To silence this warning, use `float` by itself. Doing this will not modify any behavior and is safe. If you specifically wanted the numpy scalar type, use `np.float64` here.\n",
            "Deprecated in NumPy 1.20; for more details and guidance: https://numpy.org/devdocs/release/1.20.0-notes.html#deprecations\n",
            "  label_updated = label_updated.astype(np.float)\n"
          ]
        }
      ],
      "source": [
        "label_updated = label_updated.astype(np.float)"
      ]
    },
    {
      "cell_type": "code",
      "execution_count": null,
      "metadata": {
        "id": "FHkqIvD9S0wu"
      },
      "outputs": [],
      "source": [
        "data_augmented = list(data_augmented)"
      ]
    },
    {
      "cell_type": "code",
      "execution_count": null,
      "metadata": {
        "id": "M4rxs4nJSZFx"
      },
      "outputs": [],
      "source": [
        "data_augmented = [i[2:] for i in data_augmented]"
      ]
    },
    {
      "cell_type": "code",
      "execution_count": null,
      "metadata": {
        "id": "9WIy5x2oSgTy"
      },
      "outputs": [],
      "source": [
        "# data_augmented"
      ]
    },
    {
      "cell_type": "code",
      "execution_count": null,
      "metadata": {
        "colab": {
          "base_uri": "https://localhost:8080/"
        },
        "id": "UxVp8lhxT0sP",
        "outputId": "59e46592-43a7-4b6a-e10a-c11b3b815115"
      },
      "outputs": [
        {
          "data": {
            "text/plain": [
              "(1989,)"
            ]
          },
          "execution_count": 214,
          "metadata": {},
          "output_type": "execute_result"
        }
      ],
      "source": [
        "X_data.shape"
      ]
    },
    {
      "cell_type": "code",
      "execution_count": null,
      "metadata": {
        "id": "meXgTNQtT0sQ"
      },
      "outputs": [],
      "source": [
        "# x_train , x_test , y_train, y_test = train_test_split(data_augmented,label_updated , test_size = 0.2 , random_state = 10)\n",
        "x_train , x_test , y_train , y_test = data_augmented[:2290] , data_augmented[2290:] , label_updated[:2290] , label_updated[2290:]"
      ]
    },
    {
      "cell_type": "code",
      "execution_count": null,
      "metadata": {
        "id": "S2rkrR9OT0sQ"
      },
      "outputs": [],
      "source": [
        "tf_idf = TfidfVectorizer(min_df=10  )\n",
        "x_train_tf = tf_idf.fit_transform(x_train)\n",
        "x_test_tf = tf_idf.transform(x_test)\n",
        "x_train = x_train_tf.toarray()\n",
        "x_test = x_test_tf.toarray()"
      ]
    },
    {
      "cell_type": "code",
      "execution_count": null,
      "metadata": {
        "id": "cpJ8wLIdT0sQ"
      },
      "outputs": [],
      "source": [
        "# mean_not_zero = x_train[x_train != 0].mean()\n",
        "# x_train[x_train == 0 ] = x_train[x_train == 0] +  mean_not_zero\n",
        "# x_test[x_test == 0 ] = x_test[x_test == 0] + mean_not_zero"
      ]
    },
    {
      "cell_type": "code",
      "execution_count": null,
      "metadata": {
        "id": "nMAN-8NhT0sQ"
      },
      "outputs": [],
      "source": [
        "# ct_vect = CountVectorizer(ngram_range=(1,2) , min_df = 5)\n",
        "# x_train = ct_vect.fit_transform(x_train).toarray()\n",
        "# x_test = ct_vect.transform(x_test).toarray()"
      ]
    },
    {
      "cell_type": "code",
      "execution_count": null,
      "metadata": {
        "id": "WITB1UvPLDbG"
      },
      "outputs": [],
      "source": [
        "# from google.colab import drive\n",
        "# drive.mount('/content/drive')"
      ]
    },
    {
      "cell_type": "code",
      "execution_count": null,
      "metadata": {
        "id": "CNrl6WtzT0sQ"
      },
      "outputs": [],
      "source": [
        "# scaler = StandardScaler()\n",
        "# scaler.fit(x_train)\n",
        "# x_train = scaler.transform(x_train)\n",
        "# x_test = scaler.transform(x_test)"
      ]
    },
    {
      "cell_type": "code",
      "execution_count": null,
      "metadata": {
        "id": "9VWjlHJyT0sQ"
      },
      "outputs": [],
      "source": [
        "# pca = PCA()\n",
        "# pca.fit(x_train)\n",
        "# cumsum = np.cumsum(pca.explained_variance_ratio_)*100\n",
        "# d = [n for n in range(len(cumsum))]\n",
        "# plt.figure(figsize=(10, 10))\n",
        "# plt.plot(d,cumsum, color = 'red',label='cumulative explained variance')\n",
        "# plt.title('Cumulative Explained Variance as a Function of the Number of Components')\n",
        "# plt.ylabel('Cumulative Explained variance')\n",
        "# plt.xlabel('Principal components')\n",
        "# plt.axhline(y = 90, color='k', linestyle='--', label = '95% Explained Variance')\n",
        "# plt.legend(loc='best')"
      ]
    },
    {
      "cell_type": "code",
      "execution_count": null,
      "metadata": {
        "id": "Vkt-lDv5T0sQ"
      },
      "outputs": [],
      "source": [
        "# # VARIANCE EXPLAINED 90%\n",
        "# pca = PCA(0.90)\n",
        "# pca.fit(x_train)\n",
        "# x_train = pca.transform(x_train)\n",
        "# x_test = pca.transform(x_test)\n",
        "# pca.explained_variance_ratio_"
      ]
    },
    {
      "cell_type": "code",
      "execution_count": null,
      "metadata": {
        "id": "0bwJUnIIT0sQ"
      },
      "outputs": [],
      "source": [
        "# K = [int(i) for i in range(x_train.shape[0]//3)]\n",
        "# param_grid = {\n",
        "#     'n_neighbors' : K\n",
        "# }\n",
        "# knn = KNeighborsClassifier()\n",
        "# grid_search = GridSearchCV(estimator=knn,scoring='accuracy',param_grid=param_grid,cv = 10,n_jobs = -1,verbose = 2)\n",
        "# grid_search.fit(x_train,y_train)\n",
        "# grid_search.best_estimator_\n",
        "# knn = KNeighborsClassifier(n_neighbors=1)\n",
        "# knn.fit(x_train,y_train)\n",
        "# y_pred = knn.predict(x_test)\n",
        "# print(accuracy_score(y_pred,y_test))\n",
        "# print(classification_report(y_pred,y_test))"
      ]
    },
    {
      "cell_type": "code",
      "execution_count": null,
      "metadata": {
        "id": "qIVzORqM4cJi"
      },
      "outputs": [],
      "source": [
        "# scaler = StandardScaler()\n",
        "# scaler.fit(x_train)\n",
        "# x_train_for_distance_based = scaler.transform(x_train)\n",
        "# x_test_for_distance_based = scaler.transform(x_test)\n",
        "# from sklearn.linear_model import LogisticRegression\n",
        "# penalty = ['l1','l2']\n",
        "# # max_iter= [1000]\n",
        "# C= [ 0.01,0.05 , 0.07 , 0.3,0.1,0.5,1,5,10,20,30,40,70,100]\n",
        "# solver = ['lbfgs']\n",
        "# param_grid = {\n",
        "#     'penalty' : penalty,\n",
        "#     # 'max_iter' : max_iter,\n",
        "#     'solver' : solver,\n",
        "#     'C' : C\n",
        "# }\n",
        "# LoRG = LogisticRegression(max_iter = 1000)\n",
        "# random_search = RandomizedSearchCV(estimator = LoRG  , n_iter=100 , scoring = 'accuracy', param_distributions = param_grid , cv  = 5  , n_jobs = -1, verbose = 2  )\n",
        "# random_search.fit(x_train_for_distance_based,y_train)\n",
        "# best_param_LoRG = random_search.best_estimator_\n",
        "# # best_param_LoRG\n",
        "# print(accuracy_score(y_test  , best_param_LoRG.predict(x_test_for_distance_based)))"
      ]
    },
    {
      "cell_type": "code",
      "execution_count": null,
      "metadata": {
        "id": "maWXAYGkJb4s"
      },
      "outputs": [],
      "source": [
        "# log_m1 = LogisticRegression(penalty = 'l2' , solver = 'lbfgs'  , max_iter = 5000  , intercept_scaling=10)\n",
        "# log_m2 = LogisticRegression(penalty = 'l2' , solver = 'liblinear'  , max_iter = 5000  , intercept_scaling=10)\n",
        "# log_m3 = LogisticRegression(penalty = 'l2' , solver = 'newton-cg'  , max_iter = 5000  , intercept_scaling = 10)\n",
        "# log_m4 = LogisticRegression(penalty = 'l2' , solver = 'newton-cholesky'  , max_iter = 5000 , intercept_scaling = 10 )\n",
        "# log_m5 = LogisticRegression(penalty = 'l1' , solver = 'liblinear'  , max_iter = 5000  , intercept_scaling = 10)"
      ]
    },
    {
      "cell_type": "code",
      "execution_count": null,
      "metadata": {
        "id": "-yfWF56dz4rf"
      },
      "outputs": [],
      "source": [
        "\n",
        "\n",
        "# log_m1 = LogisticRegression(penalty = 'l2' , solver = 'lbfgs'  , max_iter = 1000 )\n",
        "# log_m1 = LogisticRegression(penalty = 'l2' , solver = 'lbfgs'  , max_iter = 1000 )\n",
        "# estimators = [('log_m1' , log_m1) , ('log_m2' , log_m2) , ('log_m3' , log_m3) , ('log_m4' , log_m4) , ('log_m5', log_m5)]\n",
        "# VCL = VotingClassifier(estimators = estimators)\n",
        "# voting = ['hard' , 'soft']\n",
        "# param_grid  = {\n",
        "#     'voting' : voting\n",
        "# }\n",
        "# grid_search = GridSearchCV(estimator = VCL , scoring = 'accuracy' , param_grid = param_grid , cv = 5 , n_jobs = -1 , verbose = 2)\n",
        "# grid_search.fit(x_train,y_train)\n",
        "# best_param_VCl = grid_search.best_estimator_\n",
        "# print(accuracy_score( best_param_VCl.predict(x_test), y_test ))"
      ]
    },
    {
      "cell_type": "code",
      "execution_count": null,
      "metadata": {
        "id": "uRhuX-DN5vJi"
      },
      "outputs": [],
      "source": [
        "# log_m1.fit(x_train,y_train)\n",
        "# log_m2.fit(x_train,y_train)\n",
        "# log_m3.fit(x_train,y_train)\n",
        "# log_m4.fit(x_train,y_train)\n",
        "# log_m5.fit(x_train,y_train)\n",
        "# print(accuracy_score(y_test,log_m1.predict(x_test)))\n",
        "# print(accuracy_score(y_test,log_m2.predict(x_test)))\n",
        "# print(accuracy_score(y_test,log_m3.predict(x_test)))\n",
        "# print(accuracy_score(y_test,log_m4.predict(x_test)))\n",
        "# print(accuracy_score(y_test,log_m5.predict(x_test)))"
      ]
    },
    {
      "cell_type": "code",
      "execution_count": null,
      "metadata": {
        "id": "ySuamYBCr4Yp"
      },
      "outputs": [],
      "source": [
        "scaler = Normalizer()\n",
        "scaler.fit(x_train)\n",
        "x_train_for_distance_based = scaler.transform(x_train)\n",
        "x_test_for_distance_based = scaler.transform(x_test)\n",
        "\n",
        "# Distance based algorithm requrire scaling so we need to do that"
      ]
    },
    {
      "cell_type": "code",
      "execution_count": null,
      "metadata": {
        "id": "xteNW1JsHvLx"
      },
      "outputs": [],
      "source": [
        "# SGD\n",
        "\n",
        "# loss = ['hinge', 'log_loss'  , 'perceptron']\n",
        "# alpha = [0.000001, 0.00001 , 0.0001 , 0.001]\n",
        "# max_iter = [1000 , 2000]\n",
        "# tol = [0.0001 , 0.001 , 0.01 , 0.1]\n",
        "# eta0= [0.001, 0.01,0.1]\n",
        "# learning_rate = ['optimal' , 'adaptive']\n",
        "# param_grid = {\n",
        "#       'loss' : loss ,\n",
        "#       'alpha' : alpha,\n",
        "#       'max_iter' :max_iter,\n",
        "#       'tol' : tol,\n",
        "#       'learning_rate' : learning_rate,\n",
        "#       'eta0' : eta0\n",
        "# }\n",
        "# sgd = SGDClassifier(early_stopping=True)\n",
        "# random_search = RandomizedSearchCV(estimator = sgd ,n_iter=100 , scoring = 'accuracy', param_distributions = param_grid , cv  = 4  , n_jobs = -1, verbose = 2 , error_score='raise' )\n",
        "# random_search.fit(x_train_for_distance_based,y_train)\n",
        "# best_estimator_sgd = random_search.best_estimator_"
      ]
    },
    {
      "cell_type": "code",
      "execution_count": null,
      "metadata": {
        "id": "kS-rOL0bNhrn"
      },
      "outputs": [],
      "source": [
        "# print(accuracy_score(best_estimator_sgd.predict(x_test_for_distance_based) , y_test))"
      ]
    },
    {
      "cell_type": "code",
      "execution_count": null,
      "metadata": {
        "id": "yQ5RuxqqOS-I"
      },
      "outputs": [],
      "source": [
        "# best_estimator_sgd"
      ]
    },
    {
      "cell_type": "code",
      "execution_count": null,
      "metadata": {
        "id": "Y-TRu5YYNwhx"
      },
      "outputs": [],
      "source": [
        "# random_search.best_params_"
      ]
    },
    {
      "cell_type": "code",
      "execution_count": null,
      "metadata": {
        "colab": {
          "background_save": true,
          "base_uri": "https://localhost:8080/"
        },
        "id": "wUIZ0W7BOxxN",
        "outputId": "7b462ba4-4f07-4644-92f4-28068299ece0"
      },
      "outputs": [
        {
          "name": "stdout",
          "output_type": "stream",
          "text": [
            "Fitting 4 folds for each of 750 candidates, totalling 3000 fits\n"
          ]
        },
        {
          "data": {
            "text/html": [
              "<style>#sk-container-id-1 {color: black;background-color: white;}#sk-container-id-1 pre{padding: 0;}#sk-container-id-1 div.sk-toggleable {background-color: white;}#sk-container-id-1 label.sk-toggleable__label {cursor: pointer;display: block;width: 100%;margin-bottom: 0;padding: 0.3em;box-sizing: border-box;text-align: center;}#sk-container-id-1 label.sk-toggleable__label-arrow:before {content: \"▸\";float: left;margin-right: 0.25em;color: #696969;}#sk-container-id-1 label.sk-toggleable__label-arrow:hover:before {color: black;}#sk-container-id-1 div.sk-estimator:hover label.sk-toggleable__label-arrow:before {color: black;}#sk-container-id-1 div.sk-toggleable__content {max-height: 0;max-width: 0;overflow: hidden;text-align: left;background-color: #f0f8ff;}#sk-container-id-1 div.sk-toggleable__content pre {margin: 0.2em;color: black;border-radius: 0.25em;background-color: #f0f8ff;}#sk-container-id-1 input.sk-toggleable__control:checked~div.sk-toggleable__content {max-height: 200px;max-width: 100%;overflow: auto;}#sk-container-id-1 input.sk-toggleable__control:checked~label.sk-toggleable__label-arrow:before {content: \"▾\";}#sk-container-id-1 div.sk-estimator input.sk-toggleable__control:checked~label.sk-toggleable__label {background-color: #d4ebff;}#sk-container-id-1 div.sk-label input.sk-toggleable__control:checked~label.sk-toggleable__label {background-color: #d4ebff;}#sk-container-id-1 input.sk-hidden--visually {border: 0;clip: rect(1px 1px 1px 1px);clip: rect(1px, 1px, 1px, 1px);height: 1px;margin: -1px;overflow: hidden;padding: 0;position: absolute;width: 1px;}#sk-container-id-1 div.sk-estimator {font-family: monospace;background-color: #f0f8ff;border: 1px dotted black;border-radius: 0.25em;box-sizing: border-box;margin-bottom: 0.5em;}#sk-container-id-1 div.sk-estimator:hover {background-color: #d4ebff;}#sk-container-id-1 div.sk-parallel-item::after {content: \"\";width: 100%;border-bottom: 1px solid gray;flex-grow: 1;}#sk-container-id-1 div.sk-label:hover label.sk-toggleable__label {background-color: #d4ebff;}#sk-container-id-1 div.sk-serial::before {content: \"\";position: absolute;border-left: 1px solid gray;box-sizing: border-box;top: 0;bottom: 0;left: 50%;z-index: 0;}#sk-container-id-1 div.sk-serial {display: flex;flex-direction: column;align-items: center;background-color: white;padding-right: 0.2em;padding-left: 0.2em;position: relative;}#sk-container-id-1 div.sk-item {position: relative;z-index: 1;}#sk-container-id-1 div.sk-parallel {display: flex;align-items: stretch;justify-content: center;background-color: white;position: relative;}#sk-container-id-1 div.sk-item::before, #sk-container-id-1 div.sk-parallel-item::before {content: \"\";position: absolute;border-left: 1px solid gray;box-sizing: border-box;top: 0;bottom: 0;left: 50%;z-index: -1;}#sk-container-id-1 div.sk-parallel-item {display: flex;flex-direction: column;z-index: 1;position: relative;background-color: white;}#sk-container-id-1 div.sk-parallel-item:first-child::after {align-self: flex-end;width: 50%;}#sk-container-id-1 div.sk-parallel-item:last-child::after {align-self: flex-start;width: 50%;}#sk-container-id-1 div.sk-parallel-item:only-child::after {width: 0;}#sk-container-id-1 div.sk-dashed-wrapped {border: 1px dashed gray;margin: 0 0.4em 0.5em 0.4em;box-sizing: border-box;padding-bottom: 0.4em;background-color: white;}#sk-container-id-1 div.sk-label label {font-family: monospace;font-weight: bold;display: inline-block;line-height: 1.2em;}#sk-container-id-1 div.sk-label-container {text-align: center;}#sk-container-id-1 div.sk-container {/* jupyter's `normalize.less` sets `[hidden] { display: none; }` but bootstrap.min.css set `[hidden] { display: none !important; }` so we also need the `!important` here to be able to override the default hidden behavior on the sphinx rendered scikit-learn.org. See: https://github.com/scikit-learn/scikit-learn/issues/21755 */display: inline-block !important;position: relative;}#sk-container-id-1 div.sk-text-repr-fallback {display: none;}</style><div id=\"sk-container-id-1\" class=\"sk-top-container\"><div class=\"sk-text-repr-fallback\"><pre>GridSearchCV(cv=4, error_score=&#x27;raise&#x27;,\n",
              "             estimator=SGDClassifier(early_stopping=True), n_jobs=-1,\n",
              "             param_grid={&#x27;alpha&#x27;: [1e-07, 5e-07, 1e-06, 5e-05, 0.0001],\n",
              "                         &#x27;eta0&#x27;: [0.01, 0.05, 0.1, 0.5, 1],\n",
              "                         &#x27;learning_rate&#x27;: [&#x27;optimal&#x27;, &#x27;adaptive&#x27;],\n",
              "                         &#x27;max_iter&#x27;: [1000, 1500, 2000],\n",
              "                         &#x27;tol&#x27;: [1e-05, 5e-05, 0.0001, 0.0003, 0.0005]},\n",
              "             scoring=&#x27;accuracy&#x27;, verbose=2)</pre><b>In a Jupyter environment, please rerun this cell to show the HTML representation or trust the notebook. <br />On GitHub, the HTML representation is unable to render, please try loading this page with nbviewer.org.</b></div><div class=\"sk-container\" hidden><div class=\"sk-item sk-dashed-wrapped\"><div class=\"sk-label-container\"><div class=\"sk-label sk-toggleable\"><input class=\"sk-toggleable__control sk-hidden--visually\" id=\"sk-estimator-id-1\" type=\"checkbox\" ><label for=\"sk-estimator-id-1\" class=\"sk-toggleable__label sk-toggleable__label-arrow\">GridSearchCV</label><div class=\"sk-toggleable__content\"><pre>GridSearchCV(cv=4, error_score=&#x27;raise&#x27;,\n",
              "             estimator=SGDClassifier(early_stopping=True), n_jobs=-1,\n",
              "             param_grid={&#x27;alpha&#x27;: [1e-07, 5e-07, 1e-06, 5e-05, 0.0001],\n",
              "                         &#x27;eta0&#x27;: [0.01, 0.05, 0.1, 0.5, 1],\n",
              "                         &#x27;learning_rate&#x27;: [&#x27;optimal&#x27;, &#x27;adaptive&#x27;],\n",
              "                         &#x27;max_iter&#x27;: [1000, 1500, 2000],\n",
              "                         &#x27;tol&#x27;: [1e-05, 5e-05, 0.0001, 0.0003, 0.0005]},\n",
              "             scoring=&#x27;accuracy&#x27;, verbose=2)</pre></div></div></div><div class=\"sk-parallel\"><div class=\"sk-parallel-item\"><div class=\"sk-item\"><div class=\"sk-label-container\"><div class=\"sk-label sk-toggleable\"><input class=\"sk-toggleable__control sk-hidden--visually\" id=\"sk-estimator-id-2\" type=\"checkbox\" ><label for=\"sk-estimator-id-2\" class=\"sk-toggleable__label sk-toggleable__label-arrow\">estimator: SGDClassifier</label><div class=\"sk-toggleable__content\"><pre>SGDClassifier(early_stopping=True)</pre></div></div></div><div class=\"sk-serial\"><div class=\"sk-item\"><div class=\"sk-estimator sk-toggleable\"><input class=\"sk-toggleable__control sk-hidden--visually\" id=\"sk-estimator-id-3\" type=\"checkbox\" ><label for=\"sk-estimator-id-3\" class=\"sk-toggleable__label sk-toggleable__label-arrow\">SGDClassifier</label><div class=\"sk-toggleable__content\"><pre>SGDClassifier(early_stopping=True)</pre></div></div></div></div></div></div></div></div></div></div>"
            ],
            "text/plain": [
              "GridSearchCV(cv=4, error_score='raise',\n",
              "             estimator=SGDClassifier(early_stopping=True), n_jobs=-1,\n",
              "             param_grid={'alpha': [1e-07, 5e-07, 1e-06, 5e-05, 0.0001],\n",
              "                         'eta0': [0.01, 0.05, 0.1, 0.5, 1],\n",
              "                         'learning_rate': ['optimal', 'adaptive'],\n",
              "                         'max_iter': [1000, 1500, 2000],\n",
              "                         'tol': [1e-05, 5e-05, 0.0001, 0.0003, 0.0005]},\n",
              "             scoring='accuracy', verbose=2)"
            ]
          },
          "execution_count": 233,
          "metadata": {},
          "output_type": "execute_result"
        }
      ],
      "source": [
        "# Gridserach cv for the SGD\n",
        "alpha = [0.0000001,0.0000005,.000001 ,00.00005 , 0.0001]\n",
        "tol = [0.00001, 0.00005 , 0.0001 , 0.0003 ,0.0005]\n",
        "max_iter = [1000 ,1500 , 2000]\n",
        "eta0 = [0.01,0.05,0.1 , 0.5 ,1]\n",
        "learning_rate = ['optimal' , 'adaptive']\n",
        "param_grid = {\n",
        "    'alpha' : alpha,\n",
        "    'tol' : tol,\n",
        "    'max_iter': max_iter,\n",
        "    'eta0' : eta0,\n",
        "    'learning_rate' : learning_rate\n",
        "}\n",
        "sgd = SGDClassifier(early_stopping=True)\n",
        "grid_search = GridSearchCV(estimator = sgd , scoring = 'accuracy' , param_grid = param_grid , n_jobs = -1 , cv = 4,verbose = 2 , error_score = 'raise' )\n",
        "grid_search.fit(x_train_for_distance_based,y_train)"
      ]
    },
    {
      "cell_type": "code",
      "execution_count": null,
      "metadata": {
        "id": "0JzkOIAhVxkW"
      },
      "outputs": [],
      "source": [
        "sgd_grid_best_params = grid_search.best_params_"
      ]
    },
    {
      "cell_type": "code",
      "execution_count": null,
      "metadata": {
        "id": "voANfkPbjDGX"
      },
      "outputs": [],
      "source": [
        "sgd_grid_best_estimator = grid_search.best_estimator_"
      ]
    },
    {
      "cell_type": "code",
      "execution_count": null,
      "metadata": {
        "colab": {
          "base_uri": "https://localhost:8080/"
        },
        "id": "_MDPDMvQjgF1",
        "outputId": "e5558f5a-ff0f-4d49-c1f0-539992bf6ee9"
      },
      "outputs": [
        {
          "output_type": "execute_result",
          "data": {
            "text/plain": [
              "{'alpha': 1e-07,\n",
              " 'eta0': 0.1,\n",
              " 'learning_rate': 'optimal',\n",
              " 'max_iter': 1000,\n",
              " 'tol': 0.0001}"
            ]
          },
          "metadata": {},
          "execution_count": 249
        }
      ],
      "source": [
        "sgd_grid_best_params"
      ]
    },
    {
      "cell_type": "code",
      "source": [
        "# SGD best params\n",
        "# {'alpha': 1e-07,\n",
        "#  'eta0': 0.1,\n",
        "#  'learning_rate': 'optimal',\n",
        "#  'max_iter': 1000,\n",
        "#  'tol': 0.0001}"
      ],
      "metadata": {
        "id": "i__wc0fhfuTn"
      },
      "execution_count": null,
      "outputs": []
    },
    {
      "cell_type": "code",
      "execution_count": null,
      "metadata": {
        "colab": {
          "base_uri": "https://localhost:8080/"
        },
        "id": "YkZGUPmjjFkH",
        "outputId": "1ac34d08-496d-4e54-9328-2d3732ed3470"
      },
      "outputs": [
        {
          "output_type": "stream",
          "name": "stdout",
          "text": [
            "0.5636998254799301\n"
          ]
        }
      ],
      "source": [
        "print(accuracy_score(y_test,sgd_grid_best_estimator.predict(x_test_for_distance_based)))"
      ]
    },
    {
      "cell_type": "code",
      "execution_count": null,
      "metadata": {
        "colab": {
          "base_uri": "https://localhost:8080/"
        },
        "id": "TDLSD9qt__kW",
        "outputId": "a64db7b6-cc15-4809-c67a-3e0e14a4ed07"
      },
      "outputs": [
        {
          "output_type": "execute_result",
          "data": {
            "text/plain": [
              "0.6020942408376964"
            ]
          },
          "metadata": {},
          "execution_count": 251
        }
      ],
      "source": [
        "# Naive bayes\n",
        "\n",
        "from sklearn.naive_bayes import GaussianNB\n",
        "gnb = GaussianNB()\n",
        "gnb.fit(x_train_for_distance_based,y_train)\n",
        "# gnb.partial_fit(x_train,y_train,[0,1])\n",
        "gnb.score(x_test_for_distance_based,y_test)\n"
      ]
    },
    {
      "cell_type": "code",
      "execution_count": null,
      "metadata": {
        "colab": {
          "base_uri": "https://localhost:8080/"
        },
        "id": "XZJVW6s2COZa",
        "outputId": "a430c2a7-701b-4762-f77c-f17dfb492cbf"
      },
      "outputs": [
        {
          "output_type": "execute_result",
          "data": {
            "text/plain": [
              "0.5951134380453752"
            ]
          },
          "metadata": {},
          "execution_count": 252
        }
      ],
      "source": [
        "from sklearn.naive_bayes import MultinomialNB\n",
        "mun = MultinomialNB(alpha = 1 , force_alpha='warn')\n",
        "mun.fit(x_train_for_distance_based,y_train)\n",
        "mun.score(x_test_for_distance_based, y_test)"
      ]
    },
    {
      "cell_type": "code",
      "execution_count": null,
      "metadata": {
        "colab": {
          "base_uri": "https://localhost:8080/"
        },
        "id": "UZYPrqPoQt-a",
        "outputId": "7fd07e09-037f-4ecb-9d43-5304e1f30f70"
      },
      "outputs": [
        {
          "output_type": "execute_result",
          "data": {
            "text/plain": [
              "0.6020942408376964"
            ]
          },
          "metadata": {},
          "execution_count": 253
        }
      ],
      "source": [
        "from sklearn.naive_bayes import ComplementNB\n",
        "cmb = ComplementNB(alpha = 1 , force_alpha = 'warn')\n",
        "cmb.fit(x_train_for_distance_based,y_train)\n",
        "cmb.score(x_test_for_distance_based,y_test)"
      ]
    },
    {
      "cell_type": "code",
      "execution_count": null,
      "metadata": {
        "colab": {
          "background_save": true
        },
        "id": "Ju-ymMMu3SoC"
      },
      "outputs": [],
      "source": [
        "# from sklearn.ensemble import VotingClassifier\n",
        "# estimators  = [('gaussain',gnb),('Multinomial',mun),('Complement',cmb)]\n",
        "# VCL = VotingClassifier(estimators = estimators)\n",
        "# voting = ['hard','soft']\n",
        "# param_grid  = {\n",
        "#     'voting' : voting\n",
        "# }\n",
        "# grid_search = GridSearchCV(estimator = VCL , scoring = 'accuracy' , param_grid = param_grid , cv = 5 , n_jobs = -1 , verbose = 2)\n",
        "# grid_search.fit(x_train,y_train)\n",
        "# best_param_VCl = grid_search.best_estimator_\n",
        "# print(accuracy_score( best_param_VCl.predict(x_test), y_test ))"
      ]
    },
    {
      "cell_type": "code",
      "execution_count": null,
      "metadata": {
        "colab": {
          "background_save": true
        },
        "id": "7auBNFUV7YOb"
      },
      "outputs": [],
      "source": []
    },
    {
      "cell_type": "code",
      "execution_count": null,
      "metadata": {
        "colab": {
          "background_save": true
        },
        "id": "mXR8cyIT_-0K"
      },
      "outputs": [],
      "source": [
        "# xcgvxcv"
      ]
    },
    {
      "cell_type": "code",
      "execution_count": null,
      "metadata": {
        "colab": {
          "background_save": true
        },
        "id": "Y9krJ4mwT0sQ"
      },
      "outputs": [],
      "source": [
        "# C = [0.05 , 0.1 , 0.5  , 1 , 5 , 10 ,15 , 25]\n",
        "# kernel = ['linear', 'poly', 'rbf', 'sigmoid']\n",
        "# gamma = ['scale','auto']\n",
        "# degree = [int(x) for x in range(1,2)]\n",
        "# param_grid = {\n",
        "#     'kernel' : kernel,\n",
        "#     'gamma' : gamma,\n",
        "#     'degree' : degree,\n",
        "#     'C' : C\n",
        "# }\n",
        "# svc = SVC()\n",
        "# grid_search = GridSearchCV(estimator=svc,scoring='accuracy',param_grid=param_grid,cv = 3,n_jobs = -1,verbose = 6)\n",
        "# grid_search.fit(x_train,y_train)\n",
        "# best_gird_search = grid_search.best_estimator_\n",
        "# from sklearn.metrics import accuracy_score\n",
        "# y_pred = best_gird_search.predict(x_test)\n",
        "# print(confusion_matrix(y_test,y_pred))\n",
        "# print(\"Accuracy Score {}\".format(accuracy_score(y_test,y_pred)))\n",
        "# print(accuracy_score(y_train,best_gird_search.predict(x_train)))\n",
        "# Score = cross_val_score(best_gird_search,X_data,Y_data,cv = 5)\n",
        "# Score"
      ]
    },
    {
      "cell_type": "code",
      "execution_count": null,
      "metadata": {
        "colab": {
          "background_save": true
        },
        "id": "o66bh0haFdSJ"
      },
      "outputs": [],
      "source": [
        "# grid_search.best_params_"
      ]
    },
    {
      "cell_type": "code",
      "execution_count": null,
      "metadata": {
        "colab": {
          "background_save": true
        },
        "id": "GbhpT4dET0sR"
      },
      "outputs": [],
      "source": [
        "# from sklearn.metrics import accuracy_score\n",
        "# model = grid_search.best_params_\n",
        "# model.fit(x_train,y_train)\n",
        "# y_pred = model.predict(x_test)\n",
        "# print(confusion_matrix(y_test,y_pred))\n",
        "# print(\"Accuracy for the trained data is {}\".format(accuracy_score(y_train,model.predict(x_train))))\n",
        "# print(\"Accuracy Score {}\".format(accuracy_score(y_test,y_pred)))\n",
        "# print(\"classification report {}\".format(classification_report(y_test,y_pred)))\n",
        "# Score = cross_val_score(model,X_data,Y_data,cv = 5)\n",
        "# Score"
      ]
    },
    {
      "cell_type": "code",
      "execution_count": null,
      "metadata": {
        "colab": {
          "background_save": true
        },
        "id": "JasQiE2XXIZX",
        "outputId": "21c6c5c7-87e1-4cc5-a80d-49e864d0d0df"
      },
      "outputs": [
        {
          "ename": "SyntaxError",
          "evalue": "ignored",
          "output_type": "error",
          "traceback": [
            "\u001b[0;36m  File \u001b[0;32m\"<ipython-input-246-323f4cc3ce1f>\"\u001b[0;36m, line \u001b[0;32m1\u001b[0m\n\u001b[0;31m    |# !pip install tensorflow\u001b[0m\n\u001b[0m    ^\u001b[0m\n\u001b[0;31mSyntaxError\u001b[0m\u001b[0;31m:\u001b[0m invalid syntax\n"
          ]
        }
      ],
      "source": [
        "|# !pip install tensorflow"
      ]
    },
    {
      "cell_type": "code",
      "execution_count": null,
      "metadata": {
        "colab": {
          "background_save": true
        },
        "id": "373C8LooT0sR"
      },
      "outputs": [],
      "source": [
        "# from tensorflow.keras.models import Sequential\n",
        "# from tensorflow.keras.layers import Dense\n",
        "# model = Sequential()\n",
        "# model.add(Dense(12,input_shape = (x_train.shape[1],),activation = 'relu'))\n",
        "# model.add(Dense(8,activation = 'relu'))\n",
        "# model.add(Dense(1,activation = 'sigmoid'))\n",
        "# model.compile(loss = 'binary_crossentropy',optimizer='adam',metrics=['accuracy'])\n",
        "# model.fit(x_train,y_train,epochs=200,batch_size=1000)\n",
        "# predictions = (model.predict(x_test) > 0.5).astype(int)\n",
        "# abs(predictions.T - y_test).sum()/y_test.shape[0]\n"
      ]
    },
    {
      "cell_type": "code",
      "execution_count": null,
      "metadata": {
        "colab": {
          "background_save": true
        },
        "id": "nWFCEGKzT0sR"
      },
      "outputs": [],
      "source": [
        "# import matplotlib.pyplot as plt\n",
        "# score_test = []\n",
        "# score_train = []\n",
        "# scale = [i for i in range(1,200,5)]\n",
        "# for i in range(1 , 200 , 5):\n",
        "#   randomclassifier=RandomForestClassifier(n_estimators=i,criterion='entropy')\n",
        "#   randomclassifier.fit(x_train,y_train)\n",
        "#   predictions = randomclassifier.predict(x_test)\n",
        "#   predictions_train = randomclassifier.predict(x_train)\n",
        "#   score_test.append(accuracy_score(y_test,predictions))\n",
        "#   score_train.append(accuracy_score(y_train,predictions_train))\n",
        "# plt.plot(scale ,score_test )\n",
        "# plt.plot(scale ,score_train )\n",
        "\n",
        "  # matrix=confusion_matrix(y_test,predictions)\n",
        "# print(matrix)\n",
        "# score=\n",
        "# print(score)\n",
        "# report=classification_report(y_test,predictions)\n",
        "# print(report)"
      ]
    },
    {
      "cell_type": "code",
      "execution_count": null,
      "metadata": {
        "colab": {
          "base_uri": "https://localhost:8080/"
        },
        "id": "i-KYnuZGmptq",
        "outputId": "2bd2c5ba-d6dc-48d4-84e0-6624b0a456ca"
      },
      "outputs": [
        {
          "output_type": "stream",
          "name": "stdout",
          "text": [
            "Fitting 5 folds for each of 1040 candidates, totalling 5200 fits\n"
          ]
        }
      ],
      "source": [
        "criterion = ['gini' , 'entropy']\n",
        "max_depth = [5,7,9,11,13,15,17,19,21,23,25,27,29]\n",
        "min_samples_split = [ 3 , 5 , 10, 20 , 30]\n",
        "min_samples_leaf = [30,20,10,5]\n",
        "max_features = ['sqrt','log2']\n",
        "param_grid = {\n",
        "    'criterion' : criterion,\n",
        "    'max_depth' : max_depth,\n",
        "    'min_samples_split' : min_samples_split,\n",
        "    'min_samples_leaf': min_samples_leaf,\n",
        "    'max_features' : max_features\n",
        "}\n",
        "dtc = DecisionTreeClassifier()\n",
        "grid_search = GridSearchCV(estimator = dtc , scoring = 'accuracy' , param_grid = param_grid , cv = 5 , n_jobs = -1 , verbose = 2 , error_score = 'raise')\n",
        "grid_search.fit(x_train_for_distance_based,y_train)\n",
        "best_estimator_dt = grid_search.best_estimator_\n",
        "best_params_dt = grid_search.best_params_"
      ]
    },
    {
      "cell_type": "code",
      "execution_count": null,
      "metadata": {
        "colab": {
          "background_save": true
        },
        "id": "BRH0q9nApma8"
      },
      "outputs": [],
      "source": [
        "print(accuracy_score(y_test,best_estimator_dt.predict(x_test_for_distance_based)))"
      ]
    },
    {
      "cell_type": "code",
      "execution_count": null,
      "metadata": {
        "colab": {
          "background_save": true
        },
        "id": "8ow7bdcxVtPQ"
      },
      "outputs": [],
      "source": [
        "K = [3 , 5   ,7 ,11 ,13 ,15  ,19, 23 ,25,29 ,33 ,35  ]\n",
        "param_grid = {\n",
        "    'n_neighbors' : K\n",
        "}\n",
        "knn = KNeighborsClassifier()\n",
        "grid_search = GridSearchCV(estimator=knn,scoring='accuracy',param_grid=param_grid,cv = 10,n_jobs = -1,verbose = 2)\n",
        "grid_search.fit(x_train_for_distance_based,y_train)\n",
        "knn_best_estimator = grid_search.best_estimator_\n",
        "print(accuracy_score(knn_best_estimator.predict(x_test_for_distance_based),y_test))"
      ]
    },
    {
      "cell_type": "code",
      "execution_count": null,
      "metadata": {
        "colab": {
          "background_save": true
        },
        "id": "owpYig4Zd-gY"
      },
      "outputs": [],
      "source": [
        "from sklearn.ensemble import VotingClassifier\n",
        "estimators  = [('gaussain',gnb),('sgd',sgd_grid_best_estimator) ,('dt',best_estimator_dt) ,('knn',knn_best_estimator)]\n",
        "VCL = VotingClassifier(estimators = estimators)\n",
        "voting = ['hard','soft']\n",
        "param_grid  = {\n",
        "    'voting' : voting\n",
        "}\n",
        "grid_search = GridSearchCV(estimator = VCL , scoring = 'accuracy' , param_grid = param_grid , cv = 5 , n_jobs = -1 , verbose = 2)\n",
        "grid_search.fit(x_train_for_distance_based,y_train)\n",
        "best_param_VCl_finalised = grid_search.best_estimator_\n",
        "print(accuracy_score( best_param_VCl_finalised.predict(x_test_for_distance_based), y_test ))"
      ]
    }
  ],
  "metadata": {
    "colab": {
      "provenance": [],
      "include_colab_link": true
    },
    "kernelspec": {
      "display_name": "Python 3",
      "name": "python3"
    },
    "language_info": {
      "codemirror_mode": {
        "name": "ipython",
        "version": 3
      },
      "file_extension": ".py",
      "mimetype": "text/x-python",
      "name": "python",
      "nbconvert_exporter": "python",
      "pygments_lexer": "ipython3",
      "version": "3.10.11"
    }
  },
  "nbformat": 4,
  "nbformat_minor": 0
}