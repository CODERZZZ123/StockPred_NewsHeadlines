{
 "cells": [
  {
   "cell_type": "code",
   "execution_count": 53,
   "metadata": {},
   "outputs": [
    {
     "name": "stderr",
     "output_type": "stream",
     "text": [
      "[nltk_data] Downloading package stopwords to\n",
      "[nltk_data]     C:\\Users\\999sb\\AppData\\Roaming\\nltk_data...\n",
      "[nltk_data]   Package stopwords is already up-to-date!\n",
      "[nltk_data] Downloading package wordnet to\n",
      "[nltk_data]     C:\\Users\\999sb\\AppData\\Roaming\\nltk_data...\n",
      "[nltk_data]   Package wordnet is already up-to-date!\n"
     ]
    }
   ],
   "source": [
    "import numpy as np \n",
    "import pandas as pd \n",
    "import nltk.corpus\n",
    "import re\n",
    "nltk.download('stopwords')\n",
    "nltk.download('wordnet')\n",
    "from nltk.stem import WordNetLemmatizer\n",
    "from nltk.corpus import stopwords\n",
    "from nltk.stem.porter import PorterStemmer"
   ]
  },
  {
   "cell_type": "code",
   "execution_count": 54,
   "metadata": {},
   "outputs": [],
   "source": [
    "df_NewsDjia = pd.read_csv('News_DJIA.csv', delimiter=',')"
   ]
  },
  {
   "cell_type": "code",
   "execution_count": 55,
   "metadata": {},
   "outputs": [
    {
     "data": {
      "text/html": [
       "<div>\n",
       "<style scoped>\n",
       "    .dataframe tbody tr th:only-of-type {\n",
       "        vertical-align: middle;\n",
       "    }\n",
       "\n",
       "    .dataframe tbody tr th {\n",
       "        vertical-align: top;\n",
       "    }\n",
       "\n",
       "    .dataframe thead th {\n",
       "        text-align: right;\n",
       "    }\n",
       "</style>\n",
       "<table border=\"1\" class=\"dataframe\">\n",
       "  <thead>\n",
       "    <tr style=\"text-align: right;\">\n",
       "      <th></th>\n",
       "      <th>Date</th>\n",
       "      <th>Label</th>\n",
       "      <th>Top1</th>\n",
       "      <th>Top2</th>\n",
       "      <th>Top3</th>\n",
       "      <th>Top4</th>\n",
       "      <th>Top5</th>\n",
       "      <th>Top6</th>\n",
       "      <th>Top7</th>\n",
       "      <th>Top8</th>\n",
       "      <th>...</th>\n",
       "      <th>Top16</th>\n",
       "      <th>Top17</th>\n",
       "      <th>Top18</th>\n",
       "      <th>Top19</th>\n",
       "      <th>Top20</th>\n",
       "      <th>Top21</th>\n",
       "      <th>Top22</th>\n",
       "      <th>Top23</th>\n",
       "      <th>Top24</th>\n",
       "      <th>Top25</th>\n",
       "    </tr>\n",
       "  </thead>\n",
       "  <tbody>\n",
       "    <tr>\n",
       "      <th>0</th>\n",
       "      <td>2008-08-08</td>\n",
       "      <td>0</td>\n",
       "      <td>b\"Georgia 'downs two Russian warplanes' as cou...</td>\n",
       "      <td>b'BREAKING: Musharraf to be impeached.'</td>\n",
       "      <td>b'Russia Today: Columns of troops roll into So...</td>\n",
       "      <td>b'Russian tanks are moving towards the capital...</td>\n",
       "      <td>b\"Afghan children raped with 'impunity,' U.N. ...</td>\n",
       "      <td>b'150 Russian tanks have entered South Ossetia...</td>\n",
       "      <td>b\"Breaking: Georgia invades South Ossetia, Rus...</td>\n",
       "      <td>b\"The 'enemy combatent' trials are nothing but...</td>\n",
       "      <td>...</td>\n",
       "      <td>b'Georgia Invades South Ossetia - if Russia ge...</td>\n",
       "      <td>b'Al-Qaeda Faces Islamist Backlash'</td>\n",
       "      <td>b'Condoleezza Rice: \"The US would not act to p...</td>\n",
       "      <td>b'This is a busy day:  The European Union has ...</td>\n",
       "      <td>b\"Georgia will withdraw 1,000 soldiers from Ir...</td>\n",
       "      <td>b'Why the Pentagon Thinks Attacking Iran is a ...</td>\n",
       "      <td>b'Caucasus in crisis: Georgia invades South Os...</td>\n",
       "      <td>b'Indian shoe manufactory  - And again in a se...</td>\n",
       "      <td>b'Visitors Suffering from Mental Illnesses Ban...</td>\n",
       "      <td>b\"No Help for Mexico's Kidnapping Surge\"</td>\n",
       "    </tr>\n",
       "    <tr>\n",
       "      <th>1</th>\n",
       "      <td>2008-08-11</td>\n",
       "      <td>1</td>\n",
       "      <td>b'Why wont America and Nato help us? If they w...</td>\n",
       "      <td>b'Bush puts foot down on Georgian conflict'</td>\n",
       "      <td>b\"Jewish Georgian minister: Thanks to Israeli ...</td>\n",
       "      <td>b'Georgian army flees in disarray as Russians ...</td>\n",
       "      <td>b\"Olympic opening ceremony fireworks 'faked'\"</td>\n",
       "      <td>b'What were the Mossad with fraudulent New Zea...</td>\n",
       "      <td>b'Russia angered by Israeli military sale to G...</td>\n",
       "      <td>b'An American citizen living in S.Ossetia blam...</td>\n",
       "      <td>...</td>\n",
       "      <td>b'Israel and the US behind the Georgian aggres...</td>\n",
       "      <td>b'\"Do not believe TV, neither Russian nor Geor...</td>\n",
       "      <td>b'Riots are still going on in Montreal (Canada...</td>\n",
       "      <td>b'China to overtake US as largest manufacturer'</td>\n",
       "      <td>b'War in South Ossetia [PICS]'</td>\n",
       "      <td>b'Israeli Physicians Group Condemns State Tort...</td>\n",
       "      <td>b' Russia has just beaten the United States ov...</td>\n",
       "      <td>b'Perhaps *the* question about the Georgia - R...</td>\n",
       "      <td>b'Russia is so much better at war'</td>\n",
       "      <td>b\"So this is what it's come to: trading sex fo...</td>\n",
       "    </tr>\n",
       "    <tr>\n",
       "      <th>2</th>\n",
       "      <td>2008-08-12</td>\n",
       "      <td>0</td>\n",
       "      <td>b'Remember that adorable 9-year-old who sang a...</td>\n",
       "      <td>b\"Russia 'ends Georgia operation'\"</td>\n",
       "      <td>b'\"If we had no sexual harassment we would hav...</td>\n",
       "      <td>b\"Al-Qa'eda is losing support in Iraq because ...</td>\n",
       "      <td>b'Ceasefire in Georgia: Putin Outmaneuvers the...</td>\n",
       "      <td>b'Why Microsoft and Intel tried to kill the XO...</td>\n",
       "      <td>b'Stratfor: The Russo-Georgian War and the Bal...</td>\n",
       "      <td>b\"I'm Trying to Get a Sense of This Whole Geor...</td>\n",
       "      <td>...</td>\n",
       "      <td>b'U.S. troops still in Georgia (did you know t...</td>\n",
       "      <td>b'Why Russias response to Georgia was right'</td>\n",
       "      <td>b'Gorbachev accuses U.S. of making a \"serious ...</td>\n",
       "      <td>b'Russia, Georgia, and NATO: Cold War Two'</td>\n",
       "      <td>b'Remember that adorable 62-year-old who led y...</td>\n",
       "      <td>b'War in Georgia: The Israeli connection'</td>\n",
       "      <td>b'All signs point to the US encouraging Georgi...</td>\n",
       "      <td>b'Christopher King argues that the US and NATO...</td>\n",
       "      <td>b'America: The New Mexico?'</td>\n",
       "      <td>b\"BBC NEWS | Asia-Pacific | Extinction 'by man...</td>\n",
       "    </tr>\n",
       "    <tr>\n",
       "      <th>3</th>\n",
       "      <td>2008-08-13</td>\n",
       "      <td>0</td>\n",
       "      <td>b' U.S. refuses Israel weapons to attack Iran:...</td>\n",
       "      <td>b\"When the president ordered to attack Tskhinv...</td>\n",
       "      <td>b' Israel clears troops who killed Reuters cam...</td>\n",
       "      <td>b'Britain\\'s policy of being tough on drugs is...</td>\n",
       "      <td>b'Body of 14 year old found in trunk; Latest (...</td>\n",
       "      <td>b'China has moved 10 *million* quake survivors...</td>\n",
       "      <td>b\"Bush announces Operation Get All Up In Russi...</td>\n",
       "      <td>b'Russian forces sink Georgian ships '</td>\n",
       "      <td>...</td>\n",
       "      <td>b'Elephants extinct by 2020?'</td>\n",
       "      <td>b'US humanitarian missions soon in Georgia - i...</td>\n",
       "      <td>b\"Georgia's DDOS came from US sources\"</td>\n",
       "      <td>b'Russian convoy heads into Georgia, violating...</td>\n",
       "      <td>b'Israeli defence minister: US against strike ...</td>\n",
       "      <td>b'Gorbachev: We Had No Choice'</td>\n",
       "      <td>b'Witness: Russian forces head towards Tbilisi...</td>\n",
       "      <td>b' Quarter of Russians blame U.S. for conflict...</td>\n",
       "      <td>b'Georgian president  says US military will ta...</td>\n",
       "      <td>b'2006: Nobel laureate Aleksander Solzhenitsyn...</td>\n",
       "    </tr>\n",
       "    <tr>\n",
       "      <th>4</th>\n",
       "      <td>2008-08-14</td>\n",
       "      <td>1</td>\n",
       "      <td>b'All the experts admit that we should legalis...</td>\n",
       "      <td>b'War in South Osetia - 89 pictures made by a ...</td>\n",
       "      <td>b'Swedish wrestler Ara Abrahamian throws away ...</td>\n",
       "      <td>b'Russia exaggerated the death toll in South O...</td>\n",
       "      <td>b'Missile That Killed 9 Inside Pakistan May Ha...</td>\n",
       "      <td>b\"Rushdie Condemns Random House's Refusal to P...</td>\n",
       "      <td>b'Poland and US agree to missle defense deal. ...</td>\n",
       "      <td>b'Will the Russians conquer Tblisi? Bet on it,...</td>\n",
       "      <td>...</td>\n",
       "      <td>b'Bank analyst forecast Georgian crisis 2 days...</td>\n",
       "      <td>b\"Georgia confict could set back Russia's US r...</td>\n",
       "      <td>b'War in the Caucasus is as much the product o...</td>\n",
       "      <td>b'\"Non-media\" photos of South Ossetia/Georgia ...</td>\n",
       "      <td>b'Georgian TV reporter shot by Russian sniper ...</td>\n",
       "      <td>b'Saudi Arabia: Mother moves to block child ma...</td>\n",
       "      <td>b'Taliban wages war on humanitarian aid workers'</td>\n",
       "      <td>b'Russia: World  \"can forget about\" Georgia\\'s...</td>\n",
       "      <td>b'Darfur rebels accuse Sudan of mounting major...</td>\n",
       "      <td>b'Philippines : Peace Advocate say Muslims nee...</td>\n",
       "    </tr>\n",
       "  </tbody>\n",
       "</table>\n",
       "<p>5 rows × 27 columns</p>\n",
       "</div>"
      ],
      "text/plain": [
       "         Date  Label                                               Top1  \\\n",
       "0  2008-08-08      0  b\"Georgia 'downs two Russian warplanes' as cou...   \n",
       "1  2008-08-11      1  b'Why wont America and Nato help us? If they w...   \n",
       "2  2008-08-12      0  b'Remember that adorable 9-year-old who sang a...   \n",
       "3  2008-08-13      0  b' U.S. refuses Israel weapons to attack Iran:...   \n",
       "4  2008-08-14      1  b'All the experts admit that we should legalis...   \n",
       "\n",
       "                                                Top2  \\\n",
       "0            b'BREAKING: Musharraf to be impeached.'   \n",
       "1        b'Bush puts foot down on Georgian conflict'   \n",
       "2                 b\"Russia 'ends Georgia operation'\"   \n",
       "3  b\"When the president ordered to attack Tskhinv...   \n",
       "4  b'War in South Osetia - 89 pictures made by a ...   \n",
       "\n",
       "                                                Top3  \\\n",
       "0  b'Russia Today: Columns of troops roll into So...   \n",
       "1  b\"Jewish Georgian minister: Thanks to Israeli ...   \n",
       "2  b'\"If we had no sexual harassment we would hav...   \n",
       "3  b' Israel clears troops who killed Reuters cam...   \n",
       "4  b'Swedish wrestler Ara Abrahamian throws away ...   \n",
       "\n",
       "                                                Top4  \\\n",
       "0  b'Russian tanks are moving towards the capital...   \n",
       "1  b'Georgian army flees in disarray as Russians ...   \n",
       "2  b\"Al-Qa'eda is losing support in Iraq because ...   \n",
       "3  b'Britain\\'s policy of being tough on drugs is...   \n",
       "4  b'Russia exaggerated the death toll in South O...   \n",
       "\n",
       "                                                Top5  \\\n",
       "0  b\"Afghan children raped with 'impunity,' U.N. ...   \n",
       "1      b\"Olympic opening ceremony fireworks 'faked'\"   \n",
       "2  b'Ceasefire in Georgia: Putin Outmaneuvers the...   \n",
       "3  b'Body of 14 year old found in trunk; Latest (...   \n",
       "4  b'Missile That Killed 9 Inside Pakistan May Ha...   \n",
       "\n",
       "                                                Top6  \\\n",
       "0  b'150 Russian tanks have entered South Ossetia...   \n",
       "1  b'What were the Mossad with fraudulent New Zea...   \n",
       "2  b'Why Microsoft and Intel tried to kill the XO...   \n",
       "3  b'China has moved 10 *million* quake survivors...   \n",
       "4  b\"Rushdie Condemns Random House's Refusal to P...   \n",
       "\n",
       "                                                Top7  \\\n",
       "0  b\"Breaking: Georgia invades South Ossetia, Rus...   \n",
       "1  b'Russia angered by Israeli military sale to G...   \n",
       "2  b'Stratfor: The Russo-Georgian War and the Bal...   \n",
       "3  b\"Bush announces Operation Get All Up In Russi...   \n",
       "4  b'Poland and US agree to missle defense deal. ...   \n",
       "\n",
       "                                                Top8  ...  \\\n",
       "0  b\"The 'enemy combatent' trials are nothing but...  ...   \n",
       "1  b'An American citizen living in S.Ossetia blam...  ...   \n",
       "2  b\"I'm Trying to Get a Sense of This Whole Geor...  ...   \n",
       "3             b'Russian forces sink Georgian ships '  ...   \n",
       "4  b'Will the Russians conquer Tblisi? Bet on it,...  ...   \n",
       "\n",
       "                                               Top16  \\\n",
       "0  b'Georgia Invades South Ossetia - if Russia ge...   \n",
       "1  b'Israel and the US behind the Georgian aggres...   \n",
       "2  b'U.S. troops still in Georgia (did you know t...   \n",
       "3                      b'Elephants extinct by 2020?'   \n",
       "4  b'Bank analyst forecast Georgian crisis 2 days...   \n",
       "\n",
       "                                               Top17  \\\n",
       "0                b'Al-Qaeda Faces Islamist Backlash'   \n",
       "1  b'\"Do not believe TV, neither Russian nor Geor...   \n",
       "2       b'Why Russias response to Georgia was right'   \n",
       "3  b'US humanitarian missions soon in Georgia - i...   \n",
       "4  b\"Georgia confict could set back Russia's US r...   \n",
       "\n",
       "                                               Top18  \\\n",
       "0  b'Condoleezza Rice: \"The US would not act to p...   \n",
       "1  b'Riots are still going on in Montreal (Canada...   \n",
       "2  b'Gorbachev accuses U.S. of making a \"serious ...   \n",
       "3             b\"Georgia's DDOS came from US sources\"   \n",
       "4  b'War in the Caucasus is as much the product o...   \n",
       "\n",
       "                                               Top19  \\\n",
       "0  b'This is a busy day:  The European Union has ...   \n",
       "1    b'China to overtake US as largest manufacturer'   \n",
       "2         b'Russia, Georgia, and NATO: Cold War Two'   \n",
       "3  b'Russian convoy heads into Georgia, violating...   \n",
       "4  b'\"Non-media\" photos of South Ossetia/Georgia ...   \n",
       "\n",
       "                                               Top20  \\\n",
       "0  b\"Georgia will withdraw 1,000 soldiers from Ir...   \n",
       "1                     b'War in South Ossetia [PICS]'   \n",
       "2  b'Remember that adorable 62-year-old who led y...   \n",
       "3  b'Israeli defence minister: US against strike ...   \n",
       "4  b'Georgian TV reporter shot by Russian sniper ...   \n",
       "\n",
       "                                               Top21  \\\n",
       "0  b'Why the Pentagon Thinks Attacking Iran is a ...   \n",
       "1  b'Israeli Physicians Group Condemns State Tort...   \n",
       "2          b'War in Georgia: The Israeli connection'   \n",
       "3                     b'Gorbachev: We Had No Choice'   \n",
       "4  b'Saudi Arabia: Mother moves to block child ma...   \n",
       "\n",
       "                                               Top22  \\\n",
       "0  b'Caucasus in crisis: Georgia invades South Os...   \n",
       "1  b' Russia has just beaten the United States ov...   \n",
       "2  b'All signs point to the US encouraging Georgi...   \n",
       "3  b'Witness: Russian forces head towards Tbilisi...   \n",
       "4   b'Taliban wages war on humanitarian aid workers'   \n",
       "\n",
       "                                               Top23  \\\n",
       "0  b'Indian shoe manufactory  - And again in a se...   \n",
       "1  b'Perhaps *the* question about the Georgia - R...   \n",
       "2  b'Christopher King argues that the US and NATO...   \n",
       "3  b' Quarter of Russians blame U.S. for conflict...   \n",
       "4  b'Russia: World  \"can forget about\" Georgia\\'s...   \n",
       "\n",
       "                                               Top24  \\\n",
       "0  b'Visitors Suffering from Mental Illnesses Ban...   \n",
       "1                 b'Russia is so much better at war'   \n",
       "2                        b'America: The New Mexico?'   \n",
       "3  b'Georgian president  says US military will ta...   \n",
       "4  b'Darfur rebels accuse Sudan of mounting major...   \n",
       "\n",
       "                                               Top25  \n",
       "0           b\"No Help for Mexico's Kidnapping Surge\"  \n",
       "1  b\"So this is what it's come to: trading sex fo...  \n",
       "2  b\"BBC NEWS | Asia-Pacific | Extinction 'by man...  \n",
       "3  b'2006: Nobel laureate Aleksander Solzhenitsyn...  \n",
       "4  b'Philippines : Peace Advocate say Muslims nee...  \n",
       "\n",
       "[5 rows x 27 columns]"
      ]
     },
     "execution_count": 55,
     "metadata": {},
     "output_type": "execute_result"
    }
   ],
   "source": [
    "df_NewsDjia.head()"
   ]
  },
  {
   "cell_type": "code",
   "execution_count": 56,
   "metadata": {},
   "outputs": [],
   "source": [
    "df_RedditNews = pd.read_csv('News_reddit.csv', delimiter=',')\n",
    "df_DjiaStock = pd.read_csv('DJIA_t.csv',delimiter=',')"
   ]
  },
  {
   "cell_type": "code",
   "execution_count": 57,
   "metadata": {},
   "outputs": [
    {
     "data": {
      "text/html": [
       "<div>\n",
       "<style scoped>\n",
       "    .dataframe tbody tr th:only-of-type {\n",
       "        vertical-align: middle;\n",
       "    }\n",
       "\n",
       "    .dataframe tbody tr th {\n",
       "        vertical-align: top;\n",
       "    }\n",
       "\n",
       "    .dataframe thead th {\n",
       "        text-align: right;\n",
       "    }\n",
       "</style>\n",
       "<table border=\"1\" class=\"dataframe\">\n",
       "  <thead>\n",
       "    <tr style=\"text-align: right;\">\n",
       "      <th></th>\n",
       "      <th>Date</th>\n",
       "      <th>Open</th>\n",
       "      <th>High</th>\n",
       "      <th>Low</th>\n",
       "      <th>Close</th>\n",
       "      <th>Volume</th>\n",
       "      <th>Adj Close</th>\n",
       "    </tr>\n",
       "  </thead>\n",
       "  <tbody>\n",
       "    <tr>\n",
       "      <th>0</th>\n",
       "      <td>2016-07-01</td>\n",
       "      <td>17924.240234</td>\n",
       "      <td>18002.380859</td>\n",
       "      <td>17916.910156</td>\n",
       "      <td>17949.369141</td>\n",
       "      <td>82160000</td>\n",
       "      <td>17949.369141</td>\n",
       "    </tr>\n",
       "    <tr>\n",
       "      <th>1</th>\n",
       "      <td>2016-06-30</td>\n",
       "      <td>17712.759766</td>\n",
       "      <td>17930.609375</td>\n",
       "      <td>17711.800781</td>\n",
       "      <td>17929.990234</td>\n",
       "      <td>133030000</td>\n",
       "      <td>17929.990234</td>\n",
       "    </tr>\n",
       "    <tr>\n",
       "      <th>2</th>\n",
       "      <td>2016-06-29</td>\n",
       "      <td>17456.019531</td>\n",
       "      <td>17704.509766</td>\n",
       "      <td>17456.019531</td>\n",
       "      <td>17694.679688</td>\n",
       "      <td>106380000</td>\n",
       "      <td>17694.679688</td>\n",
       "    </tr>\n",
       "    <tr>\n",
       "      <th>3</th>\n",
       "      <td>2016-06-28</td>\n",
       "      <td>17190.509766</td>\n",
       "      <td>17409.720703</td>\n",
       "      <td>17190.509766</td>\n",
       "      <td>17409.720703</td>\n",
       "      <td>112190000</td>\n",
       "      <td>17409.720703</td>\n",
       "    </tr>\n",
       "    <tr>\n",
       "      <th>4</th>\n",
       "      <td>2016-06-27</td>\n",
       "      <td>17355.210938</td>\n",
       "      <td>17355.210938</td>\n",
       "      <td>17063.080078</td>\n",
       "      <td>17140.240234</td>\n",
       "      <td>138740000</td>\n",
       "      <td>17140.240234</td>\n",
       "    </tr>\n",
       "  </tbody>\n",
       "</table>\n",
       "</div>"
      ],
      "text/plain": [
       "         Date          Open          High           Low         Close  \\\n",
       "0  2016-07-01  17924.240234  18002.380859  17916.910156  17949.369141   \n",
       "1  2016-06-30  17712.759766  17930.609375  17711.800781  17929.990234   \n",
       "2  2016-06-29  17456.019531  17704.509766  17456.019531  17694.679688   \n",
       "3  2016-06-28  17190.509766  17409.720703  17190.509766  17409.720703   \n",
       "4  2016-06-27  17355.210938  17355.210938  17063.080078  17140.240234   \n",
       "\n",
       "      Volume     Adj Close  \n",
       "0   82160000  17949.369141  \n",
       "1  133030000  17929.990234  \n",
       "2  106380000  17694.679688  \n",
       "3  112190000  17409.720703  \n",
       "4  138740000  17140.240234  "
      ]
     },
     "execution_count": 57,
     "metadata": {},
     "output_type": "execute_result"
    }
   ],
   "source": [
    "df_DjiaStock.head()"
   ]
  },
  {
   "cell_type": "code",
   "execution_count": 58,
   "metadata": {},
   "outputs": [
    {
     "data": {
      "text/html": [
       "<div>\n",
       "<style scoped>\n",
       "    .dataframe tbody tr th:only-of-type {\n",
       "        vertical-align: middle;\n",
       "    }\n",
       "\n",
       "    .dataframe tbody tr th {\n",
       "        vertical-align: top;\n",
       "    }\n",
       "\n",
       "    .dataframe thead th {\n",
       "        text-align: right;\n",
       "    }\n",
       "</style>\n",
       "<table border=\"1\" class=\"dataframe\">\n",
       "  <thead>\n",
       "    <tr style=\"text-align: right;\">\n",
       "      <th></th>\n",
       "      <th>Date</th>\n",
       "      <th>News</th>\n",
       "    </tr>\n",
       "  </thead>\n",
       "  <tbody>\n",
       "    <tr>\n",
       "      <th>0</th>\n",
       "      <td>2016-07-01</td>\n",
       "      <td>A 117-year-old woman in Mexico City finally re...</td>\n",
       "    </tr>\n",
       "    <tr>\n",
       "      <th>1</th>\n",
       "      <td>2016-07-01</td>\n",
       "      <td>IMF chief backs Athens as permanent Olympic host</td>\n",
       "    </tr>\n",
       "    <tr>\n",
       "      <th>2</th>\n",
       "      <td>2016-07-01</td>\n",
       "      <td>The president of France says if Brexit won, so...</td>\n",
       "    </tr>\n",
       "    <tr>\n",
       "      <th>3</th>\n",
       "      <td>2016-07-01</td>\n",
       "      <td>British Man Who Must Give Police 24 Hours' Not...</td>\n",
       "    </tr>\n",
       "    <tr>\n",
       "      <th>4</th>\n",
       "      <td>2016-07-01</td>\n",
       "      <td>100+ Nobel laureates urge Greenpeace to stop o...</td>\n",
       "    </tr>\n",
       "  </tbody>\n",
       "</table>\n",
       "</div>"
      ],
      "text/plain": [
       "         Date                                               News\n",
       "0  2016-07-01  A 117-year-old woman in Mexico City finally re...\n",
       "1  2016-07-01   IMF chief backs Athens as permanent Olympic host\n",
       "2  2016-07-01  The president of France says if Brexit won, so...\n",
       "3  2016-07-01  British Man Who Must Give Police 24 Hours' Not...\n",
       "4  2016-07-01  100+ Nobel laureates urge Greenpeace to stop o..."
      ]
     },
     "execution_count": 58,
     "metadata": {},
     "output_type": "execute_result"
    }
   ],
   "source": [
    "df_RedditNews.head()"
   ]
  },
  {
   "cell_type": "code",
   "execution_count": 59,
   "metadata": {},
   "outputs": [
    {
     "name": "stdout",
     "output_type": "stream",
     "text": [
      "<class 'pandas.core.frame.DataFrame'>\n",
      "RangeIndex: 1989 entries, 0 to 1988\n",
      "Data columns (total 27 columns):\n",
      " #   Column  Non-Null Count  Dtype \n",
      "---  ------  --------------  ----- \n",
      " 0   Date    1989 non-null   object\n",
      " 1   Label   1989 non-null   int64 \n",
      " 2   Top1    1989 non-null   object\n",
      " 3   Top2    1989 non-null   object\n",
      " 4   Top3    1989 non-null   object\n",
      " 5   Top4    1989 non-null   object\n",
      " 6   Top5    1989 non-null   object\n",
      " 7   Top6    1989 non-null   object\n",
      " 8   Top7    1989 non-null   object\n",
      " 9   Top8    1989 non-null   object\n",
      " 10  Top9    1989 non-null   object\n",
      " 11  Top10   1989 non-null   object\n",
      " 12  Top11   1989 non-null   object\n",
      " 13  Top12   1989 non-null   object\n",
      " 14  Top13   1989 non-null   object\n",
      " 15  Top14   1989 non-null   object\n",
      " 16  Top15   1989 non-null   object\n",
      " 17  Top16   1989 non-null   object\n",
      " 18  Top17   1989 non-null   object\n",
      " 19  Top18   1989 non-null   object\n",
      " 20  Top19   1989 non-null   object\n",
      " 21  Top20   1989 non-null   object\n",
      " 22  Top21   1989 non-null   object\n",
      " 23  Top22   1989 non-null   object\n",
      " 24  Top23   1988 non-null   object\n",
      " 25  Top24   1986 non-null   object\n",
      " 26  Top25   1986 non-null   object\n",
      "dtypes: int64(1), object(26)\n",
      "memory usage: 419.7+ KB\n"
     ]
    }
   ],
   "source": [
    "df_NewsDjia.info()"
   ]
  },
  {
   "cell_type": "code",
   "execution_count": 60,
   "metadata": {},
   "outputs": [],
   "source": [
    "for i in df_NewsDjia.columns :\n",
    "    df_NewsDjia[i] = df_NewsDjia[i].astype(str)"
   ]
  },
  {
   "cell_type": "code",
   "execution_count": 61,
   "metadata": {},
   "outputs": [
    {
     "name": "stdout",
     "output_type": "stream",
     "text": [
      "<class 'pandas.core.frame.DataFrame'>\n",
      "RangeIndex: 1989 entries, 0 to 1988\n",
      "Data columns (total 27 columns):\n",
      " #   Column  Non-Null Count  Dtype \n",
      "---  ------  --------------  ----- \n",
      " 0   Date    1989 non-null   object\n",
      " 1   Label   1989 non-null   object\n",
      " 2   Top1    1989 non-null   object\n",
      " 3   Top2    1989 non-null   object\n",
      " 4   Top3    1989 non-null   object\n",
      " 5   Top4    1989 non-null   object\n",
      " 6   Top5    1989 non-null   object\n",
      " 7   Top6    1989 non-null   object\n",
      " 8   Top7    1989 non-null   object\n",
      " 9   Top8    1989 non-null   object\n",
      " 10  Top9    1989 non-null   object\n",
      " 11  Top10   1989 non-null   object\n",
      " 12  Top11   1989 non-null   object\n",
      " 13  Top12   1989 non-null   object\n",
      " 14  Top13   1989 non-null   object\n",
      " 15  Top14   1989 non-null   object\n",
      " 16  Top15   1989 non-null   object\n",
      " 17  Top16   1989 non-null   object\n",
      " 18  Top17   1989 non-null   object\n",
      " 19  Top18   1989 non-null   object\n",
      " 20  Top19   1989 non-null   object\n",
      " 21  Top20   1989 non-null   object\n",
      " 22  Top21   1989 non-null   object\n",
      " 23  Top22   1989 non-null   object\n",
      " 24  Top23   1989 non-null   object\n",
      " 25  Top24   1989 non-null   object\n",
      " 26  Top25   1989 non-null   object\n",
      "dtypes: object(27)\n",
      "memory usage: 419.7+ KB\n"
     ]
    }
   ],
   "source": [
    "df_NewsDjia.info()"
   ]
  },
  {
   "cell_type": "code",
   "execution_count": 62,
   "metadata": {},
   "outputs": [],
   "source": [
    "num_columns = df_NewsDjia.columns.shape[0]\n",
    "col_names = df_NewsDjia.columns.values.tolist()\n",
    "df_NewsDjia.loc[:, 'merged'] = \"\"\n",
    "for each_col_ind in range(num_columns):\n",
    "    df_NewsDjia.loc[:, 'merged'] =  df_NewsDjia.loc[:, 'merged'] + \" \" + df_NewsDjia[col_names[each_col_ind]] + \" \""
   ]
  },
  {
   "cell_type": "code",
   "execution_count": 63,
   "metadata": {},
   "outputs": [
    {
     "data": {
      "text/plain": [
       "0        2008-08-08  0  b\"Georgia 'downs two Russian w...\n",
       "1        2008-08-11  1  b'Why wont America and Nato he...\n",
       "2        2008-08-12  0  b'Remember that adorable 9-yea...\n",
       "3        2008-08-13  0  b' U.S. refuses Israel weapons...\n",
       "4        2008-08-14  1  b'All the experts admit that w...\n",
       "                              ...                        \n",
       "1984     2016-06-27  0  Barclays and RBS shares suspen...\n",
       "1985     2016-06-28  1  2,500 Scientists To Australia:...\n",
       "1986     2016-06-29  1  Explosion At Airport In Istanb...\n",
       "1987     2016-06-30  1  Jamaica proposes marijuana dis...\n",
       "1988     2016-07-01  1  A 117-year-old woman in Mexico...\n",
       "Name: merged, Length: 1989, dtype: object"
      ]
     },
     "execution_count": 63,
     "metadata": {},
     "output_type": "execute_result"
    }
   ],
   "source": [
    "df_NewsDjia['merged']"
   ]
  },
  {
   "cell_type": "code",
   "execution_count": 64,
   "metadata": {},
   "outputs": [
    {
     "data": {
      "text/plain": [
       "Index(['Date', 'Label', 'Top1', 'Top2', 'Top3', 'Top4', 'Top5', 'Top6', 'Top7',\n",
       "       'Top8', 'Top9', 'Top10', 'Top11', 'Top12', 'Top13', 'Top14', 'Top15',\n",
       "       'Top16', 'Top17', 'Top18', 'Top19', 'Top20', 'Top21', 'Top22', 'Top23',\n",
       "       'Top24', 'Top25', 'merged'],\n",
       "      dtype='object')"
      ]
     },
     "execution_count": 64,
     "metadata": {},
     "output_type": "execute_result"
    }
   ],
   "source": [
    "df_NewsDjia.columns"
   ]
  },
  {
   "cell_type": "code",
   "execution_count": 65,
   "metadata": {},
   "outputs": [],
   "source": [
    "df_finalised = df_NewsDjia[['Date','merged']]"
   ]
  },
  {
   "cell_type": "code",
   "execution_count": 66,
   "metadata": {},
   "outputs": [
    {
     "data": {
      "text/plain": [
       "' 2008-08-08  0  b\"Georgia \\'downs two Russian warplanes\\' as countries move to brink of war\"  b\\'BREAKING: Musharraf to be impeached.\\'  b\\'Russia Today: Columns of troops roll into South Ossetia; footage from fighting (YouTube)\\'  b\\'Russian tanks are moving towards the capital of South Ossetia, which has reportedly been completely destroyed by Georgian artillery fire\\'  b\"Afghan children raped with \\'impunity,\\' U.N. official says - this is sick, a three year old was raped and they do nothing\"  b\\'150 Russian tanks have entered South Ossetia whilst Georgia shoots down two Russian jets.\\'  b\"Breaking: Georgia invades South Ossetia, Russia warned it would intervene on SO\\'s side\"  b\"The \\'enemy combatent\\' trials are nothing but a sham: Salim Haman has been sentenced to 5 1/2 years, but will be kept longer anyway just because they feel like it.\"  b\\'Georgian troops retreat from S. Osettain capital, presumably leaving several hundred people killed. [VIDEO]\\'  b\\'Did the U.S. Prep Georgia for War with Russia?\\'  b\\'Rice Gives Green Light for Israel to Attack Iran: Says U.S. has no veto over Israeli military ops\\'  b\\'Announcing:Class Action Lawsuit on Behalf of American Public Against the FBI\\'  b\"So---Russia and Georgia are at war and the NYT\\'s top story is opening ceremonies of the Olympics?  What a fucking disgrace and yet further proof of the decline of journalism.\"  b\"China tells Bush to stay out of other countries\\' affairs\"  b\\'Did World War III start today?\\'  b\\'Georgia Invades South Ossetia - if Russia gets involved, will NATO absorb Georgia and unleash a full scale war?\\'  b\\'Al-Qaeda Faces Islamist Backlash\\'  b\\'Condoleezza Rice: \"The US would not act to prevent an Israeli strike on Iran.\" Israeli Defense Minister Ehud Barak: \"Israel is prepared for uncompromising victory in the case of military hostilities.\"\\'  b\\'This is a busy day:  The European Union has approved new sanctions against Iran in protest at its nuclear programme.\\'  b\"Georgia will withdraw 1,000 soldiers from Iraq to help fight off Russian forces in Georgia\\'s breakaway region of South Ossetia\"  b\\'Why the Pentagon Thinks Attacking Iran is a Bad Idea - US News &amp; World Report\\'  b\\'Caucasus in crisis: Georgia invades South Ossetia\\'  b\\'Indian shoe manufactory  - And again in a series of \"you do not like your work?\"\\'  b\\'Visitors Suffering from Mental Illnesses Banned from Olympics\\'  b\"No Help for Mexico\\'s Kidnapping Surge\" '"
      ]
     },
     "execution_count": 66,
     "metadata": {},
     "output_type": "execute_result"
    }
   ],
   "source": [
    "df_finalised.iloc[0][1]"
   ]
  },
  {
   "cell_type": "code",
   "execution_count": null,
   "metadata": {},
   "outputs": [],
   "source": []
  },
  {
   "cell_type": "code",
   "execution_count": 67,
   "metadata": {},
   "outputs": [],
   "source": [
    "date_numric_stopwords = \"THOUSAND MILLION BILLION TRILLION HUNDRED ANNUAL ANNUALLY ANNUM YEAR YEARLY QUARTER QUARTERLY QTR MONTH MONTHLY WEEK WEEKLY DAY DAILY JANUARY FEBRUARY MARCH APRIL MAY JUNE JULY AUGUST SEPTEMBER OCTOBER NOVEMBER DECEMBER JAN FEB MAR APR MAY JUN JUL AUG SEP SEPT OCT NOV DEC MONDAY TUESDAY WEDNESDAY THURSDAY FRIDAY SATURDAY SUNDAY TWO THREE FOUR FIVE SIX SEVEN EIGHT NINE TEN ELEVEN TWELVE THIRTEEN FOURTEEN FIFTEEN SIXTEEN SEVENTEEN EIGHTEEN NINETEEN TWENTY THIRTY FORTY FIFTY SIXTY SEVENTY EIGHTY NINETY FIRST SECOND THIRD FOURTH FIFTH SIXTH SEVENTH EIGHTH NINTH TENTH II III IV V VI VII VIII IX X XI XII XIII XIV XV XVI XVII XVIII XIX XX\"\n",
    "date_numric_stopwords = date_numric_stopwords.lower()\n",
    "date_numric_stopwords = date_numric_stopwords.split(\" \")"
   ]
  },
  {
   "cell_type": "code",
   "execution_count": 68,
   "metadata": {},
   "outputs": [],
   "source": [
    "\n",
    "def remove_unecssary_word(sent):\n",
    "    sent = sent.replace(\"b'\",'')\n",
    "    sent = sent.replace('b\"','')\n",
    "    sent = sent.lower()\n",
    "    sent = re.sub(r\"(@\\[A-Za-z0-9]+)|([^0-9A-Za-z \\t])|(\\w+:\\/\\/\\S+)|^rt|http.+?\", \"\", sent)\n",
    "    stop = stopwords.words('english')\n",
    "    stop.extend(date_numric_stopwords)\n",
    "    sent = \" \".join([word for word in sent.split() if word not in (stop)])\n",
    "    sent = \" \".join([WordNetLemmatizer().lemmatize(word) for word in sent.split() ])\n",
    "    return sent"
   ]
  },
  {
   "cell_type": "code",
   "execution_count": 69,
   "metadata": {},
   "outputs": [
    {
     "name": "stderr",
     "output_type": "stream",
     "text": [
      "C:\\Users\\999sb\\AppData\\Local\\Temp\\ipykernel_10196\\4213319948.py:1: SettingWithCopyWarning: \n",
      "A value is trying to be set on a copy of a slice from a DataFrame.\n",
      "Try using .loc[row_indexer,col_indexer] = value instead\n",
      "\n",
      "See the caveats in the documentation: https://pandas.pydata.org/pandas-docs/stable/user_guide/indexing.html#returning-a-view-versus-a-copy\n",
      "  df_finalised['merged'] = df_finalised['merged'].apply(remove_unecssary_word)\n"
     ]
    }
   ],
   "source": [
    "df_finalised['merged'] = df_finalised['merged'].apply(remove_unecssary_word)"
   ]
  },
  {
   "cell_type": "code",
   "execution_count": 70,
   "metadata": {},
   "outputs": [
    {
     "data": {
      "text/plain": [
       "0       20080808 0 georgia down russian warplane count...\n",
       "1       20080811 1 wont america nato help u wont help ...\n",
       "2       20080812 0 remember adorable 9yearold sang ope...\n",
       "3       20080813 0 u refuse israel weapon attack iran ...\n",
       "4       20080814 1 expert admit legalise drug war sout...\n",
       "                              ...                        \n",
       "1984    20160627 0 barclays rb share suspended trading...\n",
       "1985    20160628 1 2500 scientist australia want save ...\n",
       "1986    20160629 1 explosion airport istanbul yemeni f...\n",
       "1987    20160630 1 jamaica proposes marijuana dispense...\n",
       "1988    20160701 1 117yearold woman mexico city finall...\n",
       "Name: merged, Length: 1989, dtype: object"
      ]
     },
     "execution_count": 70,
     "metadata": {},
     "output_type": "execute_result"
    }
   ],
   "source": [
    "df_finalised['merged']"
   ]
  },
  {
   "cell_type": "code",
   "execution_count": 71,
   "metadata": {},
   "outputs": [
    {
     "data": {
      "text/plain": [
       "'20080808 0 georgia down russian warplane country move brink war breaking musharraf impeached russia today column troop roll south ossetia footage fighting youtube russian tank moving towards capital south ossetia reportedly completely destroyed georgian artillery fire afghan child raped impunity un official say sick old raped nothing 150 russian tank entered south ossetia whilst georgia shoot russian jet breaking georgia invades south ossetia russia warned would intervene so side enemy combatent trial nothing sham salim haman sentenced 5 12 year kept longer anyway feel like georgian troop retreat osettain capital presumably leaving several people killed video u prep georgia war russia rice give green light israel attack iran say u veto israeli military ops announcingclass action lawsuit behalf american public fbi sorussia georgia war nyts top story opening ceremony olympics fucking disgrace yet proof decline journalism china tell bush stay country affair world war start today georgia invades south ossetia russia get involved nato absorb georgia unleash full scale war alqaeda face islamist backlash condoleezza rice u would act prevent israeli strike iran israeli defense minister ehud barak israel prepared uncompromising victory case military hostility busy european union approved new sanction iran protest nuclear programme georgia withdraw 1000 soldier iraq help fight russian force georgia breakaway region south ossetia pentagon think attacking iran bad idea u news amp world report caucasus crisis georgia invades south ossetia indian shoe manufactory series like work visitor suffering mental illness banned olympics help mexico kidnapping surge'"
      ]
     },
     "execution_count": 71,
     "metadata": {},
     "output_type": "execute_result"
    }
   ],
   "source": [
    "df_finalised.iloc[0][1]"
   ]
  },
  {
   "cell_type": "code",
   "execution_count": 72,
   "metadata": {},
   "outputs": [],
   "source": [
    "df_finalised = pd.concat([df_finalised,df_NewsDjia['Label']],axis = 1)"
   ]
  },
  {
   "cell_type": "code",
   "execution_count": 73,
   "metadata": {},
   "outputs": [
    {
     "data": {
      "text/html": [
       "<div>\n",
       "<style scoped>\n",
       "    .dataframe tbody tr th:only-of-type {\n",
       "        vertical-align: middle;\n",
       "    }\n",
       "\n",
       "    .dataframe tbody tr th {\n",
       "        vertical-align: top;\n",
       "    }\n",
       "\n",
       "    .dataframe thead th {\n",
       "        text-align: right;\n",
       "    }\n",
       "</style>\n",
       "<table border=\"1\" class=\"dataframe\">\n",
       "  <thead>\n",
       "    <tr style=\"text-align: right;\">\n",
       "      <th></th>\n",
       "      <th>Date</th>\n",
       "      <th>merged</th>\n",
       "      <th>Label</th>\n",
       "    </tr>\n",
       "  </thead>\n",
       "  <tbody>\n",
       "    <tr>\n",
       "      <th>0</th>\n",
       "      <td>2008-08-08</td>\n",
       "      <td>20080808 0 georgia down russian warplane count...</td>\n",
       "      <td>0</td>\n",
       "    </tr>\n",
       "    <tr>\n",
       "      <th>1</th>\n",
       "      <td>2008-08-11</td>\n",
       "      <td>20080811 1 wont america nato help u wont help ...</td>\n",
       "      <td>1</td>\n",
       "    </tr>\n",
       "    <tr>\n",
       "      <th>2</th>\n",
       "      <td>2008-08-12</td>\n",
       "      <td>20080812 0 remember adorable 9yearold sang ope...</td>\n",
       "      <td>0</td>\n",
       "    </tr>\n",
       "    <tr>\n",
       "      <th>3</th>\n",
       "      <td>2008-08-13</td>\n",
       "      <td>20080813 0 u refuse israel weapon attack iran ...</td>\n",
       "      <td>0</td>\n",
       "    </tr>\n",
       "    <tr>\n",
       "      <th>4</th>\n",
       "      <td>2008-08-14</td>\n",
       "      <td>20080814 1 expert admit legalise drug war sout...</td>\n",
       "      <td>1</td>\n",
       "    </tr>\n",
       "    <tr>\n",
       "      <th>...</th>\n",
       "      <td>...</td>\n",
       "      <td>...</td>\n",
       "      <td>...</td>\n",
       "    </tr>\n",
       "    <tr>\n",
       "      <th>1984</th>\n",
       "      <td>2016-06-27</td>\n",
       "      <td>20160627 0 barclays rb share suspended trading...</td>\n",
       "      <td>0</td>\n",
       "    </tr>\n",
       "    <tr>\n",
       "      <th>1985</th>\n",
       "      <td>2016-06-28</td>\n",
       "      <td>20160628 1 2500 scientist australia want save ...</td>\n",
       "      <td>1</td>\n",
       "    </tr>\n",
       "    <tr>\n",
       "      <th>1986</th>\n",
       "      <td>2016-06-29</td>\n",
       "      <td>20160629 1 explosion airport istanbul yemeni f...</td>\n",
       "      <td>1</td>\n",
       "    </tr>\n",
       "    <tr>\n",
       "      <th>1987</th>\n",
       "      <td>2016-06-30</td>\n",
       "      <td>20160630 1 jamaica proposes marijuana dispense...</td>\n",
       "      <td>1</td>\n",
       "    </tr>\n",
       "    <tr>\n",
       "      <th>1988</th>\n",
       "      <td>2016-07-01</td>\n",
       "      <td>20160701 1 117yearold woman mexico city finall...</td>\n",
       "      <td>1</td>\n",
       "    </tr>\n",
       "  </tbody>\n",
       "</table>\n",
       "<p>1989 rows × 3 columns</p>\n",
       "</div>"
      ],
      "text/plain": [
       "            Date                                             merged Label\n",
       "0     2008-08-08  20080808 0 georgia down russian warplane count...     0\n",
       "1     2008-08-11  20080811 1 wont america nato help u wont help ...     1\n",
       "2     2008-08-12  20080812 0 remember adorable 9yearold sang ope...     0\n",
       "3     2008-08-13  20080813 0 u refuse israel weapon attack iran ...     0\n",
       "4     2008-08-14  20080814 1 expert admit legalise drug war sout...     1\n",
       "...          ...                                                ...   ...\n",
       "1984  2016-06-27  20160627 0 barclays rb share suspended trading...     0\n",
       "1985  2016-06-28  20160628 1 2500 scientist australia want save ...     1\n",
       "1986  2016-06-29  20160629 1 explosion airport istanbul yemeni f...     1\n",
       "1987  2016-06-30  20160630 1 jamaica proposes marijuana dispense...     1\n",
       "1988  2016-07-01  20160701 1 117yearold woman mexico city finall...     1\n",
       "\n",
       "[1989 rows x 3 columns]"
      ]
     },
     "execution_count": 73,
     "metadata": {},
     "output_type": "execute_result"
    }
   ],
   "source": [
    "df_finalised"
   ]
  },
  {
   "cell_type": "code",
   "execution_count": 74,
   "metadata": {},
   "outputs": [],
   "source": [
    "Positive_word = \"\"\n",
    "with open('Positive_words.txt', 'r') as file:\n",
    "    Positive_word = file.read().replace('\\n', '')"
   ]
  },
  {
   "cell_type": "code",
   "execution_count": 75,
   "metadata": {},
   "outputs": [],
   "source": [
    "Positive_word = \" \".join([WordNetLemmatizer().lemmatize(word) for word in Positive_word.split(',') ])"
   ]
  },
  {
   "cell_type": "code",
   "execution_count": 76,
   "metadata": {},
   "outputs": [],
   "source": [
    "Negative_word = \"\"\n",
    "with open('Negative_words.txt','r') as file:\n",
    "    Negative_word = file.read().replace('\\n','')"
   ]
  },
  {
   "cell_type": "code",
   "execution_count": 77,
   "metadata": {},
   "outputs": [],
   "source": [
    "Negative_word = \" \".join([WordNetLemmatizer().lemmatize(word) for word in Negative_word.split(',') ])"
   ]
  },
  {
   "cell_type": "code",
   "execution_count": 78,
   "metadata": {},
   "outputs": [],
   "source": [
    "Positive_word = Positive_word.split(',')"
   ]
  },
  {
   "cell_type": "code",
   "execution_count": 79,
   "metadata": {},
   "outputs": [],
   "source": [
    "Negative_word = Negative_word.split(',')"
   ]
  },
  {
   "cell_type": "code",
   "execution_count": 80,
   "metadata": {},
   "outputs": [
    {
     "data": {
      "text/plain": [
       "['a+ abound abounds abundance abundant accessable accessible acclaim acclaimed acclamation accolade accolade accommodative accomodative accomplish accomplished accomplishment accomplishment accurate accurately achievable achievement achievement achievible acumen adaptable adaptive adequate adjustable admirable admirably admiration admire admirer admiring admiringly adorable adore adored adorer adoring adoringly adroit adroitly adulate adulation adulatory advanced advantage advantageous advantageously advantage adventuresome adventurous advocate advocated advocate affability affable affably affectation affection affectionate affinity affirm affirmation affirmative affluence affluent afford affordable affordably afordable agile agilely agility agreeable agreeableness agreeably allaround alluring alluringly altruistic altruistically amaze amazed amazement amazes amazing amazingly ambitious ambitiously ameliorate amenable amenity amiability amiabily amiable amicability amicable amicably amity ample amply amuse amusing amusingly angel angelic apotheosis appeal appealing applaud appreciable appreciate appreciated appreciates appreciative appreciatively appropriate approval approve ardent ardently ardor articulate aspiration aspiration aspire assurance assurance assure assuredly assuring astonish astonished astonishing astonishingly astonishment astound astounded astounding astoundingly astutely attentive attraction attractive attractively attune audible audibly auspicious authentic authoritative autonomous available aver avid avidly award awarded award awe awed awesome awesomely awesomeness awestruck awsome backbone balanced bargain beauteous beautiful beautifullly beautifully beautify beauty beckon beckoned beckoning beckons believable believeable beloved benefactor beneficent beneficial beneficially beneficiary benefit benefit benevolence benevolent benifits best best-known best-performing best-selling better better-known better-than-expected beutifully blameless bless blessing bliss blissful blissfully blithe blockbuster bloom blossom bolster bonny bonus bonus boom booming boost boundless bountiful brainiest brainy brand-new brave bravery bravo breakthrough breakthrough breathlessness breathtaking breathtakingly breeze bright brighten brighter brightest brilliance brilliance brilliant brilliantly brisk brotherly bullish buoyant cajole calm calming calmness capability capable capably captivate captivating carefree cashback cashbacks catchy celebrate celebrated celebration celebratory champ champion charisma charismatic charitable charm charming charmingly chaste cheaper cheapest cheer cheerful cheery cherish cherished cherub chic chivalrous chivalry civility civilize clarity classic classy clean cleaner cleanest cleanliness cleanly clear clear-cut cleared clearer clearly clear clever cleverly cohere coherence coherent cohesive colorful comely comfort comfortable comfortably comforting comfy commend commendable commendably commitment commodious compact compactly compassion compassionate compatible competitive complement complementary complemented complement compliant compliment complimentary comprehensive conciliate conciliatory concise confidence confident congenial congratulate congratulation congratulation congratulatory conscientious considerate consistent consistently constructive consummate contentment continuity contrasty contribution convenience convenient conveniently convience convienient convient convincing convincingly cool coolest cooperative cooperatively cornerstone correct correctly cost-effective cost-saving counter-attack counter-attacks courage courageous courageously courageousness courteous courtly covenant cozy creative credence credible crisp crisper cure cure-all cushy cute cuteness danke danken daring daringly darling dashing dauntless dawn dazzle dazzled dazzling dead-cheap dead-on decency decent decisive decisiveness dedicated defeat defeated defeating defeat defender deference deft deginified delectable delicacy delicate delicious delight delighted delightful delightfully delightfulness dependable dependably deservedly deserving desirable desiring desirous destiny detachable devout dexterous dexterously dextrous dignified dignify dignity diligence diligent diligently diplomatic dirt-cheap distinction distinctive distinguished diversified divine divinely dominate dominated dominates dote dotingly doubtless dreamland dumbfounded dumbfounding dummy-proof durable dynamic eager eagerly eagerness earnest earnestly earnestness ease eased eas easier easiest easiness easing easy easy-to-use easygoing ebullience ebullient ebulliently ecenomical economical ecstasy ecstasy ecstatic ecstatically edify educated effective effectively effectiveness effectual efficacious efficient efficiently effortless effortlessly effusion effusive effusively effusiveness elan elate elated elatedly elation electrify elegance elegant elegantly elevate elite eloquence eloquent eloquently embolden eminence eminent empathize empathy empower empowerment enchant enchanted enchanting enchantingly encourage encouragement encouraging encouragingly endear endearing endorse endorsed endorsement endorses endorsing energetic energize energy-efficient energy-saving engaging engrossing enhance enhanced enhancement enhances enjoy enjoyable enjoyably enjoyed enjoying enjoyment enjoys enlighten enlightenment enliven ennoble enough enrapt enrapture enraptured enrich enrichment enterprising entertain entertaining entertains enthral enthrall enthralled enthuse enthusiasm enthusiast enthusiastic enthusiastically entice enticed enticing enticingly entranced entrancing entrust enviable enviably envious enviously enviousness envy equitable ergonomical err-free erudite ethical eulogize euphoria euphoric euphorically evaluative evenly eventful everlasting evocative exalt exaltation exalted exaltedly exalting exaltingly examplar examplary excallent exceed exceeded exceeding exceedingly exceeds excel exceled excelent excellant excelled excellence excellency excellent excellently excels exceptional exceptionally excite excited excitedly excitedness excitement excites exciting excitingly exellent exemplar exemplary exhilarate exhilarating exhilaratingly exhilaration exonerate expansive expeditiously expertly exquisite exquisitely extol extoll extraordinarily extraordinary exuberance exuberant exuberantly exult exultant exultation exultingly eye-catch eye-catching eyecatch eyecatching fabulous fabulously facilitate fair fairly fairness faith faithful faithfully faithfulness fame famed famous famously fancier fancinating fancy fanfare fan fantastic fantastically fascinate fascinating fascinatingly fascination fashionable fashionably fast fast-growing fast-paced faster fastest fastest-growing faultless fav fave favor favorable favored favorite favorited favour fearless fearlessly feasible feasibly feat feature-rich fecilitous feisty felicitate felicitous felicity fertile fervent fervently fervid fervidly fervor festive fidelity fiery fine fine-looking finely finer finest firmer first-class first-in-class first-rate flashy flatter flattering flatteringly flawless flawlessly flexibility flexible flourish flourishing fluent flutter fond fondly fondness foolproof foremost foresight formidable fortitude fortuitous fortuitously fortunate fortunately fortune fragrant free freed freedom freedom fresh fresher freshest friendliness friendly frolic frugal fruitful ftw fulfillment fun futurestic futuristic gaiety gaily gain gained gainful gainfully gaining gain gallant gallantly galore geekier geeky gem gem generosity generous generously genial genius gentle gentlest genuine gifted glad gladden gladly gladness glamorous glee gleeful gleefully glimmer glimmering glisten glistening glitter glitz glorify glorious gloriously glory glow glowing glowingly god-given god-send godlike godsend gold golden good goodly goodness goodwill goood gooood gorgeous gorgeously grace graceful gracefully gracious graciously graciousness grand grandeur grateful gratefully gratification gratified gratifies gratify gratifying gratifyingly gratitude great greatest greatness grin groundbreaking guarantee guidance guiltless gumption gush gusto gutsy hail halcyon hale hallmark hallmark hallowed handier handily hands-down handsome handsomely handy happier happily happiness happy hard-working hardier hardy harmless harmonious harmoniously harmonize harmony headway heal healthful healthy hearten heartening heartfelt heartily heartwarming heaven heavenly helped helpful helping hero heroic heroically heroine heroize hero high-quality high-spirited hilarious holy homage honest honesty honor honorable honored honoring hooray hopeful hospitable hot hotcake hotcake hottest hug humane humble humility humor humorous humorously humour humourous ideal idealize ideally idol idolize idolized idyllic illuminate illuminati illuminating illumine illustrious ilu imaculate imaginative immaculate immaculately immense impartial impartiality impartially impassioned impeccable impeccably important impress impressed impress impressive impressively impressiveness improve improved improvement improvement improves improving incredible incredibly indebted individualized indulgence indulgent industrious inestimable inestimably inexpensive infallibility infallible infallibly influential ingenious ingeniously ingenuity ingenuous ingenuously innocuous innovation innovative inpressed insightful insightfully inspiration inspirational inspire inspiring instantly instructive instrumental integral integrated intelligence intelligent intelligible interesting interest intimacy intimate intricate intrigue intriguing intriguingly intuitive invaluable invaluablely inventive invigorate invigorating invincibility invincible inviolable inviolate invulnerable irreplaceable irreproachable irresistible irresistibly issue-free jaw-droping jaw-dropping jollify jolly jovial joy joyful joyfully joyous joyously jubilant jubilantly jubilate jubilation jubiliant judicious justly keen keenly keenness kid-friendly kindliness kindly kindness knowledgeable kudos large-capacity laud laudable laudably lavish lavishly law-abiding lawful lawfully lead leading lead lean led legendary leverage levity liberate liberation liberty lifesaver light-hearted lighter likable like liked like liking lionhearted lively logical long-lasting lovable lovably love loved loveliness lovely lover love loving low-cost low-price low-priced low-risk lower-priced loyal loyalty lucid lucidly luck luckier luckiest luckiness lucky lucrative luminous lush luster lustrous luxuriant luxuriate luxurious luxuriously luxury lyrical magic magical magnanimous magnanimously magnificence magnificent magnificently majestic majesty manageable maneuverable marvel marveled marvelled marvellous marvelous marvelously marvelousness marvel master masterful masterfully masterpiece masterpiece master mastery matchless mature maturely maturity meaningful memorable merciful mercifully mercy merit meritorious merrily merriment merriness merry mesmerize mesmerized mesmerizes mesmerizing mesmerizingly meticulous meticulously mightily mighty mind-blowing miracle miracle miraculous miraculously miraculousness modern modest modesty momentous monumental monumentally morality motivated multi-purpose navigable neat neatest neatly nice nicely nicer nicest nifty nimble noble nobly noiseless non-violence non-violent notably noteworthy nourish nourishing nourishment novelty nurturing oasis obsession obsession obtainable openly openness optimal optimism optimistic opulent orderly originality outdo outdone outperform outperformed outperforming outperforms outshine outshone outsmart outstanding outstandingly outstrip outwit ovation overjoyed overtake overtaken overtakes overtaking overtook overture pain-free painless painlessly palatial pamper pampered pamperedly pamperedness pampers panoramic paradise paramount pardon passion passionate passionately patience patient patiently patriot patriotic peace peaceable peaceful peacefully peacekeeper peach peerless pep pepped pepping peppy pep perfect perfection perfectly permissible perseverance persevere personage personalized phenomenal phenomenally picturesque piety pinnacle playful playfully pleasant pleasantly pleased plea pleasing pleasingly pleasurable pleasurably pleasure plentiful plus plush plus poetic poeticize poignant poise poised polished polite politeness popular portable posh positive positively positive powerful powerfully praise praiseworthy praising pre-eminent precious precise precisely preeminent prefer preferable preferably prefered preferes preferring prefers premier prestige prestigious prettily pretty priceless pride principled privilege privileged prize proactive problem-free problem-solver prodigious prodigiously prodigy productive productively proficient proficiently profound profoundly profuse profusion progress progressive prolific prominence prominent promise promised promise promising promoter prompt promptly proper properly propitious propitiously pro prosper prosperity prosperous prospros protect protection protective proud proven prof providence proving prowess prudence prudent prudently punctual pure purify purposeful quaint qualified qualify quicker quiet quieter radiance radiant rapid rapport rapt rapture raptureous raptureously rapturous rapturously rational razor-sharp reachable readable readily ready reaffirm reaffirmation realistic realizable reasonable reasonably reasoned reassurance reassure receptive reclaim recomend recommend recommendation recommendation recommended reconcile reconciliation record-setting recover recovery rectification rectify rectifying redeem redeeming redemption refine refined refinement reform reformed reforming reform refresh refreshed refreshing refund refunded regal regally regard rejoice rejoicing rejoicingly rejuvenate rejuvenated rejuvenating relaxed relent reliable reliably relief relish remarkable remarkably remedy remission remunerate renaissance renewed renown renowned replaceable reputable reputation resilient resolute resound resounding resourceful resourcefulness respect respectable respectful respectfully respite resplendent responsibly responsive restful restored restructure restructured restructuring retractable revel revelation revere reverence reverent reverently revitalize revival revive revives revolutionary revolutionize revolutionized revolutionizes reward rewarding rewardingly rich richer richly richness right righten righteous righteously righteousness rightful rightfully rightly rightness risk-free robust rock-star rock-stars rockstar rockstars romantic romantically romanticize roomier roomy rosy safe safely sagacity sagely saint saintliness saintly salutary salute sane satisfactorily satisfactory satisfied satisfies satisfy satisfying satisified saver saving savior savvy scenic seamless seasoned secure securely selective self-determination self-respect self-satisfaction self-sufficiency self-sufficient sensation sensational sensationally sensation sensible sensibly sensitive serene serenity sexy sharp sharper sharpest shimmering shimmeringly shine shiny significant silent simpler simplest simplified simplifies simplify simplifying sincere sincerely sincerity skill skilled skillful skillfully slammin sleek slick smart smarter smartest smartly smile smile smiling smilingly smitten smooth smoother smoothes smoothest smoothly snappy snazzy sociable soft softer solace solicitous solicitously solid solidarity soothe soothingly sophisticated soulful soundly soundness spacious sparkle sparkling spectacular spectacularly speedily speedy spellbind spellbinding spellbindingly spellbound spirited spiritual splendid splendidly splendor spontaneous sporty spotless sprightly stability stabilize stable stainless standout state-of-the-art stately statuesque staunch staunchly staunchness steadfast steadfastly steadfastness steadiest steadiness steady stellar stellarly stimulate stimulates stimulating stimulative stirringly straighten straightforward streamlined striking strikingly striving strong stronger strongest stunned stunning stunningly stupendous stupendously sturdier sturdy stylish stylishly stylized suave suavely sublime subsidize subsidized subsidizes subsidizing substantive succeed succeeded succeeding succeeds succes success success successful successfully suffice sufficed suffices sufficient sufficiently suitable sumptuous sumptuously sumptuousness super superb superbly superior superiority supple support supported supporter supporting supportive support supremacy supreme supremely supurb supurbly surmount surpass surreal survival survivor sustainability sustainable swank swankier swankiest swanky sweeping sweet sweeten sweetheart sweetly sweetness swift swiftness talent talented talent tantalize tantalizing tantalizingly tempt tempting temptingly tenacious tenaciously tenacity tender tenderly terrific terrifically thank thankful thinner thoughtful thoughtfully thoughtfulness thrift thrifty thrill thrilled thrilling thrillingly thrill thrive thriving thumb-up thumbs-up tickle tidy time-honored timely tingle titillate titillating titillatingly togetherness tolerable toll-free top top-notch top-quality topnotch top tough tougher toughest traction tranquil tranquility transparent treasure tremendously trendy triumph triumphal triumphant triumphantly trivially trophy trouble-free trump trumpet trust trusted trusting trustingly trustworthiness trustworthy trusty truthful truthfully truthfulness twinkly ultra-crisp unabashed unabashedly unaffected unassailable unbeatable unbiased unbound uncomplicated unconditional undamaged undaunted understandable undisputable undisputably undisputed unencumbered unequivocal unequivocally unfazed unfettered unforgettable unity unlimited unmatched unparalleled unquestionable unquestionably unreal unrestricted unrivaled unselfish unwavering upbeat upgradable upgradeable upgraded upheld uphold uplift uplifting upliftingly upliftment upscale usable useable useful user-friendly user-replaceable valiant valiantly valor valuable variety venerate verifiable veritable versatile versatility vibrant vibrantly victorious victory viewable vigilance vigilant virtue virtuous virtuously visionary vivacious vivid vouch vouchsafe warm warmer warmhearted warmly warmth wealthy welcome well well-backlit well-balanced well-behaved well-being well-bred well-connected well-educated well-established well-informed well-intentioned well-known well-made well-managed well-mannered well-positioned well-received well-regarded well-rounded well-run well-wisher wellbeing whoa wholeheartedly wholesome whooa whoooa wieldy willing willingly willingness win windfall winnable winner winner winning win wisdom wise wisely witty won wonder wonderful wonderfully wonderous wonderously wonder wondrous woo work workable worked work world-famous worth worth-while worthiness worthwhile worthy wow wowed wowing wow yay youthful zeal zenith zest zippy']"
      ]
     },
     "execution_count": 80,
     "metadata": {},
     "output_type": "execute_result"
    }
   ],
   "source": [
    "Positive_word"
   ]
  },
  {
   "cell_type": "code",
   "execution_count": 81,
   "metadata": {},
   "outputs": [
    {
     "data": {
      "text/plain": [
       "['abnormal abolish abominable abominably abominate abomination abort aborted abort abrade abrasive abrupt abruptly abscond absence absent-minded absentee absurd absurdity absurdly absurdness abuse abused abuse abusive abysmal abysmally abyss accidental accost accursed accusation accusation accuse accuses accusing accusingly acerbate acerbic acerbically ache ached ache achey aching acrid acridly acridness acrimonious acrimoniously acrimony adamant adamantly addict addicted addicting addict admonish admonisher admonishingly admonishment admonition adulterate adulterated adulteration adulterier adversarial adversary adverse adversity afflict affliction afflictive affront afraid aggravate aggravating aggravation aggression aggressive aggressiveness aggressor aggrieve aggrieved aggrivation aghast agony agonize agonizing agonizingly agony aground ail ailing ailment aimless alarm alarmed alarming alarmingly alienate alienated alienation allegation allegation allege allergic allergy allergy aloof altercation ambiguity ambiguous ambivalence ambivalent ambush amiss amputate anarchism anarchist anarchistic anarchy anemic anger angrily angriness angry anguish animosity annihilate annihilation annoy annoyance annoyance annoyed annoying annoyingly annoys anomalous anomaly antagonism antagonist antagonistic antagonize anti- anti-american anti-israeli anti-occupation anti-proliferation anti-semite anti-social anti-us anti-white antipathy antiquated antithetical anxiety anxiety anxious anxiously anxiousness apathetic apathetically apathy apocalypse apocalyptic apologist apologist appal appall appalled appalling appallingly apprehension apprehension apprehensive apprehensively arbitrary arcane archaic arduous arduously argumentative arrogance arrogant arrogantly ashamed asinine asininely asinininity askance asperse aspersion aspersion assail assassin assassinate assault assult astray asunder atrocious atrocity atrocity atrophy attack attack audacious audaciously audaciousness audacity audiciously austere authoritarian autocrat autocratic avalanche avarice avaricious avariciously avenge averse aversion aweful awful awfully awfulness awkward awkwardness ax babble back-logged back-wood back-woods backache backache backaching backbite backbiting backward backwardness backwood backwoods bad badly baffle baffled bafflement baffling bait balk banal banalize bane banish banishment bankrupt barbarian barbaric barbarically barbarity barbarous barbarously barren baseless bash bashed bashful bashing bastard bastard battered battering batty bearish beastly bedlam bedlamite befoul beg beggar beggarly begging beguile belabor belated beleaguer belie belittle belittled belittling bellicose belligerence belligerent belligerently bemoan bemoaning bemused bent berate bereave bereavement bereft berserk beseech beset besiege besmirch bestial betray betrayal betrayal betrayer betraying betrays bewail beware bewilder bewildered bewildering bewilderingly bewilderment bewitch bias biased bias bicker bickering bid-rigging bigotry bigotry bitch bitchy biting bitingly bitter bitterly bitterness bizarre blab blabber blackmail blah blame blameworthy bland blandish blaspheme blasphemous blasphemy blasted blatant blatantly blather bleak bleakly bleakness bleed bleeding bleeds blemish blind blinding blindingly blindside blister blistering bloated blockage blockhead bloodshed bloodthirsty bloody blotchy blow blunder blundering blunder blunt blur bluring blurred blurring blurry blur blurt boastful boggle bogus boil boiling boisterous bomb bombard bombardment bombastic bondage bonkers bore bored boredom bore boring botch bother bothered bothering bother bothersome bowdlerize boycott braggart bragger brainless brainwash brash brashly brashness brat bravado brazen brazenly brazenness breach break break-up break-ups breakdown breaking break breakup breakup bribery brimstone bristle brittle broke broken broken-hearted brood browbeat bruise bruised bruise bruising brusque brutal brutalising brutality brutality brutalize brutalizing brutally brute brutish b buckle bug bugging buggy bug bulkier bulkiness bulky bulkyness bull**** bull---- bully bullshit bullshyt bully bullying bullyingly bum bump bumped bumping bumpping bump bumpy bungle bungler bungling bunk burden burdensome burdensomely burn burned burning burn bust bust busybody butcher butchery buzzing byzantine cackle calamity calamitous calamitously calamity callous calumniate calumniation calumny calumnious calumniously calumny cancer cancerous cannibal cannibalize capitulate capricious capriciously capriciousness capsize careless carelessness caricature carnage carp cartoonish cash-strapped castigate castrated casualty cataclysm cataclysmal cataclysmic cataclysmically catastrophe catastrophe catastrophic catastrophically catastrophies caustic caustically cautionary cave censure chafe chaff chagrin challenging chaos chaotic chasten chastise chastisement chatter chatterbox cheap cheapen cheaply cheat cheated cheater cheating cheat checkered cheerless cheesy chide childish chill chilly chintzy choke choleric choppy chore chronic chunky clamor clamorous clash cliche cliched clique clog clogged clog cloud clouding cloudy clueless clumsy clunky coarse cocky coerce coercion coercive cold coldly collapse collude collusion combative combust comical commiserate commonplace commotion commotion complacent complain complained complaining complains complaint complaint complex complicated complication complicit compulsion compulsive concede conceded conceit conceited concen concens concern concerned concern concession concession condemn condemnable condemnation condemned condemns condescend condescending condescendingly condescension confess confession confession confined conflict conflicted conflicting conflict confound confounded confounding confront confrontation confrontational confuse confused confuses confusing confusion confusion congested congestion con conscons conservative conspicuous conspicuously conspiracy conspiracy conspirator conspiratorial conspire consternation contagious contaminate contaminated contaminates contaminating contamination contempt contemptible contemptuous contemptuously contend contention contentious contort contortion contradict contradiction contradictory contrariness contravene contrive contrived controversial controversy convoluted corrode corrosion corrosion corrosive corrupt corrupted corrupting corruption corrupts corruptted costlier costly counter-productive counterproductive coupists covetous coward cowardly crabby crack cracked crack craftily craftly crafty cramp cramped cramping cranky crap crappy crap crash crashed crash crashing crass craven cravenly craze crazily craziness crazy creak creaking creak credulous creep creeping creep creepy crept crime criminal cringe cringed cringes cripple crippled cripple crippling crisis critic critical criticism criticism criticize criticized criticizing critic cronyism crook crooked crook crowded crowdedness crude cruel crueler cruelest cruelly cruelness cruelty cruelty crumble crumbling crummy crumple crumpled crumples crush crushed crushing cry culpable culprit cumbersome cunt cunt cuplrit curse cursed curse curt cuss cussed cutthroat cynical cynicism d*mn damage damaged damage damaging damn damnable damnably damnation damned damning damper danger dangerous dangerousness dark darken darkened darker darkness dastard dastardly daunt daunting dauntingly dawdle daze dazed dead deadbeat deadlock deadly deadweight deaf dearth death debacle debase debasement debaser debatable debauch debaucher debauchery debilitate debilitating debility debt debt decadence decadent decay decayed deceit deceitful deceitfully deceitfulness deceive deceiver deceiver deceiving deception deceptive deceptively declaim decline decline declining decrement decrepit decrepitude decry defamation defamation defamatory defame defect defective defect defensive defiance defiant defiantly deficiency deficiency deficient defile defiler deform deformed defrauding defunct defy degenerate degenerately degeneration degradation degrade degrading degradingly dehumanization dehumanize deign deject dejected dejectedly dejection delay delayed delaying delay delinquency delinquent delirious delirium delude deluded deluge delusion delusional delusion demean demeaning demise demolish demolisher demon demonic demonize demonized demonizes demonizing demoralize demoralizing demoralizingly denial denied denies denigrate denounce dense dent dented dent denunciate denunciation denunciation deny denying deplete deplorable deplorably deplore deploring deploringly deprave depraved depravedly deprecate depress depressed depressing depressingly depression depression deprive deprived deride derision derisive derisively derisiveness derogatory desecrate desert desertion desiccate desiccated desititute desolate desolately desolation despair despairing despairingly desperate desperately desperation despicable despicably despise despised despoil despoiler despondence despondency despondent despondently despot despotic despotism destabilisation destains destitute destitution destroy destroyer destruction destructive desultory deter deteriorate deteriorating deterioration deterrent detest detestable detestably detested detesting detests detract detracted detracting detraction detracts detriment detrimental devastate devastated devastates devastating devastatingly devastation deviate deviation devil devilish devilishly devilment devilry devious deviously deviousness devoid diabolic diabolical diabolically diametrically diappointed diatribe diatribe dick dictator dictatorial die die-hard died dy difficult difficulty difficulty diffidence dilapidated dilemma dilly-dally dim dimmer din ding ding dinky dire direly direness dirt dirtbag dirtbags dirt dirty disable disabled disaccord disadvantage disadvantaged disadvantageous disadvantage disaffect disaffected disaffirm disagree disagreeable disagreeably disagreed disagreeing disagreement disagrees disallow disapointed disapointing disapointment disappoint disappointed disappointing disappointingly disappointment disappointment disappoints disapprobation disapproval disapprove disapproving disarm disarray disaster disasterous disastrous disastrously disavow disavowal disbelief disbelieve disbeliever disclaim discombobulate discomfit discomfititure discomfort discompose disconcert disconcerted disconcerting disconcertingly disconsolate disconsolately disconsolation discontent discontented discontentedly discontinued discontinuity discontinuous discord discordance discordant discountenance discourage discouragement discouraging discouragingly discourteous discourteously discoutinous discredit discrepant discriminate discrimination discriminatory disdain disdained disdainful disdainfully disfavor disgrace disgraced disgraceful disgracefully disgruntle disgruntled disgust disgusted disgustedly disgustful disgustfully disgusting disgustingly dishearten disheartening dishearteningly dishonest dishonestly dishonesty dishonor dishonorable dishonorablely disillusion disillusioned disillusionment disillusion disinclination disinclined disingenuous disingenuously disintegrate disintegrated disintegrates disintegration disinterest disinterested dislike disliked dislike disliking dislocated disloyal disloyalty dismal dismally dismalness dismay dismayed dismaying dismayingly dismissive dismissively disobedience disobedient disobey disoobedient disorder disordered disorderly disorganized disorient disoriented disown disparage disparaging disparagingly dispensable dispirit dispirited dispiritedly dispiriting displace displaced displease displeased displeasing displeasure disproportionate disprove disputable dispute disputed disquiet disquieting disquietingly disquietude disregard disregardful disreputable disrepute disrespect disrespectable disrespectablity disrespectful disrespectfully disrespectfulness disrespecting disrupt disruption disruptive dis dissapointed dissappointed dissappointing dissatisfaction dissatisfactory dissatisfied dissatisfies dissatisfy dissatisfying dissed dissemble dissembler dissension dissent dissenter dissention disservice dis dissidence dissident dissident dissing dissocial dissolute dissolution dissonance dissonant dissonantly dissuade dissuasive distains distaste distasteful distastefully distort distorted distortion distorts distract distracting distraction distraught distraughtly distraughtness distress distressed distressing distressingly distrust distrustful distrusting disturb disturbance disturbed disturbing disturbingly disunity disvalue divergent divisive divisively divisiveness dizzing dizzingly dizzy doddering dodgey dogged doggedly dogmatic doldrums domineer domineering donside doom doomed doomsday dope doubt doubtful doubtfully doubt douchbag douchebag douchebags downbeat downcast downer downfall downfallen downgrade downhearted downheartedly downhill downside downside downturn downturn drab draconian draconic drag dragged dragging dragoon drag drain drained draining drain drastic drastically drawback drawback dread dreadful dreadfully dreadfulness dreary dripped dripping drippy drip drone droop droop drop-out drop-outs dropout dropout drought drowning drunk drunkard drunken dubious dubiously dubitable dud dull dullard dumb dumbfound dump dumped dumping dump dunce dungeon dungeon dupe dust dusty dwindling dying earsplitting eccentric eccentricity effigy effrontery egocentric egomania egotism egotistical egotistically egregious egregiously election-rigger elimination emaciated emasculate embarrass embarrassing embarrassingly embarrassment embattled embroil embroiled embroilment emergency emphatic emphatically emptiness encroach encroachment endanger enemy enemy enervate enfeeble enflame engulf enjoin enmity enrage enraged enraging enslave entangle entanglement entrap entrapment envious enviously enviousness epidemic equivocal erase erode erodes erosion err errant erratic erratically erroneous erroneously error error eruption escapade eschew estranged evade evasion evasive evil evildoer evil eviscerate exacerbate exagerate exagerated exagerates exaggerate exaggeration exasperate exasperated exasperating exasperatingly exasperation excessive excessively exclusion excoriate excruciating excruciatingly excuse excuse execrate exhaust exhausted exhaustion exhaust exhorbitant exhort exile exorbitant exorbitantance exorbitantly expel expensive expire expired explode exploit exploitation explosive expropriate expropriation expulse expunge exterminate extermination extinguish extort extortion extraneous extravagance extravagant extravagantly extremism extremist extremist eyesore f**k fabricate fabrication facetious facetiously fail failed failing fails failure failure faint fainthearted faithless fake fall fallacy fallacious fallaciously fallaciousness fallacy fallen falling fallout fall false falsehood falsely falsify falter faltered famine famished fanatic fanatical fanatically fanaticism fanatic fanciful far-fetched farce farcical farcical-yet-provocative farcically farfetched fascism fascist fastidious fastidiously fastuous fat fat-cat fat-cats fatal fatalistic fatalistically fatally fatcat fatcats fateful fatefully fathomless fatigue fatigued fatique fatty fatuity fatuous fatuously fault fault faulty fawningly faze fear fearful fearfully fear fearsome feckless feeble feeblely feebleminded feign feint fell felon felonious ferociously ferocity fetid fever feverish fever fiasco fib fibber fickle fiction fictional fictitious fidget fidgety fiend fiendish fierce figurehead filth filthy finagle finicky fissure fist flabbergast flabbergasted flagging flagrant flagrantly flair flair flak flake flakey flakieness flaking flaky flare flare flareup flareups flat-out flaunt flaw flawed flaw flee fleed fleeing fleer flees fleeting flicering flicker flickering flicker flighty flimflam flimsy flirt flirty floored flounder floundering flout fluster foe fool fooled foolhardy foolish foolishly foolishness forbid forbidden forbidding forceful foreboding forebodingly forfeit forged forgetful forgetfully forgetfulness forlorn forlornly forsake forsaken forswear foul foully foulness fractious fractiously fracture fragile fragmented frail frantic frantically franticly fraud fraudulent fraught frazzle frazzled freak freaking freakish freakishly freak freeze freeze freezing frenetic frenetically frenzied frenzy fret fretful fret friction friction fried friggin frigging fright frighten frightening frighteningly frightful frightfully frigid frost frown froze frozen fruitless fruitlessly frustrate frustrated frustrates frustrating frustratingly frustration frustration fuck fucking fudge fugitive full-blown fulminate fumble fume fume fundamentalism funky funnily funny furious furiously furor fury fuss fussy fustigate fusty futile futilely futility fuzzy gabble gaff gaffe gainsay gainsayer gall galling gallingly gall gangster gape garbage garish gasp gauche gaudy gawk gawky geezer genocide get-rich ghastly ghetto ghosting gibber gibberish gibe giddy gimmick gimmicked gimmicking gimmick gimmicky glare glaringly glib glibly glitch glitch gloatingly gloom gloomy glower glum glut gnawing goad goading god-awful goof goofy goon gossip graceless gracelessly graft grainy grapple grate grating gravely greasy greed greedy grief grievance grievance grieve grieving grievous grievously grim grimace grind gripe gripe grisly gritty gross grossly grotesque grouch grouchy groundless grouse growl grudge grudge grudging grudgingly gruesome gruesomely gruff grumble grumpier grumpiest grumpily grumpish grumpy guile guilt guiltily guilty gullible gutless gutter hack hack haggard haggle hairloss halfhearted halfheartedly hallucinate hallucination hamper hampered handicapped hang hang haphazard hapless harangue harass harassed harasses harassment harboring harbor hard hard-hit hard-line hard-liner hardball harden hardened hardheaded hardhearted hardliner hardliner hardship hardship harm harmed harmful harm harpy harridan harried harrow harsh harshly hasseling hassle hassled hassle haste hastily hasty hate hated hateful hatefully hatefulness hater hater hate hating hatred haughtily haughty haunt haunting havoc hawkish haywire hazard hazardous haze hazy head-aches headache headache heartbreaker heartbreaking heartbreakingly heartless heathen heavy-handed heavyhearted heck heckle heckled heckle hectic hedge hedonistic heedless hefty hegemonism hegemonistic hegemony heinous hell hell-bent hellion hell helpless helplessly helplessness heresy heretic heretical hesitant hestitant hideous hideously hideousness high-priced hiliarious hinder hindrance hiss hissed hissing ho-hum hoard hoax hobble hog hollow hoodium hoodwink hooligan hopeless hopelessly hopelessness horde horrendous horrendously horrible horrid horrific horrified horrifies horrify horrifying horrifys hostage hostile hostility hostility hotbed hothead hotheaded hothouse hubris huckster hum humid humiliate humiliating humiliation humming hung hurt hurted hurtful hurting hurt hustler hype hypocricy hypocrisy hypocrite hypocrite hypocritical hypocritically hysteria hysteric hysterical hysterically hysteric idiocy idiocy idiot idiotic idiotically idiot idle ignoble ignominious ignominiously ignominy ignorance ignorant ignore ill-advised ill-conceived ill-defined ill-designed ill-fated ill-favored ill-formed ill-mannered ill-natured ill-sorted ill-tempered ill-treated ill-treatment ill-usage ill-used illegal illegally illegitimate illicit illiterate illness illogic illogical illogically illusion illusion illusory imaginary imbalance imbecile imbroglio immaterial immature imminence imminently immobilized immoderate immoderately immodest immoral immorality immorally immovable impair impaired impasse impatience impatient impatiently impeach impedance impede impediment impending impenitent imperfect imperfection imperfection imperfectly imperialist imperil imperious imperiously impermissible impersonal impertinent impetuous impetuously impiety impinge impious implacable implausible implausibly implicate implication implode impolite impolitely impolitic importunate importune impose imposers imposing imposition impossible impossiblity impossibly impotent impoverish impoverished impractical imprecate imprecise imprecisely imprecision imprison imprisonment improbability improbable improbably improper improperly impropriety imprudence imprudent impudence impudent impudently impugn impulsive impulsively impunity impure impurity inability inaccuracy inaccuracy inaccurate inaccurately inaction inactive inadequacy inadequate inadequately inadverent inadverently inadvisable inadvisably inane inanely inappropriate inappropriately inapt inaptitude inarticulate inattentive inaudible incapable incapably incautious incendiary incense incessant incessantly incite incitement incivility inclement incognizant incoherence incoherent incoherently incommensurate incomparable incomparably incompatability incompatibility incompatible incompetence incompetent incompetently incomplete incompliant incomprehensible incomprehension inconceivable inconceivably incongruous incongruously inconsequent inconsequential inconsequentially inconsequently inconsiderate inconsiderately inconsistence inconsistency inconsistency inconsistent inconsolable inconsolably inconstant inconvenience inconveniently incorrect incorrectly incorrigible incorrigibly incredulous incredulously inculcate indecency indecent indecently indecision indecisive indecisively indecorum indefensible indelicate indeterminable indeterminably indeterminate indifference indifferent indigent indignant indignantly indignation indignity indiscernible indiscreet indiscreetly indiscretion indiscriminate indiscriminately indiscriminating indistinguishable indoctrinate indoctrination indolent indulge ineffective ineffectively ineffectiveness ineffectual ineffectually ineffectualness inefficacious inefficacy inefficiency inefficient inefficiently inelegance inelegant ineligible ineloquent ineloquently inept ineptitude ineptly inequality inequality inequitable inequitably inequity inescapable inescapably inessential inevitable inevitably inexcusable inexcusably inexorable inexorably inexperience inexperienced inexpert inexpertly inexpiable inexplainable inextricable inextricably infamous infamously infamy infected infection infection inferior inferiority infernal infest infested infidel infidel infiltrator infiltrator infirm inflame inflammation inflammatory inflammed inflated inflationary inflexible inflict infraction infringe infringement infringement infuriate infuriated infuriating infuriatingly inglorious ingrate ingratitude inhibit inhibition inhospitable inhospitality inhuman inhumane inhumanity inimical inimically iniquitous iniquity injudicious injure injurious injury injustice injustice innuendo inoperable inopportune inordinate inordinately insane insanely insanity insatiable insecure insecurity insensible insensitive insensitively insensitivity insidious insidiously insignificance insignificant insignificantly insincere insincerely insincerity insinuate insinuating insinuation insociable insolence insolent insolently insolvent insouciance instability instable instigate instigator instigator insubordinate insubstantial insubstantially insufferable insufferably insufficiency insufficient insufficiently insular insult insulted insulting insultingly insult insupportable insupportably insurmountable insurmountably insurrection intefere inteferes intense interfere interference interferes intermittent interrupt interruption interruption intimidate intimidating intimidatingly intimidation intolerable intolerablely intolerance intoxicate intractable intransigence intransigent intrude intrusion intrusive inundate inundated invader invalid invalidate invalidity invasive invective inveigle invidious invidiously invidiousness invisible involuntarily involuntary irascible irate irately ire irk irked irking irks irksome irksomely irksomeness irksomenesses ironic ironical ironically irony irony irragularity irrational irrationality irrationality irrationally irrational irreconcilable irrecoverable irrecoverableness irrecoverablenesses irrecoverably irredeemable irredeemably irreformable irregular irregularity irrelevance irrelevant irreparable irreplacible irrepressible irresolute irresolvable irresponsible irresponsibly irretating irretrievable irreversible irritable irritably irritant irritate irritated irritating irritation irritation isolate isolated isolation issue issue itch itching itchy jabber jaded jagged jam jarring jaundiced jealous jealously jealousness jealousy jeer jeering jeeringly jeer jeopardize jeopardy jerk jerky jitter jitter jittery job-killing jobless joke joker jolt judder juddering judders jumpy junk junky junkyard jutter jutters kaput kill killed killer killing killjoy kill knave knife knock knotted kook kooky lack lackadaisical lacked lackey lackey lacking lackluster lack laconic lag lagged lagging laggy lag laid-off lambast lambaste lame lame-duck lament lamentable lamentably languid languish languor languorous languorously lanky lapse lapsed lapse lascivious last-ditch latency laughable laughably laughingstock lawbreaker lawbreaking lawless lawlessness layoff layoff-happy lazy leak leakage leakage leaking leak leaky lech lecher lecherous lechery leech leer leery left-leaning lemon lengthy less-developed lesser-known letch lethal lethargic lethargy lewd lewdly lewdness liability liable liar liar licentious licentiously licentiousness lie lied lier lie life-threatening lifeless limit limitation limitation limited limit limp listless litigious little-known livid lividly loath loathe loathing loathly loathsome loathsomely lone loneliness lonely loner lonesome long-time long-winded longing longingly loophole loophole loose loot lorn lose loser loser loses losing loss loss lost loud louder lousy loveless lovelorn low-rated lowly ludicrous ludicrously lugubrious lukewarm lull lumpy lunatic lunaticism lurch lure lurid lurk lurking lying macabre mad madden maddening maddeningly madder madly madman madness maladjusted maladjustment malady malaise malcontent malcontented maledict malevolence malevolent malevolently malice malicious maliciously maliciousness malign malignant malodorous maltreatment mangle mangled mangle mangling mania maniac maniacal manic manipulate manipulation manipulative manipulator mar marginal marginally martyrdom martyrdom-seeking mashed massacre massacre matte mawkish mawkishly mawkishness meager meaningless meanness measly meddle meddlesome mediocre mediocrity melancholy melodramatic melodramatically meltdown menace menacing menacingly mendacious mendacity menial merciless mercilessly mess messed mess messing messy midget miff militancy mindless mindlessly mirage mire misalign misaligned misaligns misapprehend misbecome misbecoming misbegotten misbehave misbehavior miscalculate miscalculation miscellaneous mischief mischievous mischievously misconception misconception miscreant miscreant misdirection miser miserable miserableness miserably misery miserly misery misfit misfortune misgiving misgiving misguidance misguide misguided mishandle mishap misinform misinformed misinterpret misjudge misjudgment mislead misleading misleadingly mislike mismanage mispronounce mispronounced mispronounces misread misreading misrepresent misrepresentation miss missed miss misstatement mist mistake mistaken mistakenly mistake mistified mistress mistrust mistrustful mistrustfully mist misunderstand misunderstanding misunderstanding misunderstood misuse moan mobster mock mocked mockery mockery mocking mockingly mock molest molestation monotonous monotony monster monstrosity monstrosity monstrous monstrously moody moot mope morbid morbidly mordant mordantly moribund moron moronic moron mortification mortified mortify mortifying motionless motley mourn mourner mournful mournfully muddle muddy mudslinger mudslinging mulish multi-polarization mundane murder murderer murderous murderously murky muscle-flexing mushy musty mysterious mysteriously mystery mystify myth nag nagging naive naively narrower nastily nastiness nasty naughty nauseate nauseates nauseating nauseatingly na ve nebulous nebulously needle needlessly needy nefarious nefariously negate negation negative negative negativity neglect neglected negligence negligent nemesis nepotism nervous nervously nervousness nettle nettlesome neurotic neurotically niggle niggles nightmare nightmarish nightmarishly nitpick nitpicking noise noise noisier noisy non-confidence nonexistent nonresponsive nonsense nosey notoriety notorious notoriously noxious nuisance numb obese object objection objectionable objection oblique obliterate obliterated oblivious obnoxious obnoxiously obscene obscenely obscenity obscure obscured obscures obscurity ob obsessive obsessively obsessiveness obsolete obstacle obstinate obstinately obstruct obstructed obstructing obstruction obstructs obtrusive obtuse occlude occluded occludes occluding odd odder oddest oddity oddity oddly odor offence offend offender offending offense offensive offensively offensiveness officious ominous ominously omission omit one-sided onerous onerously onslaught opinionated opponent opportunistic oppose opposition opposition oppress oppression oppressive oppressively oppressiveness oppressor ordeal orphan ostracize outbreak outburst outburst outcast outcry outlaw outmoded outrage outraged outrageous outrageously outrageousness outrage outsider over-acted over-awe over-balanced over-hyped over-priced over-valuation overact overacted overawe overbalance overbalanced overbearing overbearingly overblown overdo overdone overdue overemphasize overheat overkill overloaded overlook overpaid overpayed overplay overpower overpriced overrated overreach overrun overshadow oversight oversight oversimplification oversimplified oversimplify oversize overstate overstated overstatement overstatement overstates overtaxed overthrow overthrow overturn overweight overwhelm overwhelmed overwhelming overwhelmingly overwhelms overzealous overzealously overzelous pain painful painfull painfully pain pale pale paltry pan pandemonium pander pandering pander panic panick panicked panicking panicky paradoxical paradoxically paralize paralyzed paranoia paranoid parasite pariah parody partiality partisan partisan passe passive passiveness pathetic pathetically patronize paucity pauper pauper payback peculiar peculiarly pedantic peeled peeve peeved peevish peevishly penalize penalty perfidious perfidity perfunctory peril perilous perilously perish pernicious perplex perplexed perplexing perplexity persecute persecution pertinacious pertinaciously pertinacity perturb perturbed pervasive perverse perversely perversion perversity pervert perverted pervert pessimism pessimistic pessimistically pest pestilent petrified petrify pettifog petty phobia phobic phony picket picketed picketing picket picky pig pig pillage pillory pimple pinch pique pitiable pitiful pitifully pitiless pitilessly pittance pity plagiarize plague plasticky plaything plea plea plebeian plight plot plotter ploy plunder plunderer pointless pointlessly poison poisonous poisonously pokey poky polarisation polemize pollute polluter polluter polution pompous poor poorer poorest poorly posturing pout poverty powerless prate pratfall prattle precarious precariously precipitate precipitous predatory predicament prejudge prejudice prejudice prejudicial premeditated preoccupy preposterous preposterously presumptuous presumptuously pretence pretend pretense pretentious pretentiously prevaricate pricey pricier prick prickle prickle prideful prik primitive prison prisoner problem problematic problem procrastinate procrastinates procrastination profane profanity prohibit prohibitive prohibitively propaganda propagandize proprietary prosecute protest protested protesting protest protracted provocation provocative provoke pry pugnacious pugnaciously pugnacity punch punish punishable punitive punk puny puppet puppet puzzled puzzlement puzzling quack qualm qualm quandary quarrel quarrellous quarrellously quarrel quarrelsome quash queer questionable quibble quibble quitter rabid racism racist racist racy radical radicalization radically radical rage ragged raging rail raked rampage rampant ramshackle rancor randomly rankle rant ranted ranting rantingly rant rape raped raping rascal rascal rash rattle rattled rattle ravage raving reactionary rebellious rebuff rebuke recalcitrant recant recession recessionary reckless recklessly recklessness recoil recourse redundancy redundant refusal refuse refused refuse refusing refutation refute refuted refutes refuting regress regression regressive regret regreted regretful regretfully regret regrettable regrettably regretted reject rejected rejecting rejection reject relapse relentless relentlessly relentlessness reluctance reluctant reluctantly remorse remorseful remorsefully remorseless remorselessly remorselessness renounce renunciation repel repetitive reprehensible reprehensibly reprehension reprehensive repress repression repressive reprimand reproach reproachful reprove reprovingly repudiate repudiation repugn repugnance repugnant repugnantly repulse repulsed repulsing repulsive repulsively repulsiveness resent resentful resentment resignation resigned resistance restless restlessness restrict restricted restriction restrictive resurgent retaliate retaliatory retard retarded retardedness retard reticent retract retreat retreated revenge revengeful revengefully revert revile reviled revoke revolt revolting revoltingly revulsion revulsive rhapsodize rhetoric rhetorical ricer ridicule ridicule ridiculous ridiculously rife rift rift rigid rigidity rigidness rile riled rip rip-off ripoff ripped risk risk risky rival rivalry roadblock rocky rogue rollercoaster rot rotten rough rremediable rubbish rude rue ruffian ruffle ruin ruined ruining ruinous ruin rumbling rumor rumor rumour rumple run-down runaway rupture rust rust rusty rut ruthless ruthlessly ruthlessness rut sabotage sack sacrificed sad sadden sadly sadness sag sagged sagging saggy sag salacious sanctimonious sap sarcasm sarcastic sarcastically sardonic sardonically sas satirical satirize savage savaged savagery savage scaly scam scam scandal scandalize scandalized scandalous scandalously scandal scandel scandels scant scapegoat scar scarce scarcely scarcity scare scared scarier scariest scarily scarred scar scary scathing scathingly sceptical scoff scoffingly scold scolded scolding scoldingly scorching scorchingly scorn scornful scornfully scoundrel scourge scowl scramble scrambled scramble scrambling scrap scratch scratched scratch scratchy scream screech screw-up screwed screwed-up screwy scuff scuff scum scummy second-class second-tier secretive sedentary seedy seethe seething self-coup self-criticism self-defeating self-destructive self-humiliation self-interest self-interested self-serving selfinterested selfish selfishly selfishness semi-retarded senile sensationalize senseless senselessly seriousness sermonize servitude set-up setback setback sever severe severity sh*t shabby shadowy shady shake shaky shallow sham shamble shame shameful shamefully shamefulness shameless shamelessly shamelessness shark sharply shatter shemale shimmer shimmy shipwreck shirk shirker shit shiver shock shocked shocking shockingly shoddy short-lived shortage shortchange shortcoming shortcoming shortness shortsighted shortsightedness showdown shrew shriek shrill shrilly shrivel shroud shrouded shrug shun shunned sick sicken sickening sickeningly sickly sickness sidetrack sidetracked siege sillily silly simplistic simplistically sin sinful sinfully sinister sinisterly sink sinking skeleton skeptic skeptical skeptically skepticism sketchy skimpy skinny skittish skittishly skulk slack slander slanderer slanderous slanderously slander slap slashing slaughter slaughtered slave slave sleazy slime slog slogged slogging slogs sloooooooooooooow sloooow slooow sloow sloppily sloppy sloth slothful slow slow-moving slowed slower slowest slowly sloww slowww slowwww slug sluggish slump slumping slumpping slur slut slut sly smack smallish smash smear smell smelled smelling smell smelly smelt smoke smokescreen smolder smoldering smother smoulder smouldering smudge smudged smudge smudging smug smugly smut smuttier smuttiest smutty snag snagged snagging snag snappish snappishly snare snarky snarl sneak sneakily sneaky sneer sneering sneeringly snob snobbish snobby snobish snob snub so-cal soapy sob sober sobering solemn solicitude somber sore sorely soreness sorrow sorrowful sorrowfully sorry sour sourly spade spank spendy spew spewed spewing spews spilling spinster spiritless spite spiteful spitefully spitefulness splatter split splitting spoil spoilage spoilage spoiled spoilled spoil spook spookier spookiest spookily spooky spoon-fed spoon-feed spoonfed sporadic spotty spurious spurn sputter squabble squabbling squander squash squeak squeak squeaky squeal squealing squeal squirm stab stagnant stagnate stagnation staid stain stain stale stalemate stall stall stammer stampede standstill stark starkly startle startling startlingly starvation starve static steal stealing steal steep steeply stench stereotype stereotypical stereotypically stern stew sticky stiff stiffness stifle stifling stiflingly stigma stigmatize sting stinging stingingly stingy stink stink stodgy stole stolen stooge stooge stormy straggle straggler strain strained straining strange strangely stranger strangest strangle streaky strenuous stress stress stressful stressfully stricken strict strictly strident stridently strife strike stringent stringently struck struggle struggled struggle struggling strut stubborn stubbornly stubbornness stuck stuffy stumble stumbled stumble stump stumped stump stun stunt stunted stupid stupidest stupidity stupidly stupified stupify stupor stutter stuttered stuttering stutter sty stymied sub-par subdued subjected subjection subjugate subjugation submissive subordinate subpoena subpoena subservience subservient substandard subtract subversion subversive subversively subvert succumb suck sucked sucker suck sucky sue sued sueing sue suffer suffered sufferer sufferer suffering suffers suffocate sugar-coat sugar-coated sugarcoated suicidal suicide sulk sullen sully sunder sunk sunken superficial superficiality superficially superfluous superstition superstitious suppress suppression surrender susceptible suspect suspicion suspicion suspicious suspiciously swagger swamped sweaty swelled swelling swindle swipe swollen symptom symptom syndrome taboo tacky taint tainted tamper tangle tangled tangle tank tanked tank tantrum tardy tarnish tarnished tarnish tarnishing tattered taunt taunting tauntingly taunt taut tawdry taxing tease teasingly tedious tediously temerity temper tempest temptation tenderness tense tension tentative tentatively tenuous tenuously tepid terrible terribleness terribly terror terror-genic terrorism terrorize testily testy tetchily tetchy thankless thicker thirst thorny thoughtless thoughtlessly thoughtlessness thrash threat threaten threatening threat threesome throb throbbed throbbing throb throttle thug thumb-down thumbs-down thwart time-consuming timid timidity timidly timidness tin-y tingled tingling tired tiresome tiring tiringly toil toll top-heavy topple torment tormented torrent tortuous torture tortured torture torturing torturous torturously totalitarian touchy toughness tout touted tout toxic traduce tragedy tragic tragically traitor traitorous traitorously tramp trample transgress transgression trap traped trapped trash trashed trashy trauma traumatic traumatically traumatize traumatized travesty travesty treacherous treacherously treachery treason treasonous trick tricked trickery tricky trivial trivialize trouble troubled troublemaker trouble troublesome troublesomely troubling troublingly truant tumble tumbled tumble tumultuous turbulent turmoil twist twisted twist two-faced two-faces tyrannical tyrannically tyranny tyrant ugh uglier ugliest ugliness ugly ulterior ultimatum ultimatum ultra-hardline un-viewable unable unacceptable unacceptablely unacceptably unaccessible unaccustomed unachievable unaffordable unappealing unattractive unauthentic unavailable unavoidably unbearable unbearablely unbelievable unbelievably uncaring uncertain uncivil uncivilized unclean unclear uncollectible uncomfortable uncomfortably uncomfy uncompetitive uncompromising uncompromisingly unconfirmed unconstitutional uncontrolled unconvincing unconvincingly uncooperative uncouth uncreative undecided undefined undependability undependable undercut undercut undercutting underdog underestimate underling undermine undermined undermines undermining underpaid underpowered undersized undesirable undetermined undid undignified undissolved undocumented undone undue unease uneasily uneasiness uneasy uneconomical unemployed unequal unethical uneven uneventful unexpected unexpectedly unexplained unfairly unfaithful unfaithfully unfamiliar unfavorable unfeeling unfinished unfit unforeseen unforgiving unfortunate unfortunately unfounded unfriendly unfulfilled unfunded ungovernable ungrateful unhappily unhappiness unhappy unhealthy unhelpful unilateralism unimaginable unimaginably unimportant uninformed uninsured unintelligible unintelligile unipolar unjust unjustifiable unjustifiably unjustified unjustly unkind unkindly unknown unlamentable unlamentably unlawful unlawfully unlawfulness unleash unlicensed unlikely unlucky unmoved unnatural unnaturally unnecessary unneeded unnerve unnerved unnerving unnervingly unnoticed unobserved unorthodox unorthodoxy unpleasant unpleasantries unpopular unpredictable unprepared unproductive unprofitable unprove unproved unproven unproves unproving unqualified unravel unraveled unreachable unreadable unrealistic unreasonable unreasonably unrelenting unrelentingly unreliability unreliable unresolved unresponsive unrest unruly unsafe unsatisfactory unsavory unscrupulous unscrupulously unsecure unseemly unsettle unsettled unsettling unsettlingly unskilled unsophisticated unsound unspeakable unspeakablely unspecified unstable unsteadily unsteadiness unsteady unsuccessful unsuccessfully unsupported unsupportive unsure unsuspecting unsustainable untenable untested unthinkable unthinkably untimely untouched untrue untrustworthy untruthful unusable unusably unuseable unuseably unusual unusually unviewable unwanted unwarranted unwatchable unwelcome unwell unwieldy unwilling unwillingly unwillingness unwise unwisely unworkable unworthy unyielding upbraid upheaval uprising uproar uproarious uproariously uproarous uproarously uproot upset upseting upset upsetting upsettingly urgent useless usurp usurper utterly vagrant vague vagueness vain vainly vanity vehement vehemently vengeance vengeful vengefully vengefulness venom venomous venomously vent vestige vex vexation vexing vexingly vibrate vibrated vibrates vibrating vibration vice vicious viciously viciousness victimize vile vileness vilify villainous villainously villain villian villianous villianously villify vindictive vindictively vindictiveness violate violation violator violator violent violently viper virulence virulent virulently virus vociferous vociferously volatile volatility vomit vomited vomiting vomit vulgar vulnerable wack wail wallow wane waning wanton war-like warily wariness warlike warned warning warp warped wary washed-out waste wasted wasteful wastefulness wasting water-down watered-down wayward weak weaken weakening weaker weakness weakness weariness wearisome weary wedge weed weep weird weirdly wheedle whimper whine whining whiny whip whore whore wicked wickedly wickedness wild wildly wile wilt wily wimpy wince wobble wobbled wobble woe woebegone woeful woefully womanizer womanizing worn worried worriedly worrier worry worrisome worry worrying worryingly worse worsen worsening worst worthless worthlessly worthlessness wound wound wrangle wrath wreak wreaked wreaks wreck wrest wrestle wretch wretched wretchedly wretchedness wrinkle wrinkled wrinkle wrip wripped wripping writhe wrong wrongful wrongly wrought yawn zap zapped zap zealot zealous zealously zombie']"
      ]
     },
     "execution_count": 81,
     "metadata": {},
     "output_type": "execute_result"
    }
   ],
   "source": [
    "Negative_word"
   ]
  },
  {
   "cell_type": "code",
   "execution_count": null,
   "metadata": {},
   "outputs": [],
   "source": []
  }
 ],
 "metadata": {
  "kernelspec": {
   "display_name": "Python 3",
   "language": "python",
   "name": "python3"
  },
  "language_info": {
   "codemirror_mode": {
    "name": "ipython",
    "version": 3
   },
   "file_extension": ".py",
   "mimetype": "text/x-python",
   "name": "python",
   "nbconvert_exporter": "python",
   "pygments_lexer": "ipython3",
   "version": "3.10.11"
  },
  "orig_nbformat": 4
 },
 "nbformat": 4,
 "nbformat_minor": 2
}
